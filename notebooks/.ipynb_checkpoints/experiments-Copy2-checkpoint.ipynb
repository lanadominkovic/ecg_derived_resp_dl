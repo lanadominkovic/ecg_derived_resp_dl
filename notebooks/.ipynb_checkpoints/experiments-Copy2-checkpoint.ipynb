{
 "cells": [
  {
   "cell_type": "code",
   "execution_count": 1,
   "id": "a5ec0a83-aa01-4efd-8baa-8edd5bad8cbf",
   "metadata": {
    "execution": {
     "iopub.execute_input": "2024-04-10T12:27:17.497988Z",
     "iopub.status.busy": "2024-04-10T12:27:17.497664Z",
     "iopub.status.idle": "2024-04-10T12:27:23.572308Z",
     "shell.execute_reply": "2024-04-10T12:27:23.571911Z",
     "shell.execute_reply.started": "2024-04-10T12:27:17.497963Z"
    }
   },
   "outputs": [
    {
     "name": "stderr",
     "output_type": "stream",
     "text": [
      "\u001b[34m\u001b[1mwandb\u001b[0m: Currently logged in as: \u001b[33mlana-caldarevic1\u001b[0m. Use \u001b[1m`wandb login --relogin`\u001b[0m to force relogin\n"
     ]
    }
   ],
   "source": [
    "import scipy.signal as signal\n",
    "from sklearn.model_selection import KFold, train_test_split\n",
    "import tensorflow as tf\n",
    "from tensorflow.keras.callbacks import ReduceLROnPlateau, ModelCheckpoint, LambdaCallback\n",
    "import numpy as np\n",
    "import matplotlib.pyplot as plt\n",
    "from glob import glob\n",
    "import pandas as pd\n",
    "\n",
    "import wandb\n",
    "wandb.login()\n",
    "\n",
    "import os\n",
    "import numpy as np\n",
    "from scipy import signal\n",
    "\n",
    "from tensorflow.keras import layers, models, regularizers\n",
    "\n",
    "def create_model(config):\n",
    "    kernel_size = config.kernel_size\n",
    "    regularizer = regularizers.l2(config.reg)\n",
    "    dropout_rate = config.dropout\n",
    "    size_0 = config.start_filters\n",
    "\n",
    "    # Input layer\n",
    "    in_data = layers.Input(shape=(1024, 1))\n",
    "\n",
    "    # Encoder part\n",
    "    conv0 = layers.Conv1D(size_0, kernel_size, kernel_regularizer=regularizer, activation='relu', padding='same', kernel_initializer='he_normal')(in_data)\n",
    "    conv0 = layers.BatchNormalization()(conv0)\n",
    "    conv0 = layers.Conv1D(size_0, kernel_size, kernel_regularizer=regularizer, activation='relu', padding='same', kernel_initializer='he_normal')(conv0)\n",
    "    conv0 = layers.BatchNormalization()(conv0)\n",
    "    pool0 = layers.MaxPooling1D(pool_size=2)(conv0)\n",
    "\n",
    "    size_1 = size_0 * 2\n",
    "    conv1 = layers.Conv1D(size_1, kernel_size, kernel_regularizer=regularizer, activation='relu', padding='same', kernel_initializer='he_normal')(pool0)\n",
    "    conv1 = layers.BatchNormalization()(conv1)\n",
    "    conv1 = layers.Conv1D(size_1, kernel_size, kernel_regularizer=regularizer, activation='relu', padding='same', kernel_initializer='he_normal')(conv1)\n",
    "    conv1 = layers.BatchNormalization()(conv1)\n",
    "    conv1 = layers.Dropout(dropout_rate)(conv1)\n",
    "    pool1 = layers.MaxPooling1D(pool_size=2)(conv1)\n",
    "\n",
    "    size_2 = size_1 * 2\n",
    "    conv2 = layers.Conv1D(size_2, kernel_size, kernel_regularizer=regularizer, activation='relu', padding='same', kernel_initializer='he_normal')(pool1)\n",
    "    conv2 = layers.BatchNormalization()(conv2)\n",
    "    conv2 = layers.Conv1D(size_2, kernel_size, kernel_regularizer=regularizer, activation='relu', padding='same', kernel_initializer='he_normal')(conv2)\n",
    "    conv2 = layers.BatchNormalization()(conv2)\n",
    "\n",
    "    # Decoder part\n",
    "    up1 = layers.UpSampling1D(size=2)(conv2)\n",
    "    up_conv1 = layers.Conv1D(size_2, kernel_size, activation='relu', padding='same', kernel_initializer='he_normal')(up1)\n",
    "    up_conv1 = layers.BatchNormalization()(up_conv1)\n",
    "    merge1 = layers.concatenate([conv1, up_conv1], axis=2)\n",
    "    conv3 = layers.Conv1D(size_1, kernel_size, kernel_regularizer=regularizer, activation='relu', padding='same', kernel_initializer='he_normal')(merge1)\n",
    "    conv3 = layers.BatchNormalization()(conv3)\n",
    "    conv3 = layers.Conv1D(size_1, kernel_size, kernel_regularizer=regularizer, activation='relu', padding='same', kernel_initializer='he_normal')(conv3)\n",
    "    conv3 = layers.BatchNormalization()(conv3)\n",
    "    conv3 = layers.Dropout(dropout_rate)(conv3)\n",
    "\n",
    "    up2 = layers.UpSampling1D(size=2)(conv3)\n",
    "    up_conv2 = layers.Conv1D(size_1, kernel_size, activation='relu', padding='same', kernel_initializer='he_normal')(up2)\n",
    "    up_conv2 = layers.BatchNormalization()(up_conv2)\n",
    "    merge2 = layers.concatenate([conv0, up_conv2], axis=2)\n",
    "    conv4 = layers.Conv1D(size_0, kernel_size, kernel_regularizer=regularizer, activation='relu', padding='same', kernel_initializer='he_normal')(merge2)\n",
    "    conv4 = layers.BatchNormalization()(conv4)\n",
    "    conv4 = layers.Conv1D(size_0, kernel_size, kernel_regularizer=regularizer, activation='relu', padding='same', kernel_initializer='he_normal')(conv4)\n",
    "    conv4 = layers.BatchNormalization()(conv4)\n",
    "\n",
    "    # Output layer\n",
    "    out_data = layers.Conv1D(1, kernel_size, activation='sigmoid', padding='same')(conv4)\n",
    "\n",
    "    model = models.Model(inputs=[in_data], outputs=[out_data])\n",
    "    model.summary()\n",
    "\n",
    "    return model\n",
    "\n",
    "def create_sweep_config():\n",
    "    return {\n",
    "        'method': 'bayes',  # or 'random', 'grid'\n",
    "        'metric': {\n",
    "            'name': 'val_loss',\n",
    "            'goal': 'minimize'\n",
    "        },\n",
    "        'parameters': {\n",
    "            'learning_rate': {\n",
    "                'min': 1e-5,\n",
    "                'max': 1e-2\n",
    "            },\n",
    "            'batch_size': {\n",
    "                'values': [32, 64, 128, 256]\n",
    "            },\n",
    "            'kernel_size': {\n",
    "                'values': [3, 5, 7, 27]\n",
    "            },\n",
    "            'reg': {\n",
    "                'min': 1e-5,\n",
    "                'max': 1e-2\n",
    "            },\n",
    "            'dropout': {\n",
    "                'min': 0.1,\n",
    "                'max': 0.6\n",
    "            },\n",
    "            'start_filters': {\n",
    "                'values': [8, 16, 32]\n",
    "            }\n",
    "        }\n",
    "    }\n",
    "\n",
    "\n",
    "def sliding_window(data, window_size, downsampled_window_size, overlap, train_patients, validation_patients, test_patients):\n",
    "    windows_ecg_train = []\n",
    "    windows_resp_train = []\n",
    "\n",
    "    for train_patient in train_patients:\n",
    "    \n",
    "        N = len(data[train_patient][0])\n",
    "        max_step = int(N//(window_size*overlap))\n",
    "        for step in range(max_step):\n",
    "            ecg = data[train_patient][0][step * int(window_size*overlap):step * int(window_size*overlap) + window_size] \n",
    "            resp = data[train_patient][1][step * int(window_size*overlap):step * int(window_size*overlap) + window_size]\n",
    "            \n",
    "            if (ecg.min() < ecg.max()):\n",
    "                normalized_ecg = (ecg-ecg.min())/(ecg.max()-ecg.min())-0.5\n",
    "                #zero_centered_ecg = ecg - np.mean(ecg)\n",
    "                #normalized_ecg = zero_centered_ecg / np.std(zero_centered_ecg)\n",
    "                resampled_ecg = signal.resample(normalized_ecg, downsampled_window_size)\n",
    "                if resp.min() < resp.max():\n",
    "                    normalized_resp = (resp-resp.min())/(resp.max()-resp.min())\n",
    "                    #zero_centered_resp = resp - np.mean(resp)\n",
    "                    #normalized_resp = zero_centered_resp / np.std(zero_centered_resp)\n",
    "                    resampled_resp = signal.resample(normalized_resp, downsampled_window_size)\n",
    "                    windows_ecg_train.append(np.float32(resampled_ecg))\n",
    "                    windows_resp_train.append(np.float32(resampled_resp))\n",
    "            \n",
    "            \n",
    "    windows_ecg_validation = []\n",
    "    windows_resp_validation = []\n",
    "\n",
    "\n",
    "    for validation_patient in validation_patients:\n",
    "        N = len(data[validation_patient][0])\n",
    "        max_step = int(N//(window_size*overlap))\n",
    "        for step in range(max_step):\n",
    "            ecg = data[validation_patient][0][step * int(window_size*overlap):step * int(window_size*overlap) + window_size] \n",
    "            resp = data[validation_patient][1][step * int(window_size*overlap):step * int(window_size*overlap) + window_size]\n",
    "            \n",
    "            if (ecg.min() < ecg.max()):\n",
    "                normalized_ecg = (ecg-ecg.min())/(ecg.max()-ecg.min())-0.5\n",
    "                #zero_centered_ecg = ecg - np.mean(ecg)\n",
    "                #normalized_ecg = zero_centered_ecg / np.std(zero_centered_ecg)\n",
    "                resampled_ecg = signal.resample(normalized_ecg, downsampled_window_size)\n",
    "                if resp.min() < resp.max():\n",
    "                    normalized_resp = (resp-resp.min())/(resp.max()-resp.min())\n",
    "                    #zero_centered_resp = resp - np.mean(resp)\n",
    "                    #normalized_resp = zero_centered_resp / np.std(zero_centered_resp)\n",
    "                    resampled_resp = signal.resample(normalized_resp, downsampled_window_size)\n",
    "                    windows_ecg_validation.append(np.float32(resampled_ecg))\n",
    "                    windows_resp_validation.append(np.float32(resampled_resp))\n",
    "          \n",
    "    windows_ecg_test = []\n",
    "    windows_resp_test = []\n",
    "    \n",
    "    for test_patient in test_patients:\n",
    "        N = len(data[test_patient][0])\n",
    "        max_step = int(N//(window_size*overlap))\n",
    "        for step in range(max_step):\n",
    "            ecg = data[test_patient][0][step * int(window_size*overlap):step * int(window_size*overlap) + window_size] \n",
    "            resp = data[test_patient][1][step * int(window_size*overlap):step * int(window_size*overlap) + window_size]\n",
    "            \n",
    "            if (ecg.min() < ecg.max()):\n",
    "                normalized_ecg = (ecg-ecg.min())/(ecg.max()-ecg.min())-0.5\n",
    "                #zero_centered_ecg = ecg - np.mean(ecg)\n",
    "                #normalized_ecg = zero_centered_ecg / np.std(zero_centered_ecg)\n",
    "                resampled_ecg = signal.resample(normalized_ecg, downsampled_window_size)\n",
    "                if resp.min() < resp.max():\n",
    "                    normalized_resp = (resp-resp.min())/(resp.max()-resp.min())\n",
    "                    #zero_centered_resp = resp - np.mean(resp)\n",
    "                    #normalized_resp = zero_centered_resp / np.std(zero_centered_resp)\n",
    "                    resampled_resp = signal.resample(normalized_resp, downsampled_window_size)\n",
    "                    windows_ecg_test.append(np.float32(resampled_ecg))\n",
    "                    windows_resp_test.append(np.float32(resampled_resp))\n",
    "\n",
    "    windows_ecg_train = np.stack(windows_ecg_train, axis=0)\n",
    "    windows_resp_train = np.stack(windows_resp_train, axis=0)\n",
    "    windows_ecg_validation = np.stack(windows_ecg_validation, axis=0)\n",
    "    windows_resp_validation = np.stack(windows_resp_validation, axis=0)\n",
    "    windows_ecg_test = np.stack(windows_ecg_test, axis=0)\n",
    "    windows_resp_test = np.stack(windows_resp_test, axis=0)\n",
    "\n",
    "    windows_ecg_train = windows_ecg_train[:,:,np.newaxis]\n",
    "    windows_resp_train = windows_resp_train[:,:,np.newaxis]\n",
    "    windows_ecg_validation = windows_ecg_validation[:,:,np.newaxis]\n",
    "    windows_resp_validation = windows_resp_validation[:,:,np.newaxis]\n",
    "    windows_ecg_test = windows_ecg_test[:,:,np.newaxis]\n",
    "    windows_resp_test = windows_resp_test[:,:,np.newaxis]\n",
    "\n",
    "    return windows_ecg_train, windows_resp_train, windows_ecg_validation, windows_resp_validation, windows_ecg_test, windows_resp_test\n",
    "\n",
    "def load_data():\n",
    "     # bidmc\n",
    "    path = \"/Users/lanacaldarevic/workspace/phd/ecg_derived_resp_dl/data/bidmc-ppg-and-respiration-dataset-1.0.0\"\n",
    "    EXT = \"*Signals.csv\"\n",
    "    all_csv_files = [file for path, subdir, files in os.walk(path) for file in glob(os.path.join(path, EXT))]\n",
    "    patients = []\n",
    "    data = {}\n",
    "    no_errors = 0\n",
    "    for file in all_csv_files:\n",
    "        try:\n",
    "            df = pd.read_csv(file)\n",
    "            X1, X2, X3, X4 = df[' PLETH'].values, df[' V'].values, df[' AVR'].values, df[' II'].values\n",
    "            # X = np.concatenate([X1.reshape(len(X1),1),X2.reshape(len(X1),1),X3.reshape(len(X1),1),X4.reshape(len(X1),1)], axis=1)\n",
    "            \n",
    "            Y = df[' RESP'].values\n",
    "            \n",
    "            patient = int(file.split('/')[-1].split('_')[1])\n",
    "            patients.append(patient)\n",
    "            data[patient] = [X4, Y]\n",
    "        except:\n",
    "            no_errors += 1\n",
    "\n",
    "    return data, patients\n",
    "\n",
    "\n",
    "def visualize_predictions(set_name, model, windows_ecg, windows_resp):\n",
    "    prediction = model.predict(windows_ecg)[0]\n",
    "    windows_resp= tf.squeeze(windows_resp)\n",
    "\n",
    "    fig, ax = plt.subplots(2, 1, figsize=(10, 4))\n",
    "    ax[0].plot(windows_resp)\n",
    "    ax[0].set_title(f'{set_name.capitalize()} Ground Truth')\n",
    "    ax[1].plot(prediction)\n",
    "    ax[1].set_title(f'{set_name.capitalize()} Prediction')\n",
    "\n",
    "    wandb.log({f\"{set_name}_predictions\": wandb.Image(fig)}, commit=False)\n",
    "    plt.close(fig)\n",
    "\n",
    "def log_images(model, epoch, logs, fixed_sample_ecg_train, fixed_sample_resp_train, fixed_sample_ecg_valid, fixed_sample_resp_valid):\n",
    "        wandb.log({\"loss\": logs['loss'], \"correlation\": logs['correlation'], \"val_loss\": logs['val_loss'], \"val_correlation\": logs['val_correlation']})\n",
    "        #visualize_predictions('train', model, fixed_sample_ecg_train, fixed_sample_resp_train)\n",
    "        #visualize_predictions('validation', model, fixed_sample_ecg_valid, fixed_sample_resp_valid)\n",
    "\n",
    "def correlation(x, y): #todo: check this and see in papers what cross correlation is\n",
    "    # Normalize y to the [0, 1] range\n",
    "    min_y = tf.math.reduce_min(y)\n",
    "    max_y = tf.math.reduce_max(y)\n",
    "    r_up = tf.math.subtract(y, min_y)\n",
    "    r_down = max_y - min_y\n",
    "    new_y = r_up / r_down\n",
    "    \n",
    "    # Compute means\n",
    "    mx = tf.math.reduce_mean(x)\n",
    "    my = tf.math.reduce_mean(new_y)\n",
    "    \n",
    "    # Compute centered values\n",
    "    xm, ym = x - mx, new_y - my\n",
    "    \n",
    "    # Compute correlation coefficient\n",
    "    r_num = tf.reduce_sum(tf.multiply(xm, ym))\n",
    "    r_den = tf.sqrt(tf.multiply(tf.reduce_sum(tf.square(xm)), tf.reduce_sum(tf.square(ym))))\n",
    "    r = r_num / r_den\n",
    "    \n",
    "    # Ensure the result is between -1 and 1\n",
    "    r = tf.maximum(tf.minimum(r, 1.0), -1.0)\n",
    "    \n",
    "    return 1 - r\n",
    "\n",
    "def cross_correlation(x, y):\n",
    "    mean_x = tf.reduce_mean(x)\n",
    "    mean_y = tf.reduce_mean(y)\n",
    "    \n",
    "    centered_x = x - mean_x\n",
    "    centered_y = y - mean_y\n",
    "    \n",
    "    numerator = tf.reduce_sum(centered_x * tf.roll(centered_y, shift=1, axis=0))\n",
    "    denominator = tf.sqrt(tf.reduce_sum(centered_x**2) * tf.reduce_sum(tf.roll(centered_y, shift=1, axis=0)**2))\n",
    "    \n",
    "    return numerator / denominator\n",
    "\n",
    "def train():\n",
    "    wandb.init()\n",
    "    config = wandb.config\n",
    "\n",
    "    sampling_rate = 125\n",
    "    input_size_seconds = 16 # //2, *2\n",
    "    downsampled_window_size = 1024 #? power of 2\n",
    "    window_size = input_size_seconds * sampling_rate\n",
    "    overlap = 0.25 #25%\n",
    "    \n",
    "    data, patients = load_data()\n",
    "\n",
    "    # k-folds for CV\n",
    "    train_patients = []\n",
    "    test_patients = []\n",
    "    validation_patients = []\n",
    "    k = 5\n",
    "    kf = KFold(n_splits=k)\n",
    "    train_ind = []\n",
    "    test_ind = []\n",
    "\n",
    "    for tr_ind, te_ind in kf.split(patients):\n",
    "        train_ind.append(tr_ind)\n",
    "        test_ind.append(te_ind)\n",
    "\n",
    "    split_ind = 0\n",
    "    train_index, test_index = train_ind[split_ind], test_ind[split_ind]\n",
    "    test_index, validation_index = train_test_split(test_index, test_size=0.5, random_state=42)\n",
    "    train_patients = [patients[i] for i in train_index]\n",
    "    validation_patients = [patients[i] for i in validation_index]\n",
    "    test_patients = [patients[i] for i in test_index]\n",
    "\n",
    "    windows_ecg_train, windows_resp_train, windows_ecg_validation, windows_resp_validation, windows_ecg_test, windows_resp_test = sliding_window(data, window_size, downsampled_window_size, overlap, train_patients, validation_patients, test_patients)\n",
    "\n",
    "    if tf.config.list_physical_devices('GPU'):\n",
    "        print(\"GPU enabled\")\n",
    "        with tf.device('/GPU:0'):\n",
    "            windows_ecg_train = tf.convert_to_tensor(windows_ecg_train, dtype=tf.float32)\n",
    "            windows_resp_train = tf.convert_to_tensor(windows_resp_train, dtype=tf.float32)\n",
    "            windows_ecg_validation = tf.convert_to_tensor(windows_ecg_validation, dtype=tf.float32)\n",
    "            windows_resp_validation = tf.convert_to_tensor(windows_resp_validation, dtype=tf.float32)\n",
    "            windows_ecg_test = tf.convert_to_tensor(windows_ecg_test, dtype=tf.float32)\n",
    "            windows_resp_test = tf.convert_to_tensor(windows_resp_test, dtype=tf.float32)\n",
    "\n",
    "    fixed_index = 5\n",
    "    fixed_sample_ecg_train = tf.expand_dims(windows_ecg_train[fixed_index], axis=0)\n",
    "    fixed_sample_resp_train = tf.expand_dims(windows_resp_train[fixed_index], axis=0)\n",
    "\n",
    "    fixed_sample_ecg_valid = tf.expand_dims(windows_ecg_validation[fixed_index], axis=0)\n",
    "    fixed_sample_resp_valid = tf.expand_dims(windows_resp_validation[fixed_index], axis=0)\n",
    "    \n",
    "    lr = wandb.config.learning_rate\n",
    "    optimizer = tf.keras.optimizers.legacy.Adam(learning_rate=lr, beta_1=0.9, beta_2=0.999, amsgrad=False)\n",
    "    \n",
    "    model = create_model(config)\n",
    "    \n",
    "    # define callbacks\n",
    "    #reduce_lr = ReduceLROnPlateau(monitor='val_loss', factor=0.2, patience=10, cooldown=5, mode='min', min_lr=1e-7)\n",
    "    #filepath = os.path.join('Users/lanacaldarevic/ecg_derived_resp_dl/models', f'model_crossval{split_ind}-size{start_filters}-input{input_size}_weights-improvement.h5')\n",
    "    #checkpoint = ModelCheckpoint(filepath, monitor='val_loss', verbose=1, save_best_only=True, mode='min')\n",
    "    \n",
    "    # early stopping\n",
    "    early_stopping = tf.keras.callbacks.EarlyStopping(monitor='val_loss', patience=10, start_from_epoch=20)\n",
    "    lambda_cb = LambdaCallback(on_epoch_end=lambda epoch, logs: log_images(model, epoch, logs, fixed_sample_ecg_train, fixed_sample_resp_train, fixed_sample_ecg_valid, fixed_sample_resp_valid))\n",
    "\n",
    "    callbacks = [wandb.keras.WandbCallback(), early_stopping]\n",
    "    loss = tf.keras.losses.Huber(delta=0.1)\n",
    "    model.compile(loss=loss, metrics=[correlation, 'mse'], optimizer=optimizer)\n",
    "    \n",
    "    print(\"Model training starting\")\n",
    "    model.fit(windows_ecg_train, windows_resp_train,\n",
    "              epochs=200,\n",
    "              batch_size=wandb.config.batch_size,\n",
    "              shuffle=True,\n",
    "              callbacks=callbacks,\n",
    "              validation_data=(windows_ecg_validation, windows_resp_validation))\n",
    "    \n",
    "    model.save(os.path.join('Users/lanacaldarevic/ecg_derived_resp_dl/models', f'combined_model{split_ind}-size{config.start_filters}-input{1024}.h5'))\n",
    "\n",
    "    wandb.finish()"
   ]
  },
  {
   "cell_type": "code",
   "execution_count": 2,
   "id": "684f5a87-d8aa-4306-b87c-024af70b337c",
   "metadata": {
    "execution": {
     "iopub.execute_input": "2024-04-10T12:27:23.573820Z",
     "iopub.status.busy": "2024-04-10T12:27:23.573556Z",
     "iopub.status.idle": "2024-04-10T14:21:03.708809Z",
     "shell.execute_reply": "2024-04-10T14:21:03.708429Z",
     "shell.execute_reply.started": "2024-04-10T12:27:23.573807Z"
    }
   },
   "outputs": [
    {
     "name": "stdout",
     "output_type": "stream",
     "text": [
      "Create sweep with ID: 94xtzv3y\n",
      "Sweep URL: https://wandb.ai/lana-caldarevic1/biosignal_deeplearning/sweeps/94xtzv3y\n"
     ]
    },
    {
     "name": "stderr",
     "output_type": "stream",
     "text": [
      "\u001b[34m\u001b[1mwandb\u001b[0m: Agent Starting Run: vlajh6h3 with config:\n",
      "\u001b[34m\u001b[1mwandb\u001b[0m: \tbatch_size: 32\n",
      "\u001b[34m\u001b[1mwandb\u001b[0m: \tdropout: 0.3063886465454385\n",
      "\u001b[34m\u001b[1mwandb\u001b[0m: \tkernel_size: 5\n",
      "\u001b[34m\u001b[1mwandb\u001b[0m: \tlearning_rate: 0.005813596655359309\n",
      "\u001b[34m\u001b[1mwandb\u001b[0m: \treg: 0.005071836675794632\n",
      "\u001b[34m\u001b[1mwandb\u001b[0m: \tstart_filters: 8\n"
     ]
    },
    {
     "data": {
      "text/html": [
       "wandb version 0.16.6 is available!  To upgrade, please run:\n",
       " $ pip install wandb --upgrade"
      ],
      "text/plain": [
       "<IPython.core.display.HTML object>"
      ]
     },
     "metadata": {},
     "output_type": "display_data"
    },
    {
     "data": {
      "text/html": [
       "Tracking run with wandb version 0.15.9"
      ],
      "text/plain": [
       "<IPython.core.display.HTML object>"
      ]
     },
     "metadata": {},
     "output_type": "display_data"
    },
    {
     "data": {
      "text/html": [
       "Run data is saved locally in <code>/Users/lanacaldarevic/workspace/phd/ecg_derived_resp_dl/notebooks/wandb/run-20240410_142725-vlajh6h3</code>"
      ],
      "text/plain": [
       "<IPython.core.display.HTML object>"
      ]
     },
     "metadata": {},
     "output_type": "display_data"
    },
    {
     "data": {
      "text/html": [
       "Syncing run <strong><a href='https://wandb.ai/lana-caldarevic1/biosignal_deeplearning/runs/vlajh6h3' target=\"_blank\">treasured-sweep-1</a></strong> to <a href='https://wandb.ai/lana-caldarevic1/biosignal_deeplearning' target=\"_blank\">Weights & Biases</a> (<a href='https://wandb.me/run' target=\"_blank\">docs</a>)<br/>Sweep page: <a href='https://wandb.ai/lana-caldarevic1/biosignal_deeplearning/sweeps/94xtzv3y' target=\"_blank\">https://wandb.ai/lana-caldarevic1/biosignal_deeplearning/sweeps/94xtzv3y</a>"
      ],
      "text/plain": [
       "<IPython.core.display.HTML object>"
      ]
     },
     "metadata": {},
     "output_type": "display_data"
    },
    {
     "data": {
      "text/html": [
       " View project at <a href='https://wandb.ai/lana-caldarevic1/biosignal_deeplearning' target=\"_blank\">https://wandb.ai/lana-caldarevic1/biosignal_deeplearning</a>"
      ],
      "text/plain": [
       "<IPython.core.display.HTML object>"
      ]
     },
     "metadata": {},
     "output_type": "display_data"
    },
    {
     "data": {
      "text/html": [
       " View sweep at <a href='https://wandb.ai/lana-caldarevic1/biosignal_deeplearning/sweeps/94xtzv3y' target=\"_blank\">https://wandb.ai/lana-caldarevic1/biosignal_deeplearning/sweeps/94xtzv3y</a>"
      ],
      "text/plain": [
       "<IPython.core.display.HTML object>"
      ]
     },
     "metadata": {},
     "output_type": "display_data"
    },
    {
     "data": {
      "text/html": [
       " View run at <a href='https://wandb.ai/lana-caldarevic1/biosignal_deeplearning/runs/vlajh6h3' target=\"_blank\">https://wandb.ai/lana-caldarevic1/biosignal_deeplearning/runs/vlajh6h3</a>"
      ],
      "text/plain": [
       "<IPython.core.display.HTML object>"
      ]
     },
     "metadata": {},
     "output_type": "display_data"
    },
    {
     "name": "stdout",
     "output_type": "stream",
     "text": [
      "GPU enabled\n"
     ]
    },
    {
     "name": "stderr",
     "output_type": "stream",
     "text": [
      "2024-04-10 14:27:34.909806: I metal_plugin/src/device/metal_device.cc:1154] Metal device set to: Apple M1\n",
      "2024-04-10 14:27:34.909857: I metal_plugin/src/device/metal_device.cc:296] systemMemory: 16.00 GB\n",
      "2024-04-10 14:27:34.909861: I metal_plugin/src/device/metal_device.cc:313] maxCacheSize: 5.33 GB\n",
      "2024-04-10 14:27:34.910022: I tensorflow/core/common_runtime/pluggable_device/pluggable_device_factory.cc:303] Could not identify NUMA node of platform GPU ID 0, defaulting to 0. Your kernel may not have been built with NUMA support.\n",
      "2024-04-10 14:27:34.910045: I tensorflow/core/common_runtime/pluggable_device/pluggable_device_factory.cc:269] Created TensorFlow device (/job:localhost/replica:0/task:0/device:GPU:0 with 0 MB memory) -> physical PluggableDevice (device: 0, name: METAL, pci bus id: <undefined>)\n"
     ]
    },
    {
     "name": "stdout",
     "output_type": "stream",
     "text": [
      "Model: \"model\"\n",
      "__________________________________________________________________________________________________\n",
      " Layer (type)                Output Shape                 Param #   Connected to                  \n",
      "==================================================================================================\n",
      " input_1 (InputLayer)        [(None, 1024, 1)]            0         []                            \n",
      "                                                                                                  \n",
      " conv1d (Conv1D)             (None, 1024, 8)              48        ['input_1[0][0]']             \n",
      "                                                                                                  \n",
      " batch_normalization (Batch  (None, 1024, 8)              32        ['conv1d[0][0]']              \n",
      " Normalization)                                                                                   \n",
      "                                                                                                  \n",
      " conv1d_1 (Conv1D)           (None, 1024, 8)              328       ['batch_normalization[0][0]'] \n",
      "                                                                                                  \n",
      " batch_normalization_1 (Bat  (None, 1024, 8)              32        ['conv1d_1[0][0]']            \n",
      " chNormalization)                                                                                 \n",
      "                                                                                                  \n",
      " max_pooling1d (MaxPooling1  (None, 512, 8)               0         ['batch_normalization_1[0][0]'\n",
      " D)                                                                 ]                             \n",
      "                                                                                                  \n",
      " conv1d_2 (Conv1D)           (None, 512, 16)              656       ['max_pooling1d[0][0]']       \n",
      "                                                                                                  \n",
      " batch_normalization_2 (Bat  (None, 512, 16)              64        ['conv1d_2[0][0]']            \n",
      " chNormalization)                                                                                 \n",
      "                                                                                                  \n",
      " conv1d_3 (Conv1D)           (None, 512, 16)              1296      ['batch_normalization_2[0][0]'\n",
      "                                                                    ]                             \n",
      "                                                                                                  \n",
      " batch_normalization_3 (Bat  (None, 512, 16)              64        ['conv1d_3[0][0]']            \n",
      " chNormalization)                                                                                 \n",
      "                                                                                                  \n",
      " dropout (Dropout)           (None, 512, 16)              0         ['batch_normalization_3[0][0]'\n",
      "                                                                    ]                             \n",
      "                                                                                                  \n",
      " max_pooling1d_1 (MaxPoolin  (None, 256, 16)              0         ['dropout[0][0]']             \n",
      " g1D)                                                                                             \n",
      "                                                                                                  \n",
      " conv1d_4 (Conv1D)           (None, 256, 32)              2592      ['max_pooling1d_1[0][0]']     \n",
      "                                                                                                  \n",
      " batch_normalization_4 (Bat  (None, 256, 32)              128       ['conv1d_4[0][0]']            \n",
      " chNormalization)                                                                                 \n",
      "                                                                                                  \n",
      " conv1d_5 (Conv1D)           (None, 256, 32)              5152      ['batch_normalization_4[0][0]'\n",
      "                                                                    ]                             \n",
      "                                                                                                  \n",
      " batch_normalization_5 (Bat  (None, 256, 32)              128       ['conv1d_5[0][0]']            \n",
      " chNormalization)                                                                                 \n",
      "                                                                                                  \n",
      " up_sampling1d (UpSampling1  (None, 512, 32)              0         ['batch_normalization_5[0][0]'\n",
      " D)                                                                 ]                             \n",
      "                                                                                                  \n",
      " conv1d_6 (Conv1D)           (None, 512, 32)              5152      ['up_sampling1d[0][0]']       \n",
      "                                                                                                  \n",
      " batch_normalization_6 (Bat  (None, 512, 32)              128       ['conv1d_6[0][0]']            \n",
      " chNormalization)                                                                                 \n",
      "                                                                                                  \n",
      " concatenate (Concatenate)   (None, 512, 48)              0         ['dropout[0][0]',             \n",
      "                                                                     'batch_normalization_6[0][0]'\n",
      "                                                                    ]                             \n",
      "                                                                                                  \n",
      " conv1d_7 (Conv1D)           (None, 512, 16)              3856      ['concatenate[0][0]']         \n",
      "                                                                                                  \n",
      " batch_normalization_7 (Bat  (None, 512, 16)              64        ['conv1d_7[0][0]']            \n",
      " chNormalization)                                                                                 \n",
      "                                                                                                  \n",
      " conv1d_8 (Conv1D)           (None, 512, 16)              1296      ['batch_normalization_7[0][0]'\n",
      "                                                                    ]                             \n",
      "                                                                                                  \n",
      " batch_normalization_8 (Bat  (None, 512, 16)              64        ['conv1d_8[0][0]']            \n",
      " chNormalization)                                                                                 \n",
      "                                                                                                  \n",
      " dropout_1 (Dropout)         (None, 512, 16)              0         ['batch_normalization_8[0][0]'\n",
      "                                                                    ]                             \n",
      "                                                                                                  \n",
      " up_sampling1d_1 (UpSamplin  (None, 1024, 16)             0         ['dropout_1[0][0]']           \n",
      " g1D)                                                                                             \n",
      "                                                                                                  \n",
      " conv1d_9 (Conv1D)           (None, 1024, 16)             1296      ['up_sampling1d_1[0][0]']     \n",
      "                                                                                                  \n",
      " batch_normalization_9 (Bat  (None, 1024, 16)             64        ['conv1d_9[0][0]']            \n",
      " chNormalization)                                                                                 \n",
      "                                                                                                  \n",
      " concatenate_1 (Concatenate  (None, 1024, 24)             0         ['batch_normalization_1[0][0]'\n",
      " )                                                                  , 'batch_normalization_9[0][0]\n",
      "                                                                    ']                            \n",
      "                                                                                                  \n",
      " conv1d_10 (Conv1D)          (None, 1024, 8)              968       ['concatenate_1[0][0]']       \n",
      "                                                                                                  \n",
      " batch_normalization_10 (Ba  (None, 1024, 8)              32        ['conv1d_10[0][0]']           \n",
      " tchNormalization)                                                                                \n",
      "                                                                                                  \n",
      " conv1d_11 (Conv1D)          (None, 1024, 8)              328       ['batch_normalization_10[0][0]\n",
      "                                                                    ']                            \n",
      "                                                                                                  \n",
      " batch_normalization_11 (Ba  (None, 1024, 8)              32        ['conv1d_11[0][0]']           \n",
      " tchNormalization)                                                                                \n",
      "                                                                                                  \n",
      " conv1d_12 (Conv1D)          (None, 1024, 1)              41        ['batch_normalization_11[0][0]\n",
      "                                                                    ']                            \n",
      "                                                                                                  \n",
      "==================================================================================================\n",
      "Total params: 23841 (93.13 KB)\n",
      "Trainable params: 23425 (91.50 KB)\n",
      "Non-trainable params: 416 (1.62 KB)\n",
      "__________________________________________________________________________________________________\n"
     ]
    },
    {
     "name": "stderr",
     "output_type": "stream",
     "text": [
      "\u001b[34m\u001b[1mwandb\u001b[0m: \u001b[33mWARNING\u001b[0m The save_model argument by default saves the model in the HDF5 format that cannot save custom objects like subclassed models and custom layers. This behavior will be deprecated in a future release in favor of the SavedModel format. Meanwhile, the HDF5 model is saved as W&B files and the SavedModel as W&B Artifacts.\n"
     ]
    },
    {
     "name": "stdout",
     "output_type": "stream",
     "text": [
      "Model training starting\n",
      "Epoch 1/200\n"
     ]
    },
    {
     "name": "stderr",
     "output_type": "stream",
     "text": [
      "2024-04-10 14:27:38.858738: I tensorflow/core/grappler/optimizers/custom_graph_optimizer_registry.cc:114] Plugin optimizer for device_type GPU is enabled.\n"
     ]
    },
    {
     "name": "stdout",
     "output_type": "stream",
     "text": [
      "135/135 [==============================] - ETA: 0s - loss: 0.2130 - correlation: 0.9312 - mse: 0.1286"
     ]
    },
    {
     "name": "stderr",
     "output_type": "stream",
     "text": [
      "2024-04-10 14:28:13.256219: I tensorflow/core/grappler/optimizers/custom_graph_optimizer_registry.cc:114] Plugin optimizer for device_type GPU is enabled.\n",
      "/Users/lanacaldarevic/miniforge3/envs/tf_m1/lib/python3.9/site-packages/keras/src/engine/training.py:3000: UserWarning: You are saving your model as an HDF5 file via `model.save()`. This file format is considered legacy. We recommend using instead the native Keras format, e.g. `model.save('my_model.keras')`.\n",
      "  saving_api.save_model(\n"
     ]
    },
    {
     "name": "stdout",
     "output_type": "stream",
     "text": [
      "INFO:tensorflow:Assets written to: /Users/lanacaldarevic/workspace/phd/ecg_derived_resp_dl/notebooks/wandb/run-20240410_142725-vlajh6h3/files/model-best/assets\n"
     ]
    },
    {
     "name": "stderr",
     "output_type": "stream",
     "text": [
      "INFO:tensorflow:Assets written to: /Users/lanacaldarevic/workspace/phd/ecg_derived_resp_dl/notebooks/wandb/run-20240410_142725-vlajh6h3/files/model-best/assets\n",
      "\u001b[34m\u001b[1mwandb\u001b[0m: Adding directory to artifact (/Users/lanacaldarevic/workspace/phd/ecg_derived_resp_dl/notebooks/wandb/run-20240410_142725-vlajh6h3/files/model-best)... Done. 0.0s\n"
     ]
    },
    {
     "name": "stdout",
     "output_type": "stream",
     "text": [
      "135/135 [==============================] - 43s 193ms/step - loss: 0.2130 - correlation: 0.9312 - mse: 0.1286 - val_loss: 0.0305 - val_correlation: 0.9990 - val_mse: 0.1247\n",
      "Epoch 2/200\n",
      "135/135 [==============================] - ETA: 0s - loss: 0.0277 - correlation: 0.9319 - mse: 0.1262"
     ]
    },
    {
     "name": "stderr",
     "output_type": "stream",
     "text": [
      "/Users/lanacaldarevic/miniforge3/envs/tf_m1/lib/python3.9/site-packages/keras/src/engine/training.py:3000: UserWarning: You are saving your model as an HDF5 file via `model.save()`. This file format is considered legacy. We recommend using instead the native Keras format, e.g. `model.save('my_model.keras')`.\n",
      "  saving_api.save_model(\n"
     ]
    },
    {
     "name": "stdout",
     "output_type": "stream",
     "text": [
      "INFO:tensorflow:Assets written to: /Users/lanacaldarevic/workspace/phd/ecg_derived_resp_dl/notebooks/wandb/run-20240410_142725-vlajh6h3/files/model-best/assets\n"
     ]
    },
    {
     "name": "stderr",
     "output_type": "stream",
     "text": [
      "INFO:tensorflow:Assets written to: /Users/lanacaldarevic/workspace/phd/ecg_derived_resp_dl/notebooks/wandb/run-20240410_142725-vlajh6h3/files/model-best/assets\n",
      "\u001b[34m\u001b[1mwandb\u001b[0m: Adding directory to artifact (/Users/lanacaldarevic/workspace/phd/ecg_derived_resp_dl/notebooks/wandb/run-20240410_142725-vlajh6h3/files/model-best)... Done. 0.0s\n"
     ]
    },
    {
     "name": "stdout",
     "output_type": "stream",
     "text": [
      "135/135 [==============================] - 21s 151ms/step - loss: 0.0277 - correlation: 0.9319 - mse: 0.1262 - val_loss: 0.0272 - val_correlation: 0.9984 - val_mse: 0.1256\n",
      "Epoch 3/200\n",
      "135/135 [==============================] - ETA: 0s - loss: 0.0264 - correlation: 0.9524 - mse: 0.1263"
     ]
    },
    {
     "name": "stderr",
     "output_type": "stream",
     "text": [
      "/Users/lanacaldarevic/miniforge3/envs/tf_m1/lib/python3.9/site-packages/keras/src/engine/training.py:3000: UserWarning: You are saving your model as an HDF5 file via `model.save()`. This file format is considered legacy. We recommend using instead the native Keras format, e.g. `model.save('my_model.keras')`.\n",
      "  saving_api.save_model(\n"
     ]
    },
    {
     "name": "stdout",
     "output_type": "stream",
     "text": [
      "INFO:tensorflow:Assets written to: /Users/lanacaldarevic/workspace/phd/ecg_derived_resp_dl/notebooks/wandb/run-20240410_142725-vlajh6h3/files/model-best/assets\n"
     ]
    },
    {
     "name": "stderr",
     "output_type": "stream",
     "text": [
      "INFO:tensorflow:Assets written to: /Users/lanacaldarevic/workspace/phd/ecg_derived_resp_dl/notebooks/wandb/run-20240410_142725-vlajh6h3/files/model-best/assets\n",
      "\u001b[34m\u001b[1mwandb\u001b[0m: Adding directory to artifact (/Users/lanacaldarevic/workspace/phd/ecg_derived_resp_dl/notebooks/wandb/run-20240410_142725-vlajh6h3/files/model-best)... Done. 0.0s\n"
     ]
    },
    {
     "name": "stdout",
     "output_type": "stream",
     "text": [
      "135/135 [==============================] - 20s 149ms/step - loss: 0.0264 - correlation: 0.9524 - mse: 0.1263 - val_loss: 0.0267 - val_correlation: 1.0059 - val_mse: 0.1246\n",
      "Epoch 4/200\n",
      "135/135 [==============================] - 18s 132ms/step - loss: 0.0257 - correlation: 0.9687 - mse: 0.1264 - val_loss: 0.0279 - val_correlation: 1.0002 - val_mse: 0.1261\n",
      "Epoch 5/200\n",
      "135/135 [==============================] - ETA: 0s - loss: 0.0258 - correlation: 0.9409 - mse: 0.1263"
     ]
    },
    {
     "name": "stderr",
     "output_type": "stream",
     "text": [
      "/Users/lanacaldarevic/miniforge3/envs/tf_m1/lib/python3.9/site-packages/keras/src/engine/training.py:3000: UserWarning: You are saving your model as an HDF5 file via `model.save()`. This file format is considered legacy. We recommend using instead the native Keras format, e.g. `model.save('my_model.keras')`.\n",
      "  saving_api.save_model(\n"
     ]
    },
    {
     "name": "stdout",
     "output_type": "stream",
     "text": [
      "INFO:tensorflow:Assets written to: /Users/lanacaldarevic/workspace/phd/ecg_derived_resp_dl/notebooks/wandb/run-20240410_142725-vlajh6h3/files/model-best/assets\n"
     ]
    },
    {
     "name": "stderr",
     "output_type": "stream",
     "text": [
      "INFO:tensorflow:Assets written to: /Users/lanacaldarevic/workspace/phd/ecg_derived_resp_dl/notebooks/wandb/run-20240410_142725-vlajh6h3/files/model-best/assets\n",
      "\u001b[34m\u001b[1mwandb\u001b[0m: Adding directory to artifact (/Users/lanacaldarevic/workspace/phd/ecg_derived_resp_dl/notebooks/wandb/run-20240410_142725-vlajh6h3/files/model-best)... Done. 0.0s\n"
     ]
    },
    {
     "name": "stdout",
     "output_type": "stream",
     "text": [
      "135/135 [==============================] - 20s 148ms/step - loss: 0.0258 - correlation: 0.9409 - mse: 0.1263 - val_loss: 0.0260 - val_correlation: 0.9572 - val_mse: 0.1229\n",
      "Epoch 6/200\n",
      "135/135 [==============================] - ETA: 0s - loss: 0.0256 - correlation: 0.9495 - mse: 0.1264"
     ]
    },
    {
     "name": "stderr",
     "output_type": "stream",
     "text": [
      "/Users/lanacaldarevic/miniforge3/envs/tf_m1/lib/python3.9/site-packages/keras/src/engine/training.py:3000: UserWarning: You are saving your model as an HDF5 file via `model.save()`. This file format is considered legacy. We recommend using instead the native Keras format, e.g. `model.save('my_model.keras')`.\n",
      "  saving_api.save_model(\n"
     ]
    },
    {
     "name": "stdout",
     "output_type": "stream",
     "text": [
      "INFO:tensorflow:Assets written to: /Users/lanacaldarevic/workspace/phd/ecg_derived_resp_dl/notebooks/wandb/run-20240410_142725-vlajh6h3/files/model-best/assets\n"
     ]
    },
    {
     "name": "stderr",
     "output_type": "stream",
     "text": [
      "INFO:tensorflow:Assets written to: /Users/lanacaldarevic/workspace/phd/ecg_derived_resp_dl/notebooks/wandb/run-20240410_142725-vlajh6h3/files/model-best/assets\n",
      "\u001b[34m\u001b[1mwandb\u001b[0m: Adding directory to artifact (/Users/lanacaldarevic/workspace/phd/ecg_derived_resp_dl/notebooks/wandb/run-20240410_142725-vlajh6h3/files/model-best)... Done. 0.0s\n"
     ]
    },
    {
     "name": "stdout",
     "output_type": "stream",
     "text": [
      "135/135 [==============================] - 19s 139ms/step - loss: 0.0256 - correlation: 0.9495 - mse: 0.1264 - val_loss: 0.0256 - val_correlation: 0.9228 - val_mse: 0.1233\n",
      "Epoch 7/200\n",
      "135/135 [==============================] - ETA: 0s - loss: 0.0265 - correlation: 0.9437 - mse: 0.1260"
     ]
    },
    {
     "name": "stderr",
     "output_type": "stream",
     "text": [
      "/Users/lanacaldarevic/miniforge3/envs/tf_m1/lib/python3.9/site-packages/keras/src/engine/training.py:3000: UserWarning: You are saving your model as an HDF5 file via `model.save()`. This file format is considered legacy. We recommend using instead the native Keras format, e.g. `model.save('my_model.keras')`.\n",
      "  saving_api.save_model(\n"
     ]
    },
    {
     "name": "stdout",
     "output_type": "stream",
     "text": [
      "INFO:tensorflow:Assets written to: /Users/lanacaldarevic/workspace/phd/ecg_derived_resp_dl/notebooks/wandb/run-20240410_142725-vlajh6h3/files/model-best/assets\n"
     ]
    },
    {
     "name": "stderr",
     "output_type": "stream",
     "text": [
      "INFO:tensorflow:Assets written to: /Users/lanacaldarevic/workspace/phd/ecg_derived_resp_dl/notebooks/wandb/run-20240410_142725-vlajh6h3/files/model-best/assets\n",
      "\u001b[34m\u001b[1mwandb\u001b[0m: Adding directory to artifact (/Users/lanacaldarevic/workspace/phd/ecg_derived_resp_dl/notebooks/wandb/run-20240410_142725-vlajh6h3/files/model-best)... Done. 0.0s\n"
     ]
    },
    {
     "name": "stdout",
     "output_type": "stream",
     "text": [
      "135/135 [==============================] - 17s 126ms/step - loss: 0.0265 - correlation: 0.9437 - mse: 0.1260 - val_loss: 0.0252 - val_correlation: 0.9756 - val_mse: 0.1263\n",
      "Epoch 8/200\n",
      "135/135 [==============================] - ETA: 0s - loss: 0.0257 - correlation: 0.9681 - mse: 0.1263"
     ]
    },
    {
     "name": "stderr",
     "output_type": "stream",
     "text": [
      "/Users/lanacaldarevic/miniforge3/envs/tf_m1/lib/python3.9/site-packages/keras/src/engine/training.py:3000: UserWarning: You are saving your model as an HDF5 file via `model.save()`. This file format is considered legacy. We recommend using instead the native Keras format, e.g. `model.save('my_model.keras')`.\n",
      "  saving_api.save_model(\n"
     ]
    },
    {
     "name": "stdout",
     "output_type": "stream",
     "text": [
      "INFO:tensorflow:Assets written to: /Users/lanacaldarevic/workspace/phd/ecg_derived_resp_dl/notebooks/wandb/run-20240410_142725-vlajh6h3/files/model-best/assets\n"
     ]
    },
    {
     "name": "stderr",
     "output_type": "stream",
     "text": [
      "INFO:tensorflow:Assets written to: /Users/lanacaldarevic/workspace/phd/ecg_derived_resp_dl/notebooks/wandb/run-20240410_142725-vlajh6h3/files/model-best/assets\n",
      "\u001b[34m\u001b[1mwandb\u001b[0m: Adding directory to artifact (/Users/lanacaldarevic/workspace/phd/ecg_derived_resp_dl/notebooks/wandb/run-20240410_142725-vlajh6h3/files/model-best)... Done. 0.0s\n"
     ]
    },
    {
     "name": "stdout",
     "output_type": "stream",
     "text": [
      "135/135 [==============================] - 19s 143ms/step - loss: 0.0257 - correlation: 0.9681 - mse: 0.1263 - val_loss: 0.0249 - val_correlation: 0.9991 - val_mse: 0.1253\n",
      "Epoch 9/200\n",
      "135/135 [==============================] - 17s 127ms/step - loss: 0.0249 - correlation: 1.0011 - mse: 0.1263 - val_loss: 0.0250 - val_correlation: 0.9992 - val_mse: 0.1246\n",
      "Epoch 10/200\n",
      "135/135 [==============================] - ETA: 0s - loss: 0.0249 - correlation: 1.0012 - mse: 0.1262"
     ]
    },
    {
     "name": "stderr",
     "output_type": "stream",
     "text": [
      "/Users/lanacaldarevic/miniforge3/envs/tf_m1/lib/python3.9/site-packages/keras/src/engine/training.py:3000: UserWarning: You are saving your model as an HDF5 file via `model.save()`. This file format is considered legacy. We recommend using instead the native Keras format, e.g. `model.save('my_model.keras')`.\n",
      "  saving_api.save_model(\n"
     ]
    },
    {
     "name": "stdout",
     "output_type": "stream",
     "text": [
      "INFO:tensorflow:Assets written to: /Users/lanacaldarevic/workspace/phd/ecg_derived_resp_dl/notebooks/wandb/run-20240410_142725-vlajh6h3/files/model-best/assets\n"
     ]
    },
    {
     "name": "stderr",
     "output_type": "stream",
     "text": [
      "INFO:tensorflow:Assets written to: /Users/lanacaldarevic/workspace/phd/ecg_derived_resp_dl/notebooks/wandb/run-20240410_142725-vlajh6h3/files/model-best/assets\n",
      "\u001b[34m\u001b[1mwandb\u001b[0m: Adding directory to artifact (/Users/lanacaldarevic/workspace/phd/ecg_derived_resp_dl/notebooks/wandb/run-20240410_142725-vlajh6h3/files/model-best)... Done. 0.0s\n"
     ]
    },
    {
     "name": "stdout",
     "output_type": "stream",
     "text": [
      "135/135 [==============================] - 20s 143ms/step - loss: 0.0249 - correlation: 1.0012 - mse: 0.1262 - val_loss: 0.0243 - val_correlation: 0.9993 - val_mse: 0.1305\n",
      "Epoch 11/200\n",
      "135/135 [==============================] - 17s 124ms/step - loss: 0.0249 - correlation: 1.0012 - mse: 0.1264 - val_loss: 0.0248 - val_correlation: 0.9993 - val_mse: 0.1254\n",
      "Epoch 12/200\n",
      "135/135 [==============================] - 19s 140ms/step - loss: 0.0249 - correlation: 1.0011 - mse: 0.1262 - val_loss: 0.0249 - val_correlation: 0.9993 - val_mse: 0.1250\n",
      "Epoch 13/200\n",
      "135/135 [==============================] - 17s 123ms/step - loss: 0.0249 - correlation: 1.0011 - mse: 0.1262 - val_loss: 0.0246 - val_correlation: 0.9993 - val_mse: 0.1266\n",
      "Epoch 14/200\n",
      "135/135 [==============================] - 22s 161ms/step - loss: 0.0249 - correlation: 1.0011 - mse: 0.1263 - val_loss: 0.0245 - val_correlation: 0.9993 - val_mse: 0.1276\n",
      "Epoch 15/200\n",
      "135/135 [==============================] - 17s 126ms/step - loss: 0.0249 - correlation: 1.0012 - mse: 0.1261 - val_loss: 0.0246 - val_correlation: 0.9994 - val_mse: 0.1272\n",
      "Epoch 16/200\n",
      "135/135 [==============================] - 19s 140ms/step - loss: 0.0249 - correlation: 1.0011 - mse: 0.1262 - val_loss: 0.0246 - val_correlation: 0.9994 - val_mse: 0.1269\n",
      "Epoch 17/200\n",
      "135/135 [==============================] - 17s 129ms/step - loss: 0.0249 - correlation: 1.0011 - mse: 0.1263 - val_loss: 0.0244 - val_correlation: 0.9994 - val_mse: 0.1286\n",
      "Epoch 18/200\n",
      "135/135 [==============================] - 17s 124ms/step - loss: 0.0249 - correlation: 1.0011 - mse: 0.1263 - val_loss: 0.0248 - val_correlation: 0.9994 - val_mse: 0.1253\n",
      "Epoch 19/200\n",
      "135/135 [==============================] - 17s 126ms/step - loss: 0.0249 - correlation: 1.0011 - mse: 0.1262 - val_loss: 0.0248 - val_correlation: 0.9995 - val_mse: 0.1254\n",
      "Epoch 20/200\n",
      "135/135 [==============================] - 17s 123ms/step - loss: 0.0249 - correlation: 1.0011 - mse: 0.1262 - val_loss: 0.0247 - val_correlation: 0.9995 - val_mse: 0.1261\n",
      "Epoch 21/200\n",
      "135/135 [==============================] - 17s 128ms/step - loss: 0.0249 - correlation: 1.0011 - mse: 0.1262 - val_loss: 0.0247 - val_correlation: 0.9995 - val_mse: 0.1265\n",
      "Epoch 22/200\n",
      "135/135 [==============================] - 17s 126ms/step - loss: 0.0249 - correlation: 1.0011 - mse: 0.1262 - val_loss: 0.0246 - val_correlation: 0.9995 - val_mse: 0.1270\n",
      "Epoch 23/200\n",
      "135/135 [==============================] - 18s 129ms/step - loss: 0.0249 - correlation: 1.0011 - mse: 0.1263 - val_loss: 0.0248 - val_correlation: 0.9996 - val_mse: 0.1255\n",
      "Epoch 24/200\n",
      "135/135 [==============================] - 17s 127ms/step - loss: 0.0249 - correlation: 1.0011 - mse: 0.1260 - val_loss: 0.0245 - val_correlation: 0.9995 - val_mse: 0.1274\n",
      "Epoch 25/200\n",
      "135/135 [==============================] - 17s 128ms/step - loss: 0.0249 - correlation: 1.0011 - mse: 0.1263 - val_loss: 0.0247 - val_correlation: 0.9996 - val_mse: 0.1263\n",
      "Epoch 26/200\n",
      "135/135 [==============================] - 17s 123ms/step - loss: 0.0249 - correlation: 1.0011 - mse: 0.1263 - val_loss: 0.0247 - val_correlation: 0.9996 - val_mse: 0.1262\n",
      "Epoch 27/200\n",
      "135/135 [==============================] - 17s 125ms/step - loss: 0.0249 - correlation: 1.0011 - mse: 0.1260 - val_loss: 0.0245 - val_correlation: 0.9996 - val_mse: 0.1275\n",
      "Epoch 28/200\n",
      "135/135 [==============================] - 17s 127ms/step - loss: 0.0249 - correlation: 1.0010 - mse: 0.1264 - val_loss: 0.0247 - val_correlation: 0.9996 - val_mse: 0.1259\n",
      "Epoch 29/200\n",
      "135/135 [==============================] - 17s 127ms/step - loss: 0.0249 - correlation: 1.0010 - mse: 0.1262 - val_loss: 0.0247 - val_correlation: 0.9997 - val_mse: 0.1264\n",
      "Epoch 30/200\n",
      "135/135 [==============================] - 17s 127ms/step - loss: 0.0249 - correlation: 1.0010 - mse: 0.1260 - val_loss: 0.0245 - val_correlation: 0.9996 - val_mse: 0.1278\n",
      "Epoch 31/200\n",
      "135/135 [==============================] - 17s 127ms/step - loss: 0.0249 - correlation: 1.0011 - mse: 0.1264 - val_loss: 0.0249 - val_correlation: 0.9997 - val_mse: 0.1251\n",
      "Epoch 32/200\n",
      "135/135 [==============================] - 17s 126ms/step - loss: 0.0249 - correlation: 1.0010 - mse: 0.1260 - val_loss: 0.0245 - val_correlation: 0.9997 - val_mse: 0.1280\n",
      "Epoch 33/200\n",
      "135/135 [==============================] - 17s 125ms/step - loss: 0.0249 - correlation: 1.0010 - mse: 0.1263 - val_loss: 0.0245 - val_correlation: 0.9997 - val_mse: 0.1274\n",
      "Epoch 34/200\n",
      "135/135 [==============================] - 18s 131ms/step - loss: 0.0249 - correlation: 1.0010 - mse: 0.1262 - val_loss: 0.0246 - val_correlation: 0.9997 - val_mse: 0.1266\n",
      "Epoch 35/200\n",
      "135/135 [==============================] - 19s 140ms/step - loss: 0.0249 - correlation: 1.0009 - mse: 0.1264 - val_loss: 0.0247 - val_correlation: 0.9997 - val_mse: 0.1264\n",
      "Epoch 36/200\n",
      "135/135 [==============================] - 17s 123ms/step - loss: 0.0249 - correlation: 1.0009 - mse: 0.1262 - val_loss: 0.0247 - val_correlation: 0.9997 - val_mse: 0.1264\n",
      "Epoch 37/200\n",
      "135/135 [==============================] - 18s 133ms/step - loss: 0.0249 - correlation: 1.0010 - mse: 0.1261 - val_loss: 0.0246 - val_correlation: 0.9997 - val_mse: 0.1266\n",
      "Epoch 38/200\n",
      "135/135 [==============================] - 19s 144ms/step - loss: 0.0249 - correlation: 1.0011 - mse: 0.1262 - val_loss: 0.0246 - val_correlation: 0.9997 - val_mse: 0.1271\n",
      "Epoch 39/200\n",
      "135/135 [==============================] - 19s 138ms/step - loss: 0.0249 - correlation: 1.0010 - mse: 0.1263 - val_loss: 0.0247 - val_correlation: 0.9998 - val_mse: 0.1262\n",
      "Epoch 40/200\n",
      "135/135 [==============================] - 19s 139ms/step - loss: 0.0249 - correlation: 1.0010 - mse: 0.1262 - val_loss: 0.0246 - val_correlation: 0.9998 - val_mse: 0.1272\n",
      "Epoch 41/200\n",
      "135/135 [==============================] - 20s 150ms/step - loss: 0.0249 - correlation: 1.0009 - mse: 0.1265 - val_loss: 0.0248 - val_correlation: 0.9999 - val_mse: 0.1255\n",
      "Epoch 42/200\n",
      "135/135 [==============================] - 19s 141ms/step - loss: 0.0249 - correlation: 1.0009 - mse: 0.1260 - val_loss: 0.0246 - val_correlation: 0.9998 - val_mse: 0.1267\n"
     ]
    },
    {
     "name": "stderr",
     "output_type": "stream",
     "text": [
      "/Users/lanacaldarevic/miniforge3/envs/tf_m1/lib/python3.9/site-packages/keras/src/engine/training.py:3000: UserWarning: You are saving your model as an HDF5 file via `model.save()`. This file format is considered legacy. We recommend using instead the native Keras format, e.g. `model.save('my_model.keras')`.\n",
      "  saving_api.save_model(\n"
     ]
    },
    {
     "data": {
      "text/html": [
       "Waiting for W&B process to finish... <strong style=\"color:green\">(success).</strong>"
      ],
      "text/plain": [
       "<IPython.core.display.HTML object>"
      ]
     },
     "metadata": {},
     "output_type": "display_data"
    },
    {
     "data": {
      "text/html": [
       "<style>\n",
       "    table.wandb td:nth-child(1) { padding: 0 10px; text-align: left ; width: auto;} td:nth-child(2) {text-align: left ; width: 100%}\n",
       "    .wandb-row { display: flex; flex-direction: row; flex-wrap: wrap; justify-content: flex-start; width: 100% }\n",
       "    .wandb-col { display: flex; flex-direction: column; flex-basis: 100%; flex: 1; padding: 10px; }\n",
       "    </style>\n",
       "<div class=\"wandb-row\"><div class=\"wandb-col\"><h3>Run history:</h3><br/><table class=\"wandb\"><tr><td>correlation</td><td>▁▁▃▅▂▃▂▅████████████████████████████████</td></tr><tr><td>epoch</td><td>▁▁▁▂▂▂▂▂▂▃▃▃▃▃▃▄▄▄▄▄▅▅▅▅▅▅▆▆▆▆▆▆▇▇▇▇▇▇██</td></tr><tr><td>loss</td><td>█▁▁▁▁▁▁▁▁▁▁▁▁▁▁▁▁▁▁▁▁▁▁▁▁▁▁▁▁▁▁▁▁▁▁▁▁▁▁▁</td></tr><tr><td>mse</td><td>█▂▂▂▂▂▁▂▂▂▂▂▂▂▁▂▂▂▂▂▂▂▁▂▂▁▂▂▁▂▁▂▂▂▂▁▂▂▂▁</td></tr><tr><td>val_correlation</td><td>▇▇██▄▁▅▇▇▇▇▇▇▇▇▇▇▇▇▇▇▇▇▇▇▇▇▇▇▇▇▇▇▇▇▇▇▇▇▇</td></tr><tr><td>val_loss</td><td>█▄▄▅▃▂▂▂▂▁▂▂▁▁▁▁▁▂▂▁▁▂▁▁▁▁▂▁▁▂▁▁▁▁▁▁▁▁▁▁</td></tr><tr><td>val_mse</td><td>▃▃▃▄▁▁▄▃▃█▃▃▄▅▅▅▆▃▃▄▅▃▅▄▄▅▄▄▆▃▆▅▄▄▄▄▅▄▅▄</td></tr></table><br/></div><div class=\"wandb-col\"><h3>Run summary:</h3><br/><table class=\"wandb\"><tr><td>best_epoch</td><td>9</td></tr><tr><td>best_val_loss</td><td>0.02428</td></tr><tr><td>correlation</td><td>1.00091</td></tr><tr><td>epoch</td><td>41</td></tr><tr><td>loss</td><td>0.02489</td></tr><tr><td>mse</td><td>0.12603</td></tr><tr><td>val_correlation</td><td>0.99984</td></tr><tr><td>val_loss</td><td>0.02462</td></tr><tr><td>val_mse</td><td>0.12671</td></tr></table><br/></div></div>"
      ],
      "text/plain": [
       "<IPython.core.display.HTML object>"
      ]
     },
     "metadata": {},
     "output_type": "display_data"
    },
    {
     "data": {
      "text/html": [
       " View run <strong style=\"color:#cdcd00\">treasured-sweep-1</strong> at: <a href='https://wandb.ai/lana-caldarevic1/biosignal_deeplearning/runs/vlajh6h3' target=\"_blank\">https://wandb.ai/lana-caldarevic1/biosignal_deeplearning/runs/vlajh6h3</a><br/>Synced 6 W&B file(s), 1 media file(s), 40 artifact file(s) and 1 other file(s)"
      ],
      "text/plain": [
       "<IPython.core.display.HTML object>"
      ]
     },
     "metadata": {},
     "output_type": "display_data"
    },
    {
     "data": {
      "text/html": [
       "Find logs at: <code>./wandb/run-20240410_142725-vlajh6h3/logs</code>"
      ],
      "text/plain": [
       "<IPython.core.display.HTML object>"
      ]
     },
     "metadata": {},
     "output_type": "display_data"
    },
    {
     "name": "stderr",
     "output_type": "stream",
     "text": [
      "\u001b[34m\u001b[1mwandb\u001b[0m: Agent Starting Run: lvqu4ya8 with config:\n",
      "\u001b[34m\u001b[1mwandb\u001b[0m: \tbatch_size: 64\n",
      "\u001b[34m\u001b[1mwandb\u001b[0m: \tdropout: 0.3967542377304856\n",
      "\u001b[34m\u001b[1mwandb\u001b[0m: \tkernel_size: 27\n",
      "\u001b[34m\u001b[1mwandb\u001b[0m: \tlearning_rate: 0.0068254837584629064\n",
      "\u001b[34m\u001b[1mwandb\u001b[0m: \treg: 0.0006405380572316812\n",
      "\u001b[34m\u001b[1mwandb\u001b[0m: \tstart_filters: 16\n"
     ]
    },
    {
     "data": {
      "text/html": [
       "wandb version 0.16.6 is available!  To upgrade, please run:\n",
       " $ pip install wandb --upgrade"
      ],
      "text/plain": [
       "<IPython.core.display.HTML object>"
      ]
     },
     "metadata": {},
     "output_type": "display_data"
    },
    {
     "data": {
      "text/html": [
       "Tracking run with wandb version 0.15.9"
      ],
      "text/plain": [
       "<IPython.core.display.HTML object>"
      ]
     },
     "metadata": {},
     "output_type": "display_data"
    },
    {
     "data": {
      "text/html": [
       "Run data is saved locally in <code>/Users/lanacaldarevic/workspace/phd/ecg_derived_resp_dl/notebooks/wandb/run-20240410_144051-lvqu4ya8</code>"
      ],
      "text/plain": [
       "<IPython.core.display.HTML object>"
      ]
     },
     "metadata": {},
     "output_type": "display_data"
    },
    {
     "data": {
      "text/html": [
       "Syncing run <strong><a href='https://wandb.ai/lana-caldarevic1/biosignal_deeplearning/runs/lvqu4ya8' target=\"_blank\">clean-sweep-2</a></strong> to <a href='https://wandb.ai/lana-caldarevic1/biosignal_deeplearning' target=\"_blank\">Weights & Biases</a> (<a href='https://wandb.me/run' target=\"_blank\">docs</a>)<br/>Sweep page: <a href='https://wandb.ai/lana-caldarevic1/biosignal_deeplearning/sweeps/94xtzv3y' target=\"_blank\">https://wandb.ai/lana-caldarevic1/biosignal_deeplearning/sweeps/94xtzv3y</a>"
      ],
      "text/plain": [
       "<IPython.core.display.HTML object>"
      ]
     },
     "metadata": {},
     "output_type": "display_data"
    },
    {
     "data": {
      "text/html": [
       " View project at <a href='https://wandb.ai/lana-caldarevic1/biosignal_deeplearning' target=\"_blank\">https://wandb.ai/lana-caldarevic1/biosignal_deeplearning</a>"
      ],
      "text/plain": [
       "<IPython.core.display.HTML object>"
      ]
     },
     "metadata": {},
     "output_type": "display_data"
    },
    {
     "data": {
      "text/html": [
       " View sweep at <a href='https://wandb.ai/lana-caldarevic1/biosignal_deeplearning/sweeps/94xtzv3y' target=\"_blank\">https://wandb.ai/lana-caldarevic1/biosignal_deeplearning/sweeps/94xtzv3y</a>"
      ],
      "text/plain": [
       "<IPython.core.display.HTML object>"
      ]
     },
     "metadata": {},
     "output_type": "display_data"
    },
    {
     "data": {
      "text/html": [
       " View run at <a href='https://wandb.ai/lana-caldarevic1/biosignal_deeplearning/runs/lvqu4ya8' target=\"_blank\">https://wandb.ai/lana-caldarevic1/biosignal_deeplearning/runs/lvqu4ya8</a>"
      ],
      "text/plain": [
       "<IPython.core.display.HTML object>"
      ]
     },
     "metadata": {},
     "output_type": "display_data"
    },
    {
     "name": "stdout",
     "output_type": "stream",
     "text": [
      "GPU enabled\n",
      "Model: \"model\"\n",
      "__________________________________________________________________________________________________\n",
      " Layer (type)                Output Shape                 Param #   Connected to                  \n",
      "==================================================================================================\n",
      " input_1 (InputLayer)        [(None, 1024, 1)]            0         []                            \n",
      "                                                                                                  \n",
      " conv1d (Conv1D)             (None, 1024, 16)             448       ['input_1[0][0]']             \n",
      "                                                                                                  \n",
      " batch_normalization (Batch  (None, 1024, 16)             64        ['conv1d[0][0]']              \n",
      " Normalization)                                                                                   \n",
      "                                                                                                  \n",
      " conv1d_1 (Conv1D)           (None, 1024, 16)             6928      ['batch_normalization[0][0]'] \n",
      "                                                                                                  \n",
      " batch_normalization_1 (Bat  (None, 1024, 16)             64        ['conv1d_1[0][0]']            \n",
      " chNormalization)                                                                                 \n",
      "                                                                                                  \n",
      " max_pooling1d (MaxPooling1  (None, 512, 16)              0         ['batch_normalization_1[0][0]'\n",
      " D)                                                                 ]                             \n",
      "                                                                                                  \n",
      " conv1d_2 (Conv1D)           (None, 512, 32)              13856     ['max_pooling1d[0][0]']       \n",
      "                                                                                                  \n",
      " batch_normalization_2 (Bat  (None, 512, 32)              128       ['conv1d_2[0][0]']            \n",
      " chNormalization)                                                                                 \n",
      "                                                                                                  \n",
      " conv1d_3 (Conv1D)           (None, 512, 32)              27680     ['batch_normalization_2[0][0]'\n",
      "                                                                    ]                             \n",
      "                                                                                                  \n",
      " batch_normalization_3 (Bat  (None, 512, 32)              128       ['conv1d_3[0][0]']            \n",
      " chNormalization)                                                                                 \n",
      "                                                                                                  \n",
      " dropout (Dropout)           (None, 512, 32)              0         ['batch_normalization_3[0][0]'\n",
      "                                                                    ]                             \n",
      "                                                                                                  \n",
      " max_pooling1d_1 (MaxPoolin  (None, 256, 32)              0         ['dropout[0][0]']             \n",
      " g1D)                                                                                             \n",
      "                                                                                                  \n",
      " conv1d_4 (Conv1D)           (None, 256, 64)              55360     ['max_pooling1d_1[0][0]']     \n",
      "                                                                                                  \n",
      " batch_normalization_4 (Bat  (None, 256, 64)              256       ['conv1d_4[0][0]']            \n",
      " chNormalization)                                                                                 \n",
      "                                                                                                  \n",
      " conv1d_5 (Conv1D)           (None, 256, 64)              110656    ['batch_normalization_4[0][0]'\n",
      "                                                                    ]                             \n",
      "                                                                                                  \n",
      " batch_normalization_5 (Bat  (None, 256, 64)              256       ['conv1d_5[0][0]']            \n",
      " chNormalization)                                                                                 \n",
      "                                                                                                  \n",
      " up_sampling1d (UpSampling1  (None, 512, 64)              0         ['batch_normalization_5[0][0]'\n",
      " D)                                                                 ]                             \n",
      "                                                                                                  \n",
      " conv1d_6 (Conv1D)           (None, 512, 64)              110656    ['up_sampling1d[0][0]']       \n",
      "                                                                                                  \n",
      " batch_normalization_6 (Bat  (None, 512, 64)              256       ['conv1d_6[0][0]']            \n",
      " chNormalization)                                                                                 \n",
      "                                                                                                  \n",
      " concatenate (Concatenate)   (None, 512, 96)              0         ['dropout[0][0]',             \n",
      "                                                                     'batch_normalization_6[0][0]'\n",
      "                                                                    ]                             \n",
      "                                                                                                  \n",
      " conv1d_7 (Conv1D)           (None, 512, 32)              82976     ['concatenate[0][0]']         \n",
      "                                                                                                  \n",
      " batch_normalization_7 (Bat  (None, 512, 32)              128       ['conv1d_7[0][0]']            \n",
      " chNormalization)                                                                                 \n",
      "                                                                                                  \n",
      " conv1d_8 (Conv1D)           (None, 512, 32)              27680     ['batch_normalization_7[0][0]'\n",
      "                                                                    ]                             \n",
      "                                                                                                  \n",
      " batch_normalization_8 (Bat  (None, 512, 32)              128       ['conv1d_8[0][0]']            \n",
      " chNormalization)                                                                                 \n",
      "                                                                                                  \n",
      " dropout_1 (Dropout)         (None, 512, 32)              0         ['batch_normalization_8[0][0]'\n",
      "                                                                    ]                             \n",
      "                                                                                                  \n",
      " up_sampling1d_1 (UpSamplin  (None, 1024, 32)             0         ['dropout_1[0][0]']           \n",
      " g1D)                                                                                             \n",
      "                                                                                                  \n",
      " conv1d_9 (Conv1D)           (None, 1024, 32)             27680     ['up_sampling1d_1[0][0]']     \n",
      "                                                                                                  \n",
      " batch_normalization_9 (Bat  (None, 1024, 32)             128       ['conv1d_9[0][0]']            \n",
      " chNormalization)                                                                                 \n",
      "                                                                                                  \n",
      " concatenate_1 (Concatenate  (None, 1024, 48)             0         ['batch_normalization_1[0][0]'\n",
      " )                                                                  , 'batch_normalization_9[0][0]\n",
      "                                                                    ']                            \n",
      "                                                                                                  \n",
      " conv1d_10 (Conv1D)          (None, 1024, 16)             20752     ['concatenate_1[0][0]']       \n",
      "                                                                                                  \n",
      " batch_normalization_10 (Ba  (None, 1024, 16)             64        ['conv1d_10[0][0]']           \n",
      " tchNormalization)                                                                                \n",
      "                                                                                                  \n",
      " conv1d_11 (Conv1D)          (None, 1024, 16)             6928      ['batch_normalization_10[0][0]\n",
      "                                                                    ']                            \n",
      "                                                                                                  \n",
      " batch_normalization_11 (Ba  (None, 1024, 16)             64        ['conv1d_11[0][0]']           \n",
      " tchNormalization)                                                                                \n",
      "                                                                                                  \n",
      " conv1d_12 (Conv1D)          (None, 1024, 1)              433       ['batch_normalization_11[0][0]\n",
      "                                                                    ']                            \n",
      "                                                                                                  \n",
      "==================================================================================================\n",
      "Total params: 493697 (1.88 MB)\n",
      "Trainable params: 492865 (1.88 MB)\n",
      "Non-trainable params: 832 (3.25 KB)\n",
      "__________________________________________________________________________________________________\n",
      "Model training starting\n",
      "Epoch 1/200\n"
     ]
    },
    {
     "name": "stderr",
     "output_type": "stream",
     "text": [
      "2024-04-10 14:40:59.153941: I tensorflow/core/grappler/optimizers/custom_graph_optimizer_registry.cc:114] Plugin optimizer for device_type GPU is enabled.\n"
     ]
    },
    {
     "name": "stdout",
     "output_type": "stream",
     "text": [
      "68/68 [==============================] - ETA: 0s - loss: 0.0726 - correlation: 0.9604 - mse: 0.1304"
     ]
    },
    {
     "name": "stderr",
     "output_type": "stream",
     "text": [
      "2024-04-10 14:41:35.473451: I tensorflow/core/grappler/optimizers/custom_graph_optimizer_registry.cc:114] Plugin optimizer for device_type GPU is enabled.\n",
      "/Users/lanacaldarevic/miniforge3/envs/tf_m1/lib/python3.9/site-packages/keras/src/engine/training.py:3000: UserWarning: You are saving your model as an HDF5 file via `model.save()`. This file format is considered legacy. We recommend using instead the native Keras format, e.g. `model.save('my_model.keras')`.\n",
      "  saving_api.save_model(\n"
     ]
    },
    {
     "name": "stdout",
     "output_type": "stream",
     "text": [
      "INFO:tensorflow:Assets written to: /Users/lanacaldarevic/workspace/phd/ecg_derived_resp_dl/notebooks/wandb/run-20240410_144051-lvqu4ya8/files/model-best/assets\n"
     ]
    },
    {
     "name": "stderr",
     "output_type": "stream",
     "text": [
      "INFO:tensorflow:Assets written to: /Users/lanacaldarevic/workspace/phd/ecg_derived_resp_dl/notebooks/wandb/run-20240410_144051-lvqu4ya8/files/model-best/assets\n",
      "\u001b[34m\u001b[1mwandb\u001b[0m: Adding directory to artifact (/Users/lanacaldarevic/workspace/phd/ecg_derived_resp_dl/notebooks/wandb/run-20240410_144051-lvqu4ya8/files/model-best)... Done. 0.0s\n"
     ]
    },
    {
     "name": "stdout",
     "output_type": "stream",
     "text": [
      "68/68 [==============================] - 45s 474ms/step - loss: 0.0726 - correlation: 0.9604 - mse: 0.1304 - val_loss: 0.0355 - val_correlation: 1.0311 - val_mse: 0.1261\n",
      "Epoch 2/200\n",
      "68/68 [==============================] - 15s 217ms/step - loss: 0.0348 - correlation: 0.9391 - mse: 0.1290 - val_loss: 0.0388 - val_correlation: 1.0036 - val_mse: 0.1245\n",
      "Epoch 3/200\n",
      "68/68 [==============================] - 15s 222ms/step - loss: 0.0359 - correlation: 0.9278 - mse: 0.1276 - val_loss: 0.0368 - val_correlation: 0.9235 - val_mse: 0.1221\n",
      "Epoch 4/200\n",
      "68/68 [==============================] - ETA: 0s - loss: 0.0332 - correlation: 0.9047 - mse: 0.1266"
     ]
    },
    {
     "name": "stderr",
     "output_type": "stream",
     "text": [
      "/Users/lanacaldarevic/miniforge3/envs/tf_m1/lib/python3.9/site-packages/keras/src/engine/training.py:3000: UserWarning: You are saving your model as an HDF5 file via `model.save()`. This file format is considered legacy. We recommend using instead the native Keras format, e.g. `model.save('my_model.keras')`.\n",
      "  saving_api.save_model(\n"
     ]
    },
    {
     "name": "stdout",
     "output_type": "stream",
     "text": [
      "INFO:tensorflow:Assets written to: /Users/lanacaldarevic/workspace/phd/ecg_derived_resp_dl/notebooks/wandb/run-20240410_144051-lvqu4ya8/files/model-best/assets\n"
     ]
    },
    {
     "name": "stderr",
     "output_type": "stream",
     "text": [
      "INFO:tensorflow:Assets written to: /Users/lanacaldarevic/workspace/phd/ecg_derived_resp_dl/notebooks/wandb/run-20240410_144051-lvqu4ya8/files/model-best/assets\n",
      "\u001b[34m\u001b[1mwandb\u001b[0m: Adding directory to artifact (/Users/lanacaldarevic/workspace/phd/ecg_derived_resp_dl/notebooks/wandb/run-20240410_144051-lvqu4ya8/files/model-best)... Done. 0.0s\n"
     ]
    },
    {
     "name": "stdout",
     "output_type": "stream",
     "text": [
      "68/68 [==============================] - 21s 300ms/step - loss: 0.0332 - correlation: 0.9047 - mse: 0.1266 - val_loss: 0.0329 - val_correlation: 0.9900 - val_mse: 0.1231\n",
      "Epoch 5/200\n",
      "68/68 [==============================] - ETA: 0s - loss: 0.0325 - correlation: 0.8988 - mse: 0.1256"
     ]
    },
    {
     "name": "stderr",
     "output_type": "stream",
     "text": [
      "/Users/lanacaldarevic/miniforge3/envs/tf_m1/lib/python3.9/site-packages/keras/src/engine/training.py:3000: UserWarning: You are saving your model as an HDF5 file via `model.save()`. This file format is considered legacy. We recommend using instead the native Keras format, e.g. `model.save('my_model.keras')`.\n",
      "  saving_api.save_model(\n"
     ]
    },
    {
     "name": "stdout",
     "output_type": "stream",
     "text": [
      "INFO:tensorflow:Assets written to: /Users/lanacaldarevic/workspace/phd/ecg_derived_resp_dl/notebooks/wandb/run-20240410_144051-lvqu4ya8/files/model-best/assets\n"
     ]
    },
    {
     "name": "stderr",
     "output_type": "stream",
     "text": [
      "INFO:tensorflow:Assets written to: /Users/lanacaldarevic/workspace/phd/ecg_derived_resp_dl/notebooks/wandb/run-20240410_144051-lvqu4ya8/files/model-best/assets\n",
      "\u001b[34m\u001b[1mwandb\u001b[0m: Adding directory to artifact (/Users/lanacaldarevic/workspace/phd/ecg_derived_resp_dl/notebooks/wandb/run-20240410_144051-lvqu4ya8/files/model-best)... Done. 0.0s\n"
     ]
    },
    {
     "name": "stdout",
     "output_type": "stream",
     "text": [
      "68/68 [==============================] - 19s 279ms/step - loss: 0.0325 - correlation: 0.8988 - mse: 0.1256 - val_loss: 0.0319 - val_correlation: 0.8351 - val_mse: 0.1221\n",
      "Epoch 6/200\n",
      "68/68 [==============================] - 58s 865ms/step - loss: 0.0327 - correlation: 0.9124 - mse: 0.1267 - val_loss: 0.0329 - val_correlation: 0.7571 - val_mse: 0.1218\n",
      "Epoch 7/200\n",
      "68/68 [==============================] - ETA: 0s - loss: 0.0310 - correlation: 0.9058 - mse: 0.1260"
     ]
    },
    {
     "name": "stderr",
     "output_type": "stream",
     "text": [
      "/Users/lanacaldarevic/miniforge3/envs/tf_m1/lib/python3.9/site-packages/keras/src/engine/training.py:3000: UserWarning: You are saving your model as an HDF5 file via `model.save()`. This file format is considered legacy. We recommend using instead the native Keras format, e.g. `model.save('my_model.keras')`.\n",
      "  saving_api.save_model(\n"
     ]
    },
    {
     "name": "stdout",
     "output_type": "stream",
     "text": [
      "INFO:tensorflow:Assets written to: /Users/lanacaldarevic/workspace/phd/ecg_derived_resp_dl/notebooks/wandb/run-20240410_144051-lvqu4ya8/files/model-best/assets\n"
     ]
    },
    {
     "name": "stderr",
     "output_type": "stream",
     "text": [
      "INFO:tensorflow:Assets written to: /Users/lanacaldarevic/workspace/phd/ecg_derived_resp_dl/notebooks/wandb/run-20240410_144051-lvqu4ya8/files/model-best/assets\n",
      "\u001b[34m\u001b[1mwandb\u001b[0m: Adding directory to artifact (/Users/lanacaldarevic/workspace/phd/ecg_derived_resp_dl/notebooks/wandb/run-20240410_144051-lvqu4ya8/files/model-best)... Done. 0.0s\n"
     ]
    },
    {
     "name": "stdout",
     "output_type": "stream",
     "text": [
      "68/68 [==============================] - 19s 280ms/step - loss: 0.0310 - correlation: 0.9058 - mse: 0.1260 - val_loss: 0.0293 - val_correlation: 0.8190 - val_mse: 0.1230\n",
      "Epoch 8/200\n",
      "68/68 [==============================] - 23s 332ms/step - loss: 0.0326 - correlation: 0.9010 - mse: 0.1253 - val_loss: 0.0366 - val_correlation: 1.0410 - val_mse: 0.1277\n",
      "Epoch 9/200\n",
      "68/68 [==============================] - 21s 311ms/step - loss: 0.0328 - correlation: 0.8998 - mse: 0.1259 - val_loss: 0.0341 - val_correlation: 0.9798 - val_mse: 0.1246\n",
      "Epoch 10/200\n",
      "68/68 [==============================] - 19s 269ms/step - loss: 0.0313 - correlation: 0.9044 - mse: 0.1255 - val_loss: 0.0348 - val_correlation: 0.8193 - val_mse: 0.1215\n",
      "Epoch 11/200\n",
      "68/68 [==============================] - ETA: 0s - loss: 0.0306 - correlation: 0.9018 - mse: 0.1257 "
     ]
    },
    {
     "name": "stderr",
     "output_type": "stream",
     "text": [
      "/Users/lanacaldarevic/miniforge3/envs/tf_m1/lib/python3.9/site-packages/keras/src/engine/training.py:3000: UserWarning: You are saving your model as an HDF5 file via `model.save()`. This file format is considered legacy. We recommend using instead the native Keras format, e.g. `model.save('my_model.keras')`.\n",
      "  saving_api.save_model(\n"
     ]
    },
    {
     "name": "stdout",
     "output_type": "stream",
     "text": [
      "INFO:tensorflow:Assets written to: /Users/lanacaldarevic/workspace/phd/ecg_derived_resp_dl/notebooks/wandb/run-20240410_144051-lvqu4ya8/files/model-best/assets\n"
     ]
    },
    {
     "name": "stderr",
     "output_type": "stream",
     "text": [
      "INFO:tensorflow:Assets written to: /Users/lanacaldarevic/workspace/phd/ecg_derived_resp_dl/notebooks/wandb/run-20240410_144051-lvqu4ya8/files/model-best/assets\n",
      "\u001b[34m\u001b[1mwandb\u001b[0m: Adding directory to artifact (/Users/lanacaldarevic/workspace/phd/ecg_derived_resp_dl/notebooks/wandb/run-20240410_144051-lvqu4ya8/files/model-best)... Done. 0.0s\n"
     ]
    },
    {
     "name": "stdout",
     "output_type": "stream",
     "text": [
      "68/68 [==============================] - 922s 14s/step - loss: 0.0306 - correlation: 0.9018 - mse: 0.1257 - val_loss: 0.0293 - val_correlation: 0.9552 - val_mse: 0.1253\n",
      "Epoch 12/200\n",
      "68/68 [==============================] - 17s 253ms/step - loss: 0.0307 - correlation: 0.8951 - mse: 0.1251 - val_loss: 0.0309 - val_correlation: 0.9501 - val_mse: 0.1229\n",
      "Epoch 13/200\n",
      "68/68 [==============================] - 16s 232ms/step - loss: 0.0314 - correlation: 0.9007 - mse: 0.1254 - val_loss: 0.0321 - val_correlation: 0.9806 - val_mse: 0.1230\n",
      "Epoch 14/200\n",
      "68/68 [==============================] - 16s 237ms/step - loss: 0.0302 - correlation: 0.8873 - mse: 0.1248 - val_loss: 0.0317 - val_correlation: 0.9866 - val_mse: 0.1296\n",
      "Epoch 15/200\n",
      "68/68 [==============================] - 16s 241ms/step - loss: 0.0304 - correlation: 0.8808 - mse: 0.1243 - val_loss: 0.0385 - val_correlation: 0.9011 - val_mse: 0.1831\n",
      "Epoch 16/200\n",
      "68/68 [==============================] - 17s 253ms/step - loss: 0.0311 - correlation: 0.8731 - mse: 0.1244 - val_loss: 0.0308 - val_correlation: 1.1718 - val_mse: 0.1335\n",
      "Epoch 17/200\n",
      "68/68 [==============================] - ETA: 0s - loss: 0.0302 - correlation: 0.8838 - mse: 0.1244"
     ]
    },
    {
     "name": "stderr",
     "output_type": "stream",
     "text": [
      "/Users/lanacaldarevic/miniforge3/envs/tf_m1/lib/python3.9/site-packages/keras/src/engine/training.py:3000: UserWarning: You are saving your model as an HDF5 file via `model.save()`. This file format is considered legacy. We recommend using instead the native Keras format, e.g. `model.save('my_model.keras')`.\n",
      "  saving_api.save_model(\n"
     ]
    },
    {
     "name": "stdout",
     "output_type": "stream",
     "text": [
      "INFO:tensorflow:Assets written to: /Users/lanacaldarevic/workspace/phd/ecg_derived_resp_dl/notebooks/wandb/run-20240410_144051-lvqu4ya8/files/model-best/assets\n"
     ]
    },
    {
     "name": "stderr",
     "output_type": "stream",
     "text": [
      "INFO:tensorflow:Assets written to: /Users/lanacaldarevic/workspace/phd/ecg_derived_resp_dl/notebooks/wandb/run-20240410_144051-lvqu4ya8/files/model-best/assets\n",
      "\u001b[34m\u001b[1mwandb\u001b[0m: Adding directory to artifact (/Users/lanacaldarevic/workspace/phd/ecg_derived_resp_dl/notebooks/wandb/run-20240410_144051-lvqu4ya8/files/model-best)... Done. 0.0s\n"
     ]
    },
    {
     "name": "stdout",
     "output_type": "stream",
     "text": [
      "68/68 [==============================] - 18s 272ms/step - loss: 0.0302 - correlation: 0.8838 - mse: 0.1244 - val_loss: 0.0284 - val_correlation: 0.7506 - val_mse: 0.1202\n",
      "Epoch 18/200\n",
      "68/68 [==============================] - 16s 236ms/step - loss: 0.0294 - correlation: 0.8897 - mse: 0.1248 - val_loss: 0.0301 - val_correlation: 0.8712 - val_mse: 0.1226\n",
      "Epoch 19/200\n",
      "68/68 [==============================] - 918s 14s/step - loss: 0.0314 - correlation: 0.8838 - mse: 0.1247 - val_loss: 0.0286 - val_correlation: 0.8541 - val_mse: 0.1219\n",
      "Epoch 20/200\n",
      "68/68 [==============================] - 20s 292ms/step - loss: 0.0291 - correlation: 0.8722 - mse: 0.1241 - val_loss: 0.0298 - val_correlation: 0.8946 - val_mse: 0.1225\n",
      "Epoch 21/200\n",
      "68/68 [==============================] - 17s 243ms/step - loss: 0.0297 - correlation: 0.8836 - mse: 0.1243 - val_loss: 0.0303 - val_correlation: 1.1417 - val_mse: 0.1335\n",
      "Epoch 22/200\n",
      "68/68 [==============================] - ETA: 0s - loss: 0.0285 - correlation: 0.8859 - mse: 0.1247 "
     ]
    },
    {
     "name": "stderr",
     "output_type": "stream",
     "text": [
      "/Users/lanacaldarevic/miniforge3/envs/tf_m1/lib/python3.9/site-packages/keras/src/engine/training.py:3000: UserWarning: You are saving your model as an HDF5 file via `model.save()`. This file format is considered legacy. We recommend using instead the native Keras format, e.g. `model.save('my_model.keras')`.\n",
      "  saving_api.save_model(\n"
     ]
    },
    {
     "name": "stdout",
     "output_type": "stream",
     "text": [
      "INFO:tensorflow:Assets written to: /Users/lanacaldarevic/workspace/phd/ecg_derived_resp_dl/notebooks/wandb/run-20240410_144051-lvqu4ya8/files/model-best/assets\n"
     ]
    },
    {
     "name": "stderr",
     "output_type": "stream",
     "text": [
      "INFO:tensorflow:Assets written to: /Users/lanacaldarevic/workspace/phd/ecg_derived_resp_dl/notebooks/wandb/run-20240410_144051-lvqu4ya8/files/model-best/assets\n",
      "\u001b[34m\u001b[1mwandb\u001b[0m: Adding directory to artifact (/Users/lanacaldarevic/workspace/phd/ecg_derived_resp_dl/notebooks/wandb/run-20240410_144051-lvqu4ya8/files/model-best)... Done. 0.0s\n"
     ]
    },
    {
     "name": "stdout",
     "output_type": "stream",
     "text": [
      "68/68 [==============================] - 920s 14s/step - loss: 0.0285 - correlation: 0.8859 - mse: 0.1247 - val_loss: 0.0270 - val_correlation: 0.8165 - val_mse: 0.1228\n",
      "Epoch 23/200\n",
      "68/68 [==============================] - 18s 260ms/step - loss: 0.0276 - correlation: 0.8761 - mse: 0.1241 - val_loss: 0.0279 - val_correlation: 0.9989 - val_mse: 0.1436\n",
      "Epoch 24/200\n",
      "68/68 [==============================] - 16s 230ms/step - loss: 0.0286 - correlation: 0.8743 - mse: 0.1239 - val_loss: 0.0311 - val_correlation: 0.8474 - val_mse: 0.1264\n",
      "Epoch 25/200\n",
      "68/68 [==============================] - 17s 246ms/step - loss: 0.0302 - correlation: 0.8812 - mse: 0.1244 - val_loss: 0.0281 - val_correlation: 0.9095 - val_mse: 0.1234\n",
      "Epoch 26/200\n",
      "68/68 [==============================] - 16s 240ms/step - loss: 0.0284 - correlation: 0.8703 - mse: 0.1238 - val_loss: 0.0301 - val_correlation: 1.0274 - val_mse: 0.1239\n",
      "Epoch 27/200\n",
      "68/68 [==============================] - 16s 234ms/step - loss: 0.0317 - correlation: 0.9035 - mse: 0.1253 - val_loss: 0.0349 - val_correlation: 0.9381 - val_mse: 0.1263\n",
      "Epoch 28/200\n",
      "68/68 [==============================] - 16s 237ms/step - loss: 0.0309 - correlation: 0.8946 - mse: 0.1250 - val_loss: 0.0335 - val_correlation: 0.9542 - val_mse: 0.2154\n",
      "Epoch 29/200\n",
      "68/68 [==============================] - 20s 298ms/step - loss: 0.0319 - correlation: 0.8847 - mse: 0.1246 - val_loss: 0.0302 - val_correlation: 0.7088 - val_mse: 0.1209\n",
      "Epoch 30/200\n",
      "68/68 [==============================] - 35s 517ms/step - loss: 0.0298 - correlation: 0.8690 - mse: 0.1241 - val_loss: 0.0330 - val_correlation: 1.0560 - val_mse: 0.1243\n",
      "Epoch 31/200\n",
      "68/68 [==============================] - 25s 368ms/step - loss: 0.0290 - correlation: 0.8831 - mse: 0.1243 - val_loss: 0.0323 - val_correlation: 0.9990 - val_mse: 0.1235\n",
      "Epoch 32/200\n",
      "68/68 [==============================] - ETA: 0s - loss: 0.0294 - correlation: 0.8893 - mse: 0.1248"
     ]
    },
    {
     "name": "stderr",
     "output_type": "stream",
     "text": [
      "/Users/lanacaldarevic/miniforge3/envs/tf_m1/lib/python3.9/site-packages/keras/src/engine/training.py:3000: UserWarning: You are saving your model as an HDF5 file via `model.save()`. This file format is considered legacy. We recommend using instead the native Keras format, e.g. `model.save('my_model.keras')`.\n",
      "  saving_api.save_model(\n"
     ]
    },
    {
     "name": "stdout",
     "output_type": "stream",
     "text": [
      "INFO:tensorflow:Assets written to: /Users/lanacaldarevic/workspace/phd/ecg_derived_resp_dl/notebooks/wandb/run-20240410_144051-lvqu4ya8/files/model-best/assets\n"
     ]
    },
    {
     "name": "stderr",
     "output_type": "stream",
     "text": [
      "INFO:tensorflow:Assets written to: /Users/lanacaldarevic/workspace/phd/ecg_derived_resp_dl/notebooks/wandb/run-20240410_144051-lvqu4ya8/files/model-best/assets\n",
      "\u001b[34m\u001b[1mwandb\u001b[0m: Adding directory to artifact (/Users/lanacaldarevic/workspace/phd/ecg_derived_resp_dl/notebooks/wandb/run-20240410_144051-lvqu4ya8/files/model-best)... Done. 0.0s\n"
     ]
    },
    {
     "name": "stdout",
     "output_type": "stream",
     "text": [
      "68/68 [==============================] - 21s 306ms/step - loss: 0.0294 - correlation: 0.8893 - mse: 0.1248 - val_loss: 0.0265 - val_correlation: 0.9979 - val_mse: 0.1242\n",
      "Epoch 33/200\n",
      "68/68 [==============================] - 18s 262ms/step - loss: 0.0269 - correlation: 0.8964 - mse: 0.1247 - val_loss: 0.0272 - val_correlation: 0.9162 - val_mse: 0.1219\n",
      "Epoch 34/200\n",
      "68/68 [==============================] - 18s 254ms/step - loss: 0.0262 - correlation: 0.8932 - mse: 0.1252 - val_loss: 0.0276 - val_correlation: 1.0658 - val_mse: 0.1250\n",
      "Epoch 35/200\n",
      "68/68 [==============================] - ETA: 0s - loss: 0.0260 - correlation: 0.9017 - mse: 0.1247"
     ]
    },
    {
     "name": "stderr",
     "output_type": "stream",
     "text": [
      "/Users/lanacaldarevic/miniforge3/envs/tf_m1/lib/python3.9/site-packages/keras/src/engine/training.py:3000: UserWarning: You are saving your model as an HDF5 file via `model.save()`. This file format is considered legacy. We recommend using instead the native Keras format, e.g. `model.save('my_model.keras')`.\n",
      "  saving_api.save_model(\n"
     ]
    },
    {
     "name": "stdout",
     "output_type": "stream",
     "text": [
      "INFO:tensorflow:Assets written to: /Users/lanacaldarevic/workspace/phd/ecg_derived_resp_dl/notebooks/wandb/run-20240410_144051-lvqu4ya8/files/model-best/assets\n"
     ]
    },
    {
     "name": "stderr",
     "output_type": "stream",
     "text": [
      "INFO:tensorflow:Assets written to: /Users/lanacaldarevic/workspace/phd/ecg_derived_resp_dl/notebooks/wandb/run-20240410_144051-lvqu4ya8/files/model-best/assets\n",
      "\u001b[34m\u001b[1mwandb\u001b[0m: Adding directory to artifact (/Users/lanacaldarevic/workspace/phd/ecg_derived_resp_dl/notebooks/wandb/run-20240410_144051-lvqu4ya8/files/model-best)... Done. 0.0s\n"
     ]
    },
    {
     "name": "stdout",
     "output_type": "stream",
     "text": [
      "68/68 [==============================] - 21s 309ms/step - loss: 0.0260 - correlation: 0.9017 - mse: 0.1247 - val_loss: 0.0261 - val_correlation: 0.9949 - val_mse: 0.1274\n",
      "Epoch 36/200\n",
      "68/68 [==============================] - 19s 280ms/step - loss: 0.0276 - correlation: 0.8749 - mse: 0.1239 - val_loss: 0.0302 - val_correlation: 0.8655 - val_mse: 0.1247\n",
      "Epoch 37/200\n",
      "68/68 [==============================] - ETA: 0s - loss: 0.0266 - correlation: 0.8895 - mse: 0.1252"
     ]
    },
    {
     "name": "stderr",
     "output_type": "stream",
     "text": [
      "/Users/lanacaldarevic/miniforge3/envs/tf_m1/lib/python3.9/site-packages/keras/src/engine/training.py:3000: UserWarning: You are saving your model as an HDF5 file via `model.save()`. This file format is considered legacy. We recommend using instead the native Keras format, e.g. `model.save('my_model.keras')`.\n",
      "  saving_api.save_model(\n"
     ]
    },
    {
     "name": "stdout",
     "output_type": "stream",
     "text": [
      "INFO:tensorflow:Assets written to: /Users/lanacaldarevic/workspace/phd/ecg_derived_resp_dl/notebooks/wandb/run-20240410_144051-lvqu4ya8/files/model-best/assets\n"
     ]
    },
    {
     "name": "stderr",
     "output_type": "stream",
     "text": [
      "INFO:tensorflow:Assets written to: /Users/lanacaldarevic/workspace/phd/ecg_derived_resp_dl/notebooks/wandb/run-20240410_144051-lvqu4ya8/files/model-best/assets\n",
      "\u001b[34m\u001b[1mwandb\u001b[0m: Adding directory to artifact (/Users/lanacaldarevic/workspace/phd/ecg_derived_resp_dl/notebooks/wandb/run-20240410_144051-lvqu4ya8/files/model-best)... Done. 0.0s\n"
     ]
    },
    {
     "name": "stdout",
     "output_type": "stream",
     "text": [
      "68/68 [==============================] - 40s 591ms/step - loss: 0.0266 - correlation: 0.8895 - mse: 0.1252 - val_loss: 0.0249 - val_correlation: 0.7723 - val_mse: 0.1338\n",
      "Epoch 38/200\n",
      "68/68 [==============================] - 17s 248ms/step - loss: 0.0267 - correlation: 0.8862 - mse: 0.1245 - val_loss: 0.0263 - val_correlation: 1.0597 - val_mse: 0.1281\n",
      "Epoch 39/200\n",
      "68/68 [==============================] - 23s 344ms/step - loss: 0.0258 - correlation: 0.8847 - mse: 0.1248 - val_loss: 0.0272 - val_correlation: 0.9628 - val_mse: 0.1234\n",
      "Epoch 40/200\n",
      "68/68 [==============================] - 19s 275ms/step - loss: 0.0262 - correlation: 0.8738 - mse: 0.1243 - val_loss: 0.0281 - val_correlation: 1.0263 - val_mse: 0.1249\n",
      "Epoch 41/200\n",
      "68/68 [==============================] - ETA: 0s - loss: 0.0255 - correlation: 0.8784 - mse: 0.1243"
     ]
    },
    {
     "name": "stderr",
     "output_type": "stream",
     "text": [
      "/Users/lanacaldarevic/miniforge3/envs/tf_m1/lib/python3.9/site-packages/keras/src/engine/training.py:3000: UserWarning: You are saving your model as an HDF5 file via `model.save()`. This file format is considered legacy. We recommend using instead the native Keras format, e.g. `model.save('my_model.keras')`.\n",
      "  saving_api.save_model(\n"
     ]
    },
    {
     "name": "stdout",
     "output_type": "stream",
     "text": [
      "INFO:tensorflow:Assets written to: /Users/lanacaldarevic/workspace/phd/ecg_derived_resp_dl/notebooks/wandb/run-20240410_144051-lvqu4ya8/files/model-best/assets\n"
     ]
    },
    {
     "name": "stderr",
     "output_type": "stream",
     "text": [
      "INFO:tensorflow:Assets written to: /Users/lanacaldarevic/workspace/phd/ecg_derived_resp_dl/notebooks/wandb/run-20240410_144051-lvqu4ya8/files/model-best/assets\n",
      "\u001b[34m\u001b[1mwandb\u001b[0m: Adding directory to artifact (/Users/lanacaldarevic/workspace/phd/ecg_derived_resp_dl/notebooks/wandb/run-20240410_144051-lvqu4ya8/files/model-best)... Done. 0.0s\n"
     ]
    },
    {
     "name": "stdout",
     "output_type": "stream",
     "text": [
      "68/68 [==============================] - 30s 434ms/step - loss: 0.0255 - correlation: 0.8784 - mse: 0.1243 - val_loss: 0.0241 - val_correlation: 0.8828 - val_mse: 0.1339\n",
      "Epoch 42/200\n",
      "68/68 [==============================] - 21s 309ms/step - loss: 0.0277 - correlation: 0.8668 - mse: 0.1238 - val_loss: 0.0277 - val_correlation: 0.9242 - val_mse: 0.1493\n",
      "Epoch 43/200\n",
      "68/68 [==============================] - 18s 260ms/step - loss: 0.0274 - correlation: 0.8644 - mse: 0.1236 - val_loss: 0.0255 - val_correlation: 1.0111 - val_mse: 0.1423\n",
      "Epoch 44/200\n",
      "68/68 [==============================] - 18s 255ms/step - loss: 0.0271 - correlation: 0.8727 - mse: 0.1241 - val_loss: 0.0273 - val_correlation: 1.1735 - val_mse: 0.1480\n",
      "Epoch 45/200\n",
      "68/68 [==============================] - 24s 358ms/step - loss: 0.0271 - correlation: 0.8761 - mse: 0.1241 - val_loss: 0.0266 - val_correlation: 0.9968 - val_mse: 0.1250\n",
      "Epoch 46/200\n",
      "68/68 [==============================] - 51s 751ms/step - loss: 0.0266 - correlation: 0.8834 - mse: 0.1242 - val_loss: 0.0279 - val_correlation: 0.9611 - val_mse: 0.1237\n",
      "Epoch 47/200\n",
      "68/68 [==============================] - 62s 904ms/step - loss: 0.0270 - correlation: 0.8819 - mse: 0.1244 - val_loss: 0.0260 - val_correlation: 0.9058 - val_mse: 0.1231\n",
      "Epoch 48/200\n",
      "68/68 [==============================] - 52s 756ms/step - loss: 0.0259 - correlation: 0.8792 - mse: 0.1240 - val_loss: 0.0278 - val_correlation: 0.9640 - val_mse: 0.1227\n",
      "Epoch 49/200\n",
      "68/68 [==============================] - 39s 569ms/step - loss: 0.0286 - correlation: 0.8764 - mse: 0.1242 - val_loss: 0.0333 - val_correlation: 1.2725 - val_mse: 0.1652\n",
      "Epoch 50/200\n",
      "68/68 [==============================] - 29s 416ms/step - loss: 0.0294 - correlation: 0.8772 - mse: 0.1238 - val_loss: 0.0271 - val_correlation: 0.7682 - val_mse: 0.1151\n",
      "Epoch 51/200\n",
      "68/68 [==============================] - 31s 452ms/step - loss: 0.0271 - correlation: 0.8763 - mse: 0.1243 - val_loss: 0.0287 - val_correlation: 1.0235 - val_mse: 0.1305\n"
     ]
    },
    {
     "name": "stderr",
     "output_type": "stream",
     "text": [
      "/Users/lanacaldarevic/miniforge3/envs/tf_m1/lib/python3.9/site-packages/keras/src/engine/training.py:3000: UserWarning: You are saving your model as an HDF5 file via `model.save()`. This file format is considered legacy. We recommend using instead the native Keras format, e.g. `model.save('my_model.keras')`.\n",
      "  saving_api.save_model(\n"
     ]
    },
    {
     "data": {
      "text/html": [
       "Waiting for W&B process to finish... <strong style=\"color:green\">(success).</strong>"
      ],
      "text/plain": [
       "<IPython.core.display.HTML object>"
      ]
     },
     "metadata": {},
     "output_type": "display_data"
    },
    {
     "data": {
      "text/html": [
       "<style>\n",
       "    table.wandb td:nth-child(1) { padding: 0 10px; text-align: left ; width: auto;} td:nth-child(2) {text-align: left ; width: 100%}\n",
       "    .wandb-row { display: flex; flex-direction: row; flex-wrap: wrap; justify-content: flex-start; width: 100% }\n",
       "    .wandb-col { display: flex; flex-direction: column; flex-basis: 100%; flex: 1; padding: 10px; }\n",
       "    </style>\n",
       "<div class=\"wandb-row\"><div class=\"wandb-col\"><h3>Run history:</h3><br/><table class=\"wandb\"><tr><td>correlation</td><td>█▆▆▄▄▄▄▄▄▃▄▂▂▂▃▂▂▃▂▂▁▄▂▁▂▃▃▄▂▃▂▂▁▁▂▂▂▂▂▂</td></tr><tr><td>epoch</td><td>▁▁▁▁▂▂▂▂▂▃▃▃▃▃▃▄▄▄▄▄▅▅▅▅▅▅▆▆▆▆▆▆▇▇▇▇▇███</td></tr><tr><td>loss</td><td>█▂▃▂▂▂▂▂▂▂▂▂▂▂▂▁▂▁▁▂▁▂▂▂▁▁▁▁▁▁▁▁▁▁▁▁▁▁▁▁</td></tr><tr><td>mse</td><td>█▇▅▄▄▃▃▃▃▂▃▂▂▂▂▁▂▂▁▂▁▃▂▁▂▂▃▂▁▂▂▂▁▁▁▁▂▁▂▂</td></tr><tr><td>val_correlation</td><td>▅▅▄▄▂▂▅▄▄▄▄▃▇▂▃▃▆▂▃▃▅▄▁▅▅▄▅▅▃▅▄▅▄▅▇▅▃▄█▅</td></tr><tr><td>val_loss</td><td>▆█▇▅▅▃▇▆▃▄▄█▄▂▃▃▄▂▄▂▃▆▃▅▅▂▂▁▃▁▂▂▂▁▂▂▁▂▅▃</td></tr><tr><td>val_mse</td><td>▂▁▁▁▁▁▂▁▂▁▁█▂▁▁▁▂▁▂▁▁▂▁▁▁▁▂▂▂▂▁▂▄▃▄▂▁▁▆▂</td></tr></table><br/></div><div class=\"wandb-col\"><h3>Run summary:</h3><br/><table class=\"wandb\"><tr><td>best_epoch</td><td>40</td></tr><tr><td>best_val_loss</td><td>0.0241</td></tr><tr><td>correlation</td><td>0.87626</td></tr><tr><td>epoch</td><td>50</td></tr><tr><td>loss</td><td>0.02707</td></tr><tr><td>mse</td><td>0.12429</td></tr><tr><td>val_correlation</td><td>1.02347</td></tr><tr><td>val_loss</td><td>0.02866</td></tr><tr><td>val_mse</td><td>0.13048</td></tr></table><br/></div></div>"
      ],
      "text/plain": [
       "<IPython.core.display.HTML object>"
      ]
     },
     "metadata": {},
     "output_type": "display_data"
    },
    {
     "data": {
      "text/html": [
       " View run <strong style=\"color:#cdcd00\">clean-sweep-2</strong> at: <a href='https://wandb.ai/lana-caldarevic1/biosignal_deeplearning/runs/lvqu4ya8' target=\"_blank\">https://wandb.ai/lana-caldarevic1/biosignal_deeplearning/runs/lvqu4ya8</a><br/>Synced 6 W&B file(s), 1 media file(s), 55 artifact file(s) and 1 other file(s)"
      ],
      "text/plain": [
       "<IPython.core.display.HTML object>"
      ]
     },
     "metadata": {},
     "output_type": "display_data"
    },
    {
     "data": {
      "text/html": [
       "Find logs at: <code>./wandb/run-20240410_144051-lvqu4ya8/logs</code>"
      ],
      "text/plain": [
       "<IPython.core.display.HTML object>"
      ]
     },
     "metadata": {},
     "output_type": "display_data"
    },
    {
     "name": "stderr",
     "output_type": "stream",
     "text": [
      "\u001b[34m\u001b[1mwandb\u001b[0m: Sweep Agent: Waiting for job.\n",
      "\u001b[34m\u001b[1mwandb\u001b[0m: Job received.\n",
      "\u001b[34m\u001b[1mwandb\u001b[0m: Agent Starting Run: gamsd0do with config:\n",
      "\u001b[34m\u001b[1mwandb\u001b[0m: \tbatch_size: 64\n",
      "\u001b[34m\u001b[1mwandb\u001b[0m: \tdropout: 0.44101563876527183\n",
      "\u001b[34m\u001b[1mwandb\u001b[0m: \tkernel_size: 27\n",
      "\u001b[34m\u001b[1mwandb\u001b[0m: \tlearning_rate: 0.005964499591757977\n",
      "\u001b[34m\u001b[1mwandb\u001b[0m: \treg: 0.003248818950829842\n",
      "\u001b[34m\u001b[1mwandb\u001b[0m: \tstart_filters: 16\n"
     ]
    },
    {
     "data": {
      "text/html": [
       "wandb version 0.16.6 is available!  To upgrade, please run:\n",
       " $ pip install wandb --upgrade"
      ],
      "text/plain": [
       "<IPython.core.display.HTML object>"
      ]
     },
     "metadata": {},
     "output_type": "display_data"
    },
    {
     "data": {
      "text/html": [
       "Tracking run with wandb version 0.15.9"
      ],
      "text/plain": [
       "<IPython.core.display.HTML object>"
      ]
     },
     "metadata": {},
     "output_type": "display_data"
    },
    {
     "data": {
      "text/html": [
       "Run data is saved locally in <code>/Users/lanacaldarevic/workspace/phd/ecg_derived_resp_dl/notebooks/wandb/run-20240410_154640-gamsd0do</code>"
      ],
      "text/plain": [
       "<IPython.core.display.HTML object>"
      ]
     },
     "metadata": {},
     "output_type": "display_data"
    },
    {
     "data": {
      "text/html": [
       "Syncing run <strong><a href='https://wandb.ai/lana-caldarevic1/biosignal_deeplearning/runs/gamsd0do' target=\"_blank\">sparkling-sweep-3</a></strong> to <a href='https://wandb.ai/lana-caldarevic1/biosignal_deeplearning' target=\"_blank\">Weights & Biases</a> (<a href='https://wandb.me/run' target=\"_blank\">docs</a>)<br/>Sweep page: <a href='https://wandb.ai/lana-caldarevic1/biosignal_deeplearning/sweeps/94xtzv3y' target=\"_blank\">https://wandb.ai/lana-caldarevic1/biosignal_deeplearning/sweeps/94xtzv3y</a>"
      ],
      "text/plain": [
       "<IPython.core.display.HTML object>"
      ]
     },
     "metadata": {},
     "output_type": "display_data"
    },
    {
     "data": {
      "text/html": [
       " View project at <a href='https://wandb.ai/lana-caldarevic1/biosignal_deeplearning' target=\"_blank\">https://wandb.ai/lana-caldarevic1/biosignal_deeplearning</a>"
      ],
      "text/plain": [
       "<IPython.core.display.HTML object>"
      ]
     },
     "metadata": {},
     "output_type": "display_data"
    },
    {
     "data": {
      "text/html": [
       " View sweep at <a href='https://wandb.ai/lana-caldarevic1/biosignal_deeplearning/sweeps/94xtzv3y' target=\"_blank\">https://wandb.ai/lana-caldarevic1/biosignal_deeplearning/sweeps/94xtzv3y</a>"
      ],
      "text/plain": [
       "<IPython.core.display.HTML object>"
      ]
     },
     "metadata": {},
     "output_type": "display_data"
    },
    {
     "data": {
      "text/html": [
       " View run at <a href='https://wandb.ai/lana-caldarevic1/biosignal_deeplearning/runs/gamsd0do' target=\"_blank\">https://wandb.ai/lana-caldarevic1/biosignal_deeplearning/runs/gamsd0do</a>"
      ],
      "text/plain": [
       "<IPython.core.display.HTML object>"
      ]
     },
     "metadata": {},
     "output_type": "display_data"
    },
    {
     "name": "stdout",
     "output_type": "stream",
     "text": [
      "GPU enabled\n",
      "Model: \"model\"\n",
      "__________________________________________________________________________________________________\n",
      " Layer (type)                Output Shape                 Param #   Connected to                  \n",
      "==================================================================================================\n",
      " input_1 (InputLayer)        [(None, 1024, 1)]            0         []                            \n",
      "                                                                                                  \n",
      " conv1d (Conv1D)             (None, 1024, 16)             448       ['input_1[0][0]']             \n",
      "                                                                                                  \n",
      " batch_normalization (Batch  (None, 1024, 16)             64        ['conv1d[0][0]']              \n",
      " Normalization)                                                                                   \n",
      "                                                                                                  \n",
      " conv1d_1 (Conv1D)           (None, 1024, 16)             6928      ['batch_normalization[0][0]'] \n",
      "                                                                                                  \n",
      " batch_normalization_1 (Bat  (None, 1024, 16)             64        ['conv1d_1[0][0]']            \n",
      " chNormalization)                                                                                 \n",
      "                                                                                                  \n",
      " max_pooling1d (MaxPooling1  (None, 512, 16)              0         ['batch_normalization_1[0][0]'\n",
      " D)                                                                 ]                             \n",
      "                                                                                                  \n",
      " conv1d_2 (Conv1D)           (None, 512, 32)              13856     ['max_pooling1d[0][0]']       \n",
      "                                                                                                  \n",
      " batch_normalization_2 (Bat  (None, 512, 32)              128       ['conv1d_2[0][0]']            \n",
      " chNormalization)                                                                                 \n",
      "                                                                                                  \n",
      " conv1d_3 (Conv1D)           (None, 512, 32)              27680     ['batch_normalization_2[0][0]'\n",
      "                                                                    ]                             \n",
      "                                                                                                  \n",
      " batch_normalization_3 (Bat  (None, 512, 32)              128       ['conv1d_3[0][0]']            \n",
      " chNormalization)                                                                                 \n",
      "                                                                                                  \n",
      " dropout (Dropout)           (None, 512, 32)              0         ['batch_normalization_3[0][0]'\n",
      "                                                                    ]                             \n",
      "                                                                                                  \n",
      " max_pooling1d_1 (MaxPoolin  (None, 256, 32)              0         ['dropout[0][0]']             \n",
      " g1D)                                                                                             \n",
      "                                                                                                  \n",
      " conv1d_4 (Conv1D)           (None, 256, 64)              55360     ['max_pooling1d_1[0][0]']     \n",
      "                                                                                                  \n",
      " batch_normalization_4 (Bat  (None, 256, 64)              256       ['conv1d_4[0][0]']            \n",
      " chNormalization)                                                                                 \n",
      "                                                                                                  \n",
      " conv1d_5 (Conv1D)           (None, 256, 64)              110656    ['batch_normalization_4[0][0]'\n",
      "                                                                    ]                             \n",
      "                                                                                                  \n",
      " batch_normalization_5 (Bat  (None, 256, 64)              256       ['conv1d_5[0][0]']            \n",
      " chNormalization)                                                                                 \n",
      "                                                                                                  \n",
      " up_sampling1d (UpSampling1  (None, 512, 64)              0         ['batch_normalization_5[0][0]'\n",
      " D)                                                                 ]                             \n",
      "                                                                                                  \n",
      " conv1d_6 (Conv1D)           (None, 512, 64)              110656    ['up_sampling1d[0][0]']       \n",
      "                                                                                                  \n",
      " batch_normalization_6 (Bat  (None, 512, 64)              256       ['conv1d_6[0][0]']            \n",
      " chNormalization)                                                                                 \n",
      "                                                                                                  \n",
      " concatenate (Concatenate)   (None, 512, 96)              0         ['dropout[0][0]',             \n",
      "                                                                     'batch_normalization_6[0][0]'\n",
      "                                                                    ]                             \n",
      "                                                                                                  \n",
      " conv1d_7 (Conv1D)           (None, 512, 32)              82976     ['concatenate[0][0]']         \n",
      "                                                                                                  \n",
      " batch_normalization_7 (Bat  (None, 512, 32)              128       ['conv1d_7[0][0]']            \n",
      " chNormalization)                                                                                 \n",
      "                                                                                                  \n",
      " conv1d_8 (Conv1D)           (None, 512, 32)              27680     ['batch_normalization_7[0][0]'\n",
      "                                                                    ]                             \n",
      "                                                                                                  \n",
      " batch_normalization_8 (Bat  (None, 512, 32)              128       ['conv1d_8[0][0]']            \n",
      " chNormalization)                                                                                 \n",
      "                                                                                                  \n",
      " dropout_1 (Dropout)         (None, 512, 32)              0         ['batch_normalization_8[0][0]'\n",
      "                                                                    ]                             \n",
      "                                                                                                  \n",
      " up_sampling1d_1 (UpSamplin  (None, 1024, 32)             0         ['dropout_1[0][0]']           \n",
      " g1D)                                                                                             \n",
      "                                                                                                  \n",
      " conv1d_9 (Conv1D)           (None, 1024, 32)             27680     ['up_sampling1d_1[0][0]']     \n",
      "                                                                                                  \n",
      " batch_normalization_9 (Bat  (None, 1024, 32)             128       ['conv1d_9[0][0]']            \n",
      " chNormalization)                                                                                 \n",
      "                                                                                                  \n",
      " concatenate_1 (Concatenate  (None, 1024, 48)             0         ['batch_normalization_1[0][0]'\n",
      " )                                                                  , 'batch_normalization_9[0][0]\n",
      "                                                                    ']                            \n",
      "                                                                                                  \n",
      " conv1d_10 (Conv1D)          (None, 1024, 16)             20752     ['concatenate_1[0][0]']       \n",
      "                                                                                                  \n",
      " batch_normalization_10 (Ba  (None, 1024, 16)             64        ['conv1d_10[0][0]']           \n",
      " tchNormalization)                                                                                \n",
      "                                                                                                  \n",
      " conv1d_11 (Conv1D)          (None, 1024, 16)             6928      ['batch_normalization_10[0][0]\n",
      "                                                                    ']                            \n",
      "                                                                                                  \n",
      " batch_normalization_11 (Ba  (None, 1024, 16)             64        ['conv1d_11[0][0]']           \n",
      " tchNormalization)                                                                                \n",
      "                                                                                                  \n",
      " conv1d_12 (Conv1D)          (None, 1024, 1)              433       ['batch_normalization_11[0][0]\n",
      "                                                                    ']                            \n",
      "                                                                                                  \n",
      "==================================================================================================\n",
      "Total params: 493697 (1.88 MB)\n",
      "Trainable params: 492865 (1.88 MB)\n",
      "Non-trainable params: 832 (3.25 KB)\n",
      "__________________________________________________________________________________________________\n",
      "Model training starting\n",
      "Epoch 1/200\n"
     ]
    },
    {
     "name": "stderr",
     "output_type": "stream",
     "text": [
      "2024-04-10 15:46:50.158245: I tensorflow/core/grappler/optimizers/custom_graph_optimizer_registry.cc:114] Plugin optimizer for device_type GPU is enabled.\n"
     ]
    },
    {
     "name": "stdout",
     "output_type": "stream",
     "text": [
      "68/68 [==============================] - ETA: 0s - loss: 0.2303 - correlation: 0.9659 - mse: 0.1311"
     ]
    },
    {
     "name": "stderr",
     "output_type": "stream",
     "text": [
      "2024-04-10 15:47:31.771649: I tensorflow/core/grappler/optimizers/custom_graph_optimizer_registry.cc:114] Plugin optimizer for device_type GPU is enabled.\n",
      "/Users/lanacaldarevic/miniforge3/envs/tf_m1/lib/python3.9/site-packages/keras/src/engine/training.py:3000: UserWarning: You are saving your model as an HDF5 file via `model.save()`. This file format is considered legacy. We recommend using instead the native Keras format, e.g. `model.save('my_model.keras')`.\n",
      "  saving_api.save_model(\n"
     ]
    },
    {
     "name": "stdout",
     "output_type": "stream",
     "text": [
      "INFO:tensorflow:Assets written to: /Users/lanacaldarevic/workspace/phd/ecg_derived_resp_dl/notebooks/wandb/run-20240410_154640-gamsd0do/files/model-best/assets\n"
     ]
    },
    {
     "name": "stderr",
     "output_type": "stream",
     "text": [
      "INFO:tensorflow:Assets written to: /Users/lanacaldarevic/workspace/phd/ecg_derived_resp_dl/notebooks/wandb/run-20240410_154640-gamsd0do/files/model-best/assets\n",
      "\u001b[34m\u001b[1mwandb\u001b[0m: Adding directory to artifact (/Users/lanacaldarevic/workspace/phd/ecg_derived_resp_dl/notebooks/wandb/run-20240410_154640-gamsd0do/files/model-best)... Done. 0.0s\n"
     ]
    },
    {
     "name": "stdout",
     "output_type": "stream",
     "text": [
      "68/68 [==============================] - 54s 526ms/step - loss: 0.2303 - correlation: 0.9659 - mse: 0.1311 - val_loss: 0.0536 - val_correlation: 0.9977 - val_mse: 0.1236\n",
      "Epoch 2/200\n",
      "68/68 [==============================] - ETA: 0s - loss: 0.0469 - correlation: 0.9516 - mse: 0.1290"
     ]
    },
    {
     "name": "stderr",
     "output_type": "stream",
     "text": [
      "/Users/lanacaldarevic/miniforge3/envs/tf_m1/lib/python3.9/site-packages/keras/src/engine/training.py:3000: UserWarning: You are saving your model as an HDF5 file via `model.save()`. This file format is considered legacy. We recommend using instead the native Keras format, e.g. `model.save('my_model.keras')`.\n",
      "  saving_api.save_model(\n"
     ]
    },
    {
     "name": "stdout",
     "output_type": "stream",
     "text": [
      "INFO:tensorflow:Assets written to: /Users/lanacaldarevic/workspace/phd/ecg_derived_resp_dl/notebooks/wandb/run-20240410_154640-gamsd0do/files/model-best/assets\n"
     ]
    },
    {
     "name": "stderr",
     "output_type": "stream",
     "text": [
      "INFO:tensorflow:Assets written to: /Users/lanacaldarevic/workspace/phd/ecg_derived_resp_dl/notebooks/wandb/run-20240410_154640-gamsd0do/files/model-best/assets\n",
      "\u001b[34m\u001b[1mwandb\u001b[0m: Adding directory to artifact (/Users/lanacaldarevic/workspace/phd/ecg_derived_resp_dl/notebooks/wandb/run-20240410_154640-gamsd0do/files/model-best)... Done. 0.0s\n"
     ]
    },
    {
     "name": "stdout",
     "output_type": "stream",
     "text": [
      "68/68 [==============================] - 22s 327ms/step - loss: 0.0469 - correlation: 0.9516 - mse: 0.1290 - val_loss: 0.0498 - val_correlation: 0.9288 - val_mse: 0.1271\n",
      "Epoch 3/200\n",
      "68/68 [==============================] - ETA: 0s - loss: 0.0414 - correlation: 0.9413 - mse: 0.1265"
     ]
    },
    {
     "name": "stderr",
     "output_type": "stream",
     "text": [
      "/Users/lanacaldarevic/miniforge3/envs/tf_m1/lib/python3.9/site-packages/keras/src/engine/training.py:3000: UserWarning: You are saving your model as an HDF5 file via `model.save()`. This file format is considered legacy. We recommend using instead the native Keras format, e.g. `model.save('my_model.keras')`.\n",
      "  saving_api.save_model(\n"
     ]
    },
    {
     "name": "stdout",
     "output_type": "stream",
     "text": [
      "INFO:tensorflow:Assets written to: /Users/lanacaldarevic/workspace/phd/ecg_derived_resp_dl/notebooks/wandb/run-20240410_154640-gamsd0do/files/model-best/assets\n"
     ]
    },
    {
     "name": "stderr",
     "output_type": "stream",
     "text": [
      "INFO:tensorflow:Assets written to: /Users/lanacaldarevic/workspace/phd/ecg_derived_resp_dl/notebooks/wandb/run-20240410_154640-gamsd0do/files/model-best/assets\n",
      "\u001b[34m\u001b[1mwandb\u001b[0m: Adding directory to artifact (/Users/lanacaldarevic/workspace/phd/ecg_derived_resp_dl/notebooks/wandb/run-20240410_154640-gamsd0do/files/model-best)... Done. 0.0s\n"
     ]
    },
    {
     "name": "stdout",
     "output_type": "stream",
     "text": [
      "68/68 [==============================] - 22s 319ms/step - loss: 0.0414 - correlation: 0.9413 - mse: 0.1265 - val_loss: 0.0377 - val_correlation: 0.9417 - val_mse: 0.1276\n",
      "Epoch 4/200\n",
      "68/68 [==============================] - 18s 261ms/step - loss: 0.0416 - correlation: 0.9382 - mse: 0.1272 - val_loss: 0.0388 - val_correlation: 0.9609 - val_mse: 0.1325\n",
      "Epoch 5/200\n",
      "68/68 [==============================] - ETA: 0s - loss: 0.0402 - correlation: 0.9406 - mse: 0.1272"
     ]
    },
    {
     "name": "stderr",
     "output_type": "stream",
     "text": [
      "/Users/lanacaldarevic/miniforge3/envs/tf_m1/lib/python3.9/site-packages/keras/src/engine/training.py:3000: UserWarning: You are saving your model as an HDF5 file via `model.save()`. This file format is considered legacy. We recommend using instead the native Keras format, e.g. `model.save('my_model.keras')`.\n",
      "  saving_api.save_model(\n"
     ]
    },
    {
     "name": "stdout",
     "output_type": "stream",
     "text": [
      "INFO:tensorflow:Assets written to: /Users/lanacaldarevic/workspace/phd/ecg_derived_resp_dl/notebooks/wandb/run-20240410_154640-gamsd0do/files/model-best/assets\n"
     ]
    },
    {
     "name": "stderr",
     "output_type": "stream",
     "text": [
      "INFO:tensorflow:Assets written to: /Users/lanacaldarevic/workspace/phd/ecg_derived_resp_dl/notebooks/wandb/run-20240410_154640-gamsd0do/files/model-best/assets\n",
      "\u001b[34m\u001b[1mwandb\u001b[0m: Adding directory to artifact (/Users/lanacaldarevic/workspace/phd/ecg_derived_resp_dl/notebooks/wandb/run-20240410_154640-gamsd0do/files/model-best)... Done. 0.0s\n"
     ]
    },
    {
     "name": "stdout",
     "output_type": "stream",
     "text": [
      "68/68 [==============================] - 21s 302ms/step - loss: 0.0402 - correlation: 0.9406 - mse: 0.1272 - val_loss: 0.0361 - val_correlation: 0.9689 - val_mse: 0.1241\n",
      "Epoch 6/200\n",
      "68/68 [==============================] - 17s 246ms/step - loss: 0.0393 - correlation: 0.9324 - mse: 0.1267 - val_loss: 0.0373 - val_correlation: 0.9433 - val_mse: 0.1294\n",
      "Epoch 7/200\n",
      "68/68 [==============================] - 17s 255ms/step - loss: 0.0403 - correlation: 0.9509 - mse: 0.1278 - val_loss: 0.0387 - val_correlation: 0.8998 - val_mse: 0.1227\n",
      "Epoch 8/200\n",
      "68/68 [==============================] - 18s 256ms/step - loss: 0.0403 - correlation: 0.9359 - mse: 0.1269 - val_loss: 0.0663 - val_correlation: 1.0062 - val_mse: 0.4033\n",
      "Epoch 9/200\n",
      "68/68 [==============================] - 16s 236ms/step - loss: 0.0409 - correlation: 0.9254 - mse: 0.1268 - val_loss: 0.0362 - val_correlation: 0.8177 - val_mse: 0.1227\n",
      "Epoch 10/200\n",
      "68/68 [==============================] - ETA: 0s - loss: 0.0426 - correlation: 0.9133 - mse: 0.1259"
     ]
    },
    {
     "name": "stderr",
     "output_type": "stream",
     "text": [
      "/Users/lanacaldarevic/miniforge3/envs/tf_m1/lib/python3.9/site-packages/keras/src/engine/training.py:3000: UserWarning: You are saving your model as an HDF5 file via `model.save()`. This file format is considered legacy. We recommend using instead the native Keras format, e.g. `model.save('my_model.keras')`.\n",
      "  saving_api.save_model(\n"
     ]
    },
    {
     "name": "stdout",
     "output_type": "stream",
     "text": [
      "INFO:tensorflow:Assets written to: /Users/lanacaldarevic/workspace/phd/ecg_derived_resp_dl/notebooks/wandb/run-20240410_154640-gamsd0do/files/model-best/assets\n"
     ]
    },
    {
     "name": "stderr",
     "output_type": "stream",
     "text": [
      "INFO:tensorflow:Assets written to: /Users/lanacaldarevic/workspace/phd/ecg_derived_resp_dl/notebooks/wandb/run-20240410_154640-gamsd0do/files/model-best/assets\n",
      "\u001b[34m\u001b[1mwandb\u001b[0m: Adding directory to artifact (/Users/lanacaldarevic/workspace/phd/ecg_derived_resp_dl/notebooks/wandb/run-20240410_154640-gamsd0do/files/model-best)... Done. 0.0s\n"
     ]
    },
    {
     "name": "stdout",
     "output_type": "stream",
     "text": [
      "68/68 [==============================] - 16s 238ms/step - loss: 0.0426 - correlation: 0.9133 - mse: 0.1259 - val_loss: 0.0354 - val_correlation: 0.9533 - val_mse: 0.1344\n",
      "Epoch 11/200\n",
      "68/68 [==============================] - 15s 213ms/step - loss: 0.0375 - correlation: 0.9120 - mse: 0.1254 - val_loss: 0.0412 - val_correlation: 1.0396 - val_mse: 0.1230\n",
      "Epoch 12/200\n",
      "68/68 [==============================] - 14s 212ms/step - loss: 0.0385 - correlation: 0.9153 - mse: 0.1260 - val_loss: 0.0358 - val_correlation: 0.7360 - val_mse: 0.1196\n",
      "Epoch 13/200\n",
      "68/68 [==============================] - 14s 209ms/step - loss: 0.0359 - correlation: 0.9168 - mse: 0.1258 - val_loss: 0.0376 - val_correlation: 0.8788 - val_mse: 0.1274\n",
      "Epoch 14/200\n",
      "68/68 [==============================] - 13s 194ms/step - loss: 0.0369 - correlation: 0.9078 - mse: 0.1255 - val_loss: 0.0378 - val_correlation: 1.0023 - val_mse: 0.1229\n",
      "Epoch 15/200\n",
      "68/68 [==============================] - ETA: 0s - loss: 0.0347 - correlation: 0.9141 - mse: 0.1256"
     ]
    },
    {
     "name": "stderr",
     "output_type": "stream",
     "text": [
      "/Users/lanacaldarevic/miniforge3/envs/tf_m1/lib/python3.9/site-packages/keras/src/engine/training.py:3000: UserWarning: You are saving your model as an HDF5 file via `model.save()`. This file format is considered legacy. We recommend using instead the native Keras format, e.g. `model.save('my_model.keras')`.\n",
      "  saving_api.save_model(\n"
     ]
    },
    {
     "name": "stdout",
     "output_type": "stream",
     "text": [
      "INFO:tensorflow:Assets written to: /Users/lanacaldarevic/workspace/phd/ecg_derived_resp_dl/notebooks/wandb/run-20240410_154640-gamsd0do/files/model-best/assets\n"
     ]
    },
    {
     "name": "stderr",
     "output_type": "stream",
     "text": [
      "INFO:tensorflow:Assets written to: /Users/lanacaldarevic/workspace/phd/ecg_derived_resp_dl/notebooks/wandb/run-20240410_154640-gamsd0do/files/model-best/assets\n",
      "\u001b[34m\u001b[1mwandb\u001b[0m: Adding directory to artifact (/Users/lanacaldarevic/workspace/phd/ecg_derived_resp_dl/notebooks/wandb/run-20240410_154640-gamsd0do/files/model-best)... Done. 0.0s\n"
     ]
    },
    {
     "name": "stdout",
     "output_type": "stream",
     "text": [
      "68/68 [==============================] - 16s 238ms/step - loss: 0.0347 - correlation: 0.9141 - mse: 0.1256 - val_loss: 0.0347 - val_correlation: 0.9562 - val_mse: 0.1310\n",
      "Epoch 16/200\n",
      "68/68 [==============================] - 15s 214ms/step - loss: 0.0357 - correlation: 0.9066 - mse: 0.1254 - val_loss: 0.0366 - val_correlation: 0.7405 - val_mse: 0.1206\n",
      "Epoch 17/200\n",
      "68/68 [==============================] - ETA: 0s - loss: 0.0324 - correlation: 0.9156 - mse: 0.1251"
     ]
    },
    {
     "name": "stderr",
     "output_type": "stream",
     "text": [
      "/Users/lanacaldarevic/miniforge3/envs/tf_m1/lib/python3.9/site-packages/keras/src/engine/training.py:3000: UserWarning: You are saving your model as an HDF5 file via `model.save()`. This file format is considered legacy. We recommend using instead the native Keras format, e.g. `model.save('my_model.keras')`.\n",
      "  saving_api.save_model(\n"
     ]
    },
    {
     "name": "stdout",
     "output_type": "stream",
     "text": [
      "INFO:tensorflow:Assets written to: /Users/lanacaldarevic/workspace/phd/ecg_derived_resp_dl/notebooks/wandb/run-20240410_154640-gamsd0do/files/model-best/assets\n"
     ]
    },
    {
     "name": "stderr",
     "output_type": "stream",
     "text": [
      "INFO:tensorflow:Assets written to: /Users/lanacaldarevic/workspace/phd/ecg_derived_resp_dl/notebooks/wandb/run-20240410_154640-gamsd0do/files/model-best/assets\n",
      "\u001b[34m\u001b[1mwandb\u001b[0m: Adding directory to artifact (/Users/lanacaldarevic/workspace/phd/ecg_derived_resp_dl/notebooks/wandb/run-20240410_154640-gamsd0do/files/model-best)... Done. 0.0s\n"
     ]
    },
    {
     "name": "stdout",
     "output_type": "stream",
     "text": [
      "68/68 [==============================] - 16s 237ms/step - loss: 0.0324 - correlation: 0.9156 - mse: 0.1251 - val_loss: 0.0301 - val_correlation: 0.7989 - val_mse: 0.1241\n",
      "Epoch 18/200\n",
      "68/68 [==============================] - 15s 213ms/step - loss: 0.0343 - correlation: 0.9032 - mse: 0.1251 - val_loss: 0.0996 - val_correlation: 1.0059 - val_mse: 0.4839\n",
      "Epoch 19/200\n",
      "68/68 [==============================] - 15s 226ms/step - loss: 0.0379 - correlation: 0.9008 - mse: 0.1258 - val_loss: 0.0323 - val_correlation: 0.7353 - val_mse: 0.1214\n",
      "Epoch 20/200\n",
      "68/68 [==============================] - 15s 222ms/step - loss: 0.0331 - correlation: 0.9035 - mse: 0.1253 - val_loss: 0.0333 - val_correlation: 0.7342 - val_mse: 0.1167\n",
      "Epoch 21/200\n",
      "68/68 [==============================] - 14s 201ms/step - loss: 0.0332 - correlation: 0.9250 - mse: 0.1259 - val_loss: 0.0323 - val_correlation: 0.9463 - val_mse: 0.1427\n",
      "Epoch 22/200\n",
      "68/68 [==============================] - 15s 215ms/step - loss: 0.0328 - correlation: 0.9081 - mse: 0.1253 - val_loss: 0.0338 - val_correlation: 1.0694 - val_mse: 0.1282\n",
      "Epoch 23/200\n",
      "68/68 [==============================] - ETA: 0s - loss: 0.0331 - correlation: 0.9128 - mse: 0.1254"
     ]
    },
    {
     "name": "stderr",
     "output_type": "stream",
     "text": [
      "/Users/lanacaldarevic/miniforge3/envs/tf_m1/lib/python3.9/site-packages/keras/src/engine/training.py:3000: UserWarning: You are saving your model as an HDF5 file via `model.save()`. This file format is considered legacy. We recommend using instead the native Keras format, e.g. `model.save('my_model.keras')`.\n",
      "  saving_api.save_model(\n"
     ]
    },
    {
     "name": "stdout",
     "output_type": "stream",
     "text": [
      "INFO:tensorflow:Assets written to: /Users/lanacaldarevic/workspace/phd/ecg_derived_resp_dl/notebooks/wandb/run-20240410_154640-gamsd0do/files/model-best/assets\n"
     ]
    },
    {
     "name": "stderr",
     "output_type": "stream",
     "text": [
      "INFO:tensorflow:Assets written to: /Users/lanacaldarevic/workspace/phd/ecg_derived_resp_dl/notebooks/wandb/run-20240410_154640-gamsd0do/files/model-best/assets\n",
      "\u001b[34m\u001b[1mwandb\u001b[0m: Adding directory to artifact (/Users/lanacaldarevic/workspace/phd/ecg_derived_resp_dl/notebooks/wandb/run-20240410_154640-gamsd0do/files/model-best)... Done. 0.0s\n"
     ]
    },
    {
     "name": "stdout",
     "output_type": "stream",
     "text": [
      "68/68 [==============================] - 20s 291ms/step - loss: 0.0331 - correlation: 0.9128 - mse: 0.1254 - val_loss: 0.0296 - val_correlation: 0.8148 - val_mse: 0.1268\n",
      "Epoch 24/200\n",
      "68/68 [==============================] - 18s 257ms/step - loss: 0.0299 - correlation: 0.9177 - mse: 0.1256 - val_loss: 0.0320 - val_correlation: 0.7556 - val_mse: 0.1239\n",
      "Epoch 25/200\n",
      "68/68 [==============================] - 15s 223ms/step - loss: 0.0317 - correlation: 0.9019 - mse: 0.1251 - val_loss: 0.0317 - val_correlation: 1.0008 - val_mse: 0.1305\n",
      "Epoch 26/200\n",
      "68/68 [==============================] - ETA: 0s - loss: 0.0300 - correlation: 0.9135 - mse: 0.1253"
     ]
    },
    {
     "name": "stderr",
     "output_type": "stream",
     "text": [
      "/Users/lanacaldarevic/miniforge3/envs/tf_m1/lib/python3.9/site-packages/keras/src/engine/training.py:3000: UserWarning: You are saving your model as an HDF5 file via `model.save()`. This file format is considered legacy. We recommend using instead the native Keras format, e.g. `model.save('my_model.keras')`.\n",
      "  saving_api.save_model(\n"
     ]
    },
    {
     "name": "stdout",
     "output_type": "stream",
     "text": [
      "INFO:tensorflow:Assets written to: /Users/lanacaldarevic/workspace/phd/ecg_derived_resp_dl/notebooks/wandb/run-20240410_154640-gamsd0do/files/model-best/assets\n"
     ]
    },
    {
     "name": "stderr",
     "output_type": "stream",
     "text": [
      "INFO:tensorflow:Assets written to: /Users/lanacaldarevic/workspace/phd/ecg_derived_resp_dl/notebooks/wandb/run-20240410_154640-gamsd0do/files/model-best/assets\n",
      "\u001b[34m\u001b[1mwandb\u001b[0m: Adding directory to artifact (/Users/lanacaldarevic/workspace/phd/ecg_derived_resp_dl/notebooks/wandb/run-20240410_154640-gamsd0do/files/model-best)... Done. 0.0s\n"
     ]
    },
    {
     "name": "stdout",
     "output_type": "stream",
     "text": [
      "68/68 [==============================] - 19s 275ms/step - loss: 0.0300 - correlation: 0.9135 - mse: 0.1253 - val_loss: 0.0294 - val_correlation: 0.8032 - val_mse: 0.1233\n",
      "Epoch 27/200\n",
      "68/68 [==============================] - ETA: 0s - loss: 0.0279 - correlation: 0.8945 - mse: 0.1250"
     ]
    },
    {
     "name": "stderr",
     "output_type": "stream",
     "text": [
      "/Users/lanacaldarevic/miniforge3/envs/tf_m1/lib/python3.9/site-packages/keras/src/engine/training.py:3000: UserWarning: You are saving your model as an HDF5 file via `model.save()`. This file format is considered legacy. We recommend using instead the native Keras format, e.g. `model.save('my_model.keras')`.\n",
      "  saving_api.save_model(\n"
     ]
    },
    {
     "name": "stdout",
     "output_type": "stream",
     "text": [
      "INFO:tensorflow:Assets written to: /Users/lanacaldarevic/workspace/phd/ecg_derived_resp_dl/notebooks/wandb/run-20240410_154640-gamsd0do/files/model-best/assets\n"
     ]
    },
    {
     "name": "stderr",
     "output_type": "stream",
     "text": [
      "INFO:tensorflow:Assets written to: /Users/lanacaldarevic/workspace/phd/ecg_derived_resp_dl/notebooks/wandb/run-20240410_154640-gamsd0do/files/model-best/assets\n",
      "\u001b[34m\u001b[1mwandb\u001b[0m: Adding directory to artifact (/Users/lanacaldarevic/workspace/phd/ecg_derived_resp_dl/notebooks/wandb/run-20240410_154640-gamsd0do/files/model-best)... Done. 0.0s\n"
     ]
    },
    {
     "name": "stdout",
     "output_type": "stream",
     "text": [
      "68/68 [==============================] - 20s 288ms/step - loss: 0.0279 - correlation: 0.8945 - mse: 0.1250 - val_loss: 0.0276 - val_correlation: 0.9285 - val_mse: 0.1240\n",
      "Epoch 28/200\n",
      "68/68 [==============================] - 17s 241ms/step - loss: 0.0301 - correlation: 0.9151 - mse: 0.1254 - val_loss: 0.0364 - val_correlation: 1.1875 - val_mse: 0.1401\n",
      "Epoch 29/200\n",
      "68/68 [==============================] - 16s 231ms/step - loss: 0.0327 - correlation: 0.9245 - mse: 0.1259 - val_loss: 0.0333 - val_correlation: 0.8786 - val_mse: 0.1399\n",
      "Epoch 30/200\n",
      "68/68 [==============================] - 17s 242ms/step - loss: 0.0303 - correlation: 0.9086 - mse: 0.1257 - val_loss: 0.0296 - val_correlation: 1.0931 - val_mse: 0.1249\n",
      "Epoch 31/200\n",
      "68/68 [==============================] - 17s 249ms/step - loss: 0.0297 - correlation: 0.8924 - mse: 0.1247 - val_loss: 0.0283 - val_correlation: 0.9073 - val_mse: 0.1262\n",
      "Epoch 32/200\n",
      "68/68 [==============================] - ETA: 0s - loss: 0.0284 - correlation: 0.8932 - mse: 0.1250"
     ]
    },
    {
     "name": "stderr",
     "output_type": "stream",
     "text": [
      "/Users/lanacaldarevic/miniforge3/envs/tf_m1/lib/python3.9/site-packages/keras/src/engine/training.py:3000: UserWarning: You are saving your model as an HDF5 file via `model.save()`. This file format is considered legacy. We recommend using instead the native Keras format, e.g. `model.save('my_model.keras')`.\n",
      "  saving_api.save_model(\n"
     ]
    },
    {
     "name": "stdout",
     "output_type": "stream",
     "text": [
      "INFO:tensorflow:Assets written to: /Users/lanacaldarevic/workspace/phd/ecg_derived_resp_dl/notebooks/wandb/run-20240410_154640-gamsd0do/files/model-best/assets\n"
     ]
    },
    {
     "name": "stderr",
     "output_type": "stream",
     "text": [
      "INFO:tensorflow:Assets written to: /Users/lanacaldarevic/workspace/phd/ecg_derived_resp_dl/notebooks/wandb/run-20240410_154640-gamsd0do/files/model-best/assets\n",
      "\u001b[34m\u001b[1mwandb\u001b[0m: Adding directory to artifact (/Users/lanacaldarevic/workspace/phd/ecg_derived_resp_dl/notebooks/wandb/run-20240410_154640-gamsd0do/files/model-best)... Done. 0.0s\n"
     ]
    },
    {
     "name": "stdout",
     "output_type": "stream",
     "text": [
      "68/68 [==============================] - 17s 256ms/step - loss: 0.0284 - correlation: 0.8932 - mse: 0.1250 - val_loss: 0.0266 - val_correlation: 1.0170 - val_mse: 0.1308\n",
      "Epoch 33/200\n",
      "68/68 [==============================] - ETA: 0s - loss: 0.0276 - correlation: 0.9073 - mse: 0.1252"
     ]
    },
    {
     "name": "stderr",
     "output_type": "stream",
     "text": [
      "/Users/lanacaldarevic/miniforge3/envs/tf_m1/lib/python3.9/site-packages/keras/src/engine/training.py:3000: UserWarning: You are saving your model as an HDF5 file via `model.save()`. This file format is considered legacy. We recommend using instead the native Keras format, e.g. `model.save('my_model.keras')`.\n",
      "  saving_api.save_model(\n"
     ]
    },
    {
     "name": "stdout",
     "output_type": "stream",
     "text": [
      "INFO:tensorflow:Assets written to: /Users/lanacaldarevic/workspace/phd/ecg_derived_resp_dl/notebooks/wandb/run-20240410_154640-gamsd0do/files/model-best/assets\n"
     ]
    },
    {
     "name": "stderr",
     "output_type": "stream",
     "text": [
      "INFO:tensorflow:Assets written to: /Users/lanacaldarevic/workspace/phd/ecg_derived_resp_dl/notebooks/wandb/run-20240410_154640-gamsd0do/files/model-best/assets\n",
      "\u001b[34m\u001b[1mwandb\u001b[0m: Adding directory to artifact (/Users/lanacaldarevic/workspace/phd/ecg_derived_resp_dl/notebooks/wandb/run-20240410_154640-gamsd0do/files/model-best)... Done. 0.0s\n"
     ]
    },
    {
     "name": "stdout",
     "output_type": "stream",
     "text": [
      "68/68 [==============================] - 18s 268ms/step - loss: 0.0276 - correlation: 0.9073 - mse: 0.1252 - val_loss: 0.0261 - val_correlation: 0.9789 - val_mse: 0.1328\n",
      "Epoch 34/200\n",
      "68/68 [==============================] - 16s 229ms/step - loss: 0.0286 - correlation: 0.8876 - mse: 0.1247 - val_loss: 0.0276 - val_correlation: 0.9909 - val_mse: 0.1386\n",
      "Epoch 35/200\n",
      "68/68 [==============================] - 14s 212ms/step - loss: 0.0287 - correlation: 0.8918 - mse: 0.1247 - val_loss: 0.0266 - val_correlation: 0.9718 - val_mse: 0.1380\n",
      "Epoch 36/200\n",
      "68/68 [==============================] - 16s 235ms/step - loss: 0.0269 - correlation: 0.8979 - mse: 0.1251 - val_loss: 0.0263 - val_correlation: 0.9431 - val_mse: 0.1248\n",
      "Epoch 37/200\n",
      "68/68 [==============================] - ETA: 0s - loss: 0.0301 - correlation: 0.9112 - mse: 0.1254"
     ]
    },
    {
     "name": "stderr",
     "output_type": "stream",
     "text": [
      "/Users/lanacaldarevic/miniforge3/envs/tf_m1/lib/python3.9/site-packages/keras/src/engine/training.py:3000: UserWarning: You are saving your model as an HDF5 file via `model.save()`. This file format is considered legacy. We recommend using instead the native Keras format, e.g. `model.save('my_model.keras')`.\n",
      "  saving_api.save_model(\n"
     ]
    },
    {
     "name": "stdout",
     "output_type": "stream",
     "text": [
      "INFO:tensorflow:Assets written to: /Users/lanacaldarevic/workspace/phd/ecg_derived_resp_dl/notebooks/wandb/run-20240410_154640-gamsd0do/files/model-best/assets\n"
     ]
    },
    {
     "name": "stderr",
     "output_type": "stream",
     "text": [
      "INFO:tensorflow:Assets written to: /Users/lanacaldarevic/workspace/phd/ecg_derived_resp_dl/notebooks/wandb/run-20240410_154640-gamsd0do/files/model-best/assets\n",
      "\u001b[34m\u001b[1mwandb\u001b[0m: Adding directory to artifact (/Users/lanacaldarevic/workspace/phd/ecg_derived_resp_dl/notebooks/wandb/run-20240410_154640-gamsd0do/files/model-best)... Done. 0.0s\n"
     ]
    },
    {
     "name": "stdout",
     "output_type": "stream",
     "text": [
      "68/68 [==============================] - 17s 256ms/step - loss: 0.0301 - correlation: 0.9112 - mse: 0.1254 - val_loss: 0.0260 - val_correlation: 0.9923 - val_mse: 0.1344\n",
      "Epoch 38/200\n",
      "68/68 [==============================] - 15s 225ms/step - loss: 0.0275 - correlation: 0.8993 - mse: 0.1250 - val_loss: 0.0268 - val_correlation: 0.8262 - val_mse: 0.1240\n",
      "Epoch 39/200\n",
      "68/68 [==============================] - 16s 236ms/step - loss: 0.0284 - correlation: 0.9131 - mse: 0.1253 - val_loss: 0.0379 - val_correlation: 1.0011 - val_mse: 0.1352\n",
      "Epoch 40/200\n",
      "68/68 [==============================] - 16s 238ms/step - loss: 0.0280 - correlation: 0.8936 - mse: 0.1252 - val_loss: 0.0266 - val_correlation: 1.0807 - val_mse: 0.1379\n",
      "Epoch 41/200\n",
      "68/68 [==============================] - 14s 211ms/step - loss: 0.0277 - correlation: 0.8985 - mse: 0.1252 - val_loss: 0.0270 - val_correlation: 0.7135 - val_mse: 0.1195\n",
      "Epoch 42/200\n",
      "68/68 [==============================] - 14s 213ms/step - loss: 0.0296 - correlation: 0.9166 - mse: 0.1254 - val_loss: 0.0271 - val_correlation: 0.9856 - val_mse: 0.1255\n",
      "Epoch 43/200\n",
      "68/68 [==============================] - 15s 224ms/step - loss: 0.0279 - correlation: 0.8867 - mse: 0.1244 - val_loss: 0.0278 - val_correlation: 1.0078 - val_mse: 0.1276\n",
      "Epoch 44/200\n",
      "68/68 [==============================] - 16s 233ms/step - loss: 0.0266 - correlation: 0.8957 - mse: 0.1252 - val_loss: 0.0268 - val_correlation: 0.9763 - val_mse: 0.1240\n",
      "Epoch 45/200\n",
      "68/68 [==============================] - ETA: 0s - loss: 0.0260 - correlation: 0.8887 - mse: 0.1246"
     ]
    },
    {
     "name": "stderr",
     "output_type": "stream",
     "text": [
      "/Users/lanacaldarevic/miniforge3/envs/tf_m1/lib/python3.9/site-packages/keras/src/engine/training.py:3000: UserWarning: You are saving your model as an HDF5 file via `model.save()`. This file format is considered legacy. We recommend using instead the native Keras format, e.g. `model.save('my_model.keras')`.\n",
      "  saving_api.save_model(\n"
     ]
    },
    {
     "name": "stdout",
     "output_type": "stream",
     "text": [
      "INFO:tensorflow:Assets written to: /Users/lanacaldarevic/workspace/phd/ecg_derived_resp_dl/notebooks/wandb/run-20240410_154640-gamsd0do/files/model-best/assets\n"
     ]
    },
    {
     "name": "stderr",
     "output_type": "stream",
     "text": [
      "INFO:tensorflow:Assets written to: /Users/lanacaldarevic/workspace/phd/ecg_derived_resp_dl/notebooks/wandb/run-20240410_154640-gamsd0do/files/model-best/assets\n",
      "\u001b[34m\u001b[1mwandb\u001b[0m: Adding directory to artifact (/Users/lanacaldarevic/workspace/phd/ecg_derived_resp_dl/notebooks/wandb/run-20240410_154640-gamsd0do/files/model-best)... Done. 0.0s\n"
     ]
    },
    {
     "name": "stdout",
     "output_type": "stream",
     "text": [
      "68/68 [==============================] - 16s 241ms/step - loss: 0.0260 - correlation: 0.8887 - mse: 0.1246 - val_loss: 0.0246 - val_correlation: 0.7701 - val_mse: 0.1261\n",
      "Epoch 46/200\n",
      "68/68 [==============================] - ETA: 0s - loss: 0.0266 - correlation: 0.8862 - mse: 0.1246"
     ]
    },
    {
     "name": "stderr",
     "output_type": "stream",
     "text": [
      "/Users/lanacaldarevic/miniforge3/envs/tf_m1/lib/python3.9/site-packages/keras/src/engine/training.py:3000: UserWarning: You are saving your model as an HDF5 file via `model.save()`. This file format is considered legacy. We recommend using instead the native Keras format, e.g. `model.save('my_model.keras')`.\n",
      "  saving_api.save_model(\n"
     ]
    },
    {
     "name": "stdout",
     "output_type": "stream",
     "text": [
      "INFO:tensorflow:Assets written to: /Users/lanacaldarevic/workspace/phd/ecg_derived_resp_dl/notebooks/wandb/run-20240410_154640-gamsd0do/files/model-best/assets\n"
     ]
    },
    {
     "name": "stderr",
     "output_type": "stream",
     "text": [
      "INFO:tensorflow:Assets written to: /Users/lanacaldarevic/workspace/phd/ecg_derived_resp_dl/notebooks/wandb/run-20240410_154640-gamsd0do/files/model-best/assets\n",
      "\u001b[34m\u001b[1mwandb\u001b[0m: Adding directory to artifact (/Users/lanacaldarevic/workspace/phd/ecg_derived_resp_dl/notebooks/wandb/run-20240410_154640-gamsd0do/files/model-best)... Done. 0.1s\n"
     ]
    },
    {
     "name": "stdout",
     "output_type": "stream",
     "text": [
      "68/68 [==============================] - 18s 269ms/step - loss: 0.0266 - correlation: 0.8862 - mse: 0.1246 - val_loss: 0.0243 - val_correlation: 0.7156 - val_mse: 0.1167\n",
      "Epoch 47/200\n",
      "68/68 [==============================] - 15s 224ms/step - loss: 0.0264 - correlation: 0.8906 - mse: 0.1247 - val_loss: 0.0408 - val_correlation: 1.0512 - val_mse: 0.2504\n",
      "Epoch 48/200\n",
      "68/68 [==============================] - 16s 243ms/step - loss: 0.0274 - correlation: 0.9010 - mse: 0.1252 - val_loss: 0.0288 - val_correlation: 1.0046 - val_mse: 0.1233\n",
      "Epoch 49/200\n",
      "68/68 [==============================] - 14s 207ms/step - loss: 0.0282 - correlation: 0.8908 - mse: 0.1244 - val_loss: 0.0285 - val_correlation: 1.0004 - val_mse: 0.1246\n",
      "Epoch 50/200\n",
      "68/68 [==============================] - 16s 236ms/step - loss: 0.0270 - correlation: 0.8913 - mse: 0.1245 - val_loss: 0.0258 - val_correlation: 0.7182 - val_mse: 0.1203\n",
      "Epoch 51/200\n",
      "68/68 [==============================] - 14s 208ms/step - loss: 0.0277 - correlation: 0.9012 - mse: 0.1253 - val_loss: 0.0277 - val_correlation: 1.1259 - val_mse: 0.1289\n",
      "Epoch 52/200\n",
      "68/68 [==============================] - 14s 211ms/step - loss: 0.0285 - correlation: 0.9211 - mse: 0.1259 - val_loss: 0.0357 - val_correlation: 0.9420 - val_mse: 0.1969\n",
      "Epoch 53/200\n",
      "68/68 [==============================] - 13s 196ms/step - loss: 0.0285 - correlation: 0.9070 - mse: 0.1249 - val_loss: 0.0278 - val_correlation: 0.9988 - val_mse: 0.1353\n",
      "Epoch 54/200\n",
      "68/68 [==============================] - 13s 194ms/step - loss: 0.0301 - correlation: 0.9169 - mse: 0.1256 - val_loss: 0.0269 - val_correlation: 0.8585 - val_mse: 0.1269\n",
      "Epoch 55/200\n",
      "68/68 [==============================] - 14s 211ms/step - loss: 0.0268 - correlation: 0.9090 - mse: 0.1255 - val_loss: 0.0271 - val_correlation: 0.9181 - val_mse: 0.1219\n",
      "Epoch 56/200\n",
      "68/68 [==============================] - 15s 215ms/step - loss: 0.0326 - correlation: 0.9116 - mse: 0.1259 - val_loss: 0.0445 - val_correlation: 1.1518 - val_mse: 0.1328\n"
     ]
    },
    {
     "name": "stderr",
     "output_type": "stream",
     "text": [
      "/Users/lanacaldarevic/miniforge3/envs/tf_m1/lib/python3.9/site-packages/keras/src/engine/training.py:3000: UserWarning: You are saving your model as an HDF5 file via `model.save()`. This file format is considered legacy. We recommend using instead the native Keras format, e.g. `model.save('my_model.keras')`.\n",
      "  saving_api.save_model(\n"
     ]
    },
    {
     "data": {
      "text/html": [
       "Waiting for W&B process to finish... <strong style=\"color:green\">(success).</strong>"
      ],
      "text/plain": [
       "<IPython.core.display.HTML object>"
      ]
     },
     "metadata": {},
     "output_type": "display_data"
    },
    {
     "data": {
      "text/html": [
       "<style>\n",
       "    table.wandb td:nth-child(1) { padding: 0 10px; text-align: left ; width: auto;} td:nth-child(2) {text-align: left ; width: 100%}\n",
       "    .wandb-row { display: flex; flex-direction: row; flex-wrap: wrap; justify-content: flex-start; width: 100% }\n",
       "    .wandb-col { display: flex; flex-direction: column; flex-basis: 100%; flex: 1; padding: 10px; }\n",
       "    </style>\n",
       "<div class=\"wandb-row\"><div class=\"wandb-col\"><h3>Run history:</h3><br/><table class=\"wandb\"><tr><td>correlation</td><td>█▇▆▆▅▅▄▃▄▄▃▃▄▂▃▃▃▄▃▂▄▃▂▃▁▂▃▃▂▂▁▂▁▁▂▁▂▃▄▃</td></tr><tr><td>epoch</td><td>▁▁▁▂▂▂▂▂▂▃▃▃▃▃▃▄▄▄▄▄▅▅▅▅▅▅▆▆▆▆▆▆▇▇▇▇▇███</td></tr><tr><td>loss</td><td>█▂▂▁▁▁▁▂▁▁▁▁▁▁▁▁▁▁▁▁▁▁▁▁▁▁▁▁▁▁▁▁▁▁▁▁▁▁▁▁</td></tr><tr><td>mse</td><td>█▆▃▄▃▄▄▃▃▂▂▂▂▂▂▂▂▂▂▂▃▂▂▂▁▂▂▂▂▂▁▂▁▁▂▁▂▂▂▃</td></tr><tr><td>val_correlation</td><td>▆▄▅▅▅▆▃▅▁▄▅▁▂▁▁▇▃▂▂▄▄▇▆▅▅▅▅▆▇▁▆▅▁▆▆▁█▆▃█</td></tr><tr><td>val_loss</td><td>▆▅▃▃▃█▃▃▃▃▃▃▂▂▂▃▂▂▂▂▂▂▁▁▂▁▁▃▁▁▂▁▁▄▂▁▂▂▁▄</td></tr><tr><td>val_mse</td><td>▁▁▁▁▁█▁▁▁▁▁▁▁▁▁▁▁▁▁▁▂▁▁▁▂▁▁▁▂▁▁▁▁▄▁▁▁▁▁▁</td></tr></table><br/></div><div class=\"wandb-col\"><h3>Run summary:</h3><br/><table class=\"wandb\"><tr><td>best_epoch</td><td>45</td></tr><tr><td>best_val_loss</td><td>0.02435</td></tr><tr><td>correlation</td><td>0.91159</td></tr><tr><td>epoch</td><td>55</td></tr><tr><td>loss</td><td>0.03259</td></tr><tr><td>mse</td><td>0.12585</td></tr><tr><td>val_correlation</td><td>1.1518</td></tr><tr><td>val_loss</td><td>0.04448</td></tr><tr><td>val_mse</td><td>0.13276</td></tr></table><br/></div></div>"
      ],
      "text/plain": [
       "<IPython.core.display.HTML object>"
      ]
     },
     "metadata": {},
     "output_type": "display_data"
    },
    {
     "data": {
      "text/html": [
       " View run <strong style=\"color:#cdcd00\">sparkling-sweep-3</strong> at: <a href='https://wandb.ai/lana-caldarevic1/biosignal_deeplearning/runs/gamsd0do' target=\"_blank\">https://wandb.ai/lana-caldarevic1/biosignal_deeplearning/runs/gamsd0do</a><br/>Synced 6 W&B file(s), 1 media file(s), 75 artifact file(s) and 1 other file(s)"
      ],
      "text/plain": [
       "<IPython.core.display.HTML object>"
      ]
     },
     "metadata": {},
     "output_type": "display_data"
    },
    {
     "data": {
      "text/html": [
       "Find logs at: <code>./wandb/run-20240410_154640-gamsd0do/logs</code>"
      ],
      "text/plain": [
       "<IPython.core.display.HTML object>"
      ]
     },
     "metadata": {},
     "output_type": "display_data"
    },
    {
     "name": "stderr",
     "output_type": "stream",
     "text": [
      "\u001b[34m\u001b[1mwandb\u001b[0m: Sweep Agent: Waiting for job.\n",
      "\u001b[34m\u001b[1mwandb\u001b[0m: Job received.\n",
      "\u001b[34m\u001b[1mwandb\u001b[0m: Agent Starting Run: r5cwnuo5 with config:\n",
      "\u001b[34m\u001b[1mwandb\u001b[0m: \tbatch_size: 64\n",
      "\u001b[34m\u001b[1mwandb\u001b[0m: \tdropout: 0.5188499737663761\n",
      "\u001b[34m\u001b[1mwandb\u001b[0m: \tkernel_size: 27\n",
      "\u001b[34m\u001b[1mwandb\u001b[0m: \tlearning_rate: 0.004242577275659656\n",
      "\u001b[34m\u001b[1mwandb\u001b[0m: \treg: 0.007840133780441095\n",
      "\u001b[34m\u001b[1mwandb\u001b[0m: \tstart_filters: 8\n"
     ]
    },
    {
     "data": {
      "text/html": [
       "wandb version 0.16.6 is available!  To upgrade, please run:\n",
       " $ pip install wandb --upgrade"
      ],
      "text/plain": [
       "<IPython.core.display.HTML object>"
      ]
     },
     "metadata": {},
     "output_type": "display_data"
    },
    {
     "data": {
      "text/html": [
       "Tracking run with wandb version 0.15.9"
      ],
      "text/plain": [
       "<IPython.core.display.HTML object>"
      ]
     },
     "metadata": {},
     "output_type": "display_data"
    },
    {
     "data": {
      "text/html": [
       "Run data is saved locally in <code>/Users/lanacaldarevic/workspace/phd/ecg_derived_resp_dl/notebooks/wandb/run-20240410_160249-r5cwnuo5</code>"
      ],
      "text/plain": [
       "<IPython.core.display.HTML object>"
      ]
     },
     "metadata": {},
     "output_type": "display_data"
    },
    {
     "data": {
      "text/html": [
       "Syncing run <strong><a href='https://wandb.ai/lana-caldarevic1/biosignal_deeplearning/runs/r5cwnuo5' target=\"_blank\">ruby-sweep-4</a></strong> to <a href='https://wandb.ai/lana-caldarevic1/biosignal_deeplearning' target=\"_blank\">Weights & Biases</a> (<a href='https://wandb.me/run' target=\"_blank\">docs</a>)<br/>Sweep page: <a href='https://wandb.ai/lana-caldarevic1/biosignal_deeplearning/sweeps/94xtzv3y' target=\"_blank\">https://wandb.ai/lana-caldarevic1/biosignal_deeplearning/sweeps/94xtzv3y</a>"
      ],
      "text/plain": [
       "<IPython.core.display.HTML object>"
      ]
     },
     "metadata": {},
     "output_type": "display_data"
    },
    {
     "data": {
      "text/html": [
       " View project at <a href='https://wandb.ai/lana-caldarevic1/biosignal_deeplearning' target=\"_blank\">https://wandb.ai/lana-caldarevic1/biosignal_deeplearning</a>"
      ],
      "text/plain": [
       "<IPython.core.display.HTML object>"
      ]
     },
     "metadata": {},
     "output_type": "display_data"
    },
    {
     "data": {
      "text/html": [
       " View sweep at <a href='https://wandb.ai/lana-caldarevic1/biosignal_deeplearning/sweeps/94xtzv3y' target=\"_blank\">https://wandb.ai/lana-caldarevic1/biosignal_deeplearning/sweeps/94xtzv3y</a>"
      ],
      "text/plain": [
       "<IPython.core.display.HTML object>"
      ]
     },
     "metadata": {},
     "output_type": "display_data"
    },
    {
     "data": {
      "text/html": [
       " View run at <a href='https://wandb.ai/lana-caldarevic1/biosignal_deeplearning/runs/r5cwnuo5' target=\"_blank\">https://wandb.ai/lana-caldarevic1/biosignal_deeplearning/runs/r5cwnuo5</a>"
      ],
      "text/plain": [
       "<IPython.core.display.HTML object>"
      ]
     },
     "metadata": {},
     "output_type": "display_data"
    },
    {
     "name": "stdout",
     "output_type": "stream",
     "text": [
      "GPU enabled\n",
      "Model: \"model\"\n",
      "__________________________________________________________________________________________________\n",
      " Layer (type)                Output Shape                 Param #   Connected to                  \n",
      "==================================================================================================\n",
      " input_1 (InputLayer)        [(None, 1024, 1)]            0         []                            \n",
      "                                                                                                  \n",
      " conv1d (Conv1D)             (None, 1024, 8)              224       ['input_1[0][0]']             \n",
      "                                                                                                  \n",
      " batch_normalization (Batch  (None, 1024, 8)              32        ['conv1d[0][0]']              \n",
      " Normalization)                                                                                   \n",
      "                                                                                                  \n",
      " conv1d_1 (Conv1D)           (None, 1024, 8)              1736      ['batch_normalization[0][0]'] \n",
      "                                                                                                  \n",
      " batch_normalization_1 (Bat  (None, 1024, 8)              32        ['conv1d_1[0][0]']            \n",
      " chNormalization)                                                                                 \n",
      "                                                                                                  \n",
      " max_pooling1d (MaxPooling1  (None, 512, 8)               0         ['batch_normalization_1[0][0]'\n",
      " D)                                                                 ]                             \n",
      "                                                                                                  \n",
      " conv1d_2 (Conv1D)           (None, 512, 16)              3472      ['max_pooling1d[0][0]']       \n",
      "                                                                                                  \n",
      " batch_normalization_2 (Bat  (None, 512, 16)              64        ['conv1d_2[0][0]']            \n",
      " chNormalization)                                                                                 \n",
      "                                                                                                  \n",
      " conv1d_3 (Conv1D)           (None, 512, 16)              6928      ['batch_normalization_2[0][0]'\n",
      "                                                                    ]                             \n",
      "                                                                                                  \n",
      " batch_normalization_3 (Bat  (None, 512, 16)              64        ['conv1d_3[0][0]']            \n",
      " chNormalization)                                                                                 \n",
      "                                                                                                  \n",
      " dropout (Dropout)           (None, 512, 16)              0         ['batch_normalization_3[0][0]'\n",
      "                                                                    ]                             \n",
      "                                                                                                  \n",
      " max_pooling1d_1 (MaxPoolin  (None, 256, 16)              0         ['dropout[0][0]']             \n",
      " g1D)                                                                                             \n",
      "                                                                                                  \n",
      " conv1d_4 (Conv1D)           (None, 256, 32)              13856     ['max_pooling1d_1[0][0]']     \n",
      "                                                                                                  \n",
      " batch_normalization_4 (Bat  (None, 256, 32)              128       ['conv1d_4[0][0]']            \n",
      " chNormalization)                                                                                 \n",
      "                                                                                                  \n",
      " conv1d_5 (Conv1D)           (None, 256, 32)              27680     ['batch_normalization_4[0][0]'\n",
      "                                                                    ]                             \n",
      "                                                                                                  \n",
      " batch_normalization_5 (Bat  (None, 256, 32)              128       ['conv1d_5[0][0]']            \n",
      " chNormalization)                                                                                 \n",
      "                                                                                                  \n",
      " up_sampling1d (UpSampling1  (None, 512, 32)              0         ['batch_normalization_5[0][0]'\n",
      " D)                                                                 ]                             \n",
      "                                                                                                  \n",
      " conv1d_6 (Conv1D)           (None, 512, 32)              27680     ['up_sampling1d[0][0]']       \n",
      "                                                                                                  \n",
      " batch_normalization_6 (Bat  (None, 512, 32)              128       ['conv1d_6[0][0]']            \n",
      " chNormalization)                                                                                 \n",
      "                                                                                                  \n",
      " concatenate (Concatenate)   (None, 512, 48)              0         ['dropout[0][0]',             \n",
      "                                                                     'batch_normalization_6[0][0]'\n",
      "                                                                    ]                             \n",
      "                                                                                                  \n",
      " conv1d_7 (Conv1D)           (None, 512, 16)              20752     ['concatenate[0][0]']         \n",
      "                                                                                                  \n",
      " batch_normalization_7 (Bat  (None, 512, 16)              64        ['conv1d_7[0][0]']            \n",
      " chNormalization)                                                                                 \n",
      "                                                                                                  \n",
      " conv1d_8 (Conv1D)           (None, 512, 16)              6928      ['batch_normalization_7[0][0]'\n",
      "                                                                    ]                             \n",
      "                                                                                                  \n",
      " batch_normalization_8 (Bat  (None, 512, 16)              64        ['conv1d_8[0][0]']            \n",
      " chNormalization)                                                                                 \n",
      "                                                                                                  \n",
      " dropout_1 (Dropout)         (None, 512, 16)              0         ['batch_normalization_8[0][0]'\n",
      "                                                                    ]                             \n",
      "                                                                                                  \n",
      " up_sampling1d_1 (UpSamplin  (None, 1024, 16)             0         ['dropout_1[0][0]']           \n",
      " g1D)                                                                                             \n",
      "                                                                                                  \n",
      " conv1d_9 (Conv1D)           (None, 1024, 16)             6928      ['up_sampling1d_1[0][0]']     \n",
      "                                                                                                  \n",
      " batch_normalization_9 (Bat  (None, 1024, 16)             64        ['conv1d_9[0][0]']            \n",
      " chNormalization)                                                                                 \n",
      "                                                                                                  \n",
      " concatenate_1 (Concatenate  (None, 1024, 24)             0         ['batch_normalization_1[0][0]'\n",
      " )                                                                  , 'batch_normalization_9[0][0]\n",
      "                                                                    ']                            \n",
      "                                                                                                  \n",
      " conv1d_10 (Conv1D)          (None, 1024, 8)              5192      ['concatenate_1[0][0]']       \n",
      "                                                                                                  \n",
      " batch_normalization_10 (Ba  (None, 1024, 8)              32        ['conv1d_10[0][0]']           \n",
      " tchNormalization)                                                                                \n",
      "                                                                                                  \n",
      " conv1d_11 (Conv1D)          (None, 1024, 8)              1736      ['batch_normalization_10[0][0]\n",
      "                                                                    ']                            \n",
      "                                                                                                  \n",
      " batch_normalization_11 (Ba  (None, 1024, 8)              32        ['conv1d_11[0][0]']           \n",
      " tchNormalization)                                                                                \n",
      "                                                                                                  \n",
      " conv1d_12 (Conv1D)          (None, 1024, 1)              217       ['batch_normalization_11[0][0]\n",
      "                                                                    ']                            \n",
      "                                                                                                  \n",
      "==================================================================================================\n",
      "Total params: 124161 (485.00 KB)\n",
      "Trainable params: 123745 (483.38 KB)\n",
      "Non-trainable params: 416 (1.62 KB)\n",
      "__________________________________________________________________________________________________\n",
      "Model training starting\n",
      "Epoch 1/200\n"
     ]
    },
    {
     "name": "stderr",
     "output_type": "stream",
     "text": [
      "2024-04-10 16:03:08.250963: I tensorflow/core/grappler/optimizers/custom_graph_optimizer_registry.cc:114] Plugin optimizer for device_type GPU is enabled.\n"
     ]
    },
    {
     "name": "stdout",
     "output_type": "stream",
     "text": [
      "68/68 [==============================] - ETA: 0s - loss: 0.3950 - correlation: 0.8521 - mse: 0.1287"
     ]
    },
    {
     "name": "stderr",
     "output_type": "stream",
     "text": [
      "2024-04-10 16:03:44.983440: I tensorflow/core/grappler/optimizers/custom_graph_optimizer_registry.cc:114] Plugin optimizer for device_type GPU is enabled.\n",
      "/Users/lanacaldarevic/miniforge3/envs/tf_m1/lib/python3.9/site-packages/keras/src/engine/training.py:3000: UserWarning: You are saving your model as an HDF5 file via `model.save()`. This file format is considered legacy. We recommend using instead the native Keras format, e.g. `model.save('my_model.keras')`.\n",
      "  saving_api.save_model(\n"
     ]
    },
    {
     "name": "stdout",
     "output_type": "stream",
     "text": [
      "INFO:tensorflow:Assets written to: /Users/lanacaldarevic/workspace/phd/ecg_derived_resp_dl/notebooks/wandb/run-20240410_160249-r5cwnuo5/files/model-best/assets\n"
     ]
    },
    {
     "name": "stderr",
     "output_type": "stream",
     "text": [
      "INFO:tensorflow:Assets written to: /Users/lanacaldarevic/workspace/phd/ecg_derived_resp_dl/notebooks/wandb/run-20240410_160249-r5cwnuo5/files/model-best/assets\n",
      "\u001b[34m\u001b[1mwandb\u001b[0m: Adding directory to artifact (/Users/lanacaldarevic/workspace/phd/ecg_derived_resp_dl/notebooks/wandb/run-20240410_160249-r5cwnuo5/files/model-best)... Done. 0.1s\n"
     ]
    },
    {
     "name": "stdout",
     "output_type": "stream",
     "text": [
      "68/68 [==============================] - 51s 413ms/step - loss: 0.3950 - correlation: 0.8521 - mse: 0.1287 - val_loss: 0.0504 - val_correlation: 0.9935 - val_mse: 0.1282\n",
      "Epoch 2/200\n",
      "68/68 [==============================] - ETA: 0s - loss: 0.0392 - correlation: 0.8471 - mse: 0.1239"
     ]
    },
    {
     "name": "stderr",
     "output_type": "stream",
     "text": [
      "/Users/lanacaldarevic/miniforge3/envs/tf_m1/lib/python3.9/site-packages/keras/src/engine/training.py:3000: UserWarning: You are saving your model as an HDF5 file via `model.save()`. This file format is considered legacy. We recommend using instead the native Keras format, e.g. `model.save('my_model.keras')`.\n",
      "  saving_api.save_model(\n"
     ]
    },
    {
     "name": "stdout",
     "output_type": "stream",
     "text": [
      "INFO:tensorflow:Assets written to: /Users/lanacaldarevic/workspace/phd/ecg_derived_resp_dl/notebooks/wandb/run-20240410_160249-r5cwnuo5/files/model-best/assets\n"
     ]
    },
    {
     "name": "stderr",
     "output_type": "stream",
     "text": [
      "INFO:tensorflow:Assets written to: /Users/lanacaldarevic/workspace/phd/ecg_derived_resp_dl/notebooks/wandb/run-20240410_160249-r5cwnuo5/files/model-best/assets\n",
      "\u001b[34m\u001b[1mwandb\u001b[0m: Adding directory to artifact (/Users/lanacaldarevic/workspace/phd/ecg_derived_resp_dl/notebooks/wandb/run-20240410_160249-r5cwnuo5/files/model-best)... Done. 0.0s\n"
     ]
    },
    {
     "name": "stdout",
     "output_type": "stream",
     "text": [
      "68/68 [==============================] - 16s 233ms/step - loss: 0.0392 - correlation: 0.8471 - mse: 0.1239 - val_loss: 0.0347 - val_correlation: 0.9944 - val_mse: 0.1253\n",
      "Epoch 3/200\n",
      "68/68 [==============================] - ETA: 0s - loss: 0.0334 - correlation: 0.9185 - mse: 0.1255"
     ]
    },
    {
     "name": "stderr",
     "output_type": "stream",
     "text": [
      "/Users/lanacaldarevic/miniforge3/envs/tf_m1/lib/python3.9/site-packages/keras/src/engine/training.py:3000: UserWarning: You are saving your model as an HDF5 file via `model.save()`. This file format is considered legacy. We recommend using instead the native Keras format, e.g. `model.save('my_model.keras')`.\n",
      "  saving_api.save_model(\n"
     ]
    },
    {
     "name": "stdout",
     "output_type": "stream",
     "text": [
      "INFO:tensorflow:Assets written to: /Users/lanacaldarevic/workspace/phd/ecg_derived_resp_dl/notebooks/wandb/run-20240410_160249-r5cwnuo5/files/model-best/assets\n"
     ]
    },
    {
     "name": "stderr",
     "output_type": "stream",
     "text": [
      "INFO:tensorflow:Assets written to: /Users/lanacaldarevic/workspace/phd/ecg_derived_resp_dl/notebooks/wandb/run-20240410_160249-r5cwnuo5/files/model-best/assets\n",
      "\u001b[34m\u001b[1mwandb\u001b[0m: Adding directory to artifact (/Users/lanacaldarevic/workspace/phd/ecg_derived_resp_dl/notebooks/wandb/run-20240410_160249-r5cwnuo5/files/model-best)... Done. 0.0s\n"
     ]
    },
    {
     "name": "stdout",
     "output_type": "stream",
     "text": [
      "68/68 [==============================] - 16s 231ms/step - loss: 0.0334 - correlation: 0.9185 - mse: 0.1255 - val_loss: 0.0341 - val_correlation: 1.0051 - val_mse: 0.1282\n",
      "Epoch 4/200\n",
      "68/68 [==============================] - ETA: 0s - loss: 0.0318 - correlation: 0.9670 - mse: 0.1275"
     ]
    },
    {
     "name": "stderr",
     "output_type": "stream",
     "text": [
      "/Users/lanacaldarevic/miniforge3/envs/tf_m1/lib/python3.9/site-packages/keras/src/engine/training.py:3000: UserWarning: You are saving your model as an HDF5 file via `model.save()`. This file format is considered legacy. We recommend using instead the native Keras format, e.g. `model.save('my_model.keras')`.\n",
      "  saving_api.save_model(\n"
     ]
    },
    {
     "name": "stdout",
     "output_type": "stream",
     "text": [
      "INFO:tensorflow:Assets written to: /Users/lanacaldarevic/workspace/phd/ecg_derived_resp_dl/notebooks/wandb/run-20240410_160249-r5cwnuo5/files/model-best/assets\n"
     ]
    },
    {
     "name": "stderr",
     "output_type": "stream",
     "text": [
      "INFO:tensorflow:Assets written to: /Users/lanacaldarevic/workspace/phd/ecg_derived_resp_dl/notebooks/wandb/run-20240410_160249-r5cwnuo5/files/model-best/assets\n",
      "\u001b[34m\u001b[1mwandb\u001b[0m: Adding directory to artifact (/Users/lanacaldarevic/workspace/phd/ecg_derived_resp_dl/notebooks/wandb/run-20240410_160249-r5cwnuo5/files/model-best)... Done. 0.0s\n"
     ]
    },
    {
     "name": "stdout",
     "output_type": "stream",
     "text": [
      "68/68 [==============================] - 16s 229ms/step - loss: 0.0318 - correlation: 0.9670 - mse: 0.1275 - val_loss: 0.0337 - val_correlation: 0.9972 - val_mse: 0.1246\n",
      "Epoch 5/200\n",
      "68/68 [==============================] - ETA: 0s - loss: 0.0322 - correlation: 0.9765 - mse: 0.1269"
     ]
    },
    {
     "name": "stderr",
     "output_type": "stream",
     "text": [
      "/Users/lanacaldarevic/miniforge3/envs/tf_m1/lib/python3.9/site-packages/keras/src/engine/training.py:3000: UserWarning: You are saving your model as an HDF5 file via `model.save()`. This file format is considered legacy. We recommend using instead the native Keras format, e.g. `model.save('my_model.keras')`.\n",
      "  saving_api.save_model(\n"
     ]
    },
    {
     "name": "stdout",
     "output_type": "stream",
     "text": [
      "INFO:tensorflow:Assets written to: /Users/lanacaldarevic/workspace/phd/ecg_derived_resp_dl/notebooks/wandb/run-20240410_160249-r5cwnuo5/files/model-best/assets\n"
     ]
    },
    {
     "name": "stderr",
     "output_type": "stream",
     "text": [
      "INFO:tensorflow:Assets written to: /Users/lanacaldarevic/workspace/phd/ecg_derived_resp_dl/notebooks/wandb/run-20240410_160249-r5cwnuo5/files/model-best/assets\n",
      "\u001b[34m\u001b[1mwandb\u001b[0m: Adding directory to artifact (/Users/lanacaldarevic/workspace/phd/ecg_derived_resp_dl/notebooks/wandb/run-20240410_160249-r5cwnuo5/files/model-best)... Done. 0.0s\n"
     ]
    },
    {
     "name": "stdout",
     "output_type": "stream",
     "text": [
      "68/68 [==============================] - 17s 242ms/step - loss: 0.0322 - correlation: 0.9765 - mse: 0.1269 - val_loss: 0.0297 - val_correlation: 0.9963 - val_mse: 0.1270\n",
      "Epoch 6/200\n",
      "68/68 [==============================] - ETA: 0s - loss: 0.0304 - correlation: 0.9792 - mse: 0.1270"
     ]
    },
    {
     "name": "stderr",
     "output_type": "stream",
     "text": [
      "/Users/lanacaldarevic/miniforge3/envs/tf_m1/lib/python3.9/site-packages/keras/src/engine/training.py:3000: UserWarning: You are saving your model as an HDF5 file via `model.save()`. This file format is considered legacy. We recommend using instead the native Keras format, e.g. `model.save('my_model.keras')`.\n",
      "  saving_api.save_model(\n"
     ]
    },
    {
     "name": "stdout",
     "output_type": "stream",
     "text": [
      "INFO:tensorflow:Assets written to: /Users/lanacaldarevic/workspace/phd/ecg_derived_resp_dl/notebooks/wandb/run-20240410_160249-r5cwnuo5/files/model-best/assets\n"
     ]
    },
    {
     "name": "stderr",
     "output_type": "stream",
     "text": [
      "INFO:tensorflow:Assets written to: /Users/lanacaldarevic/workspace/phd/ecg_derived_resp_dl/notebooks/wandb/run-20240410_160249-r5cwnuo5/files/model-best/assets\n",
      "\u001b[34m\u001b[1mwandb\u001b[0m: Adding directory to artifact (/Users/lanacaldarevic/workspace/phd/ecg_derived_resp_dl/notebooks/wandb/run-20240410_160249-r5cwnuo5/files/model-best)... Done. 0.0s\n"
     ]
    },
    {
     "name": "stdout",
     "output_type": "stream",
     "text": [
      "68/68 [==============================] - 15s 221ms/step - loss: 0.0304 - correlation: 0.9792 - mse: 0.1270 - val_loss: 0.0286 - val_correlation: 0.9986 - val_mse: 0.1307\n",
      "Epoch 7/200\n",
      "68/68 [==============================] - 15s 210ms/step - loss: 0.0327 - correlation: 0.9696 - mse: 0.1274 - val_loss: 0.0315 - val_correlation: 1.0057 - val_mse: 0.1293\n",
      "Epoch 8/200\n",
      "68/68 [==============================] - 13s 187ms/step - loss: 0.0297 - correlation: 0.9652 - mse: 0.1266 - val_loss: 0.0289 - val_correlation: 0.9937 - val_mse: 0.1268\n",
      "Epoch 9/200\n",
      "68/68 [==============================] - 17s 245ms/step - loss: 0.0299 - correlation: 0.9403 - mse: 0.1268 - val_loss: 0.0293 - val_correlation: 1.0214 - val_mse: 0.1243\n",
      "Epoch 10/200\n",
      "68/68 [==============================] - 14s 199ms/step - loss: 0.0295 - correlation: 0.9486 - mse: 0.1263 - val_loss: 0.0289 - val_correlation: 0.9637 - val_mse: 0.1262\n",
      "Epoch 11/200\n",
      "68/68 [==============================] - 13s 190ms/step - loss: 0.0294 - correlation: 0.9476 - mse: 0.1268 - val_loss: 0.0343 - val_correlation: 1.1821 - val_mse: 0.1274\n",
      "Epoch 12/200\n",
      "68/68 [==============================] - 13s 187ms/step - loss: 0.0303 - correlation: 0.9491 - mse: 0.1265 - val_loss: 0.0309 - val_correlation: 1.0120 - val_mse: 0.1333\n",
      "Epoch 13/200\n",
      "68/68 [==============================] - ETA: 0s - loss: 0.0309 - correlation: 0.9635 - mse: 0.1275"
     ]
    },
    {
     "name": "stderr",
     "output_type": "stream",
     "text": [
      "/Users/lanacaldarevic/miniforge3/envs/tf_m1/lib/python3.9/site-packages/keras/src/engine/training.py:3000: UserWarning: You are saving your model as an HDF5 file via `model.save()`. This file format is considered legacy. We recommend using instead the native Keras format, e.g. `model.save('my_model.keras')`.\n",
      "  saving_api.save_model(\n"
     ]
    },
    {
     "name": "stdout",
     "output_type": "stream",
     "text": [
      "INFO:tensorflow:Assets written to: /Users/lanacaldarevic/workspace/phd/ecg_derived_resp_dl/notebooks/wandb/run-20240410_160249-r5cwnuo5/files/model-best/assets\n"
     ]
    },
    {
     "name": "stderr",
     "output_type": "stream",
     "text": [
      "INFO:tensorflow:Assets written to: /Users/lanacaldarevic/workspace/phd/ecg_derived_resp_dl/notebooks/wandb/run-20240410_160249-r5cwnuo5/files/model-best/assets\n",
      "\u001b[34m\u001b[1mwandb\u001b[0m: Adding directory to artifact (/Users/lanacaldarevic/workspace/phd/ecg_derived_resp_dl/notebooks/wandb/run-20240410_160249-r5cwnuo5/files/model-best)... Done. 0.0s\n"
     ]
    },
    {
     "name": "stdout",
     "output_type": "stream",
     "text": [
      "68/68 [==============================] - 18s 259ms/step - loss: 0.0309 - correlation: 0.9635 - mse: 0.1275 - val_loss: 0.0284 - val_correlation: 1.0069 - val_mse: 0.1249\n",
      "Epoch 14/200\n",
      "68/68 [==============================] - 14s 209ms/step - loss: 0.0292 - correlation: 0.9407 - mse: 0.1259 - val_loss: 0.0285 - val_correlation: 0.8049 - val_mse: 0.1227\n",
      "Epoch 15/200\n",
      "68/68 [==============================] - ETA: 0s - loss: 0.0284 - correlation: 0.9444 - mse: 0.1265"
     ]
    },
    {
     "name": "stderr",
     "output_type": "stream",
     "text": [
      "/Users/lanacaldarevic/miniforge3/envs/tf_m1/lib/python3.9/site-packages/keras/src/engine/training.py:3000: UserWarning: You are saving your model as an HDF5 file via `model.save()`. This file format is considered legacy. We recommend using instead the native Keras format, e.g. `model.save('my_model.keras')`.\n",
      "  saving_api.save_model(\n"
     ]
    },
    {
     "name": "stdout",
     "output_type": "stream",
     "text": [
      "INFO:tensorflow:Assets written to: /Users/lanacaldarevic/workspace/phd/ecg_derived_resp_dl/notebooks/wandb/run-20240410_160249-r5cwnuo5/files/model-best/assets\n"
     ]
    },
    {
     "name": "stderr",
     "output_type": "stream",
     "text": [
      "INFO:tensorflow:Assets written to: /Users/lanacaldarevic/workspace/phd/ecg_derived_resp_dl/notebooks/wandb/run-20240410_160249-r5cwnuo5/files/model-best/assets\n",
      "\u001b[34m\u001b[1mwandb\u001b[0m: Adding directory to artifact (/Users/lanacaldarevic/workspace/phd/ecg_derived_resp_dl/notebooks/wandb/run-20240410_160249-r5cwnuo5/files/model-best)... Done. 0.0s\n"
     ]
    },
    {
     "name": "stdout",
     "output_type": "stream",
     "text": [
      "68/68 [==============================] - 14s 206ms/step - loss: 0.0284 - correlation: 0.9444 - mse: 0.1265 - val_loss: 0.0279 - val_correlation: 0.9848 - val_mse: 0.1468\n",
      "Epoch 16/200\n",
      "68/68 [==============================] - 12s 180ms/step - loss: 0.0293 - correlation: 0.9473 - mse: 0.1262 - val_loss: 0.0279 - val_correlation: 0.8047 - val_mse: 0.1267\n",
      "Epoch 17/200\n",
      "68/68 [==============================] - ETA: 0s - loss: 0.0300 - correlation: 0.9238 - mse: 0.1259"
     ]
    },
    {
     "name": "stderr",
     "output_type": "stream",
     "text": [
      "/Users/lanacaldarevic/miniforge3/envs/tf_m1/lib/python3.9/site-packages/keras/src/engine/training.py:3000: UserWarning: You are saving your model as an HDF5 file via `model.save()`. This file format is considered legacy. We recommend using instead the native Keras format, e.g. `model.save('my_model.keras')`.\n",
      "  saving_api.save_model(\n"
     ]
    },
    {
     "name": "stdout",
     "output_type": "stream",
     "text": [
      "INFO:tensorflow:Assets written to: /Users/lanacaldarevic/workspace/phd/ecg_derived_resp_dl/notebooks/wandb/run-20240410_160249-r5cwnuo5/files/model-best/assets\n"
     ]
    },
    {
     "name": "stderr",
     "output_type": "stream",
     "text": [
      "INFO:tensorflow:Assets written to: /Users/lanacaldarevic/workspace/phd/ecg_derived_resp_dl/notebooks/wandb/run-20240410_160249-r5cwnuo5/files/model-best/assets\n",
      "\u001b[34m\u001b[1mwandb\u001b[0m: Adding directory to artifact (/Users/lanacaldarevic/workspace/phd/ecg_derived_resp_dl/notebooks/wandb/run-20240410_160249-r5cwnuo5/files/model-best)... Done. 0.0s\n"
     ]
    },
    {
     "name": "stdout",
     "output_type": "stream",
     "text": [
      "68/68 [==============================] - 15s 218ms/step - loss: 0.0300 - correlation: 0.9238 - mse: 0.1259 - val_loss: 0.0275 - val_correlation: 0.7481 - val_mse: 0.1195\n",
      "Epoch 18/200\n",
      "68/68 [==============================] - ETA: 0s - loss: 0.0301 - correlation: 0.9228 - mse: 0.1258"
     ]
    },
    {
     "name": "stderr",
     "output_type": "stream",
     "text": [
      "/Users/lanacaldarevic/miniforge3/envs/tf_m1/lib/python3.9/site-packages/keras/src/engine/training.py:3000: UserWarning: You are saving your model as an HDF5 file via `model.save()`. This file format is considered legacy. We recommend using instead the native Keras format, e.g. `model.save('my_model.keras')`.\n",
      "  saving_api.save_model(\n"
     ]
    },
    {
     "name": "stdout",
     "output_type": "stream",
     "text": [
      "INFO:tensorflow:Assets written to: /Users/lanacaldarevic/workspace/phd/ecg_derived_resp_dl/notebooks/wandb/run-20240410_160249-r5cwnuo5/files/model-best/assets\n"
     ]
    },
    {
     "name": "stderr",
     "output_type": "stream",
     "text": [
      "INFO:tensorflow:Assets written to: /Users/lanacaldarevic/workspace/phd/ecg_derived_resp_dl/notebooks/wandb/run-20240410_160249-r5cwnuo5/files/model-best/assets\n",
      "\u001b[34m\u001b[1mwandb\u001b[0m: Adding directory to artifact (/Users/lanacaldarevic/workspace/phd/ecg_derived_resp_dl/notebooks/wandb/run-20240410_160249-r5cwnuo5/files/model-best)... Done. 0.0s\n"
     ]
    },
    {
     "name": "stdout",
     "output_type": "stream",
     "text": [
      "68/68 [==============================] - 15s 222ms/step - loss: 0.0301 - correlation: 0.9228 - mse: 0.1258 - val_loss: 0.0259 - val_correlation: 0.7885 - val_mse: 0.1324\n",
      "Epoch 19/200\n",
      "68/68 [==============================] - 14s 202ms/step - loss: 0.0283 - correlation: 0.9277 - mse: 0.1260 - val_loss: 0.0290 - val_correlation: 0.9390 - val_mse: 0.1255\n",
      "Epoch 20/200\n",
      "68/68 [==============================] - 15s 210ms/step - loss: 0.0283 - correlation: 0.9258 - mse: 0.1262 - val_loss: 0.0323 - val_correlation: 1.0039 - val_mse: 0.1262\n",
      "Epoch 21/200\n",
      "68/68 [==============================] - 12s 180ms/step - loss: 0.0284 - correlation: 0.9248 - mse: 0.1257 - val_loss: 0.0273 - val_correlation: 0.8370 - val_mse: 0.1308\n",
      "Epoch 22/200\n",
      "68/68 [==============================] - 12s 178ms/step - loss: 0.0306 - correlation: 0.9190 - mse: 0.1254 - val_loss: 0.0282 - val_correlation: 0.9509 - val_mse: 0.1249\n",
      "Epoch 23/200\n",
      "68/68 [==============================] - 14s 201ms/step - loss: 0.0278 - correlation: 0.9173 - mse: 0.1254 - val_loss: 0.0281 - val_correlation: 0.9914 - val_mse: 0.1260\n",
      "Epoch 24/200\n",
      "68/68 [==============================] - 14s 201ms/step - loss: 0.0272 - correlation: 0.9059 - mse: 0.1251 - val_loss: 0.0302 - val_correlation: 1.0311 - val_mse: 0.1270\n",
      "Epoch 25/200\n",
      "68/68 [==============================] - 13s 194ms/step - loss: 0.0287 - correlation: 0.9174 - mse: 0.1257 - val_loss: 0.0270 - val_correlation: 0.8976 - val_mse: 0.1248\n",
      "Epoch 26/200\n",
      "68/68 [==============================] - 13s 194ms/step - loss: 0.0285 - correlation: 0.9463 - mse: 0.1260 - val_loss: 0.0274 - val_correlation: 0.8809 - val_mse: 0.1273\n",
      "Epoch 27/200\n",
      "68/68 [==============================] - 15s 225ms/step - loss: 0.0269 - correlation: 0.9237 - mse: 0.1262 - val_loss: 0.0326 - val_correlation: 1.0322 - val_mse: 0.1272\n",
      "Epoch 28/200\n",
      "68/68 [==============================] - ETA: 0s - loss: 0.0282 - correlation: 0.9205 - mse: 0.1254"
     ]
    },
    {
     "name": "stderr",
     "output_type": "stream",
     "text": [
      "/Users/lanacaldarevic/miniforge3/envs/tf_m1/lib/python3.9/site-packages/keras/src/engine/training.py:3000: UserWarning: You are saving your model as an HDF5 file via `model.save()`. This file format is considered legacy. We recommend using instead the native Keras format, e.g. `model.save('my_model.keras')`.\n",
      "  saving_api.save_model(\n"
     ]
    },
    {
     "name": "stdout",
     "output_type": "stream",
     "text": [
      "INFO:tensorflow:Assets written to: /Users/lanacaldarevic/workspace/phd/ecg_derived_resp_dl/notebooks/wandb/run-20240410_160249-r5cwnuo5/files/model-best/assets\n"
     ]
    },
    {
     "name": "stderr",
     "output_type": "stream",
     "text": [
      "INFO:tensorflow:Assets written to: /Users/lanacaldarevic/workspace/phd/ecg_derived_resp_dl/notebooks/wandb/run-20240410_160249-r5cwnuo5/files/model-best/assets\n",
      "\u001b[34m\u001b[1mwandb\u001b[0m: Adding directory to artifact (/Users/lanacaldarevic/workspace/phd/ecg_derived_resp_dl/notebooks/wandb/run-20240410_160249-r5cwnuo5/files/model-best)... Done. 0.1s\n"
     ]
    },
    {
     "name": "stdout",
     "output_type": "stream",
     "text": [
      "68/68 [==============================] - 30s 435ms/step - loss: 0.0282 - correlation: 0.9205 - mse: 0.1254 - val_loss: 0.0256 - val_correlation: 0.9202 - val_mse: 0.1409\n",
      "Epoch 29/200\n",
      "68/68 [==============================] - 19s 273ms/step - loss: 0.0275 - correlation: 0.9235 - mse: 0.1257 - val_loss: 0.0287 - val_correlation: 0.9246 - val_mse: 0.1807\n",
      "Epoch 30/200\n",
      "68/68 [==============================] - 14s 204ms/step - loss: 0.0275 - correlation: 0.9198 - mse: 0.1253 - val_loss: 0.0279 - val_correlation: 0.9871 - val_mse: 0.1242\n",
      "Epoch 31/200\n",
      "68/68 [==============================] - 12s 179ms/step - loss: 0.0270 - correlation: 0.9251 - mse: 0.1257 - val_loss: 0.0293 - val_correlation: 0.9092 - val_mse: 0.1253\n",
      "Epoch 32/200\n",
      "68/68 [==============================] - 13s 190ms/step - loss: 0.0266 - correlation: 0.9331 - mse: 0.1258 - val_loss: 0.0292 - val_correlation: 0.8517 - val_mse: 0.1255\n",
      "Epoch 33/200\n",
      "68/68 [==============================] - 12s 180ms/step - loss: 0.0268 - correlation: 0.9362 - mse: 0.1257 - val_loss: 0.0292 - val_correlation: 1.0016 - val_mse: 0.1277\n",
      "Epoch 34/200\n",
      "68/68 [==============================] - 13s 183ms/step - loss: 0.0273 - correlation: 0.9640 - mse: 0.1259 - val_loss: 0.0258 - val_correlation: 0.9562 - val_mse: 0.1273\n",
      "Epoch 35/200\n",
      "68/68 [==============================] - ETA: 0s - loss: 0.0268 - correlation: 0.9721 - mse: 0.1263"
     ]
    },
    {
     "name": "stderr",
     "output_type": "stream",
     "text": [
      "/Users/lanacaldarevic/miniforge3/envs/tf_m1/lib/python3.9/site-packages/keras/src/engine/training.py:3000: UserWarning: You are saving your model as an HDF5 file via `model.save()`. This file format is considered legacy. We recommend using instead the native Keras format, e.g. `model.save('my_model.keras')`.\n",
      "  saving_api.save_model(\n"
     ]
    },
    {
     "name": "stdout",
     "output_type": "stream",
     "text": [
      "INFO:tensorflow:Assets written to: /Users/lanacaldarevic/workspace/phd/ecg_derived_resp_dl/notebooks/wandb/run-20240410_160249-r5cwnuo5/files/model-best/assets\n"
     ]
    },
    {
     "name": "stderr",
     "output_type": "stream",
     "text": [
      "INFO:tensorflow:Assets written to: /Users/lanacaldarevic/workspace/phd/ecg_derived_resp_dl/notebooks/wandb/run-20240410_160249-r5cwnuo5/files/model-best/assets\n",
      "\u001b[34m\u001b[1mwandb\u001b[0m: Adding directory to artifact (/Users/lanacaldarevic/workspace/phd/ecg_derived_resp_dl/notebooks/wandb/run-20240410_160249-r5cwnuo5/files/model-best)... Done. 0.0s\n"
     ]
    },
    {
     "name": "stdout",
     "output_type": "stream",
     "text": [
      "68/68 [==============================] - 15s 227ms/step - loss: 0.0268 - correlation: 0.9721 - mse: 0.1263 - val_loss: 0.0253 - val_correlation: 0.9658 - val_mse: 0.1261\n",
      "Epoch 36/200\n",
      "68/68 [==============================] - 12s 176ms/step - loss: 0.0254 - correlation: 0.9484 - mse: 0.1255 - val_loss: 0.0287 - val_correlation: 1.0003 - val_mse: 0.1277\n",
      "Epoch 37/200\n",
      "68/68 [==============================] - 12s 181ms/step - loss: 0.0270 - correlation: 0.9701 - mse: 0.1261 - val_loss: 0.0262 - val_correlation: 0.9909 - val_mse: 0.1262\n",
      "Epoch 38/200\n",
      "68/68 [==============================] - ETA: 0s - loss: 0.0257 - correlation: 0.9688 - mse: 0.1257"
     ]
    },
    {
     "name": "stderr",
     "output_type": "stream",
     "text": [
      "/Users/lanacaldarevic/miniforge3/envs/tf_m1/lib/python3.9/site-packages/keras/src/engine/training.py:3000: UserWarning: You are saving your model as an HDF5 file via `model.save()`. This file format is considered legacy. We recommend using instead the native Keras format, e.g. `model.save('my_model.keras')`.\n",
      "  saving_api.save_model(\n"
     ]
    },
    {
     "name": "stdout",
     "output_type": "stream",
     "text": [
      "INFO:tensorflow:Assets written to: /Users/lanacaldarevic/workspace/phd/ecg_derived_resp_dl/notebooks/wandb/run-20240410_160249-r5cwnuo5/files/model-best/assets\n"
     ]
    },
    {
     "name": "stderr",
     "output_type": "stream",
     "text": [
      "INFO:tensorflow:Assets written to: /Users/lanacaldarevic/workspace/phd/ecg_derived_resp_dl/notebooks/wandb/run-20240410_160249-r5cwnuo5/files/model-best/assets\n",
      "\u001b[34m\u001b[1mwandb\u001b[0m: Adding directory to artifact (/Users/lanacaldarevic/workspace/phd/ecg_derived_resp_dl/notebooks/wandb/run-20240410_160249-r5cwnuo5/files/model-best)... Done. 0.0s\n"
     ]
    },
    {
     "name": "stdout",
     "output_type": "stream",
     "text": [
      "68/68 [==============================] - 15s 219ms/step - loss: 0.0257 - correlation: 0.9688 - mse: 0.1257 - val_loss: 0.0253 - val_correlation: 0.9895 - val_mse: 0.1278\n",
      "Epoch 39/200\n",
      "68/68 [==============================] - ETA: 0s - loss: 0.0254 - correlation: 0.9636 - mse: 0.1265"
     ]
    },
    {
     "name": "stderr",
     "output_type": "stream",
     "text": [
      "/Users/lanacaldarevic/miniforge3/envs/tf_m1/lib/python3.9/site-packages/keras/src/engine/training.py:3000: UserWarning: You are saving your model as an HDF5 file via `model.save()`. This file format is considered legacy. We recommend using instead the native Keras format, e.g. `model.save('my_model.keras')`.\n",
      "  saving_api.save_model(\n"
     ]
    },
    {
     "name": "stdout",
     "output_type": "stream",
     "text": [
      "INFO:tensorflow:Assets written to: /Users/lanacaldarevic/workspace/phd/ecg_derived_resp_dl/notebooks/wandb/run-20240410_160249-r5cwnuo5/files/model-best/assets\n"
     ]
    },
    {
     "name": "stderr",
     "output_type": "stream",
     "text": [
      "INFO:tensorflow:Assets written to: /Users/lanacaldarevic/workspace/phd/ecg_derived_resp_dl/notebooks/wandb/run-20240410_160249-r5cwnuo5/files/model-best/assets\n",
      "\u001b[34m\u001b[1mwandb\u001b[0m: Adding directory to artifact (/Users/lanacaldarevic/workspace/phd/ecg_derived_resp_dl/notebooks/wandb/run-20240410_160249-r5cwnuo5/files/model-best)... Done. 0.0s\n"
     ]
    },
    {
     "name": "stdout",
     "output_type": "stream",
     "text": [
      "68/68 [==============================] - 15s 225ms/step - loss: 0.0254 - correlation: 0.9636 - mse: 0.1265 - val_loss: 0.0253 - val_correlation: 1.0462 - val_mse: 0.1253\n",
      "Epoch 40/200\n",
      "68/68 [==============================] - 13s 193ms/step - loss: 0.0257 - correlation: 0.9636 - mse: 0.1259 - val_loss: 0.0255 - val_correlation: 0.9976 - val_mse: 0.1259\n",
      "Epoch 41/200\n",
      "68/68 [==============================] - 12s 182ms/step - loss: 0.0263 - correlation: 0.9737 - mse: 0.1265 - val_loss: 0.0283 - val_correlation: 0.9982 - val_mse: 0.1262\n",
      "Epoch 42/200\n",
      "68/68 [==============================] - ETA: 0s - loss: 0.0257 - correlation: 0.9962 - mse: 0.1260"
     ]
    },
    {
     "name": "stderr",
     "output_type": "stream",
     "text": [
      "/Users/lanacaldarevic/miniforge3/envs/tf_m1/lib/python3.9/site-packages/keras/src/engine/training.py:3000: UserWarning: You are saving your model as an HDF5 file via `model.save()`. This file format is considered legacy. We recommend using instead the native Keras format, e.g. `model.save('my_model.keras')`.\n",
      "  saving_api.save_model(\n"
     ]
    },
    {
     "name": "stdout",
     "output_type": "stream",
     "text": [
      "INFO:tensorflow:Assets written to: /Users/lanacaldarevic/workspace/phd/ecg_derived_resp_dl/notebooks/wandb/run-20240410_160249-r5cwnuo5/files/model-best/assets\n"
     ]
    },
    {
     "name": "stderr",
     "output_type": "stream",
     "text": [
      "INFO:tensorflow:Assets written to: /Users/lanacaldarevic/workspace/phd/ecg_derived_resp_dl/notebooks/wandb/run-20240410_160249-r5cwnuo5/files/model-best/assets\n",
      "\u001b[34m\u001b[1mwandb\u001b[0m: Adding directory to artifact (/Users/lanacaldarevic/workspace/phd/ecg_derived_resp_dl/notebooks/wandb/run-20240410_160249-r5cwnuo5/files/model-best)... Done. 0.0s\n"
     ]
    },
    {
     "name": "stdout",
     "output_type": "stream",
     "text": [
      "68/68 [==============================] - 14s 210ms/step - loss: 0.0257 - correlation: 0.9962 - mse: 0.1260 - val_loss: 0.0245 - val_correlation: 0.9976 - val_mse: 0.1278\n",
      "Epoch 43/200\n",
      "68/68 [==============================] - 13s 181ms/step - loss: 0.0249 - correlation: 1.0016 - mse: 0.1264 - val_loss: 0.0248 - val_correlation: 0.9966 - val_mse: 0.1257\n",
      "Epoch 44/200\n",
      "68/68 [==============================] - 13s 189ms/step - loss: 0.0249 - correlation: 1.0013 - mse: 0.1262 - val_loss: 0.0247 - val_correlation: 0.9966 - val_mse: 0.1262\n",
      "Epoch 45/200\n",
      "68/68 [==============================] - 13s 188ms/step - loss: 0.0249 - correlation: 1.0019 - mse: 0.1261 - val_loss: 0.0248 - val_correlation: 0.9975 - val_mse: 0.1254\n",
      "Epoch 46/200\n",
      "68/68 [==============================] - ETA: 0s - loss: 0.0249 - correlation: 1.0018 - mse: 0.1261"
     ]
    },
    {
     "name": "stderr",
     "output_type": "stream",
     "text": [
      "/Users/lanacaldarevic/miniforge3/envs/tf_m1/lib/python3.9/site-packages/keras/src/engine/training.py:3000: UserWarning: You are saving your model as an HDF5 file via `model.save()`. This file format is considered legacy. We recommend using instead the native Keras format, e.g. `model.save('my_model.keras')`.\n",
      "  saving_api.save_model(\n"
     ]
    },
    {
     "name": "stdout",
     "output_type": "stream",
     "text": [
      "INFO:tensorflow:Assets written to: /Users/lanacaldarevic/workspace/phd/ecg_derived_resp_dl/notebooks/wandb/run-20240410_160249-r5cwnuo5/files/model-best/assets\n"
     ]
    },
    {
     "name": "stderr",
     "output_type": "stream",
     "text": [
      "INFO:tensorflow:Assets written to: /Users/lanacaldarevic/workspace/phd/ecg_derived_resp_dl/notebooks/wandb/run-20240410_160249-r5cwnuo5/files/model-best/assets\n",
      "\u001b[34m\u001b[1mwandb\u001b[0m: Adding directory to artifact (/Users/lanacaldarevic/workspace/phd/ecg_derived_resp_dl/notebooks/wandb/run-20240410_160249-r5cwnuo5/files/model-best)... Done. 0.0s\n"
     ]
    },
    {
     "name": "stdout",
     "output_type": "stream",
     "text": [
      "68/68 [==============================] - 15s 216ms/step - loss: 0.0249 - correlation: 1.0018 - mse: 0.1261 - val_loss: 0.0244 - val_correlation: 0.9971 - val_mse: 0.1285\n",
      "Epoch 47/200\n",
      "68/68 [==============================] - 14s 199ms/step - loss: 0.0249 - correlation: 1.0016 - mse: 0.1264 - val_loss: 0.0247 - val_correlation: 0.9987 - val_mse: 0.1262\n",
      "Epoch 48/200\n",
      "68/68 [==============================] - 12s 178ms/step - loss: 0.0249 - correlation: 1.0012 - mse: 0.1263 - val_loss: 0.0248 - val_correlation: 0.9987 - val_mse: 0.1256\n",
      "Epoch 49/200\n",
      "68/68 [==============================] - 13s 189ms/step - loss: 0.0249 - correlation: 1.0018 - mse: 0.1263 - val_loss: 0.0246 - val_correlation: 0.9951 - val_mse: 0.1268\n",
      "Epoch 50/200\n",
      "68/68 [==============================] - 13s 182ms/step - loss: 0.0249 - correlation: 1.0019 - mse: 0.1258 - val_loss: 0.0246 - val_correlation: 0.9958 - val_mse: 0.1270\n",
      "Epoch 51/200\n",
      "68/68 [==============================] - 13s 185ms/step - loss: 0.0249 - correlation: 1.0018 - mse: 0.1264 - val_loss: 0.0248 - val_correlation: 0.9982 - val_mse: 0.1254\n",
      "Epoch 52/200\n",
      "68/68 [==============================] - 12s 174ms/step - loss: 0.0249 - correlation: 1.0011 - mse: 0.1264 - val_loss: 0.0249 - val_correlation: 0.9944 - val_mse: 0.1248\n",
      "Epoch 53/200\n",
      "68/68 [==============================] - 12s 183ms/step - loss: 0.0249 - correlation: 1.0014 - mse: 0.1259 - val_loss: 0.0247 - val_correlation: 0.9956 - val_mse: 0.1263\n",
      "Epoch 54/200\n",
      "68/68 [==============================] - 13s 189ms/step - loss: 0.0249 - correlation: 1.0019 - mse: 0.1261 - val_loss: 0.0246 - val_correlation: 0.9953 - val_mse: 0.1268\n",
      "Epoch 55/200\n",
      "68/68 [==============================] - 11s 167ms/step - loss: 0.0249 - correlation: 1.0013 - mse: 0.1262 - val_loss: 0.0246 - val_correlation: 0.9975 - val_mse: 0.1272\n",
      "Epoch 56/200\n",
      "68/68 [==============================] - 11s 166ms/step - loss: 0.0249 - correlation: 1.0021 - mse: 0.1266 - val_loss: 0.0248 - val_correlation: 0.9981 - val_mse: 0.1252\n"
     ]
    },
    {
     "name": "stderr",
     "output_type": "stream",
     "text": [
      "/Users/lanacaldarevic/miniforge3/envs/tf_m1/lib/python3.9/site-packages/keras/src/engine/training.py:3000: UserWarning: You are saving your model as an HDF5 file via `model.save()`. This file format is considered legacy. We recommend using instead the native Keras format, e.g. `model.save('my_model.keras')`.\n",
      "  saving_api.save_model(\n"
     ]
    },
    {
     "data": {
      "text/html": [
       "Waiting for W&B process to finish... <strong style=\"color:green\">(success).</strong>"
      ],
      "text/plain": [
       "<IPython.core.display.HTML object>"
      ]
     },
     "metadata": {},
     "output_type": "display_data"
    },
    {
     "data": {
      "text/html": [
       "<style>\n",
       "    table.wandb td:nth-child(1) { padding: 0 10px; text-align: left ; width: auto;} td:nth-child(2) {text-align: left ; width: 100%}\n",
       "    .wandb-row { display: flex; flex-direction: row; flex-wrap: wrap; justify-content: flex-start; width: 100% }\n",
       "    .wandb-col { display: flex; flex-direction: column; flex-basis: 100%; flex: 1; padding: 10px; }\n",
       "    </style>\n",
       "<div class=\"wandb-row\"><div class=\"wandb-col\"><h3>Run history:</h3><br/><table class=\"wandb\"><tr><td>correlation</td><td>▁▁▄▇▇▆▅▆▆▆▅▆▄▅▅▄▄▄▅▄▄▄▅▅▆▆▇▆▆▇██████████</td></tr><tr><td>epoch</td><td>▁▁▁▂▂▂▂▂▂▃▃▃▃▃▃▄▄▄▄▄▅▅▅▅▅▅▆▆▆▆▆▆▇▇▇▇▇███</td></tr><tr><td>loss</td><td>█▁▁▁▁▁▁▁▁▁▁▁▁▁▁▁▁▁▁▁▁▁▁▁▁▁▁▁▁▁▁▁▁▁▁▁▁▁▁▁</td></tr><tr><td>mse</td><td>█▁▃▅▆▅▅▄▅▆▅▄▄▄▄▃▃▃▄▄▄▃▄▄▄▃▄▅▄▅▅▄▄▅▄▄▅▄▄▅</td></tr><tr><td>val_correlation</td><td>▇▇▇▇▇▇▇▆▇▇▇▂▁▅▇▆▇█▄█▅▇▃▇▆▇▇█▇▇▇▇▇▇▇▇▇▇▇▇</td></tr><tr><td>val_loss</td><td>█▄▄▂▂▂▂▂▃▂▂▂▂▂▃▂▂▃▂▃▂▂▂▂▁▂▁▁▁▂▁▁▁▁▁▁▁▁▁▁</td></tr><tr><td>val_mse</td><td>▂▂▂▂▂▂▂▂▃▂▄▂▁▂▂▂▂▂▂▂█▂▂▂▂▂▂▂▂▂▂▂▂▂▂▂▂▂▂▂</td></tr></table><br/></div><div class=\"wandb-col\"><h3>Run summary:</h3><br/><table class=\"wandb\"><tr><td>best_epoch</td><td>45</td></tr><tr><td>best_val_loss</td><td>0.02444</td></tr><tr><td>correlation</td><td>1.00214</td></tr><tr><td>epoch</td><td>55</td></tr><tr><td>loss</td><td>0.02488</td></tr><tr><td>mse</td><td>0.12661</td></tr><tr><td>val_correlation</td><td>0.99814</td></tr><tr><td>val_loss</td><td>0.02484</td></tr><tr><td>val_mse</td><td>0.12518</td></tr></table><br/></div></div>"
      ],
      "text/plain": [
       "<IPython.core.display.HTML object>"
      ]
     },
     "metadata": {},
     "output_type": "display_data"
    },
    {
     "data": {
      "text/html": [
       " View run <strong style=\"color:#cdcd00\">ruby-sweep-4</strong> at: <a href='https://wandb.ai/lana-caldarevic1/biosignal_deeplearning/runs/r5cwnuo5' target=\"_blank\">https://wandb.ai/lana-caldarevic1/biosignal_deeplearning/runs/r5cwnuo5</a><br/>Synced 6 W&B file(s), 1 media file(s), 80 artifact file(s) and 1 other file(s)"
      ],
      "text/plain": [
       "<IPython.core.display.HTML object>"
      ]
     },
     "metadata": {},
     "output_type": "display_data"
    },
    {
     "data": {
      "text/html": [
       "Find logs at: <code>./wandb/run-20240410_160249-r5cwnuo5/logs</code>"
      ],
      "text/plain": [
       "<IPython.core.display.HTML object>"
      ]
     },
     "metadata": {},
     "output_type": "display_data"
    },
    {
     "name": "stderr",
     "output_type": "stream",
     "text": [
      "\u001b[34m\u001b[1mwandb\u001b[0m: Agent Starting Run: af0tmmqf with config:\n",
      "\u001b[34m\u001b[1mwandb\u001b[0m: \tbatch_size: 128\n",
      "\u001b[34m\u001b[1mwandb\u001b[0m: \tdropout: 0.4061816995166757\n",
      "\u001b[34m\u001b[1mwandb\u001b[0m: \tkernel_size: 5\n",
      "\u001b[34m\u001b[1mwandb\u001b[0m: \tlearning_rate: 0.0008232644091842313\n",
      "\u001b[34m\u001b[1mwandb\u001b[0m: \treg: 0.008301799042496583\n",
      "\u001b[34m\u001b[1mwandb\u001b[0m: \tstart_filters: 32\n"
     ]
    },
    {
     "data": {
      "text/html": [
       "wandb version 0.16.6 is available!  To upgrade, please run:\n",
       " $ pip install wandb --upgrade"
      ],
      "text/plain": [
       "<IPython.core.display.HTML object>"
      ]
     },
     "metadata": {},
     "output_type": "display_data"
    },
    {
     "data": {
      "text/html": [
       "Tracking run with wandb version 0.15.9"
      ],
      "text/plain": [
       "<IPython.core.display.HTML object>"
      ]
     },
     "metadata": {},
     "output_type": "display_data"
    },
    {
     "data": {
      "text/html": [
       "Run data is saved locally in <code>/Users/lanacaldarevic/workspace/phd/ecg_derived_resp_dl/notebooks/wandb/run-20240410_161655-af0tmmqf</code>"
      ],
      "text/plain": [
       "<IPython.core.display.HTML object>"
      ]
     },
     "metadata": {},
     "output_type": "display_data"
    },
    {
     "data": {
      "text/html": [
       "Syncing run <strong><a href='https://wandb.ai/lana-caldarevic1/biosignal_deeplearning/runs/af0tmmqf' target=\"_blank\">smooth-sweep-5</a></strong> to <a href='https://wandb.ai/lana-caldarevic1/biosignal_deeplearning' target=\"_blank\">Weights & Biases</a> (<a href='https://wandb.me/run' target=\"_blank\">docs</a>)<br/>Sweep page: <a href='https://wandb.ai/lana-caldarevic1/biosignal_deeplearning/sweeps/94xtzv3y' target=\"_blank\">https://wandb.ai/lana-caldarevic1/biosignal_deeplearning/sweeps/94xtzv3y</a>"
      ],
      "text/plain": [
       "<IPython.core.display.HTML object>"
      ]
     },
     "metadata": {},
     "output_type": "display_data"
    },
    {
     "data": {
      "text/html": [
       " View project at <a href='https://wandb.ai/lana-caldarevic1/biosignal_deeplearning' target=\"_blank\">https://wandb.ai/lana-caldarevic1/biosignal_deeplearning</a>"
      ],
      "text/plain": [
       "<IPython.core.display.HTML object>"
      ]
     },
     "metadata": {},
     "output_type": "display_data"
    },
    {
     "data": {
      "text/html": [
       " View sweep at <a href='https://wandb.ai/lana-caldarevic1/biosignal_deeplearning/sweeps/94xtzv3y' target=\"_blank\">https://wandb.ai/lana-caldarevic1/biosignal_deeplearning/sweeps/94xtzv3y</a>"
      ],
      "text/plain": [
       "<IPython.core.display.HTML object>"
      ]
     },
     "metadata": {},
     "output_type": "display_data"
    },
    {
     "data": {
      "text/html": [
       " View run at <a href='https://wandb.ai/lana-caldarevic1/biosignal_deeplearning/runs/af0tmmqf' target=\"_blank\">https://wandb.ai/lana-caldarevic1/biosignal_deeplearning/runs/af0tmmqf</a>"
      ],
      "text/plain": [
       "<IPython.core.display.HTML object>"
      ]
     },
     "metadata": {},
     "output_type": "display_data"
    },
    {
     "name": "stdout",
     "output_type": "stream",
     "text": [
      "GPU enabled\n",
      "Model: \"model\"\n",
      "__________________________________________________________________________________________________\n",
      " Layer (type)                Output Shape                 Param #   Connected to                  \n",
      "==================================================================================================\n",
      " input_1 (InputLayer)        [(None, 1024, 1)]            0         []                            \n",
      "                                                                                                  \n",
      " conv1d (Conv1D)             (None, 1024, 32)             192       ['input_1[0][0]']             \n",
      "                                                                                                  \n",
      " batch_normalization (Batch  (None, 1024, 32)             128       ['conv1d[0][0]']              \n",
      " Normalization)                                                                                   \n",
      "                                                                                                  \n",
      " conv1d_1 (Conv1D)           (None, 1024, 32)             5152      ['batch_normalization[0][0]'] \n",
      "                                                                                                  \n",
      " batch_normalization_1 (Bat  (None, 1024, 32)             128       ['conv1d_1[0][0]']            \n",
      " chNormalization)                                                                                 \n",
      "                                                                                                  \n",
      " max_pooling1d (MaxPooling1  (None, 512, 32)              0         ['batch_normalization_1[0][0]'\n",
      " D)                                                                 ]                             \n",
      "                                                                                                  \n",
      " conv1d_2 (Conv1D)           (None, 512, 64)              10304     ['max_pooling1d[0][0]']       \n",
      "                                                                                                  \n",
      " batch_normalization_2 (Bat  (None, 512, 64)              256       ['conv1d_2[0][0]']            \n",
      " chNormalization)                                                                                 \n",
      "                                                                                                  \n",
      " conv1d_3 (Conv1D)           (None, 512, 64)              20544     ['batch_normalization_2[0][0]'\n",
      "                                                                    ]                             \n",
      "                                                                                                  \n",
      " batch_normalization_3 (Bat  (None, 512, 64)              256       ['conv1d_3[0][0]']            \n",
      " chNormalization)                                                                                 \n",
      "                                                                                                  \n",
      " dropout (Dropout)           (None, 512, 64)              0         ['batch_normalization_3[0][0]'\n",
      "                                                                    ]                             \n",
      "                                                                                                  \n",
      " max_pooling1d_1 (MaxPoolin  (None, 256, 64)              0         ['dropout[0][0]']             \n",
      " g1D)                                                                                             \n",
      "                                                                                                  \n",
      " conv1d_4 (Conv1D)           (None, 256, 128)             41088     ['max_pooling1d_1[0][0]']     \n",
      "                                                                                                  \n",
      " batch_normalization_4 (Bat  (None, 256, 128)             512       ['conv1d_4[0][0]']            \n",
      " chNormalization)                                                                                 \n",
      "                                                                                                  \n",
      " conv1d_5 (Conv1D)           (None, 256, 128)             82048     ['batch_normalization_4[0][0]'\n",
      "                                                                    ]                             \n",
      "                                                                                                  \n",
      " batch_normalization_5 (Bat  (None, 256, 128)             512       ['conv1d_5[0][0]']            \n",
      " chNormalization)                                                                                 \n",
      "                                                                                                  \n",
      " up_sampling1d (UpSampling1  (None, 512, 128)             0         ['batch_normalization_5[0][0]'\n",
      " D)                                                                 ]                             \n",
      "                                                                                                  \n",
      " conv1d_6 (Conv1D)           (None, 512, 128)             82048     ['up_sampling1d[0][0]']       \n",
      "                                                                                                  \n",
      " batch_normalization_6 (Bat  (None, 512, 128)             512       ['conv1d_6[0][0]']            \n",
      " chNormalization)                                                                                 \n",
      "                                                                                                  \n",
      " concatenate (Concatenate)   (None, 512, 192)             0         ['dropout[0][0]',             \n",
      "                                                                     'batch_normalization_6[0][0]'\n",
      "                                                                    ]                             \n",
      "                                                                                                  \n",
      " conv1d_7 (Conv1D)           (None, 512, 64)              61504     ['concatenate[0][0]']         \n",
      "                                                                                                  \n",
      " batch_normalization_7 (Bat  (None, 512, 64)              256       ['conv1d_7[0][0]']            \n",
      " chNormalization)                                                                                 \n",
      "                                                                                                  \n",
      " conv1d_8 (Conv1D)           (None, 512, 64)              20544     ['batch_normalization_7[0][0]'\n",
      "                                                                    ]                             \n",
      "                                                                                                  \n",
      " batch_normalization_8 (Bat  (None, 512, 64)              256       ['conv1d_8[0][0]']            \n",
      " chNormalization)                                                                                 \n",
      "                                                                                                  \n",
      " dropout_1 (Dropout)         (None, 512, 64)              0         ['batch_normalization_8[0][0]'\n",
      "                                                                    ]                             \n",
      "                                                                                                  \n",
      " up_sampling1d_1 (UpSamplin  (None, 1024, 64)             0         ['dropout_1[0][0]']           \n",
      " g1D)                                                                                             \n",
      "                                                                                                  \n",
      " conv1d_9 (Conv1D)           (None, 1024, 64)             20544     ['up_sampling1d_1[0][0]']     \n",
      "                                                                                                  \n",
      " batch_normalization_9 (Bat  (None, 1024, 64)             256       ['conv1d_9[0][0]']            \n",
      " chNormalization)                                                                                 \n",
      "                                                                                                  \n",
      " concatenate_1 (Concatenate  (None, 1024, 96)             0         ['batch_normalization_1[0][0]'\n",
      " )                                                                  , 'batch_normalization_9[0][0]\n",
      "                                                                    ']                            \n",
      "                                                                                                  \n",
      " conv1d_10 (Conv1D)          (None, 1024, 32)             15392     ['concatenate_1[0][0]']       \n",
      "                                                                                                  \n",
      " batch_normalization_10 (Ba  (None, 1024, 32)             128       ['conv1d_10[0][0]']           \n",
      " tchNormalization)                                                                                \n",
      "                                                                                                  \n",
      " conv1d_11 (Conv1D)          (None, 1024, 32)             5152      ['batch_normalization_10[0][0]\n",
      "                                                                    ']                            \n",
      "                                                                                                  \n",
      " batch_normalization_11 (Ba  (None, 1024, 32)             128       ['conv1d_11[0][0]']           \n",
      " tchNormalization)                                                                                \n",
      "                                                                                                  \n",
      " conv1d_12 (Conv1D)          (None, 1024, 1)              161       ['batch_normalization_11[0][0]\n",
      "                                                                    ']                            \n",
      "                                                                                                  \n",
      "==================================================================================================\n",
      "Total params: 368001 (1.40 MB)\n",
      "Trainable params: 366337 (1.40 MB)\n",
      "Non-trainable params: 1664 (6.50 KB)\n",
      "__________________________________________________________________________________________________\n",
      "Model training starting\n",
      "Epoch 1/200\n"
     ]
    },
    {
     "name": "stderr",
     "output_type": "stream",
     "text": [
      "2024-04-10 16:17:05.592962: I tensorflow/core/grappler/optimizers/custom_graph_optimizer_registry.cc:114] Plugin optimizer for device_type GPU is enabled.\n"
     ]
    },
    {
     "name": "stdout",
     "output_type": "stream",
     "text": [
      "34/34 [==============================] - ETA: 0s - loss: 8.0314 - correlation: 0.9579 - mse: 0.1582"
     ]
    },
    {
     "name": "stderr",
     "output_type": "stream",
     "text": [
      "2024-04-10 16:17:46.236353: I tensorflow/core/grappler/optimizers/custom_graph_optimizer_registry.cc:114] Plugin optimizer for device_type GPU is enabled.\n",
      "/Users/lanacaldarevic/miniforge3/envs/tf_m1/lib/python3.9/site-packages/keras/src/engine/training.py:3000: UserWarning: You are saving your model as an HDF5 file via `model.save()`. This file format is considered legacy. We recommend using instead the native Keras format, e.g. `model.save('my_model.keras')`.\n",
      "  saving_api.save_model(\n"
     ]
    },
    {
     "name": "stdout",
     "output_type": "stream",
     "text": [
      "INFO:tensorflow:Assets written to: /Users/lanacaldarevic/workspace/phd/ecg_derived_resp_dl/notebooks/wandb/run-20240410_161655-af0tmmqf/files/model-best/assets\n"
     ]
    },
    {
     "name": "stderr",
     "output_type": "stream",
     "text": [
      "INFO:tensorflow:Assets written to: /Users/lanacaldarevic/workspace/phd/ecg_derived_resp_dl/notebooks/wandb/run-20240410_161655-af0tmmqf/files/model-best/assets\n",
      "\u001b[34m\u001b[1mwandb\u001b[0m: Adding directory to artifact (/Users/lanacaldarevic/workspace/phd/ecg_derived_resp_dl/notebooks/wandb/run-20240410_161655-af0tmmqf/files/model-best)... Done. 0.0s\n"
     ]
    },
    {
     "name": "stdout",
     "output_type": "stream",
     "text": [
      "34/34 [==============================] - 50s 818ms/step - loss: 8.0314 - correlation: 0.9579 - mse: 0.1582 - val_loss: 5.7390 - val_correlation: 1.0521 - val_mse: 0.1275\n",
      "Epoch 2/200\n",
      "34/34 [==============================] - ETA: 0s - loss: 4.3834 - correlation: 0.8873 - mse: 0.1310"
     ]
    },
    {
     "name": "stderr",
     "output_type": "stream",
     "text": [
      "/Users/lanacaldarevic/miniforge3/envs/tf_m1/lib/python3.9/site-packages/keras/src/engine/training.py:3000: UserWarning: You are saving your model as an HDF5 file via `model.save()`. This file format is considered legacy. We recommend using instead the native Keras format, e.g. `model.save('my_model.keras')`.\n",
      "  saving_api.save_model(\n"
     ]
    },
    {
     "name": "stdout",
     "output_type": "stream",
     "text": [
      "INFO:tensorflow:Assets written to: /Users/lanacaldarevic/workspace/phd/ecg_derived_resp_dl/notebooks/wandb/run-20240410_161655-af0tmmqf/files/model-best/assets\n"
     ]
    },
    {
     "name": "stderr",
     "output_type": "stream",
     "text": [
      "INFO:tensorflow:Assets written to: /Users/lanacaldarevic/workspace/phd/ecg_derived_resp_dl/notebooks/wandb/run-20240410_161655-af0tmmqf/files/model-best/assets\n",
      "\u001b[34m\u001b[1mwandb\u001b[0m: Adding directory to artifact (/Users/lanacaldarevic/workspace/phd/ecg_derived_resp_dl/notebooks/wandb/run-20240410_161655-af0tmmqf/files/model-best)... Done. 0.0s\n"
     ]
    },
    {
     "name": "stdout",
     "output_type": "stream",
     "text": [
      "34/34 [==============================] - 18s 539ms/step - loss: 4.3834 - correlation: 0.8873 - mse: 0.1310 - val_loss: 3.2233 - val_correlation: 1.0054 - val_mse: 0.1233\n",
      "Epoch 3/200\n",
      "34/34 [==============================] - ETA: 0s - loss: 2.5285 - correlation: 0.8402 - mse: 0.1225"
     ]
    },
    {
     "name": "stderr",
     "output_type": "stream",
     "text": [
      "/Users/lanacaldarevic/miniforge3/envs/tf_m1/lib/python3.9/site-packages/keras/src/engine/training.py:3000: UserWarning: You are saving your model as an HDF5 file via `model.save()`. This file format is considered legacy. We recommend using instead the native Keras format, e.g. `model.save('my_model.keras')`.\n",
      "  saving_api.save_model(\n"
     ]
    },
    {
     "name": "stdout",
     "output_type": "stream",
     "text": [
      "INFO:tensorflow:Assets written to: /Users/lanacaldarevic/workspace/phd/ecg_derived_resp_dl/notebooks/wandb/run-20240410_161655-af0tmmqf/files/model-best/assets\n"
     ]
    },
    {
     "name": "stderr",
     "output_type": "stream",
     "text": [
      "INFO:tensorflow:Assets written to: /Users/lanacaldarevic/workspace/phd/ecg_derived_resp_dl/notebooks/wandb/run-20240410_161655-af0tmmqf/files/model-best/assets\n",
      "\u001b[34m\u001b[1mwandb\u001b[0m: Adding directory to artifact (/Users/lanacaldarevic/workspace/phd/ecg_derived_resp_dl/notebooks/wandb/run-20240410_161655-af0tmmqf/files/model-best)... Done. 0.0s\n"
     ]
    },
    {
     "name": "stdout",
     "output_type": "stream",
     "text": [
      "34/34 [==============================] - 19s 550ms/step - loss: 2.5285 - correlation: 0.8402 - mse: 0.1225 - val_loss: 1.9275 - val_correlation: 0.9493 - val_mse: 0.1225\n",
      "Epoch 4/200\n",
      "34/34 [==============================] - ETA: 0s - loss: 1.5560 - correlation: 0.7912 - mse: 0.1206"
     ]
    },
    {
     "name": "stderr",
     "output_type": "stream",
     "text": [
      "/Users/lanacaldarevic/miniforge3/envs/tf_m1/lib/python3.9/site-packages/keras/src/engine/training.py:3000: UserWarning: You are saving your model as an HDF5 file via `model.save()`. This file format is considered legacy. We recommend using instead the native Keras format, e.g. `model.save('my_model.keras')`.\n",
      "  saving_api.save_model(\n"
     ]
    },
    {
     "name": "stdout",
     "output_type": "stream",
     "text": [
      "INFO:tensorflow:Assets written to: /Users/lanacaldarevic/workspace/phd/ecg_derived_resp_dl/notebooks/wandb/run-20240410_161655-af0tmmqf/files/model-best/assets\n"
     ]
    },
    {
     "name": "stderr",
     "output_type": "stream",
     "text": [
      "INFO:tensorflow:Assets written to: /Users/lanacaldarevic/workspace/phd/ecg_derived_resp_dl/notebooks/wandb/run-20240410_161655-af0tmmqf/files/model-best/assets\n",
      "\u001b[34m\u001b[1mwandb\u001b[0m: Adding directory to artifact (/Users/lanacaldarevic/workspace/phd/ecg_derived_resp_dl/notebooks/wandb/run-20240410_161655-af0tmmqf/files/model-best)... Done. 0.0s\n"
     ]
    },
    {
     "name": "stdout",
     "output_type": "stream",
     "text": [
      "34/34 [==============================] - 19s 563ms/step - loss: 1.5560 - correlation: 0.7912 - mse: 0.1206 - val_loss: 1.2323 - val_correlation: 0.9621 - val_mse: 0.1230\n",
      "Epoch 5/200\n",
      "34/34 [==============================] - ETA: 0s - loss: 1.0257 - correlation: 0.7484 - mse: 0.1183"
     ]
    },
    {
     "name": "stderr",
     "output_type": "stream",
     "text": [
      "/Users/lanacaldarevic/miniforge3/envs/tf_m1/lib/python3.9/site-packages/keras/src/engine/training.py:3000: UserWarning: You are saving your model as an HDF5 file via `model.save()`. This file format is considered legacy. We recommend using instead the native Keras format, e.g. `model.save('my_model.keras')`.\n",
      "  saving_api.save_model(\n"
     ]
    },
    {
     "name": "stdout",
     "output_type": "stream",
     "text": [
      "INFO:tensorflow:Assets written to: /Users/lanacaldarevic/workspace/phd/ecg_derived_resp_dl/notebooks/wandb/run-20240410_161655-af0tmmqf/files/model-best/assets\n"
     ]
    },
    {
     "name": "stderr",
     "output_type": "stream",
     "text": [
      "INFO:tensorflow:Assets written to: /Users/lanacaldarevic/workspace/phd/ecg_derived_resp_dl/notebooks/wandb/run-20240410_161655-af0tmmqf/files/model-best/assets\n",
      "\u001b[34m\u001b[1mwandb\u001b[0m: Adding directory to artifact (/Users/lanacaldarevic/workspace/phd/ecg_derived_resp_dl/notebooks/wandb/run-20240410_161655-af0tmmqf/files/model-best)... Done. 0.0s\n"
     ]
    },
    {
     "name": "stdout",
     "output_type": "stream",
     "text": [
      "34/34 [==============================] - 18s 537ms/step - loss: 1.0257 - correlation: 0.7484 - mse: 0.1183 - val_loss: 0.8457 - val_correlation: 0.9600 - val_mse: 0.1232\n",
      "Epoch 6/200\n",
      "34/34 [==============================] - ETA: 0s - loss: 0.7259 - correlation: 0.7015 - mse: 0.1151"
     ]
    },
    {
     "name": "stderr",
     "output_type": "stream",
     "text": [
      "/Users/lanacaldarevic/miniforge3/envs/tf_m1/lib/python3.9/site-packages/keras/src/engine/training.py:3000: UserWarning: You are saving your model as an HDF5 file via `model.save()`. This file format is considered legacy. We recommend using instead the native Keras format, e.g. `model.save('my_model.keras')`.\n",
      "  saving_api.save_model(\n"
     ]
    },
    {
     "name": "stdout",
     "output_type": "stream",
     "text": [
      "INFO:tensorflow:Assets written to: /Users/lanacaldarevic/workspace/phd/ecg_derived_resp_dl/notebooks/wandb/run-20240410_161655-af0tmmqf/files/model-best/assets\n"
     ]
    },
    {
     "name": "stderr",
     "output_type": "stream",
     "text": [
      "INFO:tensorflow:Assets written to: /Users/lanacaldarevic/workspace/phd/ecg_derived_resp_dl/notebooks/wandb/run-20240410_161655-af0tmmqf/files/model-best/assets\n",
      "\u001b[34m\u001b[1mwandb\u001b[0m: Adding directory to artifact (/Users/lanacaldarevic/workspace/phd/ecg_derived_resp_dl/notebooks/wandb/run-20240410_161655-af0tmmqf/files/model-best)... Done. 0.0s\n"
     ]
    },
    {
     "name": "stdout",
     "output_type": "stream",
     "text": [
      "34/34 [==============================] - 18s 536ms/step - loss: 0.7259 - correlation: 0.7015 - mse: 0.1151 - val_loss: 0.6235 - val_correlation: 0.9672 - val_mse: 0.1225\n",
      "Epoch 7/200\n",
      "34/34 [==============================] - ETA: 0s - loss: 0.5500 - correlation: 0.6714 - mse: 0.1126"
     ]
    },
    {
     "name": "stderr",
     "output_type": "stream",
     "text": [
      "/Users/lanacaldarevic/miniforge3/envs/tf_m1/lib/python3.9/site-packages/keras/src/engine/training.py:3000: UserWarning: You are saving your model as an HDF5 file via `model.save()`. This file format is considered legacy. We recommend using instead the native Keras format, e.g. `model.save('my_model.keras')`.\n",
      "  saving_api.save_model(\n"
     ]
    },
    {
     "name": "stdout",
     "output_type": "stream",
     "text": [
      "INFO:tensorflow:Assets written to: /Users/lanacaldarevic/workspace/phd/ecg_derived_resp_dl/notebooks/wandb/run-20240410_161655-af0tmmqf/files/model-best/assets\n"
     ]
    },
    {
     "name": "stderr",
     "output_type": "stream",
     "text": [
      "INFO:tensorflow:Assets written to: /Users/lanacaldarevic/workspace/phd/ecg_derived_resp_dl/notebooks/wandb/run-20240410_161655-af0tmmqf/files/model-best/assets\n",
      "\u001b[34m\u001b[1mwandb\u001b[0m: Adding directory to artifact (/Users/lanacaldarevic/workspace/phd/ecg_derived_resp_dl/notebooks/wandb/run-20240410_161655-af0tmmqf/files/model-best)... Done. 0.0s\n"
     ]
    },
    {
     "name": "stdout",
     "output_type": "stream",
     "text": [
      "34/34 [==============================] - 20s 578ms/step - loss: 0.5500 - correlation: 0.6714 - mse: 0.1126 - val_loss: 0.4896 - val_correlation: 0.9979 - val_mse: 0.1228\n",
      "Epoch 8/200\n",
      "34/34 [==============================] - ETA: 0s - loss: 0.4420 - correlation: 0.6396 - mse: 0.1096"
     ]
    },
    {
     "name": "stderr",
     "output_type": "stream",
     "text": [
      "/Users/lanacaldarevic/miniforge3/envs/tf_m1/lib/python3.9/site-packages/keras/src/engine/training.py:3000: UserWarning: You are saving your model as an HDF5 file via `model.save()`. This file format is considered legacy. We recommend using instead the native Keras format, e.g. `model.save('my_model.keras')`.\n",
      "  saving_api.save_model(\n"
     ]
    },
    {
     "name": "stdout",
     "output_type": "stream",
     "text": [
      "INFO:tensorflow:Assets written to: /Users/lanacaldarevic/workspace/phd/ecg_derived_resp_dl/notebooks/wandb/run-20240410_161655-af0tmmqf/files/model-best/assets\n"
     ]
    },
    {
     "name": "stderr",
     "output_type": "stream",
     "text": [
      "INFO:tensorflow:Assets written to: /Users/lanacaldarevic/workspace/phd/ecg_derived_resp_dl/notebooks/wandb/run-20240410_161655-af0tmmqf/files/model-best/assets\n",
      "\u001b[34m\u001b[1mwandb\u001b[0m: Adding directory to artifact (/Users/lanacaldarevic/workspace/phd/ecg_derived_resp_dl/notebooks/wandb/run-20240410_161655-af0tmmqf/files/model-best)... Done. 0.0s\n"
     ]
    },
    {
     "name": "stdout",
     "output_type": "stream",
     "text": [
      "34/34 [==============================] - 17s 510ms/step - loss: 0.4420 - correlation: 0.6396 - mse: 0.1096 - val_loss: 0.4057 - val_correlation: 0.9620 - val_mse: 0.1227\n",
      "Epoch 9/200\n",
      "34/34 [==============================] - ETA: 0s - loss: 0.3726 - correlation: 0.6183 - mse: 0.1074"
     ]
    },
    {
     "name": "stderr",
     "output_type": "stream",
     "text": [
      "/Users/lanacaldarevic/miniforge3/envs/tf_m1/lib/python3.9/site-packages/keras/src/engine/training.py:3000: UserWarning: You are saving your model as an HDF5 file via `model.save()`. This file format is considered legacy. We recommend using instead the native Keras format, e.g. `model.save('my_model.keras')`.\n",
      "  saving_api.save_model(\n"
     ]
    },
    {
     "name": "stdout",
     "output_type": "stream",
     "text": [
      "INFO:tensorflow:Assets written to: /Users/lanacaldarevic/workspace/phd/ecg_derived_resp_dl/notebooks/wandb/run-20240410_161655-af0tmmqf/files/model-best/assets\n"
     ]
    },
    {
     "name": "stderr",
     "output_type": "stream",
     "text": [
      "INFO:tensorflow:Assets written to: /Users/lanacaldarevic/workspace/phd/ecg_derived_resp_dl/notebooks/wandb/run-20240410_161655-af0tmmqf/files/model-best/assets\n",
      "\u001b[34m\u001b[1mwandb\u001b[0m: Adding directory to artifact (/Users/lanacaldarevic/workspace/phd/ecg_derived_resp_dl/notebooks/wandb/run-20240410_161655-af0tmmqf/files/model-best)... Done. 0.0s\n"
     ]
    },
    {
     "name": "stdout",
     "output_type": "stream",
     "text": [
      "34/34 [==============================] - 18s 530ms/step - loss: 0.3726 - correlation: 0.6183 - mse: 0.1074 - val_loss: 0.3491 - val_correlation: 0.9669 - val_mse: 0.1250\n",
      "Epoch 10/200\n",
      "34/34 [==============================] - ETA: 0s - loss: 0.3253 - correlation: 0.6067 - mse: 0.1068"
     ]
    },
    {
     "name": "stderr",
     "output_type": "stream",
     "text": [
      "/Users/lanacaldarevic/miniforge3/envs/tf_m1/lib/python3.9/site-packages/keras/src/engine/training.py:3000: UserWarning: You are saving your model as an HDF5 file via `model.save()`. This file format is considered legacy. We recommend using instead the native Keras format, e.g. `model.save('my_model.keras')`.\n",
      "  saving_api.save_model(\n"
     ]
    },
    {
     "name": "stdout",
     "output_type": "stream",
     "text": [
      "INFO:tensorflow:Assets written to: /Users/lanacaldarevic/workspace/phd/ecg_derived_resp_dl/notebooks/wandb/run-20240410_161655-af0tmmqf/files/model-best/assets\n"
     ]
    },
    {
     "name": "stderr",
     "output_type": "stream",
     "text": [
      "INFO:tensorflow:Assets written to: /Users/lanacaldarevic/workspace/phd/ecg_derived_resp_dl/notebooks/wandb/run-20240410_161655-af0tmmqf/files/model-best/assets\n",
      "\u001b[34m\u001b[1mwandb\u001b[0m: Adding directory to artifact (/Users/lanacaldarevic/workspace/phd/ecg_derived_resp_dl/notebooks/wandb/run-20240410_161655-af0tmmqf/files/model-best)... Done. 0.0s\n"
     ]
    },
    {
     "name": "stdout",
     "output_type": "stream",
     "text": [
      "34/34 [==============================] - 20s 599ms/step - loss: 0.3253 - correlation: 0.6067 - mse: 0.1068 - val_loss: 0.3104 - val_correlation: 0.9971 - val_mse: 0.1244\n",
      "Epoch 11/200\n",
      "34/34 [==============================] - ETA: 0s - loss: 0.2911 - correlation: 0.6010 - mse: 0.1052"
     ]
    },
    {
     "name": "stderr",
     "output_type": "stream",
     "text": [
      "/Users/lanacaldarevic/miniforge3/envs/tf_m1/lib/python3.9/site-packages/keras/src/engine/training.py:3000: UserWarning: You are saving your model as an HDF5 file via `model.save()`. This file format is considered legacy. We recommend using instead the native Keras format, e.g. `model.save('my_model.keras')`.\n",
      "  saving_api.save_model(\n"
     ]
    },
    {
     "name": "stdout",
     "output_type": "stream",
     "text": [
      "INFO:tensorflow:Assets written to: /Users/lanacaldarevic/workspace/phd/ecg_derived_resp_dl/notebooks/wandb/run-20240410_161655-af0tmmqf/files/model-best/assets\n"
     ]
    },
    {
     "name": "stderr",
     "output_type": "stream",
     "text": [
      "INFO:tensorflow:Assets written to: /Users/lanacaldarevic/workspace/phd/ecg_derived_resp_dl/notebooks/wandb/run-20240410_161655-af0tmmqf/files/model-best/assets\n",
      "\u001b[34m\u001b[1mwandb\u001b[0m: Adding directory to artifact (/Users/lanacaldarevic/workspace/phd/ecg_derived_resp_dl/notebooks/wandb/run-20240410_161655-af0tmmqf/files/model-best)... Done. 0.0s\n"
     ]
    },
    {
     "name": "stdout",
     "output_type": "stream",
     "text": [
      "34/34 [==============================] - 18s 519ms/step - loss: 0.2911 - correlation: 0.6010 - mse: 0.1052 - val_loss: 0.2802 - val_correlation: 0.9665 - val_mse: 0.1240\n",
      "Epoch 12/200\n",
      " 8/34 [======>.......................] - ETA: 12s - loss: 0.2730 - correlation: 0.5839 - mse: 0.1028"
     ]
    },
    {
     "name": "stderr",
     "output_type": "stream",
     "text": [
      "\u001b[34m\u001b[1mwandb\u001b[0m: Ctrl + C detected. Stopping sweep.\n"
     ]
    },
    {
     "name": "stdout",
     "output_type": "stream",
     "text": [
      "Error in callback <bound method _WandbInit._pause_backend of <wandb.sdk.wandb_init._WandbInit object at 0x36fef1580>> (for post_run_cell), with arguments args (<ExecutionResult object at 105b12e50, execution_count=2 error_before_exec=None error_in_exec=None info=<ExecutionInfo object at 105b129a0, raw_cell=\"sweep_config = create_sweep_config()\n",
      "sweep_id = wa..\" store_history=True silent=False shell_futures=True cell_id=684f5a87-d8aa-4306-b87c-024af70b337c> result=None>,),kwargs {}:\n",
      " 9/34 [======>.......................] - ETA: 11s - loss: 0.2727 - correlation: 0.5860 - mse: 0.1030"
     ]
    },
    {
     "ename": "TypeError",
     "evalue": "_pause_backend() takes 1 positional argument but 2 were given",
     "output_type": "error",
     "traceback": [
      "\u001b[0;31m---------------------------------------------------------------------------\u001b[0m",
      "\u001b[0;31mTypeError\u001b[0m                                 Traceback (most recent call last)",
      "\u001b[0;31mTypeError\u001b[0m: _pause_backend() takes 1 positional argument but 2 were given"
     ]
    },
    {
     "name": "stdout",
     "output_type": "stream",
     "text": [
      "20/34 [================>.............] - ETA: 6s - loss: 0.2690 - correlation: 0.5944 - mse: 0.1056"
     ]
    }
   ],
   "source": [
    "sweep_config = create_sweep_config()\n",
    "sweep_id = wandb.sweep(sweep_config, project=\"biosignal_deeplearning\")\n",
    "\n",
    "# Run sweep\n",
    "wandb.agent(sweep_id, train)"
   ]
  },
  {
   "cell_type": "code",
   "execution_count": null,
   "id": "4558c09f-2acd-4379-a69c-67a62d24ca87",
   "metadata": {},
   "outputs": [],
   "source": []
  }
 ],
 "metadata": {
  "kernelspec": {
   "display_name": "Python (tf_m1)",
   "language": "python",
   "name": "tf_m1"
  },
  "language_info": {
   "codemirror_mode": {
    "name": "ipython",
    "version": 3
   },
   "file_extension": ".py",
   "mimetype": "text/x-python",
   "name": "python",
   "nbconvert_exporter": "python",
   "pygments_lexer": "ipython3",
   "version": "3.9.19"
  }
 },
 "nbformat": 4,
 "nbformat_minor": 5
}
