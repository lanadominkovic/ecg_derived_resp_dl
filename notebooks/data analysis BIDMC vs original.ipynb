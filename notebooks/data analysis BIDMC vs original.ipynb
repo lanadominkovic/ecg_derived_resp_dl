{
 "cells": [
  {
   "cell_type": "code",
   "execution_count": 39,
   "id": "64baa259-219f-4045-b53a-e4d780e69236",
   "metadata": {
    "execution": {
     "iopub.execute_input": "2024-04-18T09:36:37.972618Z",
     "iopub.status.busy": "2024-04-18T09:36:37.971779Z",
     "iopub.status.idle": "2024-04-18T09:36:38.811114Z",
     "shell.execute_reply": "2024-04-18T09:36:38.810837Z",
     "shell.execute_reply.started": "2024-04-18T09:36:37.972568Z"
    }
   },
   "outputs": [
    {
     "data": {
      "text/plain": [
       "8"
      ]
     },
     "execution_count": 39,
     "metadata": {},
     "output_type": "execute_result"
    }
   ],
   "source": [
    "import os\n",
    "from glob import glob\n",
    "import pandas as pd\n",
    "\n",
    "path = \"/Users/lanacaldarevic/workspace/phd/ecg_derived_resp_dl/data/bidmc-ppg-and-respiration-dataset-1.0.0\"\n",
    "EXT = \"*Signals.csv\"\n",
    "all_csv_files = [file for path, subdir, files in os.walk(path) for file in glob(os.path.join(path, EXT))]\n",
    "patients_bidmc = []\n",
    "data_bidmc = {}\n",
    "no_errors = 0\n",
    "for file in all_csv_files:\n",
    "    try:\n",
    "        df = pd.read_csv(file)\n",
    "        X1, X2, X3, X4 = df[' PLETH'].values, df[' V'].values, df[' AVR'].values, df[' II'].values\n",
    "        # X = np.concatenate([X1.reshape(len(X1),1),X2.reshape(len(X1),1),X3.reshape(len(X1),1),X4.reshape(len(X1),1)], axis=1)\n",
    "        \n",
    "        Y = df[' RESP'].values\n",
    "        \n",
    "        patient = int(file.split('/')[-1].split('_')[1])\n",
    "        patients_bidmc.append(patient)\n",
    "        data_bidmc[patient] = np.array([X4, Y])\n",
    "    except:\n",
    "        no_errors += 1\n",
    "no_errors"
   ]
  },
  {
   "cell_type": "code",
   "execution_count": 40,
   "id": "82224682-2bfd-4193-b117-930b603684d2",
   "metadata": {
    "execution": {
     "iopub.execute_input": "2024-04-18T09:36:50.008954Z",
     "iopub.status.busy": "2024-04-18T09:36:50.008239Z",
     "iopub.status.idle": "2024-04-18T09:36:51.355894Z",
     "shell.execute_reply": "2024-04-18T09:36:51.353308Z",
     "shell.execute_reply.started": "2024-04-18T09:36:50.008898Z"
    }
   },
   "outputs": [],
   "source": [
    "import pickle\n",
    "\n",
    "with open(\"/Users/lanacaldarevic/workspace/phd/ecg_derived_resp_dl/data/data_full.pickle\", \"rb\") as input_file:\n",
    "\tdata_original = pickle.load(input_file)\n",
    "with open(\"/Users/lanacaldarevic/workspace/phd/ecg_derived_resp_dl/data/parameters_full.pickle\", \"rb\") as input_file:\n",
    "\tparameters = pickle.load(input_file)\n",
    "with open(\"/Users/lanacaldarevic/workspace/phd/ecg_derived_resp_dl/data/patients_full.pickle\", \"rb\") as input_file:\n",
    "\tpatients_original = pickle.load(input_file)"
   ]
  },
  {
   "cell_type": "code",
   "execution_count": 41,
   "id": "d0381bdb-9b8e-4631-8f32-56b2792feed2",
   "metadata": {
    "execution": {
     "iopub.execute_input": "2024-04-18T09:36:58.459082Z",
     "iopub.status.busy": "2024-04-18T09:36:58.458512Z",
     "iopub.status.idle": "2024-04-18T09:36:58.473269Z",
     "shell.execute_reply": "2024-04-18T09:36:58.472428Z",
     "shell.execute_reply.started": "2024-04-18T09:36:58.459047Z"
    }
   },
   "outputs": [],
   "source": [
    "def process_data_segment(data, downsampled_window_size, n, patient_indices):\n",
    "    window_size = int(downsampled_window_size * n)\n",
    "    overlap = 1 / 2\n",
    "\n",
    "    windows_ecg = []\n",
    "    windows_resp = []\n",
    "\n",
    "    for record_index in patient_indices:\n",
    "        N = len(data[record_index][0, :])\n",
    "        max_step = int(N // (window_size * overlap))\n",
    "        for step in range(1, max_step - 1):\n",
    "            start_idx = int(step * window_size * overlap)\n",
    "            end_idx = start_idx + window_size\n",
    "            recrd_ecg = data[record_index][0, start_idx:end_idx]\n",
    "            recrd_resp = data[record_index][1, start_idx:end_idx]\n",
    "\n",
    "            if recrd_ecg.min() < recrd_ecg.max():  # Skip flatlined signal segments\n",
    "                normalized_ecg = (recrd_ecg - recrd_ecg.min()) / (recrd_ecg.max() - recrd_ecg.min())\n",
    "                normalized_ecg = signal.resample(normalized_ecg, downsampled_window_size)\n",
    "                windows_ecg.append(np.float16(normalized_ecg))\n",
    "\n",
    "                if recrd_resp.min() < recrd_resp.max():\n",
    "                    normalized_resp = (recrd_resp - recrd_resp.min()) / (recrd_resp.max() - recrd_resp.min())\n",
    "                    normalized_resp = signal.resample(normalized_resp, downsampled_window_size)\n",
    "                    windows_resp.append(np.float16(normalized_resp))\n",
    "\n",
    "    windows_ecg = np.array(windows_ecg)[:, :, np.newaxis]\n",
    "    windows_resp = np.array(windows_resp)[:, :, np.newaxis]\n",
    "\n",
    "    print(windows_ecg.shape)\n",
    "    print(windows_resp.shape)\n",
    "\n",
    "    return windows_ecg, windows_resp"
   ]
  },
  {
   "cell_type": "code",
   "execution_count": 43,
   "id": "8b8737e3-746a-43ea-9468-0460989072a1",
   "metadata": {
    "execution": {
     "iopub.execute_input": "2024-04-18T09:37:28.823383Z",
     "iopub.status.busy": "2024-04-18T09:37:28.822916Z",
     "iopub.status.idle": "2024-04-18T09:37:29.732124Z",
     "shell.execute_reply": "2024-04-18T09:37:29.731782Z",
     "shell.execute_reply.started": "2024-04-18T09:37:28.823351Z"
    }
   },
   "outputs": [
    {
     "name": "stdout",
     "output_type": "stream",
     "text": [
      "(5310, 1024, 1)\n",
      "(5310, 1024, 1)\n"
     ]
    }
   ],
   "source": [
    "from scipy import signal\n",
    "\n",
    "bidmc_windows_ecg, bidmc_windows_resp = process_data_segment(data_bidmc, 1024, 0.9765625, patients_bidmc)"
   ]
  },
  {
   "cell_type": "code",
   "execution_count": 44,
   "id": "cb409b77-35be-4f64-a607-921a3b046c05",
   "metadata": {
    "execution": {
     "iopub.execute_input": "2024-04-18T09:38:05.361089Z",
     "iopub.status.busy": "2024-04-18T09:38:05.360334Z",
     "iopub.status.idle": "2024-04-18T09:38:10.659701Z",
     "shell.execute_reply": "2024-04-18T09:38:10.659340Z",
     "shell.execute_reply.started": "2024-04-18T09:38:05.361022Z"
    }
   },
   "outputs": [
    {
     "name": "stdout",
     "output_type": "stream",
     "text": [
      "(24981, 1024, 1)\n",
      "(24976, 1024, 1)\n"
     ]
    }
   ],
   "source": [
    "original_windows_ecg, original_windows_resp = process_data_segment(data_original, 1024, 14.0625, patients_original)"
   ]
  },
  {
   "cell_type": "markdown",
   "id": "0ab06b18-72cd-4bae-92f7-99838b3a9d40",
   "metadata": {},
   "source": [
    "Note 1: original data has much more samples (4 times more)"
   ]
  },
  {
   "cell_type": "code",
   "execution_count": 46,
   "id": "a1d5772c-ec02-4ddf-9bdc-ee0df6f1abec",
   "metadata": {
    "execution": {
     "iopub.execute_input": "2024-04-18T09:42:25.935486Z",
     "iopub.status.busy": "2024-04-18T09:42:25.934393Z",
     "iopub.status.idle": "2024-04-18T09:42:28.034629Z",
     "shell.execute_reply": "2024-04-18T09:42:28.034301Z",
     "shell.execute_reply.started": "2024-04-18T09:42:25.935437Z"
    }
   },
   "outputs": [
    {
     "name": "stdout",
     "output_type": "stream",
     "text": [
      "Old Dataset ECG - Mean of Means: 0.30\n",
      "Old Dataset ECG - Mean of Std Deviations: 0.10\n",
      "Old Dataset ECG - Min of Mins: -0.11688232421875\n",
      "Old Dataset ECG - Max of Maxs: 1.0859375\n",
      "New Dataset ECG - Mean of Means: 0.32\n",
      "New Dataset ECG - Mean of Std Deviations: 0.15\n",
      "New Dataset ECG - Min of Mins: -0.10504150390625\n",
      "New Dataset ECG - Max of Maxs: 1.146484375\n",
      "===\n",
      "Old Dataset Respiratory - Mean of Means: 0.57\n",
      "Old Dataset Respiratory - Mean of Std Deviations: 0.26\n",
      "Old Dataset Respiratory - Min of Mins: -0.090576171875\n",
      "Old Dataset Respiratory - Max of Maxs: 1.0908203125\n",
      "New Dataset Respiratory - Mean of Means: 0.42\n",
      "New Dataset Respiratory - Mean of Std Deviations: 0.33\n",
      "New Dataset Respiratory - Min of Mins: -0.01480865478515625\n",
      "New Dataset Respiratory - Max of Maxs: 1.0146484375\n"
     ]
    }
   ],
   "source": [
    "def print_segment_stats(data, label):\n",
    "    # Calculate stats for each segment\n",
    "    means = [segment.mean() for segment in data]\n",
    "    std_devs = [segment.std() for segment in data]\n",
    "    mins = [segment.min() for segment in data]\n",
    "    maxs = [segment.max() for segment in data]\n",
    "\n",
    "    # Print average stats across segments\n",
    "    print(f\"{label} - Mean of Means: {np.mean(means):.2f}\")\n",
    "    print(f\"{label} - Mean of Std Deviations: {np.mean(std_devs):.2f}\")\n",
    "    print(f\"{label} - Min of Mins: {np.min(mins)}\")\n",
    "    print(f\"{label} - Max of Maxs: {np.max(maxs)}\")\n",
    "\n",
    "print_segment_stats(original_windows_ecg, \"Old Dataset ECG\")\n",
    "print_segment_stats(bidmc_windows_ecg, \"New Dataset ECG\")\n",
    "print(\"===\")\n",
    "print_segment_stats(original_windows_resp, \"Old Dataset Respiratory\")\n",
    "print_segment_stats(bidmc_windows_resp, \"New Dataset Respiratory\")\n"
   ]
  },
  {
   "cell_type": "code",
   "execution_count": null,
   "id": "5428451a-6152-4412-9509-5ed30be620e9",
   "metadata": {},
   "outputs": [],
   "source": []
  }
 ],
 "metadata": {
  "kernelspec": {
   "display_name": "Python (tf_m1)",
   "language": "python",
   "name": "tf_m1"
  },
  "language_info": {
   "codemirror_mode": {
    "name": "ipython",
    "version": 3
   },
   "file_extension": ".py",
   "mimetype": "text/x-python",
   "name": "python",
   "nbconvert_exporter": "python",
   "pygments_lexer": "ipython3",
   "version": "3.9.19"
  }
 },
 "nbformat": 4,
 "nbformat_minor": 5
}
