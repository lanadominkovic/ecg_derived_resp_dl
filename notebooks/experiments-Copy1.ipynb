{
 "cells": [
  {
   "cell_type": "code",
   "execution_count": 1,
   "id": "a5ec0a83-aa01-4efd-8baa-8edd5bad8cbf",
   "metadata": {
    "execution": {
     "iopub.execute_input": "2024-04-10T11:38:17.287215Z",
     "iopub.status.busy": "2024-04-10T11:38:17.286228Z",
     "iopub.status.idle": "2024-04-10T11:38:24.213024Z",
     "shell.execute_reply": "2024-04-10T11:38:24.212466Z",
     "shell.execute_reply.started": "2024-04-10T11:38:17.287164Z"
    }
   },
   "outputs": [
    {
     "name": "stderr",
     "output_type": "stream",
     "text": [
      "\u001b[34m\u001b[1mwandb\u001b[0m: Currently logged in as: \u001b[33mlana-caldarevic1\u001b[0m. Use \u001b[1m`wandb login --relogin`\u001b[0m to force relogin\n"
     ]
    }
   ],
   "source": [
    "import scipy.signal as signal\n",
    "from sklearn.model_selection import KFold, train_test_split\n",
    "import tensorflow as tf\n",
    "from tensorflow.keras.callbacks import ReduceLROnPlateau, ModelCheckpoint, LambdaCallback\n",
    "import numpy as np\n",
    "import matplotlib.pyplot as plt\n",
    "from glob import glob\n",
    "import pandas as pd\n",
    "\n",
    "import wandb\n",
    "wandb.login()\n",
    "\n",
    "import os\n",
    "import numpy as np\n",
    "from scipy import signal\n",
    "\n",
    "from tensorflow.keras import layers, models, regularizers\n",
    "\n",
    "def create_model(config):\n",
    "    kernel_size = config.kernel_size\n",
    "    regularizer = regularizers.l2(config.reg)\n",
    "    dropout_rate = config.dropout\n",
    "    size_0 = config.start_filters\n",
    "\n",
    "    # Input layer\n",
    "    in_data = layers.Input(shape=(1024, 1))\n",
    "\n",
    "    # Encoder part\n",
    "    conv0 = layers.Conv1D(size_0, kernel_size, kernel_regularizer=regularizer, activation='relu', padding='same', kernel_initializer='he_normal')(in_data)\n",
    "    conv0 = layers.BatchNormalization()(conv0)\n",
    "    conv0 = layers.Conv1D(size_0, kernel_size, kernel_regularizer=regularizer, activation='relu', padding='same', kernel_initializer='he_normal')(conv0)\n",
    "    conv0 = layers.BatchNormalization()(conv0)\n",
    "    pool0 = layers.MaxPooling1D(pool_size=2)(conv0)\n",
    "\n",
    "    size_1 = size_0 * 2\n",
    "    conv1 = layers.Conv1D(size_1, kernel_size, kernel_regularizer=regularizer, activation='relu', padding='same', kernel_initializer='he_normal')(pool0)\n",
    "    conv1 = layers.BatchNormalization()(conv1)\n",
    "    conv1 = layers.Conv1D(size_1, kernel_size, kernel_regularizer=regularizer, activation='relu', padding='same', kernel_initializer='he_normal')(conv1)\n",
    "    conv1 = layers.BatchNormalization()(conv1)\n",
    "    conv1 = layers.Dropout(dropout_rate)(conv1)\n",
    "    pool1 = layers.MaxPooling1D(pool_size=2)(conv1)\n",
    "\n",
    "    size_2 = size_1 * 2\n",
    "    conv2 = layers.Conv1D(size_2, kernel_size, kernel_regularizer=regularizer, activation='relu', padding='same', kernel_initializer='he_normal')(pool1)\n",
    "    conv2 = layers.BatchNormalization()(conv2)\n",
    "    conv2 = layers.Conv1D(size_2, kernel_size, kernel_regularizer=regularizer, activation='relu', padding='same', kernel_initializer='he_normal')(conv2)\n",
    "    conv2 = layers.BatchNormalization()(conv2)\n",
    "\n",
    "    # Decoder part\n",
    "    up1 = layers.UpSampling1D(size=2)(conv2)\n",
    "    up_conv1 = layers.Conv1D(size_2, kernel_size, activation='relu', padding='same', kernel_initializer='he_normal')(up1)\n",
    "    up_conv1 = layers.BatchNormalization()(up_conv1)\n",
    "    merge1 = layers.concatenate([conv1, up_conv1], axis=2)\n",
    "    conv3 = layers.Conv1D(size_1, kernel_size, kernel_regularizer=regularizer, activation='relu', padding='same', kernel_initializer='he_normal')(merge1)\n",
    "    conv3 = layers.BatchNormalization()(conv3)\n",
    "    conv3 = layers.Conv1D(size_1, kernel_size, kernel_regularizer=regularizer, activation='relu', padding='same', kernel_initializer='he_normal')(conv3)\n",
    "    conv3 = layers.BatchNormalization()(conv3)\n",
    "    conv3 = layers.Dropout(dropout_rate)(conv3)\n",
    "\n",
    "    up2 = layers.UpSampling1D(size=2)(conv3)\n",
    "    up_conv2 = layers.Conv1D(size_1, kernel_size, activation='relu', padding='same', kernel_initializer='he_normal')(up2)\n",
    "    up_conv2 = layers.BatchNormalization()(up_conv2)\n",
    "    merge2 = layers.concatenate([conv0, up_conv2], axis=2)\n",
    "    conv4 = layers.Conv1D(size_0, kernel_size, kernel_regularizer=regularizer, activation='relu', padding='same', kernel_initializer='he_normal')(merge2)\n",
    "    conv4 = layers.BatchNormalization()(conv4)\n",
    "    conv4 = layers.Conv1D(size_0, kernel_size, kernel_regularizer=regularizer, activation='relu', padding='same', kernel_initializer='he_normal')(conv4)\n",
    "    conv4 = layers.BatchNormalization()(conv4)\n",
    "\n",
    "    # Output layer\n",
    "    out_data = layers.Conv1D(1, kernel_size, activation='sigmoid', padding='same')(conv4)\n",
    "\n",
    "    model = models.Model(inputs=[in_data], outputs=[out_data])\n",
    "    model.summary()\n",
    "\n",
    "    return model\n",
    "\n",
    "def create_sweep_config():\n",
    "    return {\n",
    "        'method': 'bayes',  # or 'random', 'grid'\n",
    "        'metric': {\n",
    "            'name': 'val_loss',\n",
    "            'goal': 'minimize'\n",
    "        },\n",
    "        'parameters': {\n",
    "            'learning_rate': {\n",
    "                'min': 1e-5,\n",
    "                'max': 1e-2\n",
    "            },\n",
    "            'batch_size': {\n",
    "                'values': [32, 64, 128, 256]\n",
    "            },\n",
    "            'kernel_size': {\n",
    "                'values': [3, 5, 7, 27]\n",
    "            },\n",
    "            'reg': {\n",
    "                'min': 1e-5,\n",
    "                'max': 1e-2\n",
    "            },\n",
    "            'dropout': {\n",
    "                'min': 0.1,\n",
    "                'max': 0.6\n",
    "            },\n",
    "            'start_filters': {\n",
    "                'values': [8, 16, 32]\n",
    "            }\n",
    "        }\n",
    "    }\n",
    "\n",
    "\n",
    "def sliding_window(data, window_size, downsampled_window_size, overlap, train_patients, validation_patients, test_patients):\n",
    "    windows_ecg_train = []\n",
    "    windows_resp_train = []\n",
    "\n",
    "    for train_patient in train_patients:\n",
    "    \n",
    "        N = len(data[train_patient][0])\n",
    "        max_step = int(N//(window_size*overlap))\n",
    "        for step in range(max_step):\n",
    "            ecg = data[train_patient][0][step * int(window_size*overlap):step * int(window_size*overlap) + window_size] \n",
    "            resp = data[train_patient][1][step * int(window_size*overlap):step * int(window_size*overlap) + window_size]\n",
    "            \n",
    "            if (ecg.min() < ecg.max()):\n",
    "                normalized_ecg = (ecg-ecg.min())/(ecg.max()-ecg.min())-0.5\n",
    "                #zero_centered_ecg = ecg - np.mean(ecg)\n",
    "                #normalized_ecg = zero_centered_ecg / np.std(zero_centered_ecg)\n",
    "                resampled_ecg = signal.resample(normalized_ecg, downsampled_window_size)\n",
    "                if resp.min() < resp.max():\n",
    "                    normalized_resp = (resp-resp.min())/(resp.max()-resp.min())\n",
    "                    #zero_centered_resp = resp - np.mean(resp)\n",
    "                    #normalized_resp = zero_centered_resp / np.std(zero_centered_resp)\n",
    "                    resampled_resp = signal.resample(normalized_resp, downsampled_window_size)\n",
    "                    windows_ecg_train.append(np.float32(resampled_ecg))\n",
    "                    windows_resp_train.append(np.float32(resampled_resp))\n",
    "            \n",
    "            \n",
    "    windows_ecg_validation = []\n",
    "    windows_resp_validation = []\n",
    "\n",
    "\n",
    "    for validation_patient in validation_patients:\n",
    "        N = len(data[validation_patient][0])\n",
    "        max_step = int(N//(window_size*overlap))\n",
    "        for step in range(max_step):\n",
    "            ecg = data[validation_patient][0][step * int(window_size*overlap):step * int(window_size*overlap) + window_size] \n",
    "            resp = data[validation_patient][1][step * int(window_size*overlap):step * int(window_size*overlap) + window_size]\n",
    "            \n",
    "            if (ecg.min() < ecg.max()):\n",
    "                normalized_ecg = (ecg-ecg.min())/(ecg.max()-ecg.min())-0.5\n",
    "                #zero_centered_ecg = ecg - np.mean(ecg)\n",
    "                #normalized_ecg = zero_centered_ecg / np.std(zero_centered_ecg)\n",
    "                resampled_ecg = signal.resample(normalized_ecg, downsampled_window_size)\n",
    "                if resp.min() < resp.max():\n",
    "                    normalized_resp = (resp-resp.min())/(resp.max()-resp.min())\n",
    "                    #zero_centered_resp = resp - np.mean(resp)\n",
    "                    #normalized_resp = zero_centered_resp / np.std(zero_centered_resp)\n",
    "                    resampled_resp = signal.resample(normalized_resp, downsampled_window_size)\n",
    "                    windows_ecg_validation.append(np.float32(resampled_ecg))\n",
    "                    windows_resp_validation.append(np.float32(resampled_resp))\n",
    "          \n",
    "    windows_ecg_test = []\n",
    "    windows_resp_test = []\n",
    "    \n",
    "    for test_patient in test_patients:\n",
    "        N = len(data[test_patient][0])\n",
    "        max_step = int(N//(window_size*overlap))\n",
    "        for step in range(max_step):\n",
    "            ecg = data[test_patient][0][step * int(window_size*overlap):step * int(window_size*overlap) + window_size] \n",
    "            resp = data[test_patient][1][step * int(window_size*overlap):step * int(window_size*overlap) + window_size]\n",
    "            \n",
    "            if (ecg.min() < ecg.max()):\n",
    "                normalized_ecg = (ecg-ecg.min())/(ecg.max()-ecg.min())-0.5\n",
    "                #zero_centered_ecg = ecg - np.mean(ecg)\n",
    "                #normalized_ecg = zero_centered_ecg / np.std(zero_centered_ecg)\n",
    "                resampled_ecg = signal.resample(normalized_ecg, downsampled_window_size)\n",
    "                if resp.min() < resp.max():\n",
    "                    normalized_resp = (resp-resp.min())/(resp.max()-resp.min())\n",
    "                    #zero_centered_resp = resp - np.mean(resp)\n",
    "                    #normalized_resp = zero_centered_resp / np.std(zero_centered_resp)\n",
    "                    resampled_resp = signal.resample(normalized_resp, downsampled_window_size)\n",
    "                    windows_ecg_test.append(np.float32(resampled_ecg))\n",
    "                    windows_resp_test.append(np.float32(resampled_resp))\n",
    "\n",
    "    windows_ecg_train = np.stack(windows_ecg_train, axis=0)\n",
    "    windows_resp_train = np.stack(windows_resp_train, axis=0)\n",
    "    windows_ecg_validation = np.stack(windows_ecg_validation, axis=0)\n",
    "    windows_resp_validation = np.stack(windows_resp_validation, axis=0)\n",
    "    windows_ecg_test = np.stack(windows_ecg_test, axis=0)\n",
    "    windows_resp_test = np.stack(windows_resp_test, axis=0)\n",
    "\n",
    "    windows_ecg_train = windows_ecg_train[:,:,np.newaxis]\n",
    "    windows_resp_train = windows_resp_train[:,:,np.newaxis]\n",
    "    windows_ecg_validation = windows_ecg_validation[:,:,np.newaxis]\n",
    "    windows_resp_validation = windows_resp_validation[:,:,np.newaxis]\n",
    "    windows_ecg_test = windows_ecg_test[:,:,np.newaxis]\n",
    "    windows_resp_test = windows_resp_test[:,:,np.newaxis]\n",
    "\n",
    "    return windows_ecg_train, windows_resp_train, windows_ecg_validation, windows_resp_validation, windows_ecg_test, windows_resp_test\n",
    "\n",
    "def load_data():\n",
    "     # bidmc\n",
    "    path = \"/Users/lanacaldarevic/workspace/phd/ecg_derived_resp_dl/data/bidmc-ppg-and-respiration-dataset-1.0.0\"\n",
    "    EXT = \"*Signals.csv\"\n",
    "    all_csv_files = [file for path, subdir, files in os.walk(path) for file in glob(os.path.join(path, EXT))]\n",
    "    patients = []\n",
    "    data = {}\n",
    "    no_errors = 0\n",
    "    for file in all_csv_files:\n",
    "        try:\n",
    "            df = pd.read_csv(file)\n",
    "            X1, X2, X3, X4 = df[' PLETH'].values, df[' V'].values, df[' AVR'].values, df[' II'].values\n",
    "            # X = np.concatenate([X1.reshape(len(X1),1),X2.reshape(len(X1),1),X3.reshape(len(X1),1),X4.reshape(len(X1),1)], axis=1)\n",
    "            \n",
    "            Y = df[' RESP'].values\n",
    "            \n",
    "            patient = int(file.split('/')[-1].split('_')[1])\n",
    "            patients.append(patient)\n",
    "            data[patient] = [X4, Y]\n",
    "        except:\n",
    "            no_errors += 1\n",
    "\n",
    "    return data, patients\n",
    "\n",
    "\n",
    "def visualize_predictions(set_name, model, windows_ecg, windows_resp):\n",
    "    prediction = model.predict(windows_ecg)[0]\n",
    "    windows_resp= tf.squeeze(windows_resp)\n",
    "\n",
    "    fig, ax = plt.subplots(2, 1, figsize=(10, 4))\n",
    "    ax[0].plot(windows_resp)\n",
    "    ax[0].set_title(f'{set_name.capitalize()} Ground Truth')\n",
    "    ax[1].plot(prediction)\n",
    "    ax[1].set_title(f'{set_name.capitalize()} Prediction')\n",
    "\n",
    "    wandb.log({f\"{set_name}_predictions\": wandb.Image(fig)}, commit=False)\n",
    "    plt.close(fig)\n",
    "\n",
    "def log_images(model, epoch, logs, fixed_sample_ecg_train, fixed_sample_resp_train, fixed_sample_ecg_valid, fixed_sample_resp_valid):\n",
    "        wandb.log({\"loss\": logs['loss'], \"correlation\": logs['correlation'], \"val_loss\": logs['val_loss'], \"val_correlation\": logs['val_correlation']})\n",
    "        #visualize_predictions('train', model, fixed_sample_ecg_train, fixed_sample_resp_train)\n",
    "        #visualize_predictions('validation', model, fixed_sample_ecg_valid, fixed_sample_resp_valid)\n",
    "\n",
    "def correlation(x, y): #todo: check this and see in papers what cross correlation is\n",
    "    # Normalize y to the [0, 1] range\n",
    "    min_y = tf.math.reduce_min(y)\n",
    "    max_y = tf.math.reduce_max(y)\n",
    "    r_up = tf.math.subtract(y, min_y)\n",
    "    r_down = max_y - min_y\n",
    "    new_y = r_up / r_down\n",
    "    \n",
    "    # Compute means\n",
    "    mx = tf.math.reduce_mean(x)\n",
    "    my = tf.math.reduce_mean(new_y)\n",
    "    \n",
    "    # Compute centered values\n",
    "    xm, ym = x - mx, new_y - my\n",
    "    \n",
    "    # Compute correlation coefficient\n",
    "    r_num = tf.reduce_sum(tf.multiply(xm, ym))\n",
    "    r_den = tf.sqrt(tf.multiply(tf.reduce_sum(tf.square(xm)), tf.reduce_sum(tf.square(ym))))\n",
    "    r = r_num / r_den\n",
    "    \n",
    "    # Ensure the result is between -1 and 1\n",
    "    r = tf.maximum(tf.minimum(r, 1.0), -1.0)\n",
    "    \n",
    "    return 1 - r\n",
    "\n",
    "def cross_correlation(x, y):\n",
    "    mean_x = tf.reduce_mean(x)\n",
    "    mean_y = tf.reduce_mean(y)\n",
    "    \n",
    "    centered_x = x - mean_x\n",
    "    centered_y = y - mean_y\n",
    "    \n",
    "    numerator = tf.reduce_sum(centered_x * tf.roll(centered_y, shift=1, axis=0))\n",
    "    denominator = tf.sqrt(tf.reduce_sum(centered_x**2) * tf.reduce_sum(tf.roll(centered_y, shift=1, axis=0)**2))\n",
    "    \n",
    "    return numerator / denominator\n",
    "\n",
    "def train():\n",
    "    wandb.init()\n",
    "    config = wandb.config\n",
    "\n",
    "    sampling_rate = 125\n",
    "    input_size_seconds = 16 # //2, *2\n",
    "    downsampled_window_size = 1024 #? power of 2\n",
    "    window_size = input_size_seconds * sampling_rate\n",
    "    overlap = 0.25 #25%\n",
    "    \n",
    "    data, patients = load_data()\n",
    "\n",
    "    # k-folds for CV\n",
    "    train_patients = []\n",
    "    test_patients = []\n",
    "    validation_patients = []\n",
    "    k = 5\n",
    "    kf = KFold(n_splits=k)\n",
    "    train_ind = []\n",
    "    test_ind = []\n",
    "\n",
    "    for tr_ind, te_ind in kf.split(patients):\n",
    "        train_ind.append(tr_ind)\n",
    "        test_ind.append(te_ind)\n",
    "\n",
    "    split_ind = 0\n",
    "    train_index, test_index = train_ind[split_ind], test_ind[split_ind]\n",
    "    test_index, validation_index = train_test_split(test_index, test_size=0.5, random_state=42)\n",
    "    train_patients = [patients[i] for i in train_index]\n",
    "    validation_patients = [patients[i] for i in validation_index]\n",
    "    test_patients = [patients[i] for i in test_index]\n",
    "\n",
    "    windows_ecg_train, windows_resp_train, windows_ecg_validation, windows_resp_validation, windows_ecg_test, windows_resp_test = sliding_window(data, window_size, downsampled_window_size, overlap, train_patients, validation_patients, test_patients)\n",
    "\n",
    "    if tf.config.list_physical_devices('GPU'):\n",
    "        print(\"GPU enabled\")\n",
    "        with tf.device('/GPU:0'):\n",
    "            windows_ecg_train = tf.convert_to_tensor(windows_ecg_train, dtype=tf.float32)\n",
    "            windows_resp_train = tf.convert_to_tensor(windows_resp_train, dtype=tf.float32)\n",
    "            windows_ecg_validation = tf.convert_to_tensor(windows_ecg_validation, dtype=tf.float32)\n",
    "            windows_resp_validation = tf.convert_to_tensor(windows_resp_validation, dtype=tf.float32)\n",
    "            windows_ecg_test = tf.convert_to_tensor(windows_ecg_test, dtype=tf.float32)\n",
    "            windows_resp_test = tf.convert_to_tensor(windows_resp_test, dtype=tf.float32)\n",
    "\n",
    "    fixed_index = 5\n",
    "    fixed_sample_ecg_train = tf.expand_dims(windows_ecg_train[fixed_index], axis=0)\n",
    "    fixed_sample_resp_train = tf.expand_dims(windows_resp_train[fixed_index], axis=0)\n",
    "\n",
    "    fixed_sample_ecg_valid = tf.expand_dims(windows_ecg_validation[fixed_index], axis=0)\n",
    "    fixed_sample_resp_valid = tf.expand_dims(windows_resp_validation[fixed_index], axis=0)\n",
    "    \n",
    "    lr = wandb.config.learning_rate\n",
    "    optimizer = tf.keras.optimizers.legacy.Adam(learning_rate=lr, beta_1=0.9, beta_2=0.999, amsgrad=False)\n",
    "    \n",
    "    model = create_model(config)\n",
    "    \n",
    "    # define callbacks\n",
    "    #reduce_lr = ReduceLROnPlateau(monitor='val_loss', factor=0.2, patience=10, cooldown=5, mode='min', min_lr=1e-7)\n",
    "    #filepath = os.path.join('Users/lanacaldarevic/ecg_derived_resp_dl/models', f'model_crossval{split_ind}-size{start_filters}-input{input_size}_weights-improvement.h5')\n",
    "    #checkpoint = ModelCheckpoint(filepath, monitor='val_loss', verbose=1, save_best_only=True, mode='min')\n",
    "    \n",
    "    # early stopping\n",
    "    early_stopping = tf.keras.callbacks.EarlyStopping(monitor='val_loss', patience=10, start_from_epoch=20)\n",
    "    lambda_cb = LambdaCallback(on_epoch_end=lambda epoch, logs: log_images(model, epoch, logs, fixed_sample_ecg_train, fixed_sample_resp_train, fixed_sample_ecg_valid, fixed_sample_resp_valid))\n",
    "\n",
    "    callbacks = [wandb.keras.WandbCallback(), early_stopping]\n",
    "    loss = tf.keras.losses.Huber(delta=0.1)\n",
    "    model.compile(loss=loss, metrics=[correlation, 'mse'], optimizer=optimizer)\n",
    "    \n",
    "    print(\"Model training starting\")\n",
    "    model.fit(windows_ecg_train, windows_resp_train,\n",
    "              epochs=200,\n",
    "              batch_size=wandb.config.batch_size,\n",
    "              shuffle=True,\n",
    "              callbacks=callbacks,\n",
    "              validation_data=(windows_ecg_validation, windows_resp_validation))\n",
    "    \n",
    "    model.save(os.path.join('Users/lanacaldarevic/ecg_derived_resp_dl/models', f'combined_model{split_ind}-size{config.start_filters}-input{1024}.h5'))\n",
    "\n",
    "    wandb.finish()"
   ]
  },
  {
   "cell_type": "code",
   "execution_count": 2,
   "id": "684f5a87-d8aa-4306-b87c-024af70b337c",
   "metadata": {
    "execution": {
     "iopub.execute_input": "2024-04-10T11:38:24.214704Z",
     "iopub.status.busy": "2024-04-10T11:38:24.214401Z",
     "iopub.status.idle": "2024-04-10T14:21:03.965042Z",
     "shell.execute_reply": "2024-04-10T14:21:03.964666Z",
     "shell.execute_reply.started": "2024-04-10T11:38:24.214688Z"
    }
   },
   "outputs": [
    {
     "name": "stdout",
     "output_type": "stream",
     "text": [
      "Create sweep with ID: 6i1t9675\n",
      "Sweep URL: https://wandb.ai/lana-caldarevic1/biosignal_deeplearning/sweeps/6i1t9675\n"
     ]
    },
    {
     "name": "stderr",
     "output_type": "stream",
     "text": [
      "\u001b[34m\u001b[1mwandb\u001b[0m: Agent Starting Run: pd934tfc with config:\n",
      "\u001b[34m\u001b[1mwandb\u001b[0m: \tbatch_size: 256\n",
      "\u001b[34m\u001b[1mwandb\u001b[0m: \tdropout: 0.10147334313679082\n",
      "\u001b[34m\u001b[1mwandb\u001b[0m: \tkernel_size: 27\n",
      "\u001b[34m\u001b[1mwandb\u001b[0m: \tlearning_rate: 0.008925129761412007\n",
      "\u001b[34m\u001b[1mwandb\u001b[0m: \treg: 0.00619015941648575\n",
      "\u001b[34m\u001b[1mwandb\u001b[0m: \tstart_filters: 8\n"
     ]
    },
    {
     "data": {
      "text/html": [
       "wandb version 0.16.6 is available!  To upgrade, please run:\n",
       " $ pip install wandb --upgrade"
      ],
      "text/plain": [
       "<IPython.core.display.HTML object>"
      ]
     },
     "metadata": {},
     "output_type": "display_data"
    },
    {
     "data": {
      "text/html": [
       "Tracking run with wandb version 0.15.9"
      ],
      "text/plain": [
       "<IPython.core.display.HTML object>"
      ]
     },
     "metadata": {},
     "output_type": "display_data"
    },
    {
     "data": {
      "text/html": [
       "Run data is saved locally in <code>/Users/lanacaldarevic/workspace/phd/ecg_derived_resp_dl/notebooks/wandb/run-20240410_133826-pd934tfc</code>"
      ],
      "text/plain": [
       "<IPython.core.display.HTML object>"
      ]
     },
     "metadata": {},
     "output_type": "display_data"
    },
    {
     "data": {
      "text/html": [
       "Syncing run <strong><a href='https://wandb.ai/lana-caldarevic1/biosignal_deeplearning/runs/pd934tfc' target=\"_blank\">cerulean-sweep-1</a></strong> to <a href='https://wandb.ai/lana-caldarevic1/biosignal_deeplearning' target=\"_blank\">Weights & Biases</a> (<a href='https://wandb.me/run' target=\"_blank\">docs</a>)<br/>Sweep page: <a href='https://wandb.ai/lana-caldarevic1/biosignal_deeplearning/sweeps/6i1t9675' target=\"_blank\">https://wandb.ai/lana-caldarevic1/biosignal_deeplearning/sweeps/6i1t9675</a>"
      ],
      "text/plain": [
       "<IPython.core.display.HTML object>"
      ]
     },
     "metadata": {},
     "output_type": "display_data"
    },
    {
     "data": {
      "text/html": [
       " View project at <a href='https://wandb.ai/lana-caldarevic1/biosignal_deeplearning' target=\"_blank\">https://wandb.ai/lana-caldarevic1/biosignal_deeplearning</a>"
      ],
      "text/plain": [
       "<IPython.core.display.HTML object>"
      ]
     },
     "metadata": {},
     "output_type": "display_data"
    },
    {
     "data": {
      "text/html": [
       " View sweep at <a href='https://wandb.ai/lana-caldarevic1/biosignal_deeplearning/sweeps/6i1t9675' target=\"_blank\">https://wandb.ai/lana-caldarevic1/biosignal_deeplearning/sweeps/6i1t9675</a>"
      ],
      "text/plain": [
       "<IPython.core.display.HTML object>"
      ]
     },
     "metadata": {},
     "output_type": "display_data"
    },
    {
     "data": {
      "text/html": [
       " View run at <a href='https://wandb.ai/lana-caldarevic1/biosignal_deeplearning/runs/pd934tfc' target=\"_blank\">https://wandb.ai/lana-caldarevic1/biosignal_deeplearning/runs/pd934tfc</a>"
      ],
      "text/plain": [
       "<IPython.core.display.HTML object>"
      ]
     },
     "metadata": {},
     "output_type": "display_data"
    },
    {
     "name": "stdout",
     "output_type": "stream",
     "text": [
      "GPU enabled\n"
     ]
    },
    {
     "name": "stderr",
     "output_type": "stream",
     "text": [
      "2024-04-10 13:38:32.910348: I metal_plugin/src/device/metal_device.cc:1154] Metal device set to: Apple M1\n",
      "2024-04-10 13:38:32.910421: I metal_plugin/src/device/metal_device.cc:296] systemMemory: 16.00 GB\n",
      "2024-04-10 13:38:32.910432: I metal_plugin/src/device/metal_device.cc:313] maxCacheSize: 5.33 GB\n",
      "2024-04-10 13:38:32.910706: I tensorflow/core/common_runtime/pluggable_device/pluggable_device_factory.cc:303] Could not identify NUMA node of platform GPU ID 0, defaulting to 0. Your kernel may not have been built with NUMA support.\n",
      "2024-04-10 13:38:32.910738: I tensorflow/core/common_runtime/pluggable_device/pluggable_device_factory.cc:269] Created TensorFlow device (/job:localhost/replica:0/task:0/device:GPU:0 with 0 MB memory) -> physical PluggableDevice (device: 0, name: METAL, pci bus id: <undefined>)\n"
     ]
    },
    {
     "name": "stdout",
     "output_type": "stream",
     "text": [
      "Model: \"model\"\n",
      "__________________________________________________________________________________________________\n",
      " Layer (type)                Output Shape                 Param #   Connected to                  \n",
      "==================================================================================================\n",
      " input_1 (InputLayer)        [(None, 1024, 1)]            0         []                            \n",
      "                                                                                                  \n",
      " conv1d (Conv1D)             (None, 1024, 8)              224       ['input_1[0][0]']             \n",
      "                                                                                                  \n",
      " batch_normalization (Batch  (None, 1024, 8)              32        ['conv1d[0][0]']              \n",
      " Normalization)                                                                                   \n",
      "                                                                                                  \n",
      " conv1d_1 (Conv1D)           (None, 1024, 8)              1736      ['batch_normalization[0][0]'] \n",
      "                                                                                                  \n",
      " batch_normalization_1 (Bat  (None, 1024, 8)              32        ['conv1d_1[0][0]']            \n",
      " chNormalization)                                                                                 \n",
      "                                                                                                  \n",
      " max_pooling1d (MaxPooling1  (None, 512, 8)               0         ['batch_normalization_1[0][0]'\n",
      " D)                                                                 ]                             \n",
      "                                                                                                  \n",
      " conv1d_2 (Conv1D)           (None, 512, 16)              3472      ['max_pooling1d[0][0]']       \n",
      "                                                                                                  \n",
      " batch_normalization_2 (Bat  (None, 512, 16)              64        ['conv1d_2[0][0]']            \n",
      " chNormalization)                                                                                 \n",
      "                                                                                                  \n",
      " conv1d_3 (Conv1D)           (None, 512, 16)              6928      ['batch_normalization_2[0][0]'\n",
      "                                                                    ]                             \n",
      "                                                                                                  \n",
      " batch_normalization_3 (Bat  (None, 512, 16)              64        ['conv1d_3[0][0]']            \n",
      " chNormalization)                                                                                 \n",
      "                                                                                                  \n",
      " dropout (Dropout)           (None, 512, 16)              0         ['batch_normalization_3[0][0]'\n",
      "                                                                    ]                             \n",
      "                                                                                                  \n",
      " max_pooling1d_1 (MaxPoolin  (None, 256, 16)              0         ['dropout[0][0]']             \n",
      " g1D)                                                                                             \n",
      "                                                                                                  \n",
      " conv1d_4 (Conv1D)           (None, 256, 32)              13856     ['max_pooling1d_1[0][0]']     \n",
      "                                                                                                  \n",
      " batch_normalization_4 (Bat  (None, 256, 32)              128       ['conv1d_4[0][0]']            \n",
      " chNormalization)                                                                                 \n",
      "                                                                                                  \n",
      " conv1d_5 (Conv1D)           (None, 256, 32)              27680     ['batch_normalization_4[0][0]'\n",
      "                                                                    ]                             \n",
      "                                                                                                  \n",
      " batch_normalization_5 (Bat  (None, 256, 32)              128       ['conv1d_5[0][0]']            \n",
      " chNormalization)                                                                                 \n",
      "                                                                                                  \n",
      " up_sampling1d (UpSampling1  (None, 512, 32)              0         ['batch_normalization_5[0][0]'\n",
      " D)                                                                 ]                             \n",
      "                                                                                                  \n",
      " conv1d_6 (Conv1D)           (None, 512, 32)              27680     ['up_sampling1d[0][0]']       \n",
      "                                                                                                  \n",
      " batch_normalization_6 (Bat  (None, 512, 32)              128       ['conv1d_6[0][0]']            \n",
      " chNormalization)                                                                                 \n",
      "                                                                                                  \n",
      " concatenate (Concatenate)   (None, 512, 48)              0         ['dropout[0][0]',             \n",
      "                                                                     'batch_normalization_6[0][0]'\n",
      "                                                                    ]                             \n",
      "                                                                                                  \n",
      " conv1d_7 (Conv1D)           (None, 512, 16)              20752     ['concatenate[0][0]']         \n",
      "                                                                                                  \n",
      " batch_normalization_7 (Bat  (None, 512, 16)              64        ['conv1d_7[0][0]']            \n",
      " chNormalization)                                                                                 \n",
      "                                                                                                  \n",
      " conv1d_8 (Conv1D)           (None, 512, 16)              6928      ['batch_normalization_7[0][0]'\n",
      "                                                                    ]                             \n",
      "                                                                                                  \n",
      " batch_normalization_8 (Bat  (None, 512, 16)              64        ['conv1d_8[0][0]']            \n",
      " chNormalization)                                                                                 \n",
      "                                                                                                  \n",
      " dropout_1 (Dropout)         (None, 512, 16)              0         ['batch_normalization_8[0][0]'\n",
      "                                                                    ]                             \n",
      "                                                                                                  \n",
      " up_sampling1d_1 (UpSamplin  (None, 1024, 16)             0         ['dropout_1[0][0]']           \n",
      " g1D)                                                                                             \n",
      "                                                                                                  \n",
      " conv1d_9 (Conv1D)           (None, 1024, 16)             6928      ['up_sampling1d_1[0][0]']     \n",
      "                                                                                                  \n",
      " batch_normalization_9 (Bat  (None, 1024, 16)             64        ['conv1d_9[0][0]']            \n",
      " chNormalization)                                                                                 \n",
      "                                                                                                  \n",
      " concatenate_1 (Concatenate  (None, 1024, 24)             0         ['batch_normalization_1[0][0]'\n",
      " )                                                                  , 'batch_normalization_9[0][0]\n",
      "                                                                    ']                            \n",
      "                                                                                                  \n",
      " conv1d_10 (Conv1D)          (None, 1024, 8)              5192      ['concatenate_1[0][0]']       \n",
      "                                                                                                  \n",
      " batch_normalization_10 (Ba  (None, 1024, 8)              32        ['conv1d_10[0][0]']           \n",
      " tchNormalization)                                                                                \n",
      "                                                                                                  \n",
      " conv1d_11 (Conv1D)          (None, 1024, 8)              1736      ['batch_normalization_10[0][0]\n",
      "                                                                    ']                            \n",
      "                                                                                                  \n",
      " batch_normalization_11 (Ba  (None, 1024, 8)              32        ['conv1d_11[0][0]']           \n",
      " tchNormalization)                                                                                \n",
      "                                                                                                  \n",
      " conv1d_12 (Conv1D)          (None, 1024, 1)              217       ['batch_normalization_11[0][0]\n",
      "                                                                    ']                            \n",
      "                                                                                                  \n",
      "==================================================================================================\n",
      "Total params: 124161 (485.00 KB)\n",
      "Trainable params: 123745 (483.38 KB)\n",
      "Non-trainable params: 416 (1.62 KB)\n",
      "__________________________________________________________________________________________________\n"
     ]
    },
    {
     "name": "stderr",
     "output_type": "stream",
     "text": [
      "\u001b[34m\u001b[1mwandb\u001b[0m: \u001b[33mWARNING\u001b[0m The save_model argument by default saves the model in the HDF5 format that cannot save custom objects like subclassed models and custom layers. This behavior will be deprecated in a future release in favor of the SavedModel format. Meanwhile, the HDF5 model is saved as W&B files and the SavedModel as W&B Artifacts.\n"
     ]
    },
    {
     "name": "stdout",
     "output_type": "stream",
     "text": [
      "Model training starting\n",
      "Epoch 1/200\n"
     ]
    },
    {
     "name": "stderr",
     "output_type": "stream",
     "text": [
      "2024-04-10 13:38:40.368390: I tensorflow/core/grappler/optimizers/custom_graph_optimizer_registry.cc:114] Plugin optimizer for device_type GPU is enabled.\n"
     ]
    },
    {
     "name": "stdout",
     "output_type": "stream",
     "text": [
      "17/17 [==============================] - ETA: 0s - loss: 0.6547 - correlation: 0.9791 - mse: 0.1307"
     ]
    },
    {
     "name": "stderr",
     "output_type": "stream",
     "text": [
      "2024-04-10 13:39:13.578102: I tensorflow/core/grappler/optimizers/custom_graph_optimizer_registry.cc:114] Plugin optimizer for device_type GPU is enabled.\n",
      "/Users/lanacaldarevic/miniforge3/envs/tf_m1/lib/python3.9/site-packages/keras/src/engine/training.py:3000: UserWarning: You are saving your model as an HDF5 file via `model.save()`. This file format is considered legacy. We recommend using instead the native Keras format, e.g. `model.save('my_model.keras')`.\n",
      "  saving_api.save_model(\n"
     ]
    },
    {
     "name": "stdout",
     "output_type": "stream",
     "text": [
      "INFO:tensorflow:Assets written to: /Users/lanacaldarevic/workspace/phd/ecg_derived_resp_dl/notebooks/wandb/run-20240410_133826-pd934tfc/files/model-best/assets\n"
     ]
    },
    {
     "name": "stderr",
     "output_type": "stream",
     "text": [
      "INFO:tensorflow:Assets written to: /Users/lanacaldarevic/workspace/phd/ecg_derived_resp_dl/notebooks/wandb/run-20240410_133826-pd934tfc/files/model-best/assets\n",
      "\u001b[34m\u001b[1mwandb\u001b[0m: Adding directory to artifact (/Users/lanacaldarevic/workspace/phd/ecg_derived_resp_dl/notebooks/wandb/run-20240410_133826-pd934tfc/files/model-best)... Done. 0.1s\n"
     ]
    },
    {
     "name": "stdout",
     "output_type": "stream",
     "text": [
      "17/17 [==============================] - 43s 1s/step - loss: 0.6547 - correlation: 0.9791 - mse: 0.1307 - val_loss: 0.1923 - val_correlation: 1.0009 - val_mse: 0.1230\n",
      "Epoch 2/200\n",
      "17/17 [==============================] - ETA: 0s - loss: 0.1454 - correlation: 0.9550 - mse: 0.1178"
     ]
    },
    {
     "name": "stderr",
     "output_type": "stream",
     "text": [
      "/Users/lanacaldarevic/miniforge3/envs/tf_m1/lib/python3.9/site-packages/keras/src/engine/training.py:3000: UserWarning: You are saving your model as an HDF5 file via `model.save()`. This file format is considered legacy. We recommend using instead the native Keras format, e.g. `model.save('my_model.keras')`.\n",
      "  saving_api.save_model(\n"
     ]
    },
    {
     "name": "stdout",
     "output_type": "stream",
     "text": [
      "INFO:tensorflow:Assets written to: /Users/lanacaldarevic/workspace/phd/ecg_derived_resp_dl/notebooks/wandb/run-20240410_133826-pd934tfc/files/model-best/assets\n"
     ]
    },
    {
     "name": "stderr",
     "output_type": "stream",
     "text": [
      "INFO:tensorflow:Assets written to: /Users/lanacaldarevic/workspace/phd/ecg_derived_resp_dl/notebooks/wandb/run-20240410_133826-pd934tfc/files/model-best/assets\n",
      "\u001b[34m\u001b[1mwandb\u001b[0m: Adding directory to artifact (/Users/lanacaldarevic/workspace/phd/ecg_derived_resp_dl/notebooks/wandb/run-20240410_133826-pd934tfc/files/model-best)... Done. 0.1s\n"
     ]
    },
    {
     "name": "stdout",
     "output_type": "stream",
     "text": [
      "17/17 [==============================] - 11s 670ms/step - loss: 0.1454 - correlation: 0.9550 - mse: 0.1178 - val_loss: 0.1082 - val_correlation: 1.0007 - val_mse: 0.1235\n",
      "Epoch 3/200\n",
      "17/17 [==============================] - ETA: 0s - loss: 0.0923 - correlation: 0.9533 - mse: 0.1181"
     ]
    },
    {
     "name": "stderr",
     "output_type": "stream",
     "text": [
      "/Users/lanacaldarevic/miniforge3/envs/tf_m1/lib/python3.9/site-packages/keras/src/engine/training.py:3000: UserWarning: You are saving your model as an HDF5 file via `model.save()`. This file format is considered legacy. We recommend using instead the native Keras format, e.g. `model.save('my_model.keras')`.\n",
      "  saving_api.save_model(\n"
     ]
    },
    {
     "name": "stdout",
     "output_type": "stream",
     "text": [
      "INFO:tensorflow:Assets written to: /Users/lanacaldarevic/workspace/phd/ecg_derived_resp_dl/notebooks/wandb/run-20240410_133826-pd934tfc/files/model-best/assets\n"
     ]
    },
    {
     "name": "stderr",
     "output_type": "stream",
     "text": [
      "INFO:tensorflow:Assets written to: /Users/lanacaldarevic/workspace/phd/ecg_derived_resp_dl/notebooks/wandb/run-20240410_133826-pd934tfc/files/model-best/assets\n",
      "\u001b[34m\u001b[1mwandb\u001b[0m: Adding directory to artifact (/Users/lanacaldarevic/workspace/phd/ecg_derived_resp_dl/notebooks/wandb/run-20240410_133826-pd934tfc/files/model-best)... Done. 0.0s\n"
     ]
    },
    {
     "name": "stdout",
     "output_type": "stream",
     "text": [
      "17/17 [==============================] - 11s 657ms/step - loss: 0.0923 - correlation: 0.9533 - mse: 0.1181 - val_loss: 0.0932 - val_correlation: 0.9946 - val_mse: 0.1234\n",
      "Epoch 4/200\n",
      "17/17 [==============================] - ETA: 0s - loss: 0.0953 - correlation: 0.9705 - mse: 0.1181"
     ]
    },
    {
     "name": "stderr",
     "output_type": "stream",
     "text": [
      "/Users/lanacaldarevic/miniforge3/envs/tf_m1/lib/python3.9/site-packages/keras/src/engine/training.py:3000: UserWarning: You are saving your model as an HDF5 file via `model.save()`. This file format is considered legacy. We recommend using instead the native Keras format, e.g. `model.save('my_model.keras')`.\n",
      "  saving_api.save_model(\n"
     ]
    },
    {
     "name": "stdout",
     "output_type": "stream",
     "text": [
      "INFO:tensorflow:Assets written to: /Users/lanacaldarevic/workspace/phd/ecg_derived_resp_dl/notebooks/wandb/run-20240410_133826-pd934tfc/files/model-best/assets\n"
     ]
    },
    {
     "name": "stderr",
     "output_type": "stream",
     "text": [
      "INFO:tensorflow:Assets written to: /Users/lanacaldarevic/workspace/phd/ecg_derived_resp_dl/notebooks/wandb/run-20240410_133826-pd934tfc/files/model-best/assets\n",
      "\u001b[34m\u001b[1mwandb\u001b[0m: Adding directory to artifact (/Users/lanacaldarevic/workspace/phd/ecg_derived_resp_dl/notebooks/wandb/run-20240410_133826-pd934tfc/files/model-best)... Done. 0.0s\n"
     ]
    },
    {
     "name": "stdout",
     "output_type": "stream",
     "text": [
      "17/17 [==============================] - 11s 674ms/step - loss: 0.0953 - correlation: 0.9705 - mse: 0.1181 - val_loss: 0.0902 - val_correlation: 1.0250 - val_mse: 0.1231\n",
      "Epoch 5/200\n",
      "17/17 [==============================] - ETA: 0s - loss: 0.0831 - correlation: 0.9342 - mse: 0.1174"
     ]
    },
    {
     "name": "stderr",
     "output_type": "stream",
     "text": [
      "/Users/lanacaldarevic/miniforge3/envs/tf_m1/lib/python3.9/site-packages/keras/src/engine/training.py:3000: UserWarning: You are saving your model as an HDF5 file via `model.save()`. This file format is considered legacy. We recommend using instead the native Keras format, e.g. `model.save('my_model.keras')`.\n",
      "  saving_api.save_model(\n"
     ]
    },
    {
     "name": "stdout",
     "output_type": "stream",
     "text": [
      "INFO:tensorflow:Assets written to: /Users/lanacaldarevic/workspace/phd/ecg_derived_resp_dl/notebooks/wandb/run-20240410_133826-pd934tfc/files/model-best/assets\n"
     ]
    },
    {
     "name": "stderr",
     "output_type": "stream",
     "text": [
      "INFO:tensorflow:Assets written to: /Users/lanacaldarevic/workspace/phd/ecg_derived_resp_dl/notebooks/wandb/run-20240410_133826-pd934tfc/files/model-best/assets\n",
      "\u001b[34m\u001b[1mwandb\u001b[0m: Adding directory to artifact (/Users/lanacaldarevic/workspace/phd/ecg_derived_resp_dl/notebooks/wandb/run-20240410_133826-pd934tfc/files/model-best)... Done. 0.0s\n"
     ]
    },
    {
     "name": "stdout",
     "output_type": "stream",
     "text": [
      "17/17 [==============================] - 11s 663ms/step - loss: 0.0831 - correlation: 0.9342 - mse: 0.1174 - val_loss: 0.0768 - val_correlation: 0.9968 - val_mse: 0.1234\n",
      "Epoch 6/200\n",
      "17/17 [==============================] - 7s 398ms/step - loss: 0.0794 - correlation: 0.9346 - mse: 0.1176 - val_loss: 0.0904 - val_correlation: 0.9883 - val_mse: 0.1237\n",
      "Epoch 7/200\n",
      "17/17 [==============================] - 7s 384ms/step - loss: 0.0827 - correlation: 0.9457 - mse: 0.1176 - val_loss: 0.0814 - val_correlation: 0.9983 - val_mse: 0.1246\n",
      "Epoch 8/200\n",
      "17/17 [==============================] - ETA: 0s - loss: 0.0769 - correlation: 0.9413 - mse: 0.1174"
     ]
    },
    {
     "name": "stderr",
     "output_type": "stream",
     "text": [
      "/Users/lanacaldarevic/miniforge3/envs/tf_m1/lib/python3.9/site-packages/keras/src/engine/training.py:3000: UserWarning: You are saving your model as an HDF5 file via `model.save()`. This file format is considered legacy. We recommend using instead the native Keras format, e.g. `model.save('my_model.keras')`.\n",
      "  saving_api.save_model(\n"
     ]
    },
    {
     "name": "stdout",
     "output_type": "stream",
     "text": [
      "INFO:tensorflow:Assets written to: /Users/lanacaldarevic/workspace/phd/ecg_derived_resp_dl/notebooks/wandb/run-20240410_133826-pd934tfc/files/model-best/assets\n"
     ]
    },
    {
     "name": "stderr",
     "output_type": "stream",
     "text": [
      "INFO:tensorflow:Assets written to: /Users/lanacaldarevic/workspace/phd/ecg_derived_resp_dl/notebooks/wandb/run-20240410_133826-pd934tfc/files/model-best/assets\n",
      "\u001b[34m\u001b[1mwandb\u001b[0m: Adding directory to artifact (/Users/lanacaldarevic/workspace/phd/ecg_derived_resp_dl/notebooks/wandb/run-20240410_133826-pd934tfc/files/model-best)... Done. 0.0s\n"
     ]
    },
    {
     "name": "stdout",
     "output_type": "stream",
     "text": [
      "17/17 [==============================] - 10s 581ms/step - loss: 0.0769 - correlation: 0.9413 - mse: 0.1174 - val_loss: 0.0728 - val_correlation: 0.9995 - val_mse: 0.1235\n",
      "Epoch 9/200\n",
      "17/17 [==============================] - 7s 410ms/step - loss: 0.0792 - correlation: 0.9290 - mse: 0.1173 - val_loss: 0.0846 - val_correlation: 0.9947 - val_mse: 0.1242\n",
      "Epoch 10/200\n",
      "17/17 [==============================] - 7s 414ms/step - loss: 0.0764 - correlation: 0.9386 - mse: 0.1176 - val_loss: 0.0796 - val_correlation: 1.0105 - val_mse: 0.1246\n",
      "Epoch 11/200\n",
      "17/17 [==============================] - 7s 436ms/step - loss: 0.0794 - correlation: 0.9206 - mse: 0.1170 - val_loss: 0.0803 - val_correlation: 0.9910 - val_mse: 0.1242\n",
      "Epoch 12/200\n",
      "17/17 [==============================] - 7s 415ms/step - loss: 0.0800 - correlation: 0.8948 - mse: 0.1164 - val_loss: 0.0770 - val_correlation: 0.9365 - val_mse: 0.1234\n",
      "Epoch 13/200\n",
      "17/17 [==============================] - 7s 406ms/step - loss: 0.0759 - correlation: 0.9038 - mse: 0.1166 - val_loss: 0.0852 - val_correlation: 0.9745 - val_mse: 0.1260\n",
      "Epoch 14/200\n",
      "17/17 [==============================] - 6s 356ms/step - loss: 0.0756 - correlation: 0.8983 - mse: 0.1166 - val_loss: 0.0843 - val_correlation: 1.0061 - val_mse: 0.1237\n",
      "Epoch 15/200\n",
      "17/17 [==============================] - 7s 408ms/step - loss: 0.0756 - correlation: 0.9077 - mse: 0.1167 - val_loss: 0.0796 - val_correlation: 0.9920 - val_mse: 0.1268\n",
      "Epoch 16/200\n",
      "17/17 [==============================] - 7s 440ms/step - loss: 0.0750 - correlation: 0.8889 - mse: 0.1162 - val_loss: 0.0760 - val_correlation: 0.9893 - val_mse: 0.1239\n",
      "Epoch 17/200\n",
      "17/17 [==============================] - 7s 418ms/step - loss: 0.0774 - correlation: 0.8847 - mse: 0.1161 - val_loss: 0.0776 - val_correlation: 1.0340 - val_mse: 0.1300\n",
      "Epoch 18/200\n",
      "17/17 [==============================] - 7s 409ms/step - loss: 0.0728 - correlation: 0.8891 - mse: 0.1163 - val_loss: 0.0745 - val_correlation: 0.8779 - val_mse: 0.1243\n",
      "Epoch 19/200\n",
      "17/17 [==============================] - 7s 413ms/step - loss: 0.0742 - correlation: 0.8956 - mse: 0.1164 - val_loss: 0.0801 - val_correlation: 0.9370 - val_mse: 0.1252\n",
      "Epoch 20/200\n",
      "17/17 [==============================] - 7s 418ms/step - loss: 0.0750 - correlation: 0.9032 - mse: 0.1168 - val_loss: 0.0923 - val_correlation: 1.0075 - val_mse: 0.1353\n",
      "Epoch 21/200\n",
      "17/17 [==============================] - 7s 397ms/step - loss: 0.0806 - correlation: 0.9000 - mse: 0.1165 - val_loss: 0.0840 - val_correlation: 1.0409 - val_mse: 0.1250\n",
      "Epoch 22/200\n",
      "17/17 [==============================] - 7s 394ms/step - loss: 0.0758 - correlation: 0.8832 - mse: 0.1161 - val_loss: 0.0855 - val_correlation: 0.8064 - val_mse: 0.1230\n",
      "Epoch 23/200\n",
      "17/17 [==============================] - 7s 398ms/step - loss: 0.0768 - correlation: 0.8936 - mse: 0.1163 - val_loss: 0.0771 - val_correlation: 1.0220 - val_mse: 0.1289\n",
      "Epoch 24/200\n",
      "17/17 [==============================] - 7s 382ms/step - loss: 0.0732 - correlation: 0.8982 - mse: 0.1165 - val_loss: 0.0790 - val_correlation: 0.8230 - val_mse: 0.1246\n",
      "Epoch 25/200\n",
      "17/17 [==============================] - 7s 399ms/step - loss: 0.0740 - correlation: 0.8676 - mse: 0.1155 - val_loss: 0.0749 - val_correlation: 0.8930 - val_mse: 0.1259\n",
      "Epoch 26/200\n",
      "17/17 [==============================] - 7s 377ms/step - loss: 0.0711 - correlation: 0.8737 - mse: 0.1158 - val_loss: 0.0737 - val_correlation: 0.9784 - val_mse: 0.1264\n",
      "Epoch 27/200\n",
      "17/17 [==============================] - 8s 458ms/step - loss: 0.0690 - correlation: 0.8889 - mse: 0.1162 - val_loss: 0.0762 - val_correlation: 1.0179 - val_mse: 0.1286\n",
      "Epoch 28/200\n",
      "17/17 [==============================] - 7s 424ms/step - loss: 0.0718 - correlation: 0.8833 - mse: 0.1160 - val_loss: 0.0747 - val_correlation: 1.0375 - val_mse: 0.1259\n",
      "Epoch 29/200\n",
      "17/17 [==============================] - 7s 397ms/step - loss: 0.0695 - correlation: 0.8842 - mse: 0.1161 - val_loss: 0.0797 - val_correlation: 1.0578 - val_mse: 0.1247\n",
      "Epoch 30/200\n",
      "17/17 [==============================] - 7s 422ms/step - loss: 0.0753 - correlation: 0.8830 - mse: 0.1160 - val_loss: 0.0789 - val_correlation: 0.9835 - val_mse: 0.1251\n",
      "Epoch 31/200\n",
      "17/17 [==============================] - 7s 407ms/step - loss: 0.0725 - correlation: 0.8846 - mse: 0.1162 - val_loss: 0.0760 - val_correlation: 0.6834 - val_mse: 0.1225\n",
      "Epoch 32/200\n",
      "17/17 [==============================] - 7s 435ms/step - loss: 0.0718 - correlation: 0.8868 - mse: 0.1162 - val_loss: 0.0817 - val_correlation: 1.1810 - val_mse: 0.1276\n",
      "Epoch 33/200\n",
      "17/17 [==============================] - ETA: 0s - loss: 0.0714 - correlation: 0.8651 - mse: 0.1154"
     ]
    },
    {
     "name": "stderr",
     "output_type": "stream",
     "text": [
      "/Users/lanacaldarevic/miniforge3/envs/tf_m1/lib/python3.9/site-packages/keras/src/engine/training.py:3000: UserWarning: You are saving your model as an HDF5 file via `model.save()`. This file format is considered legacy. We recommend using instead the native Keras format, e.g. `model.save('my_model.keras')`.\n",
      "  saving_api.save_model(\n"
     ]
    },
    {
     "name": "stdout",
     "output_type": "stream",
     "text": [
      "INFO:tensorflow:Assets written to: /Users/lanacaldarevic/workspace/phd/ecg_derived_resp_dl/notebooks/wandb/run-20240410_133826-pd934tfc/files/model-best/assets\n"
     ]
    },
    {
     "name": "stderr",
     "output_type": "stream",
     "text": [
      "INFO:tensorflow:Assets written to: /Users/lanacaldarevic/workspace/phd/ecg_derived_resp_dl/notebooks/wandb/run-20240410_133826-pd934tfc/files/model-best/assets\n",
      "\u001b[34m\u001b[1mwandb\u001b[0m: Adding directory to artifact (/Users/lanacaldarevic/workspace/phd/ecg_derived_resp_dl/notebooks/wandb/run-20240410_133826-pd934tfc/files/model-best)... Done. 0.0s\n"
     ]
    },
    {
     "name": "stdout",
     "output_type": "stream",
     "text": [
      "17/17 [==============================] - 11s 638ms/step - loss: 0.0714 - correlation: 0.8651 - mse: 0.1154 - val_loss: 0.0724 - val_correlation: 0.8930 - val_mse: 0.1245\n",
      "Epoch 34/200\n",
      "17/17 [==============================] - 8s 430ms/step - loss: 0.0738 - correlation: 0.8871 - mse: 0.1162 - val_loss: 0.0791 - val_correlation: 1.0079 - val_mse: 0.1274\n",
      "Epoch 35/200\n",
      "17/17 [==============================] - 7s 391ms/step - loss: 0.0741 - correlation: 0.8995 - mse: 0.1167 - val_loss: 0.0827 - val_correlation: 1.1349 - val_mse: 0.1352\n",
      "Epoch 36/200\n",
      "17/17 [==============================] - 7s 417ms/step - loss: 0.0711 - correlation: 0.8908 - mse: 0.1162 - val_loss: 0.0725 - val_correlation: 1.1063 - val_mse: 0.1232\n",
      "Epoch 37/200\n",
      "17/17 [==============================] - ETA: 0s - loss: 0.0702 - correlation: 0.8775 - mse: 0.1159"
     ]
    },
    {
     "name": "stderr",
     "output_type": "stream",
     "text": [
      "/Users/lanacaldarevic/miniforge3/envs/tf_m1/lib/python3.9/site-packages/keras/src/engine/training.py:3000: UserWarning: You are saving your model as an HDF5 file via `model.save()`. This file format is considered legacy. We recommend using instead the native Keras format, e.g. `model.save('my_model.keras')`.\n",
      "  saving_api.save_model(\n"
     ]
    },
    {
     "name": "stdout",
     "output_type": "stream",
     "text": [
      "INFO:tensorflow:Assets written to: /Users/lanacaldarevic/workspace/phd/ecg_derived_resp_dl/notebooks/wandb/run-20240410_133826-pd934tfc/files/model-best/assets\n"
     ]
    },
    {
     "name": "stderr",
     "output_type": "stream",
     "text": [
      "INFO:tensorflow:Assets written to: /Users/lanacaldarevic/workspace/phd/ecg_derived_resp_dl/notebooks/wandb/run-20240410_133826-pd934tfc/files/model-best/assets\n",
      "\u001b[34m\u001b[1mwandb\u001b[0m: Adding directory to artifact (/Users/lanacaldarevic/workspace/phd/ecg_derived_resp_dl/notebooks/wandb/run-20240410_133826-pd934tfc/files/model-best)... Done. 0.0s\n"
     ]
    },
    {
     "name": "stdout",
     "output_type": "stream",
     "text": [
      "17/17 [==============================] - 10s 591ms/step - loss: 0.0702 - correlation: 0.8775 - mse: 0.1159 - val_loss: 0.0701 - val_correlation: 1.0676 - val_mse: 0.1229\n",
      "Epoch 38/200\n",
      "17/17 [==============================] - 5s 292ms/step - loss: 0.0655 - correlation: 0.8622 - mse: 0.1153 - val_loss: 0.0748 - val_correlation: 0.8760 - val_mse: 0.1313\n",
      "Epoch 39/200\n",
      "17/17 [==============================] - 5s 276ms/step - loss: 0.0697 - correlation: 0.8798 - mse: 0.1159 - val_loss: 0.0732 - val_correlation: 1.0416 - val_mse: 0.1254\n",
      "Epoch 40/200\n",
      "17/17 [==============================] - 5s 297ms/step - loss: 0.0680 - correlation: 0.8685 - mse: 0.1155 - val_loss: 0.0757 - val_correlation: 1.1985 - val_mse: 0.1240\n",
      "Epoch 41/200\n",
      "17/17 [==============================] - ETA: 0s - loss: 0.0688 - correlation: 0.8658 - mse: 0.1155"
     ]
    },
    {
     "name": "stderr",
     "output_type": "stream",
     "text": [
      "/Users/lanacaldarevic/miniforge3/envs/tf_m1/lib/python3.9/site-packages/keras/src/engine/training.py:3000: UserWarning: You are saving your model as an HDF5 file via `model.save()`. This file format is considered legacy. We recommend using instead the native Keras format, e.g. `model.save('my_model.keras')`.\n",
      "  saving_api.save_model(\n"
     ]
    },
    {
     "name": "stdout",
     "output_type": "stream",
     "text": [
      "INFO:tensorflow:Assets written to: /Users/lanacaldarevic/workspace/phd/ecg_derived_resp_dl/notebooks/wandb/run-20240410_133826-pd934tfc/files/model-best/assets\n"
     ]
    },
    {
     "name": "stderr",
     "output_type": "stream",
     "text": [
      "INFO:tensorflow:Assets written to: /Users/lanacaldarevic/workspace/phd/ecg_derived_resp_dl/notebooks/wandb/run-20240410_133826-pd934tfc/files/model-best/assets\n",
      "\u001b[34m\u001b[1mwandb\u001b[0m: Adding directory to artifact (/Users/lanacaldarevic/workspace/phd/ecg_derived_resp_dl/notebooks/wandb/run-20240410_133826-pd934tfc/files/model-best)... Done. 0.0s\n"
     ]
    },
    {
     "name": "stdout",
     "output_type": "stream",
     "text": [
      "17/17 [==============================] - 8s 458ms/step - loss: 0.0688 - correlation: 0.8658 - mse: 0.1155 - val_loss: 0.0683 - val_correlation: 0.9601 - val_mse: 0.1227\n",
      "Epoch 42/200\n",
      "17/17 [==============================] - 6s 329ms/step - loss: 0.0694 - correlation: 0.8765 - mse: 0.1158 - val_loss: 0.0744 - val_correlation: 0.9556 - val_mse: 0.1290\n",
      "Epoch 43/200\n",
      "17/17 [==============================] - 6s 344ms/step - loss: 0.0654 - correlation: 0.8807 - mse: 0.1159 - val_loss: 0.0744 - val_correlation: 1.0334 - val_mse: 0.1289\n",
      "Epoch 44/200\n",
      "17/17 [==============================] - 6s 346ms/step - loss: 0.0666 - correlation: 0.8748 - mse: 0.1159 - val_loss: 0.0719 - val_correlation: 0.9592 - val_mse: 0.1247\n",
      "Epoch 45/200\n",
      "17/17 [==============================] - ETA: 0s - loss: 0.0678 - correlation: 0.8848 - mse: 0.1161"
     ]
    },
    {
     "name": "stderr",
     "output_type": "stream",
     "text": [
      "/Users/lanacaldarevic/miniforge3/envs/tf_m1/lib/python3.9/site-packages/keras/src/engine/training.py:3000: UserWarning: You are saving your model as an HDF5 file via `model.save()`. This file format is considered legacy. We recommend using instead the native Keras format, e.g. `model.save('my_model.keras')`.\n",
      "  saving_api.save_model(\n"
     ]
    },
    {
     "name": "stdout",
     "output_type": "stream",
     "text": [
      "INFO:tensorflow:Assets written to: /Users/lanacaldarevic/workspace/phd/ecg_derived_resp_dl/notebooks/wandb/run-20240410_133826-pd934tfc/files/model-best/assets\n"
     ]
    },
    {
     "name": "stderr",
     "output_type": "stream",
     "text": [
      "INFO:tensorflow:Assets written to: /Users/lanacaldarevic/workspace/phd/ecg_derived_resp_dl/notebooks/wandb/run-20240410_133826-pd934tfc/files/model-best/assets\n",
      "\u001b[34m\u001b[1mwandb\u001b[0m: Adding directory to artifact (/Users/lanacaldarevic/workspace/phd/ecg_derived_resp_dl/notebooks/wandb/run-20240410_133826-pd934tfc/files/model-best)... Done. 0.0s\n"
     ]
    },
    {
     "name": "stdout",
     "output_type": "stream",
     "text": [
      "17/17 [==============================] - 8s 494ms/step - loss: 0.0678 - correlation: 0.8848 - mse: 0.1161 - val_loss: 0.0652 - val_correlation: 0.7431 - val_mse: 0.1202\n",
      "Epoch 46/200\n",
      "17/17 [==============================] - ETA: 0s - loss: 0.0624 - correlation: 0.8706 - mse: 0.1156"
     ]
    },
    {
     "name": "stderr",
     "output_type": "stream",
     "text": [
      "/Users/lanacaldarevic/miniforge3/envs/tf_m1/lib/python3.9/site-packages/keras/src/engine/training.py:3000: UserWarning: You are saving your model as an HDF5 file via `model.save()`. This file format is considered legacy. We recommend using instead the native Keras format, e.g. `model.save('my_model.keras')`.\n",
      "  saving_api.save_model(\n"
     ]
    },
    {
     "name": "stdout",
     "output_type": "stream",
     "text": [
      "INFO:tensorflow:Assets written to: /Users/lanacaldarevic/workspace/phd/ecg_derived_resp_dl/notebooks/wandb/run-20240410_133826-pd934tfc/files/model-best/assets\n"
     ]
    },
    {
     "name": "stderr",
     "output_type": "stream",
     "text": [
      "INFO:tensorflow:Assets written to: /Users/lanacaldarevic/workspace/phd/ecg_derived_resp_dl/notebooks/wandb/run-20240410_133826-pd934tfc/files/model-best/assets\n",
      "\u001b[34m\u001b[1mwandb\u001b[0m: Adding directory to artifact (/Users/lanacaldarevic/workspace/phd/ecg_derived_resp_dl/notebooks/wandb/run-20240410_133826-pd934tfc/files/model-best)... Done. 0.0s\n"
     ]
    },
    {
     "name": "stdout",
     "output_type": "stream",
     "text": [
      "17/17 [==============================] - 10s 584ms/step - loss: 0.0624 - correlation: 0.8706 - mse: 0.1156 - val_loss: 0.0634 - val_correlation: 0.8509 - val_mse: 0.1205\n",
      "Epoch 47/200\n",
      "17/17 [==============================] - 8s 448ms/step - loss: 0.0604 - correlation: 0.8612 - mse: 0.1154 - val_loss: 0.0672 - val_correlation: 0.9780 - val_mse: 0.1274\n",
      "Epoch 48/200\n",
      "17/17 [==============================] - 8s 435ms/step - loss: 0.0609 - correlation: 0.8616 - mse: 0.1153 - val_loss: 0.0662 - val_correlation: 1.0035 - val_mse: 0.1264\n",
      "Epoch 49/200\n",
      "17/17 [==============================] - 7s 382ms/step - loss: 0.0698 - correlation: 0.8723 - mse: 0.1157 - val_loss: 0.0829 - val_correlation: 1.1558 - val_mse: 0.1251\n",
      "Epoch 50/200\n",
      "17/17 [==============================] - 6s 335ms/step - loss: 0.0683 - correlation: 0.8688 - mse: 0.1156 - val_loss: 0.0692 - val_correlation: 0.9615 - val_mse: 0.1226\n",
      "Epoch 51/200\n",
      "17/17 [==============================] - 6s 346ms/step - loss: 0.0627 - correlation: 0.8647 - mse: 0.1155 - val_loss: 0.0659 - val_correlation: 0.8376 - val_mse: 0.1215\n",
      "Epoch 52/200\n",
      "17/17 [==============================] - 6s 368ms/step - loss: 0.0618 - correlation: 0.8907 - mse: 0.1162 - val_loss: 0.0658 - val_correlation: 0.6947 - val_mse: 0.1203\n",
      "Epoch 53/200\n",
      "17/17 [==============================] - 6s 358ms/step - loss: 0.0649 - correlation: 0.8711 - mse: 0.1156 - val_loss: 0.0716 - val_correlation: 1.0273 - val_mse: 0.1240\n",
      "Epoch 54/200\n",
      "17/17 [==============================] - 6s 336ms/step - loss: 0.0675 - correlation: 0.8654 - mse: 0.1155 - val_loss: 0.0668 - val_correlation: 1.0758 - val_mse: 0.1254\n",
      "Epoch 55/200\n",
      "17/17 [==============================] - 7s 387ms/step - loss: 0.0618 - correlation: 0.8777 - mse: 0.1159 - val_loss: 0.0758 - val_correlation: 0.9966 - val_mse: 0.1422\n",
      "Epoch 56/200\n",
      "17/17 [==============================] - 7s 428ms/step - loss: 0.0607 - correlation: 0.8709 - mse: 0.1156 - val_loss: 0.0639 - val_correlation: 0.9162 - val_mse: 0.1249\n"
     ]
    },
    {
     "name": "stderr",
     "output_type": "stream",
     "text": [
      "/Users/lanacaldarevic/miniforge3/envs/tf_m1/lib/python3.9/site-packages/keras/src/engine/training.py:3000: UserWarning: You are saving your model as an HDF5 file via `model.save()`. This file format is considered legacy. We recommend using instead the native Keras format, e.g. `model.save('my_model.keras')`.\n",
      "  saving_api.save_model(\n"
     ]
    },
    {
     "data": {
      "text/html": [
       "Waiting for W&B process to finish... <strong style=\"color:green\">(success).</strong>"
      ],
      "text/plain": [
       "<IPython.core.display.HTML object>"
      ]
     },
     "metadata": {},
     "output_type": "display_data"
    },
    {
     "data": {
      "text/html": [
       "<style>\n",
       "    table.wandb td:nth-child(1) { padding: 0 10px; text-align: left ; width: auto;} td:nth-child(2) {text-align: left ; width: 100%}\n",
       "    .wandb-row { display: flex; flex-direction: row; flex-wrap: wrap; justify-content: flex-start; width: 100% }\n",
       "    .wandb-col { display: flex; flex-direction: column; flex-basis: 100%; flex: 1; padding: 10px; }\n",
       "    </style>\n",
       "<div class=\"wandb-row\"><div class=\"wandb-col\"><h3>Run history:</h3><br/><table class=\"wandb\"><tr><td>correlation</td><td>█▇▆▅▅▆▅▆▃▄▄▃▂▃▃▂▃▃▂▃▂▂▃▁▃▃▂▂▁▁▂▂▂▁▁▁▁▂▁▂</td></tr><tr><td>epoch</td><td>▁▁▁▂▂▂▂▂▂▃▃▃▃▃▃▄▄▄▄▄▅▅▅▅▅▅▆▆▆▆▆▆▇▇▇▇▇███</td></tr><tr><td>loss</td><td>█▂▁▁▁▁▁▁▁▁▁▁▁▁▁▁▁▁▁▁▁▁▁▁▁▁▁▁▁▁▁▁▁▁▁▁▁▁▁▁</td></tr><tr><td>mse</td><td>█▂▂▂▂▂▂▂▁▂▂▁▁▁▂▁▁▂▁▁▁▁▁▁▁▁▁▁▁▁▁▁▁▁▁▁▁▁▁▁</td></tr><tr><td>val_correlation</td><td>▄▄▄▄▄▄▄▅▃▄▄▄▅▃▅▁▅▁▄▅▅▄█▃▅▆▆▅█▄▅▄▂▄▅▄▂▅▆▃</td></tr><tr><td>val_loss</td><td>█▃▃▂▂▂▂▂▂▂▂▂▂▂▃▂▂▂▂▂▂▂▂▁▂▁▁▂▂▁▂▁▁▁▁▁▁▁▁▁</td></tr><tr><td>val_mse</td><td>▂▂▂▂▂▂▃▃▂▄▄▃▆▃█▂▅▃▄▅▃▃▄▃▄▂▂▃▃▂▅▃▁▄▄▂▁▃▃▃</td></tr></table><br/></div><div class=\"wandb-col\"><h3>Run summary:</h3><br/><table class=\"wandb\"><tr><td>best_epoch</td><td>45</td></tr><tr><td>best_val_loss</td><td>0.06345</td></tr><tr><td>correlation</td><td>0.87095</td></tr><tr><td>epoch</td><td>55</td></tr><tr><td>loss</td><td>0.06069</td></tr><tr><td>mse</td><td>0.1156</td></tr><tr><td>val_correlation</td><td>0.91625</td></tr><tr><td>val_loss</td><td>0.06385</td></tr><tr><td>val_mse</td><td>0.12493</td></tr></table><br/></div></div>"
      ],
      "text/plain": [
       "<IPython.core.display.HTML object>"
      ]
     },
     "metadata": {},
     "output_type": "display_data"
    },
    {
     "data": {
      "text/html": [
       " View run <strong style=\"color:#cdcd00\">cerulean-sweep-1</strong> at: <a href='https://wandb.ai/lana-caldarevic1/biosignal_deeplearning/runs/pd934tfc' target=\"_blank\">https://wandb.ai/lana-caldarevic1/biosignal_deeplearning/runs/pd934tfc</a><br/>Synced 6 W&B file(s), 1 media file(s), 55 artifact file(s) and 1 other file(s)"
      ],
      "text/plain": [
       "<IPython.core.display.HTML object>"
      ]
     },
     "metadata": {},
     "output_type": "display_data"
    },
    {
     "data": {
      "text/html": [
       "Find logs at: <code>./wandb/run-20240410_133826-pd934tfc/logs</code>"
      ],
      "text/plain": [
       "<IPython.core.display.HTML object>"
      ]
     },
     "metadata": {},
     "output_type": "display_data"
    },
    {
     "name": "stderr",
     "output_type": "stream",
     "text": [
      "\u001b[34m\u001b[1mwandb\u001b[0m: Agent Starting Run: 83fzohhz with config:\n",
      "\u001b[34m\u001b[1mwandb\u001b[0m: \tbatch_size: 64\n",
      "\u001b[34m\u001b[1mwandb\u001b[0m: \tdropout: 0.26551537344388776\n",
      "\u001b[34m\u001b[1mwandb\u001b[0m: \tkernel_size: 5\n",
      "\u001b[34m\u001b[1mwandb\u001b[0m: \tlearning_rate: 0.007731587510149457\n",
      "\u001b[34m\u001b[1mwandb\u001b[0m: \treg: 0.0024303990674152663\n",
      "\u001b[34m\u001b[1mwandb\u001b[0m: \tstart_filters: 8\n"
     ]
    },
    {
     "data": {
      "text/html": [
       "wandb version 0.16.6 is available!  To upgrade, please run:\n",
       " $ pip install wandb --upgrade"
      ],
      "text/plain": [
       "<IPython.core.display.HTML object>"
      ]
     },
     "metadata": {},
     "output_type": "display_data"
    },
    {
     "data": {
      "text/html": [
       "Tracking run with wandb version 0.15.9"
      ],
      "text/plain": [
       "<IPython.core.display.HTML object>"
      ]
     },
     "metadata": {},
     "output_type": "display_data"
    },
    {
     "data": {
      "text/html": [
       "Run data is saved locally in <code>/Users/lanacaldarevic/workspace/phd/ecg_derived_resp_dl/notebooks/wandb/run-20240410_134617-83fzohhz</code>"
      ],
      "text/plain": [
       "<IPython.core.display.HTML object>"
      ]
     },
     "metadata": {},
     "output_type": "display_data"
    },
    {
     "data": {
      "text/html": [
       "Syncing run <strong><a href='https://wandb.ai/lana-caldarevic1/biosignal_deeplearning/runs/83fzohhz' target=\"_blank\">rosy-sweep-2</a></strong> to <a href='https://wandb.ai/lana-caldarevic1/biosignal_deeplearning' target=\"_blank\">Weights & Biases</a> (<a href='https://wandb.me/run' target=\"_blank\">docs</a>)<br/>Sweep page: <a href='https://wandb.ai/lana-caldarevic1/biosignal_deeplearning/sweeps/6i1t9675' target=\"_blank\">https://wandb.ai/lana-caldarevic1/biosignal_deeplearning/sweeps/6i1t9675</a>"
      ],
      "text/plain": [
       "<IPython.core.display.HTML object>"
      ]
     },
     "metadata": {},
     "output_type": "display_data"
    },
    {
     "data": {
      "text/html": [
       " View project at <a href='https://wandb.ai/lana-caldarevic1/biosignal_deeplearning' target=\"_blank\">https://wandb.ai/lana-caldarevic1/biosignal_deeplearning</a>"
      ],
      "text/plain": [
       "<IPython.core.display.HTML object>"
      ]
     },
     "metadata": {},
     "output_type": "display_data"
    },
    {
     "data": {
      "text/html": [
       " View sweep at <a href='https://wandb.ai/lana-caldarevic1/biosignal_deeplearning/sweeps/6i1t9675' target=\"_blank\">https://wandb.ai/lana-caldarevic1/biosignal_deeplearning/sweeps/6i1t9675</a>"
      ],
      "text/plain": [
       "<IPython.core.display.HTML object>"
      ]
     },
     "metadata": {},
     "output_type": "display_data"
    },
    {
     "data": {
      "text/html": [
       " View run at <a href='https://wandb.ai/lana-caldarevic1/biosignal_deeplearning/runs/83fzohhz' target=\"_blank\">https://wandb.ai/lana-caldarevic1/biosignal_deeplearning/runs/83fzohhz</a>"
      ],
      "text/plain": [
       "<IPython.core.display.HTML object>"
      ]
     },
     "metadata": {},
     "output_type": "display_data"
    },
    {
     "name": "stdout",
     "output_type": "stream",
     "text": [
      "GPU enabled\n",
      "Model: \"model\"\n",
      "__________________________________________________________________________________________________\n",
      " Layer (type)                Output Shape                 Param #   Connected to                  \n",
      "==================================================================================================\n",
      " input_1 (InputLayer)        [(None, 1024, 1)]            0         []                            \n",
      "                                                                                                  \n",
      " conv1d (Conv1D)             (None, 1024, 8)              48        ['input_1[0][0]']             \n",
      "                                                                                                  \n",
      " batch_normalization (Batch  (None, 1024, 8)              32        ['conv1d[0][0]']              \n",
      " Normalization)                                                                                   \n",
      "                                                                                                  \n",
      " conv1d_1 (Conv1D)           (None, 1024, 8)              328       ['batch_normalization[0][0]'] \n",
      "                                                                                                  \n",
      " batch_normalization_1 (Bat  (None, 1024, 8)              32        ['conv1d_1[0][0]']            \n",
      " chNormalization)                                                                                 \n",
      "                                                                                                  \n",
      " max_pooling1d (MaxPooling1  (None, 512, 8)               0         ['batch_normalization_1[0][0]'\n",
      " D)                                                                 ]                             \n",
      "                                                                                                  \n",
      " conv1d_2 (Conv1D)           (None, 512, 16)              656       ['max_pooling1d[0][0]']       \n",
      "                                                                                                  \n",
      " batch_normalization_2 (Bat  (None, 512, 16)              64        ['conv1d_2[0][0]']            \n",
      " chNormalization)                                                                                 \n",
      "                                                                                                  \n",
      " conv1d_3 (Conv1D)           (None, 512, 16)              1296      ['batch_normalization_2[0][0]'\n",
      "                                                                    ]                             \n",
      "                                                                                                  \n",
      " batch_normalization_3 (Bat  (None, 512, 16)              64        ['conv1d_3[0][0]']            \n",
      " chNormalization)                                                                                 \n",
      "                                                                                                  \n",
      " dropout (Dropout)           (None, 512, 16)              0         ['batch_normalization_3[0][0]'\n",
      "                                                                    ]                             \n",
      "                                                                                                  \n",
      " max_pooling1d_1 (MaxPoolin  (None, 256, 16)              0         ['dropout[0][0]']             \n",
      " g1D)                                                                                             \n",
      "                                                                                                  \n",
      " conv1d_4 (Conv1D)           (None, 256, 32)              2592      ['max_pooling1d_1[0][0]']     \n",
      "                                                                                                  \n",
      " batch_normalization_4 (Bat  (None, 256, 32)              128       ['conv1d_4[0][0]']            \n",
      " chNormalization)                                                                                 \n",
      "                                                                                                  \n",
      " conv1d_5 (Conv1D)           (None, 256, 32)              5152      ['batch_normalization_4[0][0]'\n",
      "                                                                    ]                             \n",
      "                                                                                                  \n",
      " batch_normalization_5 (Bat  (None, 256, 32)              128       ['conv1d_5[0][0]']            \n",
      " chNormalization)                                                                                 \n",
      "                                                                                                  \n",
      " up_sampling1d (UpSampling1  (None, 512, 32)              0         ['batch_normalization_5[0][0]'\n",
      " D)                                                                 ]                             \n",
      "                                                                                                  \n",
      " conv1d_6 (Conv1D)           (None, 512, 32)              5152      ['up_sampling1d[0][0]']       \n",
      "                                                                                                  \n",
      " batch_normalization_6 (Bat  (None, 512, 32)              128       ['conv1d_6[0][0]']            \n",
      " chNormalization)                                                                                 \n",
      "                                                                                                  \n",
      " concatenate (Concatenate)   (None, 512, 48)              0         ['dropout[0][0]',             \n",
      "                                                                     'batch_normalization_6[0][0]'\n",
      "                                                                    ]                             \n",
      "                                                                                                  \n",
      " conv1d_7 (Conv1D)           (None, 512, 16)              3856      ['concatenate[0][0]']         \n",
      "                                                                                                  \n",
      " batch_normalization_7 (Bat  (None, 512, 16)              64        ['conv1d_7[0][0]']            \n",
      " chNormalization)                                                                                 \n",
      "                                                                                                  \n",
      " conv1d_8 (Conv1D)           (None, 512, 16)              1296      ['batch_normalization_7[0][0]'\n",
      "                                                                    ]                             \n",
      "                                                                                                  \n",
      " batch_normalization_8 (Bat  (None, 512, 16)              64        ['conv1d_8[0][0]']            \n",
      " chNormalization)                                                                                 \n",
      "                                                                                                  \n",
      " dropout_1 (Dropout)         (None, 512, 16)              0         ['batch_normalization_8[0][0]'\n",
      "                                                                    ]                             \n",
      "                                                                                                  \n",
      " up_sampling1d_1 (UpSamplin  (None, 1024, 16)             0         ['dropout_1[0][0]']           \n",
      " g1D)                                                                                             \n",
      "                                                                                                  \n",
      " conv1d_9 (Conv1D)           (None, 1024, 16)             1296      ['up_sampling1d_1[0][0]']     \n",
      "                                                                                                  \n",
      " batch_normalization_9 (Bat  (None, 1024, 16)             64        ['conv1d_9[0][0]']            \n",
      " chNormalization)                                                                                 \n",
      "                                                                                                  \n",
      " concatenate_1 (Concatenate  (None, 1024, 24)             0         ['batch_normalization_1[0][0]'\n",
      " )                                                                  , 'batch_normalization_9[0][0]\n",
      "                                                                    ']                            \n",
      "                                                                                                  \n",
      " conv1d_10 (Conv1D)          (None, 1024, 8)              968       ['concatenate_1[0][0]']       \n",
      "                                                                                                  \n",
      " batch_normalization_10 (Ba  (None, 1024, 8)              32        ['conv1d_10[0][0]']           \n",
      " tchNormalization)                                                                                \n",
      "                                                                                                  \n",
      " conv1d_11 (Conv1D)          (None, 1024, 8)              328       ['batch_normalization_10[0][0]\n",
      "                                                                    ']                            \n",
      "                                                                                                  \n",
      " batch_normalization_11 (Ba  (None, 1024, 8)              32        ['conv1d_11[0][0]']           \n",
      " tchNormalization)                                                                                \n",
      "                                                                                                  \n",
      " conv1d_12 (Conv1D)          (None, 1024, 1)              41        ['batch_normalization_11[0][0]\n",
      "                                                                    ']                            \n",
      "                                                                                                  \n",
      "==================================================================================================\n",
      "Total params: 23841 (93.13 KB)\n",
      "Trainable params: 23425 (91.50 KB)\n",
      "Non-trainable params: 416 (1.62 KB)\n",
      "__________________________________________________________________________________________________\n",
      "Model training starting\n",
      "Epoch 1/200\n"
     ]
    },
    {
     "name": "stderr",
     "output_type": "stream",
     "text": [
      "2024-04-10 13:46:29.552840: I tensorflow/core/grappler/optimizers/custom_graph_optimizer_registry.cc:114] Plugin optimizer for device_type GPU is enabled.\n"
     ]
    },
    {
     "name": "stdout",
     "output_type": "stream",
     "text": [
      "68/68 [==============================] - ETA: 0s - loss: 0.2122 - correlation: 0.8849 - mse: 0.1190"
     ]
    },
    {
     "name": "stderr",
     "output_type": "stream",
     "text": [
      "2024-04-10 13:47:00.199393: I tensorflow/core/grappler/optimizers/custom_graph_optimizer_registry.cc:114] Plugin optimizer for device_type GPU is enabled.\n",
      "/Users/lanacaldarevic/miniforge3/envs/tf_m1/lib/python3.9/site-packages/keras/src/engine/training.py:3000: UserWarning: You are saving your model as an HDF5 file via `model.save()`. This file format is considered legacy. We recommend using instead the native Keras format, e.g. `model.save('my_model.keras')`.\n",
      "  saving_api.save_model(\n"
     ]
    },
    {
     "name": "stdout",
     "output_type": "stream",
     "text": [
      "INFO:tensorflow:Assets written to: /Users/lanacaldarevic/workspace/phd/ecg_derived_resp_dl/notebooks/wandb/run-20240410_134617-83fzohhz/files/model-best/assets\n"
     ]
    },
    {
     "name": "stderr",
     "output_type": "stream",
     "text": [
      "INFO:tensorflow:Assets written to: /Users/lanacaldarevic/workspace/phd/ecg_derived_resp_dl/notebooks/wandb/run-20240410_134617-83fzohhz/files/model-best/assets\n",
      "\u001b[34m\u001b[1mwandb\u001b[0m: Adding directory to artifact (/Users/lanacaldarevic/workspace/phd/ecg_derived_resp_dl/notebooks/wandb/run-20240410_134617-83fzohhz/files/model-best)... Done. 0.0s\n"
     ]
    },
    {
     "name": "stdout",
     "output_type": "stream",
     "text": [
      "68/68 [==============================] - 40s 340ms/step - loss: 0.2122 - correlation: 0.8849 - mse: 0.1190 - val_loss: 0.0789 - val_correlation: 0.9980 - val_mse: 0.1230\n",
      "Epoch 2/200\n",
      "68/68 [==============================] - ETA: 0s - loss: 0.0682 - correlation: 0.8442 - mse: 0.1148"
     ]
    },
    {
     "name": "stderr",
     "output_type": "stream",
     "text": [
      "/Users/lanacaldarevic/miniforge3/envs/tf_m1/lib/python3.9/site-packages/keras/src/engine/training.py:3000: UserWarning: You are saving your model as an HDF5 file via `model.save()`. This file format is considered legacy. We recommend using instead the native Keras format, e.g. `model.save('my_model.keras')`.\n",
      "  saving_api.save_model(\n"
     ]
    },
    {
     "name": "stdout",
     "output_type": "stream",
     "text": [
      "INFO:tensorflow:Assets written to: /Users/lanacaldarevic/workspace/phd/ecg_derived_resp_dl/notebooks/wandb/run-20240410_134617-83fzohhz/files/model-best/assets\n"
     ]
    },
    {
     "name": "stderr",
     "output_type": "stream",
     "text": [
      "INFO:tensorflow:Assets written to: /Users/lanacaldarevic/workspace/phd/ecg_derived_resp_dl/notebooks/wandb/run-20240410_134617-83fzohhz/files/model-best/assets\n",
      "\u001b[34m\u001b[1mwandb\u001b[0m: Adding directory to artifact (/Users/lanacaldarevic/workspace/phd/ecg_derived_resp_dl/notebooks/wandb/run-20240410_134617-83fzohhz/files/model-best)... Done. 0.0s\n"
     ]
    },
    {
     "name": "stdout",
     "output_type": "stream",
     "text": [
      "68/68 [==============================] - 14s 204ms/step - loss: 0.0682 - correlation: 0.8442 - mse: 0.1148 - val_loss: 0.0694 - val_correlation: 1.0019 - val_mse: 0.1230\n",
      "Epoch 3/200\n",
      "68/68 [==============================] - ETA: 0s - loss: 0.0647 - correlation: 0.9097 - mse: 0.1166"
     ]
    },
    {
     "name": "stderr",
     "output_type": "stream",
     "text": [
      "/Users/lanacaldarevic/miniforge3/envs/tf_m1/lib/python3.9/site-packages/keras/src/engine/training.py:3000: UserWarning: You are saving your model as an HDF5 file via `model.save()`. This file format is considered legacy. We recommend using instead the native Keras format, e.g. `model.save('my_model.keras')`.\n",
      "  saving_api.save_model(\n"
     ]
    },
    {
     "name": "stdout",
     "output_type": "stream",
     "text": [
      "INFO:tensorflow:Assets written to: /Users/lanacaldarevic/workspace/phd/ecg_derived_resp_dl/notebooks/wandb/run-20240410_134617-83fzohhz/files/model-best/assets\n"
     ]
    },
    {
     "name": "stderr",
     "output_type": "stream",
     "text": [
      "INFO:tensorflow:Assets written to: /Users/lanacaldarevic/workspace/phd/ecg_derived_resp_dl/notebooks/wandb/run-20240410_134617-83fzohhz/files/model-best/assets\n",
      "\u001b[34m\u001b[1mwandb\u001b[0m: Adding directory to artifact (/Users/lanacaldarevic/workspace/phd/ecg_derived_resp_dl/notebooks/wandb/run-20240410_134617-83fzohhz/files/model-best)... Done. 0.0s\n"
     ]
    },
    {
     "name": "stdout",
     "output_type": "stream",
     "text": [
      "68/68 [==============================] - 21s 305ms/step - loss: 0.0647 - correlation: 0.9097 - mse: 0.1166 - val_loss: 0.0667 - val_correlation: 0.9989 - val_mse: 0.1230\n",
      "Epoch 4/200\n",
      "68/68 [==============================] - ETA: 0s - loss: 0.0617 - correlation: 0.9547 - mse: 0.1175"
     ]
    },
    {
     "name": "stderr",
     "output_type": "stream",
     "text": [
      "/Users/lanacaldarevic/miniforge3/envs/tf_m1/lib/python3.9/site-packages/keras/src/engine/training.py:3000: UserWarning: You are saving your model as an HDF5 file via `model.save()`. This file format is considered legacy. We recommend using instead the native Keras format, e.g. `model.save('my_model.keras')`.\n",
      "  saving_api.save_model(\n"
     ]
    },
    {
     "name": "stdout",
     "output_type": "stream",
     "text": [
      "INFO:tensorflow:Assets written to: /Users/lanacaldarevic/workspace/phd/ecg_derived_resp_dl/notebooks/wandb/run-20240410_134617-83fzohhz/files/model-best/assets\n"
     ]
    },
    {
     "name": "stderr",
     "output_type": "stream",
     "text": [
      "INFO:tensorflow:Assets written to: /Users/lanacaldarevic/workspace/phd/ecg_derived_resp_dl/notebooks/wandb/run-20240410_134617-83fzohhz/files/model-best/assets\n",
      "\u001b[34m\u001b[1mwandb\u001b[0m: Adding directory to artifact (/Users/lanacaldarevic/workspace/phd/ecg_derived_resp_dl/notebooks/wandb/run-20240410_134617-83fzohhz/files/model-best)... Done. 0.0s\n"
     ]
    },
    {
     "name": "stdout",
     "output_type": "stream",
     "text": [
      "68/68 [==============================] - 14s 206ms/step - loss: 0.0617 - correlation: 0.9547 - mse: 0.1175 - val_loss: 0.0653 - val_correlation: 0.9995 - val_mse: 0.1244\n",
      "Epoch 5/200\n",
      "68/68 [==============================] - ETA: 0s - loss: 0.0609 - correlation: 0.9375 - mse: 0.1171"
     ]
    },
    {
     "name": "stderr",
     "output_type": "stream",
     "text": [
      "/Users/lanacaldarevic/miniforge3/envs/tf_m1/lib/python3.9/site-packages/keras/src/engine/training.py:3000: UserWarning: You are saving your model as an HDF5 file via `model.save()`. This file format is considered legacy. We recommend using instead the native Keras format, e.g. `model.save('my_model.keras')`.\n",
      "  saving_api.save_model(\n"
     ]
    },
    {
     "name": "stdout",
     "output_type": "stream",
     "text": [
      "INFO:tensorflow:Assets written to: /Users/lanacaldarevic/workspace/phd/ecg_derived_resp_dl/notebooks/wandb/run-20240410_134617-83fzohhz/files/model-best/assets\n"
     ]
    },
    {
     "name": "stderr",
     "output_type": "stream",
     "text": [
      "INFO:tensorflow:Assets written to: /Users/lanacaldarevic/workspace/phd/ecg_derived_resp_dl/notebooks/wandb/run-20240410_134617-83fzohhz/files/model-best/assets\n",
      "\u001b[34m\u001b[1mwandb\u001b[0m: Adding directory to artifact (/Users/lanacaldarevic/workspace/phd/ecg_derived_resp_dl/notebooks/wandb/run-20240410_134617-83fzohhz/files/model-best)... Done. 0.0s\n"
     ]
    },
    {
     "name": "stdout",
     "output_type": "stream",
     "text": [
      "68/68 [==============================] - 16s 233ms/step - loss: 0.0609 - correlation: 0.9375 - mse: 0.1171 - val_loss: 0.0640 - val_correlation: 0.9979 - val_mse: 0.1230\n",
      "Epoch 6/200\n",
      "68/68 [==============================] - 11s 164ms/step - loss: 0.0605 - correlation: 0.9385 - mse: 0.1172 - val_loss: 0.0646 - val_correlation: 0.9527 - val_mse: 0.1241\n",
      "Epoch 7/200\n",
      "68/68 [==============================] - 11s 165ms/step - loss: 0.0601 - correlation: 0.9259 - mse: 0.1169 - val_loss: 0.0666 - val_correlation: 1.0072 - val_mse: 0.1295\n",
      "Epoch 8/200\n",
      "68/68 [==============================] - 10s 143ms/step - loss: 0.0605 - correlation: 0.9197 - mse: 0.1169 - val_loss: 0.0643 - val_correlation: 0.9966 - val_mse: 0.1257\n",
      "Epoch 9/200\n",
      "68/68 [==============================] - ETA: 0s - loss: 0.0603 - correlation: 0.9041 - mse: 0.1165"
     ]
    },
    {
     "name": "stderr",
     "output_type": "stream",
     "text": [
      "/Users/lanacaldarevic/miniforge3/envs/tf_m1/lib/python3.9/site-packages/keras/src/engine/training.py:3000: UserWarning: You are saving your model as an HDF5 file via `model.save()`. This file format is considered legacy. We recommend using instead the native Keras format, e.g. `model.save('my_model.keras')`.\n",
      "  saving_api.save_model(\n"
     ]
    },
    {
     "name": "stdout",
     "output_type": "stream",
     "text": [
      "INFO:tensorflow:Assets written to: /Users/lanacaldarevic/workspace/phd/ecg_derived_resp_dl/notebooks/wandb/run-20240410_134617-83fzohhz/files/model-best/assets\n"
     ]
    },
    {
     "name": "stderr",
     "output_type": "stream",
     "text": [
      "INFO:tensorflow:Assets written to: /Users/lanacaldarevic/workspace/phd/ecg_derived_resp_dl/notebooks/wandb/run-20240410_134617-83fzohhz/files/model-best/assets\n",
      "\u001b[34m\u001b[1mwandb\u001b[0m: Adding directory to artifact (/Users/lanacaldarevic/workspace/phd/ecg_derived_resp_dl/notebooks/wandb/run-20240410_134617-83fzohhz/files/model-best)... Done. 0.0s\n"
     ]
    },
    {
     "name": "stdout",
     "output_type": "stream",
     "text": [
      "68/68 [==============================] - 13s 192ms/step - loss: 0.0603 - correlation: 0.9041 - mse: 0.1165 - val_loss: 0.0632 - val_correlation: 0.9667 - val_mse: 0.1243\n",
      "Epoch 10/200\n",
      "68/68 [==============================] - 12s 178ms/step - loss: 0.0599 - correlation: 0.9206 - mse: 0.1169 - val_loss: 0.0633 - val_correlation: 1.0081 - val_mse: 0.1236\n",
      "Epoch 11/200\n",
      "68/68 [==============================] - 10s 149ms/step - loss: 0.0600 - correlation: 0.9223 - mse: 0.1169 - val_loss: 0.0638 - val_correlation: 1.0149 - val_mse: 0.1242\n",
      "Epoch 12/200\n",
      "68/68 [==============================] - 12s 180ms/step - loss: 0.0605 - correlation: 0.9157 - mse: 0.1168 - val_loss: 0.0646 - val_correlation: 1.0232 - val_mse: 0.1239\n",
      "Epoch 13/200\n",
      "68/68 [==============================] - 11s 163ms/step - loss: 0.0599 - correlation: 0.9194 - mse: 0.1168 - val_loss: 0.0642 - val_correlation: 0.8473 - val_mse: 0.1258\n",
      "Epoch 14/200\n",
      "68/68 [==============================] - 11s 156ms/step - loss: 0.0601 - correlation: 0.9421 - mse: 0.1171 - val_loss: 0.0640 - val_correlation: 0.8024 - val_mse: 0.1250\n",
      "Epoch 15/200\n",
      "68/68 [==============================] - 11s 168ms/step - loss: 0.0597 - correlation: 0.9177 - mse: 0.1168 - val_loss: 0.0641 - val_correlation: 1.0462 - val_mse: 0.1246\n",
      "Epoch 16/200\n",
      "68/68 [==============================] - 11s 163ms/step - loss: 0.0604 - correlation: 0.9237 - mse: 0.1170 - val_loss: 0.0664 - val_correlation: 1.0287 - val_mse: 0.1307\n",
      "Epoch 17/200\n",
      "68/68 [==============================] - 11s 154ms/step - loss: 0.0595 - correlation: 0.9146 - mse: 0.1167 - val_loss: 0.0642 - val_correlation: 0.9815 - val_mse: 0.1259\n",
      "Epoch 18/200\n",
      "68/68 [==============================] - 10s 155ms/step - loss: 0.0597 - correlation: 0.9092 - mse: 0.1166 - val_loss: 0.0654 - val_correlation: 1.0216 - val_mse: 0.1288\n",
      "Epoch 19/200\n",
      "68/68 [==============================] - 12s 182ms/step - loss: 0.0594 - correlation: 0.9127 - mse: 0.1167 - val_loss: 0.0639 - val_correlation: 1.0382 - val_mse: 0.1252\n",
      "Epoch 20/200\n",
      "68/68 [==============================] - ETA: 0s - loss: 0.0590 - correlation: 0.8998 - mse: 0.1164"
     ]
    },
    {
     "name": "stderr",
     "output_type": "stream",
     "text": [
      "/Users/lanacaldarevic/miniforge3/envs/tf_m1/lib/python3.9/site-packages/keras/src/engine/training.py:3000: UserWarning: You are saving your model as an HDF5 file via `model.save()`. This file format is considered legacy. We recommend using instead the native Keras format, e.g. `model.save('my_model.keras')`.\n",
      "  saving_api.save_model(\n"
     ]
    },
    {
     "name": "stdout",
     "output_type": "stream",
     "text": [
      "INFO:tensorflow:Assets written to: /Users/lanacaldarevic/workspace/phd/ecg_derived_resp_dl/notebooks/wandb/run-20240410_134617-83fzohhz/files/model-best/assets\n"
     ]
    },
    {
     "name": "stderr",
     "output_type": "stream",
     "text": [
      "INFO:tensorflow:Assets written to: /Users/lanacaldarevic/workspace/phd/ecg_derived_resp_dl/notebooks/wandb/run-20240410_134617-83fzohhz/files/model-best/assets\n",
      "\u001b[34m\u001b[1mwandb\u001b[0m: Adding directory to artifact (/Users/lanacaldarevic/workspace/phd/ecg_derived_resp_dl/notebooks/wandb/run-20240410_134617-83fzohhz/files/model-best)... Done. 0.0s\n"
     ]
    },
    {
     "name": "stdout",
     "output_type": "stream",
     "text": [
      "68/68 [==============================] - 13s 188ms/step - loss: 0.0590 - correlation: 0.8998 - mse: 0.1164 - val_loss: 0.0628 - val_correlation: 0.9384 - val_mse: 0.1239\n",
      "Epoch 21/200\n",
      "68/68 [==============================] - 11s 166ms/step - loss: 0.0594 - correlation: 0.9104 - mse: 0.1167 - val_loss: 0.0664 - val_correlation: 0.9663 - val_mse: 0.1279\n",
      "Epoch 22/200\n",
      "68/68 [==============================] - 11s 161ms/step - loss: 0.0596 - correlation: 0.8992 - mse: 0.1164 - val_loss: 0.0668 - val_correlation: 1.0372 - val_mse: 0.1322\n",
      "Epoch 23/200\n",
      "68/68 [==============================] - 11s 164ms/step - loss: 0.0594 - correlation: 0.9039 - mse: 0.1165 - val_loss: 0.0630 - val_correlation: 0.9972 - val_mse: 0.1232\n",
      "Epoch 24/200\n",
      "68/68 [==============================] - 11s 165ms/step - loss: 0.0593 - correlation: 0.8933 - mse: 0.1162 - val_loss: 0.0630 - val_correlation: 0.9068 - val_mse: 0.1242\n",
      "Epoch 25/200\n",
      "68/68 [==============================] - 11s 159ms/step - loss: 0.0592 - correlation: 0.8899 - mse: 0.1161 - val_loss: 0.0646 - val_correlation: 1.1014 - val_mse: 0.1261\n",
      "Epoch 26/200\n",
      "68/68 [==============================] - ETA: 0s - loss: 0.0591 - correlation: 0.8877 - mse: 0.1161"
     ]
    },
    {
     "name": "stderr",
     "output_type": "stream",
     "text": [
      "/Users/lanacaldarevic/miniforge3/envs/tf_m1/lib/python3.9/site-packages/keras/src/engine/training.py:3000: UserWarning: You are saving your model as an HDF5 file via `model.save()`. This file format is considered legacy. We recommend using instead the native Keras format, e.g. `model.save('my_model.keras')`.\n",
      "  saving_api.save_model(\n"
     ]
    },
    {
     "name": "stdout",
     "output_type": "stream",
     "text": [
      "INFO:tensorflow:Assets written to: /Users/lanacaldarevic/workspace/phd/ecg_derived_resp_dl/notebooks/wandb/run-20240410_134617-83fzohhz/files/model-best/assets\n"
     ]
    },
    {
     "name": "stderr",
     "output_type": "stream",
     "text": [
      "INFO:tensorflow:Assets written to: /Users/lanacaldarevic/workspace/phd/ecg_derived_resp_dl/notebooks/wandb/run-20240410_134617-83fzohhz/files/model-best/assets\n",
      "\u001b[34m\u001b[1mwandb\u001b[0m: Adding directory to artifact (/Users/lanacaldarevic/workspace/phd/ecg_derived_resp_dl/notebooks/wandb/run-20240410_134617-83fzohhz/files/model-best)... Done. 0.0s\n"
     ]
    },
    {
     "name": "stdout",
     "output_type": "stream",
     "text": [
      "68/68 [==============================] - 13s 189ms/step - loss: 0.0591 - correlation: 0.8877 - mse: 0.1161 - val_loss: 0.0624 - val_correlation: 0.7881 - val_mse: 0.1230\n",
      "Epoch 27/200\n",
      "68/68 [==============================] - 10s 148ms/step - loss: 0.0591 - correlation: 0.8845 - mse: 0.1160 - val_loss: 0.0629 - val_correlation: 0.9765 - val_mse: 0.1249\n",
      "Epoch 28/200\n",
      "68/68 [==============================] - 11s 157ms/step - loss: 0.0590 - correlation: 0.8958 - mse: 0.1163 - val_loss: 0.0627 - val_correlation: 0.9676 - val_mse: 0.1237\n",
      "Epoch 29/200\n",
      "68/68 [==============================] - ETA: 0s - loss: 0.0588 - correlation: 0.8943 - mse: 0.1162"
     ]
    },
    {
     "name": "stderr",
     "output_type": "stream",
     "text": [
      "/Users/lanacaldarevic/miniforge3/envs/tf_m1/lib/python3.9/site-packages/keras/src/engine/training.py:3000: UserWarning: You are saving your model as an HDF5 file via `model.save()`. This file format is considered legacy. We recommend using instead the native Keras format, e.g. `model.save('my_model.keras')`.\n",
      "  saving_api.save_model(\n"
     ]
    },
    {
     "name": "stdout",
     "output_type": "stream",
     "text": [
      "INFO:tensorflow:Assets written to: /Users/lanacaldarevic/workspace/phd/ecg_derived_resp_dl/notebooks/wandb/run-20240410_134617-83fzohhz/files/model-best/assets\n"
     ]
    },
    {
     "name": "stderr",
     "output_type": "stream",
     "text": [
      "INFO:tensorflow:Assets written to: /Users/lanacaldarevic/workspace/phd/ecg_derived_resp_dl/notebooks/wandb/run-20240410_134617-83fzohhz/files/model-best/assets\n",
      "\u001b[34m\u001b[1mwandb\u001b[0m: Adding directory to artifact (/Users/lanacaldarevic/workspace/phd/ecg_derived_resp_dl/notebooks/wandb/run-20240410_134617-83fzohhz/files/model-best)... Done. 0.0s\n"
     ]
    },
    {
     "name": "stdout",
     "output_type": "stream",
     "text": [
      "68/68 [==============================] - 12s 184ms/step - loss: 0.0588 - correlation: 0.8943 - mse: 0.1162 - val_loss: 0.0611 - val_correlation: 0.7862 - val_mse: 0.1207\n",
      "Epoch 30/200\n",
      "68/68 [==============================] - 18s 269ms/step - loss: 0.0588 - correlation: 0.8967 - mse: 0.1163 - val_loss: 0.0633 - val_correlation: 0.9989 - val_mse: 0.1253\n",
      "Epoch 31/200\n",
      "68/68 [==============================] - 11s 157ms/step - loss: 0.0589 - correlation: 0.8921 - mse: 0.1162 - val_loss: 0.0618 - val_correlation: 0.8138 - val_mse: 0.1224\n",
      "Epoch 32/200\n",
      "68/68 [==============================] - 12s 171ms/step - loss: 0.0586 - correlation: 0.8915 - mse: 0.1162 - val_loss: 0.0621 - val_correlation: 0.8644 - val_mse: 0.1229\n",
      "Epoch 33/200\n",
      "68/68 [==============================] - 10s 149ms/step - loss: 0.0592 - correlation: 0.9097 - mse: 0.1166 - val_loss: 0.0616 - val_correlation: 0.9144 - val_mse: 0.1221\n",
      "Epoch 34/200\n",
      "68/68 [==============================] - 10s 144ms/step - loss: 0.0586 - correlation: 0.8845 - mse: 0.1160 - val_loss: 0.0618 - val_correlation: 0.9078 - val_mse: 0.1223\n",
      "Epoch 35/200\n",
      "68/68 [==============================] - 11s 167ms/step - loss: 0.0593 - correlation: 0.9025 - mse: 0.1165 - val_loss: 0.0624 - val_correlation: 0.9323 - val_mse: 0.1226\n",
      "Epoch 36/200\n",
      "68/68 [==============================] - 11s 161ms/step - loss: 0.0590 - correlation: 0.8968 - mse: 0.1163 - val_loss: 0.0635 - val_correlation: 1.0487 - val_mse: 0.1239\n",
      "Epoch 37/200\n",
      "68/68 [==============================] - 12s 178ms/step - loss: 0.0592 - correlation: 0.9007 - mse: 0.1164 - val_loss: 0.0630 - val_correlation: 1.0834 - val_mse: 0.1246\n",
      "Epoch 38/200\n",
      "68/68 [==============================] - 11s 161ms/step - loss: 0.0589 - correlation: 0.8978 - mse: 0.1163 - val_loss: 0.0627 - val_correlation: 1.1273 - val_mse: 0.1240\n",
      "Epoch 39/200\n",
      "68/68 [==============================] - 12s 177ms/step - loss: 0.0588 - correlation: 0.8962 - mse: 0.1163 - val_loss: 0.0624 - val_correlation: 0.9323 - val_mse: 0.1231\n"
     ]
    },
    {
     "name": "stderr",
     "output_type": "stream",
     "text": [
      "/Users/lanacaldarevic/miniforge3/envs/tf_m1/lib/python3.9/site-packages/keras/src/engine/training.py:3000: UserWarning: You are saving your model as an HDF5 file via `model.save()`. This file format is considered legacy. We recommend using instead the native Keras format, e.g. `model.save('my_model.keras')`.\n",
      "  saving_api.save_model(\n"
     ]
    },
    {
     "data": {
      "text/html": [
       "Waiting for W&B process to finish... <strong style=\"color:green\">(success).</strong>"
      ],
      "text/plain": [
       "<IPython.core.display.HTML object>"
      ]
     },
     "metadata": {},
     "output_type": "display_data"
    },
    {
     "data": {
      "text/html": [
       "<style>\n",
       "    table.wandb td:nth-child(1) { padding: 0 10px; text-align: left ; width: auto;} td:nth-child(2) {text-align: left ; width: 100%}\n",
       "    .wandb-row { display: flex; flex-direction: row; flex-wrap: wrap; justify-content: flex-start; width: 100% }\n",
       "    .wandb-col { display: flex; flex-direction: column; flex-basis: 100%; flex: 1; padding: 10px; }\n",
       "    </style>\n",
       "<div class=\"wandb-row\"><div class=\"wandb-col\"><h3>Run history:</h3><br/><table class=\"wandb\"><tr><td>correlation</td><td>▄▁▅█▇▇▆▆▅▆▆▆▆▇▆▆▅▅▅▅▅▄▅▄▄▄▄▄▄▄▄▄▅▄▅▄▅▄▄</td></tr><tr><td>epoch</td><td>▁▁▁▂▂▂▂▂▂▃▃▃▃▃▄▄▄▄▄▅▅▅▅▅▅▆▆▆▆▆▇▇▇▇▇▇███</td></tr><tr><td>loss</td><td>█▁▁▁▁▁▁▁▁▁▁▁▁▁▁▁▁▁▁▁▁▁▁▁▁▁▁▁▁▁▁▁▁▁▁▁▁▁▁</td></tr><tr><td>mse</td><td>█▁▄▆▅▅▅▄▄▄▄▄▄▅▄▅▄▄▄▄▄▄▄▃▃▃▃▃▃▃▃▃▄▃▄▄▄▄▃</td></tr><tr><td>val_correlation</td><td>▅▅▅▅▅▄▆▅▅▆▆▆▂▁▆▆▅▆▆▄▅▆▅▃▇▁▅▅▁▅▂▃▄▃▄▆▇█▄</td></tr><tr><td>val_loss</td><td>█▄▃▃▂▂▃▂▂▂▂▂▂▂▂▃▂▃▂▂▃▃▂▂▂▂▂▂▁▂▁▁▁▁▂▂▂▂▂</td></tr><tr><td>val_mse</td><td>▂▂▂▃▂▃▆▄▃▃▃▃▄▄▃▇▄▆▄▃▅█▃▃▄▂▄▃▁▄▂▂▂▂▂▃▃▃▂</td></tr></table><br/></div><div class=\"wandb-col\"><h3>Run summary:</h3><br/><table class=\"wandb\"><tr><td>best_epoch</td><td>28</td></tr><tr><td>best_val_loss</td><td>0.06107</td></tr><tr><td>correlation</td><td>0.89619</td></tr><tr><td>epoch</td><td>38</td></tr><tr><td>loss</td><td>0.05881</td></tr><tr><td>mse</td><td>0.11632</td></tr><tr><td>val_correlation</td><td>0.93227</td></tr><tr><td>val_loss</td><td>0.06239</td></tr><tr><td>val_mse</td><td>0.12308</td></tr></table><br/></div></div>"
      ],
      "text/plain": [
       "<IPython.core.display.HTML object>"
      ]
     },
     "metadata": {},
     "output_type": "display_data"
    },
    {
     "data": {
      "text/html": [
       " View run <strong style=\"color:#cdcd00\">rosy-sweep-2</strong> at: <a href='https://wandb.ai/lana-caldarevic1/biosignal_deeplearning/runs/83fzohhz' target=\"_blank\">https://wandb.ai/lana-caldarevic1/biosignal_deeplearning/runs/83fzohhz</a><br/>Synced 6 W&B file(s), 1 media file(s), 45 artifact file(s) and 1 other file(s)"
      ],
      "text/plain": [
       "<IPython.core.display.HTML object>"
      ]
     },
     "metadata": {},
     "output_type": "display_data"
    },
    {
     "data": {
      "text/html": [
       "Find logs at: <code>./wandb/run-20240410_134617-83fzohhz/logs</code>"
      ],
      "text/plain": [
       "<IPython.core.display.HTML object>"
      ]
     },
     "metadata": {},
     "output_type": "display_data"
    },
    {
     "name": "stderr",
     "output_type": "stream",
     "text": [
      "\u001b[34m\u001b[1mwandb\u001b[0m: Agent Starting Run: 5jcyeyc0 with config:\n",
      "\u001b[34m\u001b[1mwandb\u001b[0m: \tbatch_size: 64\n",
      "\u001b[34m\u001b[1mwandb\u001b[0m: \tdropout: 0.24615142958853956\n",
      "\u001b[34m\u001b[1mwandb\u001b[0m: \tkernel_size: 3\n",
      "\u001b[34m\u001b[1mwandb\u001b[0m: \tlearning_rate: 0.008345688826268878\n",
      "\u001b[34m\u001b[1mwandb\u001b[0m: \treg: 0.004016160379006979\n",
      "\u001b[34m\u001b[1mwandb\u001b[0m: \tstart_filters: 8\n"
     ]
    },
    {
     "data": {
      "text/html": [
       "wandb version 0.16.6 is available!  To upgrade, please run:\n",
       " $ pip install wandb --upgrade"
      ],
      "text/plain": [
       "<IPython.core.display.HTML object>"
      ]
     },
     "metadata": {},
     "output_type": "display_data"
    },
    {
     "data": {
      "text/html": [
       "Tracking run with wandb version 0.15.9"
      ],
      "text/plain": [
       "<IPython.core.display.HTML object>"
      ]
     },
     "metadata": {},
     "output_type": "display_data"
    },
    {
     "data": {
      "text/html": [
       "Run data is saved locally in <code>/Users/lanacaldarevic/workspace/phd/ecg_derived_resp_dl/notebooks/wandb/run-20240410_135453-5jcyeyc0</code>"
      ],
      "text/plain": [
       "<IPython.core.display.HTML object>"
      ]
     },
     "metadata": {},
     "output_type": "display_data"
    },
    {
     "data": {
      "text/html": [
       "Syncing run <strong><a href='https://wandb.ai/lana-caldarevic1/biosignal_deeplearning/runs/5jcyeyc0' target=\"_blank\">decent-sweep-3</a></strong> to <a href='https://wandb.ai/lana-caldarevic1/biosignal_deeplearning' target=\"_blank\">Weights & Biases</a> (<a href='https://wandb.me/run' target=\"_blank\">docs</a>)<br/>Sweep page: <a href='https://wandb.ai/lana-caldarevic1/biosignal_deeplearning/sweeps/6i1t9675' target=\"_blank\">https://wandb.ai/lana-caldarevic1/biosignal_deeplearning/sweeps/6i1t9675</a>"
      ],
      "text/plain": [
       "<IPython.core.display.HTML object>"
      ]
     },
     "metadata": {},
     "output_type": "display_data"
    },
    {
     "data": {
      "text/html": [
       " View project at <a href='https://wandb.ai/lana-caldarevic1/biosignal_deeplearning' target=\"_blank\">https://wandb.ai/lana-caldarevic1/biosignal_deeplearning</a>"
      ],
      "text/plain": [
       "<IPython.core.display.HTML object>"
      ]
     },
     "metadata": {},
     "output_type": "display_data"
    },
    {
     "data": {
      "text/html": [
       " View sweep at <a href='https://wandb.ai/lana-caldarevic1/biosignal_deeplearning/sweeps/6i1t9675' target=\"_blank\">https://wandb.ai/lana-caldarevic1/biosignal_deeplearning/sweeps/6i1t9675</a>"
      ],
      "text/plain": [
       "<IPython.core.display.HTML object>"
      ]
     },
     "metadata": {},
     "output_type": "display_data"
    },
    {
     "data": {
      "text/html": [
       " View run at <a href='https://wandb.ai/lana-caldarevic1/biosignal_deeplearning/runs/5jcyeyc0' target=\"_blank\">https://wandb.ai/lana-caldarevic1/biosignal_deeplearning/runs/5jcyeyc0</a>"
      ],
      "text/plain": [
       "<IPython.core.display.HTML object>"
      ]
     },
     "metadata": {},
     "output_type": "display_data"
    },
    {
     "name": "stdout",
     "output_type": "stream",
     "text": [
      "GPU enabled\n",
      "Model: \"model\"\n",
      "__________________________________________________________________________________________________\n",
      " Layer (type)                Output Shape                 Param #   Connected to                  \n",
      "==================================================================================================\n",
      " input_1 (InputLayer)        [(None, 1024, 1)]            0         []                            \n",
      "                                                                                                  \n",
      " conv1d (Conv1D)             (None, 1024, 8)              32        ['input_1[0][0]']             \n",
      "                                                                                                  \n",
      " batch_normalization (Batch  (None, 1024, 8)              32        ['conv1d[0][0]']              \n",
      " Normalization)                                                                                   \n",
      "                                                                                                  \n",
      " conv1d_1 (Conv1D)           (None, 1024, 8)              200       ['batch_normalization[0][0]'] \n",
      "                                                                                                  \n",
      " batch_normalization_1 (Bat  (None, 1024, 8)              32        ['conv1d_1[0][0]']            \n",
      " chNormalization)                                                                                 \n",
      "                                                                                                  \n",
      " max_pooling1d (MaxPooling1  (None, 512, 8)               0         ['batch_normalization_1[0][0]'\n",
      " D)                                                                 ]                             \n",
      "                                                                                                  \n",
      " conv1d_2 (Conv1D)           (None, 512, 16)              400       ['max_pooling1d[0][0]']       \n",
      "                                                                                                  \n",
      " batch_normalization_2 (Bat  (None, 512, 16)              64        ['conv1d_2[0][0]']            \n",
      " chNormalization)                                                                                 \n",
      "                                                                                                  \n",
      " conv1d_3 (Conv1D)           (None, 512, 16)              784       ['batch_normalization_2[0][0]'\n",
      "                                                                    ]                             \n",
      "                                                                                                  \n",
      " batch_normalization_3 (Bat  (None, 512, 16)              64        ['conv1d_3[0][0]']            \n",
      " chNormalization)                                                                                 \n",
      "                                                                                                  \n",
      " dropout (Dropout)           (None, 512, 16)              0         ['batch_normalization_3[0][0]'\n",
      "                                                                    ]                             \n",
      "                                                                                                  \n",
      " max_pooling1d_1 (MaxPoolin  (None, 256, 16)              0         ['dropout[0][0]']             \n",
      " g1D)                                                                                             \n",
      "                                                                                                  \n",
      " conv1d_4 (Conv1D)           (None, 256, 32)              1568      ['max_pooling1d_1[0][0]']     \n",
      "                                                                                                  \n",
      " batch_normalization_4 (Bat  (None, 256, 32)              128       ['conv1d_4[0][0]']            \n",
      " chNormalization)                                                                                 \n",
      "                                                                                                  \n",
      " conv1d_5 (Conv1D)           (None, 256, 32)              3104      ['batch_normalization_4[0][0]'\n",
      "                                                                    ]                             \n",
      "                                                                                                  \n",
      " batch_normalization_5 (Bat  (None, 256, 32)              128       ['conv1d_5[0][0]']            \n",
      " chNormalization)                                                                                 \n",
      "                                                                                                  \n",
      " up_sampling1d (UpSampling1  (None, 512, 32)              0         ['batch_normalization_5[0][0]'\n",
      " D)                                                                 ]                             \n",
      "                                                                                                  \n",
      " conv1d_6 (Conv1D)           (None, 512, 32)              3104      ['up_sampling1d[0][0]']       \n",
      "                                                                                                  \n",
      " batch_normalization_6 (Bat  (None, 512, 32)              128       ['conv1d_6[0][0]']            \n",
      " chNormalization)                                                                                 \n",
      "                                                                                                  \n",
      " concatenate (Concatenate)   (None, 512, 48)              0         ['dropout[0][0]',             \n",
      "                                                                     'batch_normalization_6[0][0]'\n",
      "                                                                    ]                             \n",
      "                                                                                                  \n",
      " conv1d_7 (Conv1D)           (None, 512, 16)              2320      ['concatenate[0][0]']         \n",
      "                                                                                                  \n",
      " batch_normalization_7 (Bat  (None, 512, 16)              64        ['conv1d_7[0][0]']            \n",
      " chNormalization)                                                                                 \n",
      "                                                                                                  \n",
      " conv1d_8 (Conv1D)           (None, 512, 16)              784       ['batch_normalization_7[0][0]'\n",
      "                                                                    ]                             \n",
      "                                                                                                  \n",
      " batch_normalization_8 (Bat  (None, 512, 16)              64        ['conv1d_8[0][0]']            \n",
      " chNormalization)                                                                                 \n",
      "                                                                                                  \n",
      " dropout_1 (Dropout)         (None, 512, 16)              0         ['batch_normalization_8[0][0]'\n",
      "                                                                    ]                             \n",
      "                                                                                                  \n",
      " up_sampling1d_1 (UpSamplin  (None, 1024, 16)             0         ['dropout_1[0][0]']           \n",
      " g1D)                                                                                             \n",
      "                                                                                                  \n",
      " conv1d_9 (Conv1D)           (None, 1024, 16)             784       ['up_sampling1d_1[0][0]']     \n",
      "                                                                                                  \n",
      " batch_normalization_9 (Bat  (None, 1024, 16)             64        ['conv1d_9[0][0]']            \n",
      " chNormalization)                                                                                 \n",
      "                                                                                                  \n",
      " concatenate_1 (Concatenate  (None, 1024, 24)             0         ['batch_normalization_1[0][0]'\n",
      " )                                                                  , 'batch_normalization_9[0][0]\n",
      "                                                                    ']                            \n",
      "                                                                                                  \n",
      " conv1d_10 (Conv1D)          (None, 1024, 8)              584       ['concatenate_1[0][0]']       \n",
      "                                                                                                  \n",
      " batch_normalization_10 (Ba  (None, 1024, 8)              32        ['conv1d_10[0][0]']           \n",
      " tchNormalization)                                                                                \n",
      "                                                                                                  \n",
      " conv1d_11 (Conv1D)          (None, 1024, 8)              200       ['batch_normalization_10[0][0]\n",
      "                                                                    ']                            \n",
      "                                                                                                  \n",
      " batch_normalization_11 (Ba  (None, 1024, 8)              32        ['conv1d_11[0][0]']           \n",
      " tchNormalization)                                                                                \n",
      "                                                                                                  \n",
      " conv1d_12 (Conv1D)          (None, 1024, 1)              25        ['batch_normalization_11[0][0]\n",
      "                                                                    ']                            \n",
      "                                                                                                  \n",
      "==================================================================================================\n",
      "Total params: 14721 (57.50 KB)\n",
      "Trainable params: 14305 (55.88 KB)\n",
      "Non-trainable params: 416 (1.62 KB)\n",
      "__________________________________________________________________________________________________\n",
      "Model training starting\n",
      "Epoch 1/200\n"
     ]
    },
    {
     "name": "stderr",
     "output_type": "stream",
     "text": [
      "2024-04-10 13:55:01.236603: I tensorflow/core/grappler/optimizers/custom_graph_optimizer_registry.cc:114] Plugin optimizer for device_type GPU is enabled.\n"
     ]
    },
    {
     "name": "stdout",
     "output_type": "stream",
     "text": [
      "68/68 [==============================] - ETA: 0s - loss: 0.3518 - correlation: 0.9289 - mse: 0.1206"
     ]
    },
    {
     "name": "stderr",
     "output_type": "stream",
     "text": [
      "2024-04-10 13:55:35.667443: I tensorflow/core/grappler/optimizers/custom_graph_optimizer_registry.cc:114] Plugin optimizer for device_type GPU is enabled.\n",
      "/Users/lanacaldarevic/miniforge3/envs/tf_m1/lib/python3.9/site-packages/keras/src/engine/training.py:3000: UserWarning: You are saving your model as an HDF5 file via `model.save()`. This file format is considered legacy. We recommend using instead the native Keras format, e.g. `model.save('my_model.keras')`.\n",
      "  saving_api.save_model(\n"
     ]
    },
    {
     "name": "stdout",
     "output_type": "stream",
     "text": [
      "INFO:tensorflow:Assets written to: /Users/lanacaldarevic/workspace/phd/ecg_derived_resp_dl/notebooks/wandb/run-20240410_135453-5jcyeyc0/files/model-best/assets\n"
     ]
    },
    {
     "name": "stderr",
     "output_type": "stream",
     "text": [
      "INFO:tensorflow:Assets written to: /Users/lanacaldarevic/workspace/phd/ecg_derived_resp_dl/notebooks/wandb/run-20240410_135453-5jcyeyc0/files/model-best/assets\n",
      "\u001b[34m\u001b[1mwandb\u001b[0m: Adding directory to artifact (/Users/lanacaldarevic/workspace/phd/ecg_derived_resp_dl/notebooks/wandb/run-20240410_135453-5jcyeyc0/files/model-best)... Done. 0.0s\n"
     ]
    },
    {
     "name": "stdout",
     "output_type": "stream",
     "text": [
      "68/68 [==============================] - 43s 428ms/step - loss: 0.3518 - correlation: 0.9289 - mse: 0.1206 - val_loss: 0.0952 - val_correlation: 0.9994 - val_mse: 0.1240\n",
      "Epoch 2/200\n",
      "68/68 [==============================] - ETA: 0s - loss: 0.0764 - correlation: 0.8804 - mse: 0.1159"
     ]
    },
    {
     "name": "stderr",
     "output_type": "stream",
     "text": [
      "/Users/lanacaldarevic/miniforge3/envs/tf_m1/lib/python3.9/site-packages/keras/src/engine/training.py:3000: UserWarning: You are saving your model as an HDF5 file via `model.save()`. This file format is considered legacy. We recommend using instead the native Keras format, e.g. `model.save('my_model.keras')`.\n",
      "  saving_api.save_model(\n"
     ]
    },
    {
     "name": "stdout",
     "output_type": "stream",
     "text": [
      "INFO:tensorflow:Assets written to: /Users/lanacaldarevic/workspace/phd/ecg_derived_resp_dl/notebooks/wandb/run-20240410_135453-5jcyeyc0/files/model-best/assets\n"
     ]
    },
    {
     "name": "stderr",
     "output_type": "stream",
     "text": [
      "INFO:tensorflow:Assets written to: /Users/lanacaldarevic/workspace/phd/ecg_derived_resp_dl/notebooks/wandb/run-20240410_135453-5jcyeyc0/files/model-best/assets\n",
      "\u001b[34m\u001b[1mwandb\u001b[0m: Adding directory to artifact (/Users/lanacaldarevic/workspace/phd/ecg_derived_resp_dl/notebooks/wandb/run-20240410_135453-5jcyeyc0/files/model-best)... Done. 0.0s\n"
     ]
    },
    {
     "name": "stdout",
     "output_type": "stream",
     "text": [
      "68/68 [==============================] - 17s 246ms/step - loss: 0.0764 - correlation: 0.8804 - mse: 0.1159 - val_loss: 0.0728 - val_correlation: 0.9985 - val_mse: 0.1241\n",
      "Epoch 3/200\n",
      "68/68 [==============================] - ETA: 0s - loss: 0.0645 - correlation: 0.8430 - mse: 0.1147"
     ]
    },
    {
     "name": "stderr",
     "output_type": "stream",
     "text": [
      "/Users/lanacaldarevic/miniforge3/envs/tf_m1/lib/python3.9/site-packages/keras/src/engine/training.py:3000: UserWarning: You are saving your model as an HDF5 file via `model.save()`. This file format is considered legacy. We recommend using instead the native Keras format, e.g. `model.save('my_model.keras')`.\n",
      "  saving_api.save_model(\n"
     ]
    },
    {
     "name": "stdout",
     "output_type": "stream",
     "text": [
      "INFO:tensorflow:Assets written to: /Users/lanacaldarevic/workspace/phd/ecg_derived_resp_dl/notebooks/wandb/run-20240410_135453-5jcyeyc0/files/model-best/assets\n"
     ]
    },
    {
     "name": "stderr",
     "output_type": "stream",
     "text": [
      "INFO:tensorflow:Assets written to: /Users/lanacaldarevic/workspace/phd/ecg_derived_resp_dl/notebooks/wandb/run-20240410_135453-5jcyeyc0/files/model-best/assets\n",
      "\u001b[34m\u001b[1mwandb\u001b[0m: Adding directory to artifact (/Users/lanacaldarevic/workspace/phd/ecg_derived_resp_dl/notebooks/wandb/run-20240410_135453-5jcyeyc0/files/model-best)... Done. 0.0s\n"
     ]
    },
    {
     "name": "stdout",
     "output_type": "stream",
     "text": [
      "68/68 [==============================] - 15s 217ms/step - loss: 0.0645 - correlation: 0.8430 - mse: 0.1147 - val_loss: 0.0671 - val_correlation: 0.9895 - val_mse: 0.1239\n",
      "Epoch 4/200\n",
      "68/68 [==============================] - ETA: 0s - loss: 0.0609 - correlation: 0.8380 - mse: 0.1145"
     ]
    },
    {
     "name": "stderr",
     "output_type": "stream",
     "text": [
      "/Users/lanacaldarevic/miniforge3/envs/tf_m1/lib/python3.9/site-packages/keras/src/engine/training.py:3000: UserWarning: You are saving your model as an HDF5 file via `model.save()`. This file format is considered legacy. We recommend using instead the native Keras format, e.g. `model.save('my_model.keras')`.\n",
      "  saving_api.save_model(\n"
     ]
    },
    {
     "name": "stdout",
     "output_type": "stream",
     "text": [
      "INFO:tensorflow:Assets written to: /Users/lanacaldarevic/workspace/phd/ecg_derived_resp_dl/notebooks/wandb/run-20240410_135453-5jcyeyc0/files/model-best/assets\n"
     ]
    },
    {
     "name": "stderr",
     "output_type": "stream",
     "text": [
      "INFO:tensorflow:Assets written to: /Users/lanacaldarevic/workspace/phd/ecg_derived_resp_dl/notebooks/wandb/run-20240410_135453-5jcyeyc0/files/model-best/assets\n",
      "\u001b[34m\u001b[1mwandb\u001b[0m: Adding directory to artifact (/Users/lanacaldarevic/workspace/phd/ecg_derived_resp_dl/notebooks/wandb/run-20240410_135453-5jcyeyc0/files/model-best)... Done. 0.0s\n"
     ]
    },
    {
     "name": "stdout",
     "output_type": "stream",
     "text": [
      "68/68 [==============================] - 15s 224ms/step - loss: 0.0609 - correlation: 0.8380 - mse: 0.1145 - val_loss: 0.0642 - val_correlation: 0.9983 - val_mse: 0.1231\n",
      "Epoch 5/200\n",
      "68/68 [==============================] - ETA: 0s - loss: 0.0600 - correlation: 0.8669 - mse: 0.1155"
     ]
    },
    {
     "name": "stderr",
     "output_type": "stream",
     "text": [
      "/Users/lanacaldarevic/miniforge3/envs/tf_m1/lib/python3.9/site-packages/keras/src/engine/training.py:3000: UserWarning: You are saving your model as an HDF5 file via `model.save()`. This file format is considered legacy. We recommend using instead the native Keras format, e.g. `model.save('my_model.keras')`.\n",
      "  saving_api.save_model(\n"
     ]
    },
    {
     "name": "stdout",
     "output_type": "stream",
     "text": [
      "INFO:tensorflow:Assets written to: /Users/lanacaldarevic/workspace/phd/ecg_derived_resp_dl/notebooks/wandb/run-20240410_135453-5jcyeyc0/files/model-best/assets\n"
     ]
    },
    {
     "name": "stderr",
     "output_type": "stream",
     "text": [
      "INFO:tensorflow:Assets written to: /Users/lanacaldarevic/workspace/phd/ecg_derived_resp_dl/notebooks/wandb/run-20240410_135453-5jcyeyc0/files/model-best/assets\n",
      "\u001b[34m\u001b[1mwandb\u001b[0m: Adding directory to artifact (/Users/lanacaldarevic/workspace/phd/ecg_derived_resp_dl/notebooks/wandb/run-20240410_135453-5jcyeyc0/files/model-best)... Done. 0.0s\n"
     ]
    },
    {
     "name": "stdout",
     "output_type": "stream",
     "text": [
      "68/68 [==============================] - 14s 204ms/step - loss: 0.0600 - correlation: 0.8669 - mse: 0.1155 - val_loss: 0.0638 - val_correlation: 1.0018 - val_mse: 0.1251\n",
      "Epoch 6/200\n",
      "68/68 [==============================] - ETA: 0s - loss: 0.0591 - correlation: 0.8410 - mse: 0.1146"
     ]
    },
    {
     "name": "stderr",
     "output_type": "stream",
     "text": [
      "/Users/lanacaldarevic/miniforge3/envs/tf_m1/lib/python3.9/site-packages/keras/src/engine/training.py:3000: UserWarning: You are saving your model as an HDF5 file via `model.save()`. This file format is considered legacy. We recommend using instead the native Keras format, e.g. `model.save('my_model.keras')`.\n",
      "  saving_api.save_model(\n"
     ]
    },
    {
     "name": "stdout",
     "output_type": "stream",
     "text": [
      "INFO:tensorflow:Assets written to: /Users/lanacaldarevic/workspace/phd/ecg_derived_resp_dl/notebooks/wandb/run-20240410_135453-5jcyeyc0/files/model-best/assets\n"
     ]
    },
    {
     "name": "stderr",
     "output_type": "stream",
     "text": [
      "INFO:tensorflow:Assets written to: /Users/lanacaldarevic/workspace/phd/ecg_derived_resp_dl/notebooks/wandb/run-20240410_135453-5jcyeyc0/files/model-best/assets\n",
      "\u001b[34m\u001b[1mwandb\u001b[0m: Adding directory to artifact (/Users/lanacaldarevic/workspace/phd/ecg_derived_resp_dl/notebooks/wandb/run-20240410_135453-5jcyeyc0/files/model-best)... Done. 0.0s\n"
     ]
    },
    {
     "name": "stdout",
     "output_type": "stream",
     "text": [
      "68/68 [==============================] - 15s 225ms/step - loss: 0.0591 - correlation: 0.8410 - mse: 0.1146 - val_loss: 0.0632 - val_correlation: 0.9991 - val_mse: 0.1232\n",
      "Epoch 7/200\n",
      "68/68 [==============================] - 13s 191ms/step - loss: 0.0588 - correlation: 0.8451 - mse: 0.1148 - val_loss: 0.0638 - val_correlation: 0.9941 - val_mse: 0.1249\n",
      "Epoch 8/200\n",
      "68/68 [==============================] - 13s 191ms/step - loss: 0.0588 - correlation: 0.8485 - mse: 0.1149 - val_loss: 0.0636 - val_correlation: 1.0186 - val_mse: 0.1254\n",
      "Epoch 9/200\n",
      "68/68 [==============================] - ETA: 0s - loss: 0.0587 - correlation: 0.8556 - mse: 0.1152"
     ]
    },
    {
     "name": "stderr",
     "output_type": "stream",
     "text": [
      "/Users/lanacaldarevic/miniforge3/envs/tf_m1/lib/python3.9/site-packages/keras/src/engine/training.py:3000: UserWarning: You are saving your model as an HDF5 file via `model.save()`. This file format is considered legacy. We recommend using instead the native Keras format, e.g. `model.save('my_model.keras')`.\n",
      "  saving_api.save_model(\n"
     ]
    },
    {
     "name": "stdout",
     "output_type": "stream",
     "text": [
      "INFO:tensorflow:Assets written to: /Users/lanacaldarevic/workspace/phd/ecg_derived_resp_dl/notebooks/wandb/run-20240410_135453-5jcyeyc0/files/model-best/assets\n"
     ]
    },
    {
     "name": "stderr",
     "output_type": "stream",
     "text": [
      "INFO:tensorflow:Assets written to: /Users/lanacaldarevic/workspace/phd/ecg_derived_resp_dl/notebooks/wandb/run-20240410_135453-5jcyeyc0/files/model-best/assets\n",
      "\u001b[34m\u001b[1mwandb\u001b[0m: Adding directory to artifact (/Users/lanacaldarevic/workspace/phd/ecg_derived_resp_dl/notebooks/wandb/run-20240410_135453-5jcyeyc0/files/model-best)... Done. 0.0s\n"
     ]
    },
    {
     "name": "stdout",
     "output_type": "stream",
     "text": [
      "68/68 [==============================] - 15s 219ms/step - loss: 0.0587 - correlation: 0.8556 - mse: 0.1152 - val_loss: 0.0625 - val_correlation: 1.0096 - val_mse: 0.1229\n",
      "Epoch 10/200\n",
      "68/68 [==============================] - ETA: 0s - loss: 0.0593 - correlation: 0.8778 - mse: 0.1158"
     ]
    },
    {
     "name": "stderr",
     "output_type": "stream",
     "text": [
      "/Users/lanacaldarevic/miniforge3/envs/tf_m1/lib/python3.9/site-packages/keras/src/engine/training.py:3000: UserWarning: You are saving your model as an HDF5 file via `model.save()`. This file format is considered legacy. We recommend using instead the native Keras format, e.g. `model.save('my_model.keras')`.\n",
      "  saving_api.save_model(\n"
     ]
    },
    {
     "name": "stdout",
     "output_type": "stream",
     "text": [
      "INFO:tensorflow:Assets written to: /Users/lanacaldarevic/workspace/phd/ecg_derived_resp_dl/notebooks/wandb/run-20240410_135453-5jcyeyc0/files/model-best/assets\n"
     ]
    },
    {
     "name": "stderr",
     "output_type": "stream",
     "text": [
      "INFO:tensorflow:Assets written to: /Users/lanacaldarevic/workspace/phd/ecg_derived_resp_dl/notebooks/wandb/run-20240410_135453-5jcyeyc0/files/model-best/assets\n",
      "\u001b[34m\u001b[1mwandb\u001b[0m: Adding directory to artifact (/Users/lanacaldarevic/workspace/phd/ecg_derived_resp_dl/notebooks/wandb/run-20240410_135453-5jcyeyc0/files/model-best)... Done. 0.0s\n"
     ]
    },
    {
     "name": "stdout",
     "output_type": "stream",
     "text": [
      "68/68 [==============================] - 16s 239ms/step - loss: 0.0593 - correlation: 0.8778 - mse: 0.1158 - val_loss: 0.0624 - val_correlation: 1.0340 - val_mse: 0.1226\n",
      "Epoch 11/200\n",
      "68/68 [==============================] - ETA: 0s - loss: 0.0587 - correlation: 0.8800 - mse: 0.1159"
     ]
    },
    {
     "name": "stderr",
     "output_type": "stream",
     "text": [
      "/Users/lanacaldarevic/miniforge3/envs/tf_m1/lib/python3.9/site-packages/keras/src/engine/training.py:3000: UserWarning: You are saving your model as an HDF5 file via `model.save()`. This file format is considered legacy. We recommend using instead the native Keras format, e.g. `model.save('my_model.keras')`.\n",
      "  saving_api.save_model(\n"
     ]
    },
    {
     "name": "stdout",
     "output_type": "stream",
     "text": [
      "INFO:tensorflow:Assets written to: /Users/lanacaldarevic/workspace/phd/ecg_derived_resp_dl/notebooks/wandb/run-20240410_135453-5jcyeyc0/files/model-best/assets\n"
     ]
    },
    {
     "name": "stderr",
     "output_type": "stream",
     "text": [
      "INFO:tensorflow:Assets written to: /Users/lanacaldarevic/workspace/phd/ecg_derived_resp_dl/notebooks/wandb/run-20240410_135453-5jcyeyc0/files/model-best/assets\n",
      "\u001b[34m\u001b[1mwandb\u001b[0m: Adding directory to artifact (/Users/lanacaldarevic/workspace/phd/ecg_derived_resp_dl/notebooks/wandb/run-20240410_135453-5jcyeyc0/files/model-best)... Done. 0.0s\n"
     ]
    },
    {
     "name": "stdout",
     "output_type": "stream",
     "text": [
      "68/68 [==============================] - 15s 210ms/step - loss: 0.0587 - correlation: 0.8800 - mse: 0.1159 - val_loss: 0.0623 - val_correlation: 0.9982 - val_mse: 0.1228\n",
      "Epoch 12/200\n",
      "68/68 [==============================] - ETA: 0s - loss: 0.0587 - correlation: 0.8771 - mse: 0.1158"
     ]
    },
    {
     "name": "stderr",
     "output_type": "stream",
     "text": [
      "/Users/lanacaldarevic/miniforge3/envs/tf_m1/lib/python3.9/site-packages/keras/src/engine/training.py:3000: UserWarning: You are saving your model as an HDF5 file via `model.save()`. This file format is considered legacy. We recommend using instead the native Keras format, e.g. `model.save('my_model.keras')`.\n",
      "  saving_api.save_model(\n"
     ]
    },
    {
     "name": "stdout",
     "output_type": "stream",
     "text": [
      "INFO:tensorflow:Assets written to: /Users/lanacaldarevic/workspace/phd/ecg_derived_resp_dl/notebooks/wandb/run-20240410_135453-5jcyeyc0/files/model-best/assets\n"
     ]
    },
    {
     "name": "stderr",
     "output_type": "stream",
     "text": [
      "INFO:tensorflow:Assets written to: /Users/lanacaldarevic/workspace/phd/ecg_derived_resp_dl/notebooks/wandb/run-20240410_135453-5jcyeyc0/files/model-best/assets\n",
      "\u001b[34m\u001b[1mwandb\u001b[0m: Adding directory to artifact (/Users/lanacaldarevic/workspace/phd/ecg_derived_resp_dl/notebooks/wandb/run-20240410_135453-5jcyeyc0/files/model-best)... Done. 0.0s\n"
     ]
    },
    {
     "name": "stdout",
     "output_type": "stream",
     "text": [
      "68/68 [==============================] - 16s 225ms/step - loss: 0.0587 - correlation: 0.8771 - mse: 0.1158 - val_loss: 0.0618 - val_correlation: 1.0116 - val_mse: 0.1226\n",
      "Epoch 13/200\n",
      "68/68 [==============================] - 12s 180ms/step - loss: 0.0585 - correlation: 0.8810 - mse: 0.1159 - val_loss: 0.0629 - val_correlation: 0.9290 - val_mse: 0.1244\n",
      "Epoch 14/200\n",
      "68/68 [==============================] - 12s 175ms/step - loss: 0.0585 - correlation: 0.8777 - mse: 0.1158 - val_loss: 0.0653 - val_correlation: 0.9900 - val_mse: 0.1295\n",
      "Epoch 15/200\n",
      "68/68 [==============================] - 11s 164ms/step - loss: 0.0585 - correlation: 0.8709 - mse: 0.1156 - val_loss: 0.0641 - val_correlation: 1.0063 - val_mse: 0.1273\n",
      "Epoch 16/200\n",
      "68/68 [==============================] - 10s 148ms/step - loss: 0.0586 - correlation: 0.8811 - mse: 0.1159 - val_loss: 0.0628 - val_correlation: 0.8085 - val_mse: 0.1244\n",
      "Epoch 17/200\n",
      "68/68 [==============================] - ETA: 0s - loss: 0.0583 - correlation: 0.8703 - mse: 0.1156"
     ]
    },
    {
     "name": "stderr",
     "output_type": "stream",
     "text": [
      "/Users/lanacaldarevic/miniforge3/envs/tf_m1/lib/python3.9/site-packages/keras/src/engine/training.py:3000: UserWarning: You are saving your model as an HDF5 file via `model.save()`. This file format is considered legacy. We recommend using instead the native Keras format, e.g. `model.save('my_model.keras')`.\n",
      "  saving_api.save_model(\n"
     ]
    },
    {
     "name": "stdout",
     "output_type": "stream",
     "text": [
      "INFO:tensorflow:Assets written to: /Users/lanacaldarevic/workspace/phd/ecg_derived_resp_dl/notebooks/wandb/run-20240410_135453-5jcyeyc0/files/model-best/assets\n"
     ]
    },
    {
     "name": "stderr",
     "output_type": "stream",
     "text": [
      "INFO:tensorflow:Assets written to: /Users/lanacaldarevic/workspace/phd/ecg_derived_resp_dl/notebooks/wandb/run-20240410_135453-5jcyeyc0/files/model-best/assets\n",
      "\u001b[34m\u001b[1mwandb\u001b[0m: Adding directory to artifact (/Users/lanacaldarevic/workspace/phd/ecg_derived_resp_dl/notebooks/wandb/run-20240410_135453-5jcyeyc0/files/model-best)... Done. 0.0s\n"
     ]
    },
    {
     "name": "stdout",
     "output_type": "stream",
     "text": [
      "68/68 [==============================] - 14s 204ms/step - loss: 0.0583 - correlation: 0.8703 - mse: 0.1156 - val_loss: 0.0617 - val_correlation: 0.8370 - val_mse: 0.1226\n",
      "Epoch 18/200\n",
      "68/68 [==============================] - 15s 218ms/step - loss: 0.0583 - correlation: 0.8694 - mse: 0.1156 - val_loss: 0.0627 - val_correlation: 0.8440 - val_mse: 0.1242\n",
      "Epoch 19/200\n",
      "68/68 [==============================] - 12s 172ms/step - loss: 0.0581 - correlation: 0.8636 - mse: 0.1154 - val_loss: 0.0628 - val_correlation: 0.8136 - val_mse: 0.1247\n",
      "Epoch 20/200\n",
      "68/68 [==============================] - 10s 149ms/step - loss: 0.0586 - correlation: 0.8734 - mse: 0.1157 - val_loss: 0.0629 - val_correlation: 0.9077 - val_mse: 0.1250\n",
      "Epoch 21/200\n",
      "68/68 [==============================] - 11s 163ms/step - loss: 0.0582 - correlation: 0.8683 - mse: 0.1155 - val_loss: 0.0634 - val_correlation: 0.8373 - val_mse: 0.1261\n",
      "Epoch 22/200\n",
      "68/68 [==============================] - 11s 161ms/step - loss: 0.0582 - correlation: 0.8717 - mse: 0.1156 - val_loss: 0.0633 - val_correlation: 1.0385 - val_mse: 0.1254\n",
      "Epoch 23/200\n",
      "68/68 [==============================] - 12s 181ms/step - loss: 0.0585 - correlation: 0.8719 - mse: 0.1157 - val_loss: 0.0637 - val_correlation: 0.9399 - val_mse: 0.1266\n",
      "Epoch 24/200\n",
      "68/68 [==============================] - 11s 168ms/step - loss: 0.0581 - correlation: 0.8645 - mse: 0.1154 - val_loss: 0.0646 - val_correlation: 1.1711 - val_mse: 0.1285\n",
      "Epoch 25/200\n",
      "68/68 [==============================] - ETA: 0s - loss: 0.0584 - correlation: 0.8757 - mse: 0.1158"
     ]
    },
    {
     "name": "stderr",
     "output_type": "stream",
     "text": [
      "/Users/lanacaldarevic/miniforge3/envs/tf_m1/lib/python3.9/site-packages/keras/src/engine/training.py:3000: UserWarning: You are saving your model as an HDF5 file via `model.save()`. This file format is considered legacy. We recommend using instead the native Keras format, e.g. `model.save('my_model.keras')`.\n",
      "  saving_api.save_model(\n"
     ]
    },
    {
     "name": "stdout",
     "output_type": "stream",
     "text": [
      "INFO:tensorflow:Assets written to: /Users/lanacaldarevic/workspace/phd/ecg_derived_resp_dl/notebooks/wandb/run-20240410_135453-5jcyeyc0/files/model-best/assets\n"
     ]
    },
    {
     "name": "stderr",
     "output_type": "stream",
     "text": [
      "INFO:tensorflow:Assets written to: /Users/lanacaldarevic/workspace/phd/ecg_derived_resp_dl/notebooks/wandb/run-20240410_135453-5jcyeyc0/files/model-best/assets\n",
      "\u001b[34m\u001b[1mwandb\u001b[0m: Adding directory to artifact (/Users/lanacaldarevic/workspace/phd/ecg_derived_resp_dl/notebooks/wandb/run-20240410_135453-5jcyeyc0/files/model-best)... Done. 0.0s\n"
     ]
    },
    {
     "name": "stdout",
     "output_type": "stream",
     "text": [
      "68/68 [==============================] - 16s 244ms/step - loss: 0.0584 - correlation: 0.8757 - mse: 0.1158 - val_loss: 0.0614 - val_correlation: 0.8392 - val_mse: 0.1219\n",
      "Epoch 26/200\n",
      "68/68 [==============================] - 13s 182ms/step - loss: 0.0582 - correlation: 0.8697 - mse: 0.1156 - val_loss: 0.0622 - val_correlation: 0.9542 - val_mse: 0.1238\n",
      "Epoch 27/200\n",
      "68/68 [==============================] - 12s 174ms/step - loss: 0.0584 - correlation: 0.8715 - mse: 0.1156 - val_loss: 0.0620 - val_correlation: 0.8888 - val_mse: 0.1229\n",
      "Epoch 28/200\n",
      "68/68 [==============================] - 12s 174ms/step - loss: 0.0590 - correlation: 0.8723 - mse: 0.1157 - val_loss: 0.0665 - val_correlation: 0.8488 - val_mse: 0.1311\n",
      "Epoch 29/200\n",
      "68/68 [==============================] - 13s 197ms/step - loss: 0.0583 - correlation: 0.8676 - mse: 0.1155 - val_loss: 0.0638 - val_correlation: 0.8195 - val_mse: 0.1268\n",
      "Epoch 30/200\n",
      "68/68 [==============================] - 13s 192ms/step - loss: 0.0582 - correlation: 0.8676 - mse: 0.1155 - val_loss: 0.0626 - val_correlation: 0.9241 - val_mse: 0.1245\n",
      "Epoch 31/200\n",
      "68/68 [==============================] - 12s 174ms/step - loss: 0.0582 - correlation: 0.8700 - mse: 0.1156 - val_loss: 0.0626 - val_correlation: 1.0017 - val_mse: 0.1245\n",
      "Epoch 32/200\n",
      "68/68 [==============================] - 12s 179ms/step - loss: 0.0591 - correlation: 0.9988 - mse: 0.1177 - val_loss: 0.0620 - val_correlation: 1.0002 - val_mse: 0.1239\n",
      "Epoch 33/200\n",
      "68/68 [==============================] - 12s 175ms/step - loss: 0.0588 - correlation: 1.0008 - mse: 0.1175 - val_loss: 0.0616 - val_correlation: 1.0003 - val_mse: 0.1233\n",
      "Epoch 34/200\n",
      "68/68 [==============================] - 13s 190ms/step - loss: 0.0588 - correlation: 1.0007 - mse: 0.1175 - val_loss: 0.0617 - val_correlation: 0.9999 - val_mse: 0.1235\n",
      "Epoch 35/200\n",
      "68/68 [==============================] - 12s 178ms/step - loss: 0.0588 - correlation: 1.0008 - mse: 0.1175 - val_loss: 0.0617 - val_correlation: 0.9995 - val_mse: 0.1234\n"
     ]
    },
    {
     "name": "stderr",
     "output_type": "stream",
     "text": [
      "/Users/lanacaldarevic/miniforge3/envs/tf_m1/lib/python3.9/site-packages/keras/src/engine/training.py:3000: UserWarning: You are saving your model as an HDF5 file via `model.save()`. This file format is considered legacy. We recommend using instead the native Keras format, e.g. `model.save('my_model.keras')`.\n",
      "  saving_api.save_model(\n"
     ]
    },
    {
     "data": {
      "text/html": [
       "Waiting for W&B process to finish... <strong style=\"color:green\">(success).</strong>"
      ],
      "text/plain": [
       "<IPython.core.display.HTML object>"
      ]
     },
     "metadata": {},
     "output_type": "display_data"
    },
    {
     "data": {
      "text/html": [
       "<style>\n",
       "    table.wandb td:nth-child(1) { padding: 0 10px; text-align: left ; width: auto;} td:nth-child(2) {text-align: left ; width: 100%}\n",
       "    .wandb-row { display: flex; flex-direction: row; flex-wrap: wrap; justify-content: flex-start; width: 100% }\n",
       "    .wandb-col { display: flex; flex-direction: column; flex-basis: 100%; flex: 1; padding: 10px; }\n",
       "    </style>\n",
       "<div class=\"wandb-row\"><div class=\"wandb-col\"><h3>Run history:</h3><br/><table class=\"wandb\"><tr><td>correlation</td><td>▅▃▁▁▂▁▁▁▂▃▃▃▃▃▂▃▂▂▂▃▂▂▂▂▃▂▂▂▂▂▂████</td></tr><tr><td>epoch</td><td>▁▁▁▂▂▂▂▂▃▃▃▃▃▄▄▄▄▅▅▅▅▅▆▆▆▆▆▇▇▇▇▇███</td></tr><tr><td>loss</td><td>█▁▁▁▁▁▁▁▁▁▁▁▁▁▁▁▁▁▁▁▁▁▁▁▁▁▁▁▁▁▁▁▁▁▁</td></tr><tr><td>mse</td><td>█▃▁▁▂▁▁▂▂▂▃▂▃▂▂▃▂▂▂▂▂▂▂▂▂▂▂▂▂▂▂▅▄▄▄</td></tr><tr><td>val_correlation</td><td>▅▅▄▅▅▅▅▅▅▅▅▅▃▅▅▁▂▂▁▃▂▅▄█▂▄▃▂▁▃▅▅▅▅▅</td></tr><tr><td>val_loss</td><td>█▃▂▂▁▁▁▁▁▁▁▁▁▂▂▁▁▁▁▁▁▁▁▂▁▁▁▂▁▁▁▁▁▁▁</td></tr><tr><td>val_mse</td><td>▃▃▂▂▃▂▃▄▂▂▂▂▃▇▅▃▂▃▃▃▄▄▅▆▁▂▂█▅▃▃▃▂▂▂</td></tr></table><br/></div><div class=\"wandb-col\"><h3>Run summary:</h3><br/><table class=\"wandb\"><tr><td>best_epoch</td><td>24</td></tr><tr><td>best_val_loss</td><td>0.06144</td></tr><tr><td>correlation</td><td>1.00075</td></tr><tr><td>epoch</td><td>34</td></tr><tr><td>loss</td><td>0.05877</td></tr><tr><td>mse</td><td>0.11754</td></tr><tr><td>val_correlation</td><td>0.99946</td></tr><tr><td>val_loss</td><td>0.06169</td></tr><tr><td>val_mse</td><td>0.12337</td></tr></table><br/></div></div>"
      ],
      "text/plain": [
       "<IPython.core.display.HTML object>"
      ]
     },
     "metadata": {},
     "output_type": "display_data"
    },
    {
     "data": {
      "text/html": [
       " View run <strong style=\"color:#cdcd00\">decent-sweep-3</strong> at: <a href='https://wandb.ai/lana-caldarevic1/biosignal_deeplearning/runs/5jcyeyc0' target=\"_blank\">https://wandb.ai/lana-caldarevic1/biosignal_deeplearning/runs/5jcyeyc0</a><br/>Synced 6 W&B file(s), 1 media file(s), 60 artifact file(s) and 1 other file(s)"
      ],
      "text/plain": [
       "<IPython.core.display.HTML object>"
      ]
     },
     "metadata": {},
     "output_type": "display_data"
    },
    {
     "data": {
      "text/html": [
       "Find logs at: <code>./wandb/run-20240410_135453-5jcyeyc0/logs</code>"
      ],
      "text/plain": [
       "<IPython.core.display.HTML object>"
      ]
     },
     "metadata": {},
     "output_type": "display_data"
    },
    {
     "name": "stderr",
     "output_type": "stream",
     "text": [
      "\u001b[34m\u001b[1mwandb\u001b[0m: Agent Starting Run: 3mk12xvp with config:\n",
      "\u001b[34m\u001b[1mwandb\u001b[0m: \tbatch_size: 64\n",
      "\u001b[34m\u001b[1mwandb\u001b[0m: \tdropout: 0.293231372006874\n",
      "\u001b[34m\u001b[1mwandb\u001b[0m: \tkernel_size: 3\n",
      "\u001b[34m\u001b[1mwandb\u001b[0m: \tlearning_rate: 0.008603111210678355\n",
      "\u001b[34m\u001b[1mwandb\u001b[0m: \treg: 0.004354228424838339\n",
      "\u001b[34m\u001b[1mwandb\u001b[0m: \tstart_filters: 8\n"
     ]
    },
    {
     "data": {
      "text/html": [
       "wandb version 0.16.6 is available!  To upgrade, please run:\n",
       " $ pip install wandb --upgrade"
      ],
      "text/plain": [
       "<IPython.core.display.HTML object>"
      ]
     },
     "metadata": {},
     "output_type": "display_data"
    },
    {
     "data": {
      "text/html": [
       "Tracking run with wandb version 0.15.9"
      ],
      "text/plain": [
       "<IPython.core.display.HTML object>"
      ]
     },
     "metadata": {},
     "output_type": "display_data"
    },
    {
     "data": {
      "text/html": [
       "Run data is saved locally in <code>/Users/lanacaldarevic/workspace/phd/ecg_derived_resp_dl/notebooks/wandb/run-20240410_140319-3mk12xvp</code>"
      ],
      "text/plain": [
       "<IPython.core.display.HTML object>"
      ]
     },
     "metadata": {},
     "output_type": "display_data"
    },
    {
     "data": {
      "text/html": [
       "Syncing run <strong><a href='https://wandb.ai/lana-caldarevic1/biosignal_deeplearning/runs/3mk12xvp' target=\"_blank\">summer-sweep-4</a></strong> to <a href='https://wandb.ai/lana-caldarevic1/biosignal_deeplearning' target=\"_blank\">Weights & Biases</a> (<a href='https://wandb.me/run' target=\"_blank\">docs</a>)<br/>Sweep page: <a href='https://wandb.ai/lana-caldarevic1/biosignal_deeplearning/sweeps/6i1t9675' target=\"_blank\">https://wandb.ai/lana-caldarevic1/biosignal_deeplearning/sweeps/6i1t9675</a>"
      ],
      "text/plain": [
       "<IPython.core.display.HTML object>"
      ]
     },
     "metadata": {},
     "output_type": "display_data"
    },
    {
     "data": {
      "text/html": [
       " View project at <a href='https://wandb.ai/lana-caldarevic1/biosignal_deeplearning' target=\"_blank\">https://wandb.ai/lana-caldarevic1/biosignal_deeplearning</a>"
      ],
      "text/plain": [
       "<IPython.core.display.HTML object>"
      ]
     },
     "metadata": {},
     "output_type": "display_data"
    },
    {
     "data": {
      "text/html": [
       " View sweep at <a href='https://wandb.ai/lana-caldarevic1/biosignal_deeplearning/sweeps/6i1t9675' target=\"_blank\">https://wandb.ai/lana-caldarevic1/biosignal_deeplearning/sweeps/6i1t9675</a>"
      ],
      "text/plain": [
       "<IPython.core.display.HTML object>"
      ]
     },
     "metadata": {},
     "output_type": "display_data"
    },
    {
     "data": {
      "text/html": [
       " View run at <a href='https://wandb.ai/lana-caldarevic1/biosignal_deeplearning/runs/3mk12xvp' target=\"_blank\">https://wandb.ai/lana-caldarevic1/biosignal_deeplearning/runs/3mk12xvp</a>"
      ],
      "text/plain": [
       "<IPython.core.display.HTML object>"
      ]
     },
     "metadata": {},
     "output_type": "display_data"
    },
    {
     "name": "stdout",
     "output_type": "stream",
     "text": [
      "GPU enabled\n",
      "Model: \"model\"\n",
      "__________________________________________________________________________________________________\n",
      " Layer (type)                Output Shape                 Param #   Connected to                  \n",
      "==================================================================================================\n",
      " input_1 (InputLayer)        [(None, 1024, 1)]            0         []                            \n",
      "                                                                                                  \n",
      " conv1d (Conv1D)             (None, 1024, 8)              32        ['input_1[0][0]']             \n",
      "                                                                                                  \n",
      " batch_normalization (Batch  (None, 1024, 8)              32        ['conv1d[0][0]']              \n",
      " Normalization)                                                                                   \n",
      "                                                                                                  \n",
      " conv1d_1 (Conv1D)           (None, 1024, 8)              200       ['batch_normalization[0][0]'] \n",
      "                                                                                                  \n",
      " batch_normalization_1 (Bat  (None, 1024, 8)              32        ['conv1d_1[0][0]']            \n",
      " chNormalization)                                                                                 \n",
      "                                                                                                  \n",
      " max_pooling1d (MaxPooling1  (None, 512, 8)               0         ['batch_normalization_1[0][0]'\n",
      " D)                                                                 ]                             \n",
      "                                                                                                  \n",
      " conv1d_2 (Conv1D)           (None, 512, 16)              400       ['max_pooling1d[0][0]']       \n",
      "                                                                                                  \n",
      " batch_normalization_2 (Bat  (None, 512, 16)              64        ['conv1d_2[0][0]']            \n",
      " chNormalization)                                                                                 \n",
      "                                                                                                  \n",
      " conv1d_3 (Conv1D)           (None, 512, 16)              784       ['batch_normalization_2[0][0]'\n",
      "                                                                    ]                             \n",
      "                                                                                                  \n",
      " batch_normalization_3 (Bat  (None, 512, 16)              64        ['conv1d_3[0][0]']            \n",
      " chNormalization)                                                                                 \n",
      "                                                                                                  \n",
      " dropout (Dropout)           (None, 512, 16)              0         ['batch_normalization_3[0][0]'\n",
      "                                                                    ]                             \n",
      "                                                                                                  \n",
      " max_pooling1d_1 (MaxPoolin  (None, 256, 16)              0         ['dropout[0][0]']             \n",
      " g1D)                                                                                             \n",
      "                                                                                                  \n",
      " conv1d_4 (Conv1D)           (None, 256, 32)              1568      ['max_pooling1d_1[0][0]']     \n",
      "                                                                                                  \n",
      " batch_normalization_4 (Bat  (None, 256, 32)              128       ['conv1d_4[0][0]']            \n",
      " chNormalization)                                                                                 \n",
      "                                                                                                  \n",
      " conv1d_5 (Conv1D)           (None, 256, 32)              3104      ['batch_normalization_4[0][0]'\n",
      "                                                                    ]                             \n",
      "                                                                                                  \n",
      " batch_normalization_5 (Bat  (None, 256, 32)              128       ['conv1d_5[0][0]']            \n",
      " chNormalization)                                                                                 \n",
      "                                                                                                  \n",
      " up_sampling1d (UpSampling1  (None, 512, 32)              0         ['batch_normalization_5[0][0]'\n",
      " D)                                                                 ]                             \n",
      "                                                                                                  \n",
      " conv1d_6 (Conv1D)           (None, 512, 32)              3104      ['up_sampling1d[0][0]']       \n",
      "                                                                                                  \n",
      " batch_normalization_6 (Bat  (None, 512, 32)              128       ['conv1d_6[0][0]']            \n",
      " chNormalization)                                                                                 \n",
      "                                                                                                  \n",
      " concatenate (Concatenate)   (None, 512, 48)              0         ['dropout[0][0]',             \n",
      "                                                                     'batch_normalization_6[0][0]'\n",
      "                                                                    ]                             \n",
      "                                                                                                  \n",
      " conv1d_7 (Conv1D)           (None, 512, 16)              2320      ['concatenate[0][0]']         \n",
      "                                                                                                  \n",
      " batch_normalization_7 (Bat  (None, 512, 16)              64        ['conv1d_7[0][0]']            \n",
      " chNormalization)                                                                                 \n",
      "                                                                                                  \n",
      " conv1d_8 (Conv1D)           (None, 512, 16)              784       ['batch_normalization_7[0][0]'\n",
      "                                                                    ]                             \n",
      "                                                                                                  \n",
      " batch_normalization_8 (Bat  (None, 512, 16)              64        ['conv1d_8[0][0]']            \n",
      " chNormalization)                                                                                 \n",
      "                                                                                                  \n",
      " dropout_1 (Dropout)         (None, 512, 16)              0         ['batch_normalization_8[0][0]'\n",
      "                                                                    ]                             \n",
      "                                                                                                  \n",
      " up_sampling1d_1 (UpSamplin  (None, 1024, 16)             0         ['dropout_1[0][0]']           \n",
      " g1D)                                                                                             \n",
      "                                                                                                  \n",
      " conv1d_9 (Conv1D)           (None, 1024, 16)             784       ['up_sampling1d_1[0][0]']     \n",
      "                                                                                                  \n",
      " batch_normalization_9 (Bat  (None, 1024, 16)             64        ['conv1d_9[0][0]']            \n",
      " chNormalization)                                                                                 \n",
      "                                                                                                  \n",
      " concatenate_1 (Concatenate  (None, 1024, 24)             0         ['batch_normalization_1[0][0]'\n",
      " )                                                                  , 'batch_normalization_9[0][0]\n",
      "                                                                    ']                            \n",
      "                                                                                                  \n",
      " conv1d_10 (Conv1D)          (None, 1024, 8)              584       ['concatenate_1[0][0]']       \n",
      "                                                                                                  \n",
      " batch_normalization_10 (Ba  (None, 1024, 8)              32        ['conv1d_10[0][0]']           \n",
      " tchNormalization)                                                                                \n",
      "                                                                                                  \n",
      " conv1d_11 (Conv1D)          (None, 1024, 8)              200       ['batch_normalization_10[0][0]\n",
      "                                                                    ']                            \n",
      "                                                                                                  \n",
      " batch_normalization_11 (Ba  (None, 1024, 8)              32        ['conv1d_11[0][0]']           \n",
      " tchNormalization)                                                                                \n",
      "                                                                                                  \n",
      " conv1d_12 (Conv1D)          (None, 1024, 1)              25        ['batch_normalization_11[0][0]\n",
      "                                                                    ']                            \n",
      "                                                                                                  \n",
      "==================================================================================================\n",
      "Total params: 14721 (57.50 KB)\n",
      "Trainable params: 14305 (55.88 KB)\n",
      "Non-trainable params: 416 (1.62 KB)\n",
      "__________________________________________________________________________________________________\n",
      "Model training starting\n",
      "Epoch 1/200\n"
     ]
    },
    {
     "name": "stderr",
     "output_type": "stream",
     "text": [
      "2024-04-10 14:03:55.763416: I tensorflow/core/grappler/optimizers/custom_graph_optimizer_registry.cc:114] Plugin optimizer for device_type GPU is enabled.\n"
     ]
    },
    {
     "name": "stdout",
     "output_type": "stream",
     "text": [
      "68/68 [==============================] - ETA: 0s - loss: 0.3604 - correlation: 0.9350 - mse: 0.1233"
     ]
    },
    {
     "name": "stderr",
     "output_type": "stream",
     "text": [
      "2024-04-10 14:04:33.685873: I tensorflow/core/grappler/optimizers/custom_graph_optimizer_registry.cc:114] Plugin optimizer for device_type GPU is enabled.\n",
      "/Users/lanacaldarevic/miniforge3/envs/tf_m1/lib/python3.9/site-packages/keras/src/engine/training.py:3000: UserWarning: You are saving your model as an HDF5 file via `model.save()`. This file format is considered legacy. We recommend using instead the native Keras format, e.g. `model.save('my_model.keras')`.\n",
      "  saving_api.save_model(\n"
     ]
    },
    {
     "name": "stdout",
     "output_type": "stream",
     "text": [
      "INFO:tensorflow:Assets written to: /Users/lanacaldarevic/workspace/phd/ecg_derived_resp_dl/notebooks/wandb/run-20240410_140319-3mk12xvp/files/model-best/assets\n"
     ]
    },
    {
     "name": "stderr",
     "output_type": "stream",
     "text": [
      "INFO:tensorflow:Assets written to: /Users/lanacaldarevic/workspace/phd/ecg_derived_resp_dl/notebooks/wandb/run-20240410_140319-3mk12xvp/files/model-best/assets\n",
      "\u001b[34m\u001b[1mwandb\u001b[0m: Adding directory to artifact (/Users/lanacaldarevic/workspace/phd/ecg_derived_resp_dl/notebooks/wandb/run-20240410_140319-3mk12xvp/files/model-best)... Done. 0.0s\n"
     ]
    },
    {
     "name": "stdout",
     "output_type": "stream",
     "text": [
      "68/68 [==============================] - 66s 823ms/step - loss: 0.3604 - correlation: 0.9350 - mse: 0.1233 - val_loss: 0.0935 - val_correlation: 0.9988 - val_mse: 0.1233\n",
      "Epoch 2/200\n",
      "68/68 [==============================] - ETA: 0s - loss: 0.0769 - correlation: 0.9012 - mse: 0.1165"
     ]
    },
    {
     "name": "stderr",
     "output_type": "stream",
     "text": [
      "/Users/lanacaldarevic/miniforge3/envs/tf_m1/lib/python3.9/site-packages/keras/src/engine/training.py:3000: UserWarning: You are saving your model as an HDF5 file via `model.save()`. This file format is considered legacy. We recommend using instead the native Keras format, e.g. `model.save('my_model.keras')`.\n",
      "  saving_api.save_model(\n"
     ]
    },
    {
     "name": "stdout",
     "output_type": "stream",
     "text": [
      "INFO:tensorflow:Assets written to: /Users/lanacaldarevic/workspace/phd/ecg_derived_resp_dl/notebooks/wandb/run-20240410_140319-3mk12xvp/files/model-best/assets\n"
     ]
    },
    {
     "name": "stderr",
     "output_type": "stream",
     "text": [
      "INFO:tensorflow:Assets written to: /Users/lanacaldarevic/workspace/phd/ecg_derived_resp_dl/notebooks/wandb/run-20240410_140319-3mk12xvp/files/model-best/assets\n",
      "\u001b[34m\u001b[1mwandb\u001b[0m: Adding directory to artifact (/Users/lanacaldarevic/workspace/phd/ecg_derived_resp_dl/notebooks/wandb/run-20240410_140319-3mk12xvp/files/model-best)... Done. 0.0s\n"
     ]
    },
    {
     "name": "stdout",
     "output_type": "stream",
     "text": [
      "68/68 [==============================] - 16s 232ms/step - loss: 0.0769 - correlation: 0.9012 - mse: 0.1165 - val_loss: 0.0714 - val_correlation: 0.9992 - val_mse: 0.1235\n",
      "Epoch 3/200\n",
      "68/68 [==============================] - ETA: 0s - loss: 0.0646 - correlation: 0.8939 - mse: 0.1163"
     ]
    },
    {
     "name": "stderr",
     "output_type": "stream",
     "text": [
      "/Users/lanacaldarevic/miniforge3/envs/tf_m1/lib/python3.9/site-packages/keras/src/engine/training.py:3000: UserWarning: You are saving your model as an HDF5 file via `model.save()`. This file format is considered legacy. We recommend using instead the native Keras format, e.g. `model.save('my_model.keras')`.\n",
      "  saving_api.save_model(\n"
     ]
    },
    {
     "name": "stdout",
     "output_type": "stream",
     "text": [
      "INFO:tensorflow:Assets written to: /Users/lanacaldarevic/workspace/phd/ecg_derived_resp_dl/notebooks/wandb/run-20240410_140319-3mk12xvp/files/model-best/assets\n"
     ]
    },
    {
     "name": "stderr",
     "output_type": "stream",
     "text": [
      "INFO:tensorflow:Assets written to: /Users/lanacaldarevic/workspace/phd/ecg_derived_resp_dl/notebooks/wandb/run-20240410_140319-3mk12xvp/files/model-best/assets\n",
      "\u001b[34m\u001b[1mwandb\u001b[0m: Adding directory to artifact (/Users/lanacaldarevic/workspace/phd/ecg_derived_resp_dl/notebooks/wandb/run-20240410_140319-3mk12xvp/files/model-best)... Done. 0.0s\n"
     ]
    },
    {
     "name": "stdout",
     "output_type": "stream",
     "text": [
      "68/68 [==============================] - 16s 238ms/step - loss: 0.0646 - correlation: 0.8939 - mse: 0.1163 - val_loss: 0.0655 - val_correlation: 0.9985 - val_mse: 0.1239\n",
      "Epoch 4/200\n",
      "68/68 [==============================] - ETA: 0s - loss: 0.0610 - correlation: 0.8735 - mse: 0.1157"
     ]
    },
    {
     "name": "stderr",
     "output_type": "stream",
     "text": [
      "/Users/lanacaldarevic/miniforge3/envs/tf_m1/lib/python3.9/site-packages/keras/src/engine/training.py:3000: UserWarning: You are saving your model as an HDF5 file via `model.save()`. This file format is considered legacy. We recommend using instead the native Keras format, e.g. `model.save('my_model.keras')`.\n",
      "  saving_api.save_model(\n"
     ]
    },
    {
     "name": "stdout",
     "output_type": "stream",
     "text": [
      "INFO:tensorflow:Assets written to: /Users/lanacaldarevic/workspace/phd/ecg_derived_resp_dl/notebooks/wandb/run-20240410_140319-3mk12xvp/files/model-best/assets\n"
     ]
    },
    {
     "name": "stderr",
     "output_type": "stream",
     "text": [
      "INFO:tensorflow:Assets written to: /Users/lanacaldarevic/workspace/phd/ecg_derived_resp_dl/notebooks/wandb/run-20240410_140319-3mk12xvp/files/model-best/assets\n",
      "\u001b[34m\u001b[1mwandb\u001b[0m: Adding directory to artifact (/Users/lanacaldarevic/workspace/phd/ecg_derived_resp_dl/notebooks/wandb/run-20240410_140319-3mk12xvp/files/model-best)... Done. 0.0s\n"
     ]
    },
    {
     "name": "stdout",
     "output_type": "stream",
     "text": [
      "68/68 [==============================] - 168s 3s/step - loss: 0.0610 - correlation: 0.8735 - mse: 0.1157 - val_loss: 0.0639 - val_correlation: 0.9960 - val_mse: 0.1237\n",
      "Epoch 5/200\n",
      "68/68 [==============================] - ETA: 0s - loss: 0.0598 - correlation: 0.8860 - mse: 0.1161"
     ]
    },
    {
     "name": "stderr",
     "output_type": "stream",
     "text": [
      "/Users/lanacaldarevic/miniforge3/envs/tf_m1/lib/python3.9/site-packages/keras/src/engine/training.py:3000: UserWarning: You are saving your model as an HDF5 file via `model.save()`. This file format is considered legacy. We recommend using instead the native Keras format, e.g. `model.save('my_model.keras')`.\n",
      "  saving_api.save_model(\n"
     ]
    },
    {
     "name": "stdout",
     "output_type": "stream",
     "text": [
      "INFO:tensorflow:Assets written to: /Users/lanacaldarevic/workspace/phd/ecg_derived_resp_dl/notebooks/wandb/run-20240410_140319-3mk12xvp/files/model-best/assets\n"
     ]
    },
    {
     "name": "stderr",
     "output_type": "stream",
     "text": [
      "INFO:tensorflow:Assets written to: /Users/lanacaldarevic/workspace/phd/ecg_derived_resp_dl/notebooks/wandb/run-20240410_140319-3mk12xvp/files/model-best/assets\n",
      "\u001b[34m\u001b[1mwandb\u001b[0m: Adding directory to artifact (/Users/lanacaldarevic/workspace/phd/ecg_derived_resp_dl/notebooks/wandb/run-20240410_140319-3mk12xvp/files/model-best)... Done. 0.0s\n"
     ]
    },
    {
     "name": "stdout",
     "output_type": "stream",
     "text": [
      "68/68 [==============================] - 16s 221ms/step - loss: 0.0598 - correlation: 0.8860 - mse: 0.1161 - val_loss: 0.0633 - val_correlation: 0.9955 - val_mse: 0.1237\n",
      "Epoch 6/200\n",
      "68/68 [==============================] - ETA: 0s - loss: 0.0595 - correlation: 0.9444 - mse: 0.1169"
     ]
    },
    {
     "name": "stderr",
     "output_type": "stream",
     "text": [
      "/Users/lanacaldarevic/miniforge3/envs/tf_m1/lib/python3.9/site-packages/keras/src/engine/training.py:3000: UserWarning: You are saving your model as an HDF5 file via `model.save()`. This file format is considered legacy. We recommend using instead the native Keras format, e.g. `model.save('my_model.keras')`.\n",
      "  saving_api.save_model(\n"
     ]
    },
    {
     "name": "stdout",
     "output_type": "stream",
     "text": [
      "INFO:tensorflow:Assets written to: /Users/lanacaldarevic/workspace/phd/ecg_derived_resp_dl/notebooks/wandb/run-20240410_140319-3mk12xvp/files/model-best/assets\n"
     ]
    },
    {
     "name": "stderr",
     "output_type": "stream",
     "text": [
      "INFO:tensorflow:Assets written to: /Users/lanacaldarevic/workspace/phd/ecg_derived_resp_dl/notebooks/wandb/run-20240410_140319-3mk12xvp/files/model-best/assets\n",
      "\u001b[34m\u001b[1mwandb\u001b[0m: Adding directory to artifact (/Users/lanacaldarevic/workspace/phd/ecg_derived_resp_dl/notebooks/wandb/run-20240410_140319-3mk12xvp/files/model-best)... Done. 0.0s\n"
     ]
    },
    {
     "name": "stdout",
     "output_type": "stream",
     "text": [
      "68/68 [==============================] - 16s 226ms/step - loss: 0.0595 - correlation: 0.9444 - mse: 0.1169 - val_loss: 0.0618 - val_correlation: 0.9969 - val_mse: 0.1232\n",
      "Epoch 7/200\n",
      "68/68 [==============================] - 15s 212ms/step - loss: 0.0590 - correlation: 0.9771 - mse: 0.1175 - val_loss: 0.0619 - val_correlation: 0.9819 - val_mse: 0.1233\n",
      "Epoch 8/200\n",
      "68/68 [==============================] - 225s 3s/step - loss: 0.0589 - correlation: 0.9806 - mse: 0.1175 - val_loss: 0.0620 - val_correlation: 0.9658 - val_mse: 0.1237\n",
      "Epoch 9/200\n",
      "68/68 [==============================] - ETA: 0s - loss: 0.0589 - correlation: 0.9970 - mse: 0.1176"
     ]
    },
    {
     "name": "stderr",
     "output_type": "stream",
     "text": [
      "/Users/lanacaldarevic/miniforge3/envs/tf_m1/lib/python3.9/site-packages/keras/src/engine/training.py:3000: UserWarning: You are saving your model as an HDF5 file via `model.save()`. This file format is considered legacy. We recommend using instead the native Keras format, e.g. `model.save('my_model.keras')`.\n",
      "  saving_api.save_model(\n"
     ]
    },
    {
     "name": "stdout",
     "output_type": "stream",
     "text": [
      "INFO:tensorflow:Assets written to: /Users/lanacaldarevic/workspace/phd/ecg_derived_resp_dl/notebooks/wandb/run-20240410_140319-3mk12xvp/files/model-best/assets\n"
     ]
    },
    {
     "name": "stderr",
     "output_type": "stream",
     "text": [
      "INFO:tensorflow:Assets written to: /Users/lanacaldarevic/workspace/phd/ecg_derived_resp_dl/notebooks/wandb/run-20240410_140319-3mk12xvp/files/model-best/assets\n",
      "\u001b[34m\u001b[1mwandb\u001b[0m: Adding directory to artifact (/Users/lanacaldarevic/workspace/phd/ecg_derived_resp_dl/notebooks/wandb/run-20240410_140319-3mk12xvp/files/model-best)... Done. 0.0s\n"
     ]
    },
    {
     "name": "stdout",
     "output_type": "stream",
     "text": [
      "68/68 [==============================] - 15s 217ms/step - loss: 0.0589 - correlation: 0.9970 - mse: 0.1176 - val_loss: 0.0617 - val_correlation: 0.9989 - val_mse: 0.1235\n",
      "Epoch 10/200\n",
      "68/68 [==============================] - 11s 164ms/step - loss: 0.0588 - correlation: 1.0004 - mse: 0.1175 - val_loss: 0.0618 - val_correlation: 0.9988 - val_mse: 0.1235\n",
      "Epoch 11/200\n",
      "68/68 [==============================] - ETA: 0s - loss: 0.0588 - correlation: 1.0009 - mse: 0.1175"
     ]
    },
    {
     "name": "stderr",
     "output_type": "stream",
     "text": [
      "/Users/lanacaldarevic/miniforge3/envs/tf_m1/lib/python3.9/site-packages/keras/src/engine/training.py:3000: UserWarning: You are saving your model as an HDF5 file via `model.save()`. This file format is considered legacy. We recommend using instead the native Keras format, e.g. `model.save('my_model.keras')`.\n",
      "  saving_api.save_model(\n"
     ]
    },
    {
     "name": "stdout",
     "output_type": "stream",
     "text": [
      "INFO:tensorflow:Assets written to: /Users/lanacaldarevic/workspace/phd/ecg_derived_resp_dl/notebooks/wandb/run-20240410_140319-3mk12xvp/files/model-best/assets\n"
     ]
    },
    {
     "name": "stderr",
     "output_type": "stream",
     "text": [
      "INFO:tensorflow:Assets written to: /Users/lanacaldarevic/workspace/phd/ecg_derived_resp_dl/notebooks/wandb/run-20240410_140319-3mk12xvp/files/model-best/assets\n",
      "\u001b[34m\u001b[1mwandb\u001b[0m: Adding directory to artifact (/Users/lanacaldarevic/workspace/phd/ecg_derived_resp_dl/notebooks/wandb/run-20240410_140319-3mk12xvp/files/model-best)... Done. 0.0s\n"
     ]
    },
    {
     "name": "stdout",
     "output_type": "stream",
     "text": [
      "68/68 [==============================] - 134s 2s/step - loss: 0.0588 - correlation: 1.0009 - mse: 0.1175 - val_loss: 0.0617 - val_correlation: 0.9988 - val_mse: 0.1235\n",
      "Epoch 12/200\n",
      "68/68 [==============================] - 13s 183ms/step - loss: 0.0588 - correlation: 1.0009 - mse: 0.1175 - val_loss: 0.0618 - val_correlation: 0.9988 - val_mse: 0.1235\n",
      "Epoch 13/200\n",
      "68/68 [==============================] - ETA: 0s - loss: 0.0588 - correlation: 1.0009 - mse: 0.1176"
     ]
    },
    {
     "name": "stderr",
     "output_type": "stream",
     "text": [
      "/Users/lanacaldarevic/miniforge3/envs/tf_m1/lib/python3.9/site-packages/keras/src/engine/training.py:3000: UserWarning: You are saving your model as an HDF5 file via `model.save()`. This file format is considered legacy. We recommend using instead the native Keras format, e.g. `model.save('my_model.keras')`.\n",
      "  saving_api.save_model(\n"
     ]
    },
    {
     "name": "stdout",
     "output_type": "stream",
     "text": [
      "INFO:tensorflow:Assets written to: /Users/lanacaldarevic/workspace/phd/ecg_derived_resp_dl/notebooks/wandb/run-20240410_140319-3mk12xvp/files/model-best/assets\n"
     ]
    },
    {
     "name": "stderr",
     "output_type": "stream",
     "text": [
      "INFO:tensorflow:Assets written to: /Users/lanacaldarevic/workspace/phd/ecg_derived_resp_dl/notebooks/wandb/run-20240410_140319-3mk12xvp/files/model-best/assets\n",
      "\u001b[34m\u001b[1mwandb\u001b[0m: Adding directory to artifact (/Users/lanacaldarevic/workspace/phd/ecg_derived_resp_dl/notebooks/wandb/run-20240410_140319-3mk12xvp/files/model-best)... Done. 0.0s\n"
     ]
    },
    {
     "name": "stdout",
     "output_type": "stream",
     "text": [
      "68/68 [==============================] - 14s 202ms/step - loss: 0.0588 - correlation: 1.0009 - mse: 0.1176 - val_loss: 0.0617 - val_correlation: 0.9988 - val_mse: 0.1234\n",
      "Epoch 14/200\n",
      "68/68 [==============================] - 12s 171ms/step - loss: 0.0588 - correlation: 1.0008 - mse: 0.1175 - val_loss: 0.0619 - val_correlation: 0.9988 - val_mse: 0.1238\n",
      "Epoch 15/200\n",
      "68/68 [==============================] - 134s 2s/step - loss: 0.0588 - correlation: 1.0009 - mse: 0.1175 - val_loss: 0.0618 - val_correlation: 0.9988 - val_mse: 0.1237\n",
      "Epoch 16/200\n",
      "68/68 [==============================] - 11s 168ms/step - loss: 0.0588 - correlation: 1.0010 - mse: 0.1175 - val_loss: 0.0618 - val_correlation: 0.9989 - val_mse: 0.1237\n",
      "Epoch 17/200\n",
      "68/68 [==============================] - 11s 165ms/step - loss: 0.0588 - correlation: 1.0009 - mse: 0.1176 - val_loss: 0.0617 - val_correlation: 0.9989 - val_mse: 0.1234\n",
      "Epoch 18/200\n",
      "68/68 [==============================] - 11s 168ms/step - loss: 0.0588 - correlation: 1.0008 - mse: 0.1175 - val_loss: 0.0618 - val_correlation: 0.9989 - val_mse: 0.1236\n",
      "Epoch 19/200\n",
      "68/68 [==============================] - 135s 2s/step - loss: 0.0588 - correlation: 1.0009 - mse: 0.1175 - val_loss: 0.0618 - val_correlation: 0.9989 - val_mse: 0.1235\n",
      "Epoch 20/200\n",
      "68/68 [==============================] - 12s 182ms/step - loss: 0.0588 - correlation: 1.0009 - mse: 0.1175 - val_loss: 0.0617 - val_correlation: 0.9990 - val_mse: 0.1235\n",
      "Epoch 21/200\n",
      "68/68 [==============================] - 12s 182ms/step - loss: 0.0588 - correlation: 1.0009 - mse: 0.1175 - val_loss: 0.0618 - val_correlation: 0.9990 - val_mse: 0.1236\n",
      "Epoch 22/200\n",
      "68/68 [==============================] - 13s 194ms/step - loss: 0.0588 - correlation: 1.0009 - mse: 0.1176 - val_loss: 0.0618 - val_correlation: 0.9991 - val_mse: 0.1235\n",
      "Epoch 23/200\n",
      "68/68 [==============================] - 304s 5s/step - loss: 0.0588 - correlation: 1.0008 - mse: 0.1175 - val_loss: 0.0618 - val_correlation: 0.9992 - val_mse: 0.1236\n",
      "Epoch 24/200\n",
      "68/68 [==============================] - ETA: 0s - loss: 0.0588 - correlation: 1.0008 - mse: 0.1175"
     ]
    },
    {
     "name": "stderr",
     "output_type": "stream",
     "text": [
      "/Users/lanacaldarevic/miniforge3/envs/tf_m1/lib/python3.9/site-packages/keras/src/engine/training.py:3000: UserWarning: You are saving your model as an HDF5 file via `model.save()`. This file format is considered legacy. We recommend using instead the native Keras format, e.g. `model.save('my_model.keras')`.\n",
      "  saving_api.save_model(\n"
     ]
    },
    {
     "name": "stdout",
     "output_type": "stream",
     "text": [
      "INFO:tensorflow:Assets written to: /Users/lanacaldarevic/workspace/phd/ecg_derived_resp_dl/notebooks/wandb/run-20240410_140319-3mk12xvp/files/model-best/assets\n"
     ]
    },
    {
     "name": "stderr",
     "output_type": "stream",
     "text": [
      "INFO:tensorflow:Assets written to: /Users/lanacaldarevic/workspace/phd/ecg_derived_resp_dl/notebooks/wandb/run-20240410_140319-3mk12xvp/files/model-best/assets\n",
      "\u001b[34m\u001b[1mwandb\u001b[0m: Adding directory to artifact (/Users/lanacaldarevic/workspace/phd/ecg_derived_resp_dl/notebooks/wandb/run-20240410_140319-3mk12xvp/files/model-best)... Done. 0.0s\n"
     ]
    },
    {
     "name": "stdout",
     "output_type": "stream",
     "text": [
      "68/68 [==============================] - 17s 244ms/step - loss: 0.0588 - correlation: 1.0008 - mse: 0.1175 - val_loss: 0.0616 - val_correlation: 0.9992 - val_mse: 0.1233\n",
      "Epoch 25/200\n",
      "68/68 [==============================] - 15s 211ms/step - loss: 0.0588 - correlation: 1.0008 - mse: 0.1175 - val_loss: 0.0618 - val_correlation: 0.9995 - val_mse: 0.1236\n",
      "Epoch 26/200\n",
      "68/68 [==============================] - 21s 309ms/step - loss: 0.0588 - correlation: 1.0007 - mse: 0.1175 - val_loss: 0.0617 - val_correlation: 0.9997 - val_mse: 0.1235\n",
      "Epoch 27/200\n",
      "68/68 [==============================] - 14s 211ms/step - loss: 0.0588 - correlation: 1.0006 - mse: 0.1175 - val_loss: 0.0617 - val_correlation: 0.9994 - val_mse: 0.1234\n",
      "Epoch 28/200\n",
      "68/68 [==============================] - 18s 258ms/step - loss: 0.0588 - correlation: 1.0003 - mse: 0.1175 - val_loss: 0.0617 - val_correlation: 1.0006 - val_mse: 0.1235\n",
      "Epoch 29/200\n",
      "68/68 [==============================] - 15s 215ms/step - loss: 0.0588 - correlation: 0.9997 - mse: 0.1175 - val_loss: 0.0618 - val_correlation: 1.0012 - val_mse: 0.1236\n",
      "Epoch 30/200\n",
      "68/68 [==============================] - 15s 220ms/step - loss: 0.0588 - correlation: 0.9999 - mse: 0.1175 - val_loss: 0.0618 - val_correlation: 1.0012 - val_mse: 0.1235\n",
      "Epoch 31/200\n",
      "68/68 [==============================] - 16s 233ms/step - loss: 0.0588 - correlation: 0.9995 - mse: 0.1175 - val_loss: 0.0618 - val_correlation: 1.0011 - val_mse: 0.1235\n",
      "Epoch 32/200\n",
      "68/68 [==============================] - 17s 253ms/step - loss: 0.0588 - correlation: 0.9993 - mse: 0.1175 - val_loss: 0.0618 - val_correlation: 1.0011 - val_mse: 0.1236\n",
      "Epoch 33/200\n",
      "68/68 [==============================] - 15s 213ms/step - loss: 0.0588 - correlation: 0.9992 - mse: 0.1175 - val_loss: 0.0619 - val_correlation: 1.0013 - val_mse: 0.1238\n",
      "Epoch 34/200\n",
      "68/68 [==============================] - 15s 224ms/step - loss: 0.0588 - correlation: 0.9994 - mse: 0.1175 - val_loss: 0.0618 - val_correlation: 1.0009 - val_mse: 0.1236\n"
     ]
    },
    {
     "name": "stderr",
     "output_type": "stream",
     "text": [
      "/Users/lanacaldarevic/miniforge3/envs/tf_m1/lib/python3.9/site-packages/keras/src/engine/training.py:3000: UserWarning: You are saving your model as an HDF5 file via `model.save()`. This file format is considered legacy. We recommend using instead the native Keras format, e.g. `model.save('my_model.keras')`.\n",
      "  saving_api.save_model(\n"
     ]
    },
    {
     "data": {
      "text/html": [
       "Waiting for W&B process to finish... <strong style=\"color:green\">(success).</strong>"
      ],
      "text/plain": [
       "<IPython.core.display.HTML object>"
      ]
     },
     "metadata": {},
     "output_type": "display_data"
    },
    {
     "data": {
      "text/html": [
       "<style>\n",
       "    table.wandb td:nth-child(1) { padding: 0 10px; text-align: left ; width: auto;} td:nth-child(2) {text-align: left ; width: 100%}\n",
       "    .wandb-row { display: flex; flex-direction: row; flex-wrap: wrap; justify-content: flex-start; width: 100% }\n",
       "    .wandb-col { display: flex; flex-direction: column; flex-basis: 100%; flex: 1; padding: 10px; }\n",
       "    </style>\n",
       "<div class=\"wandb-row\"><div class=\"wandb-col\"><h3>Run history:</h3><br/><table class=\"wandb\"><tr><td>correlation</td><td>▄▃▂▁▂▅▇▇██████████████████████████</td></tr><tr><td>epoch</td><td>▁▁▁▂▂▂▂▂▃▃▃▃▄▄▄▄▄▅▅▅▅▅▆▆▆▆▇▇▇▇▇███</td></tr><tr><td>loss</td><td>█▁▁▁▁▁▁▁▁▁▁▁▁▁▁▁▁▁▁▁▁▁▁▁▁▁▁▁▁▁▁▁▁▁</td></tr><tr><td>mse</td><td>█▂▂▁▁▂▃▃▃▃▃▃▃▃▃▃▃▃▃▃▃▃▃▃▃▃▃▃▃▃▃▃▃▃</td></tr><tr><td>val_correlation</td><td>██▇▇▇▇▄▁██████████████████████████</td></tr><tr><td>val_loss</td><td>█▃▂▂▁▁▁▁▁▁▁▁▁▁▁▁▁▁▁▁▁▁▁▁▁▁▁▁▁▁▁▁▁▁</td></tr><tr><td>val_mse</td><td>▂▄█▇▆▁▂▆▄▅▄▄▃▇▆▆▃▆▄▄▅▅▅▂▆▄▃▄▅▅▄▅▇▆</td></tr></table><br/></div><div class=\"wandb-col\"><h3>Run summary:</h3><br/><table class=\"wandb\"><tr><td>best_epoch</td><td>23</td></tr><tr><td>best_val_loss</td><td>0.06163</td></tr><tr><td>correlation</td><td>0.9994</td></tr><tr><td>epoch</td><td>33</td></tr><tr><td>loss</td><td>0.05877</td></tr><tr><td>mse</td><td>0.11755</td></tr><tr><td>val_correlation</td><td>1.00092</td></tr><tr><td>val_loss</td><td>0.06181</td></tr><tr><td>val_mse</td><td>0.12362</td></tr></table><br/></div></div>"
      ],
      "text/plain": [
       "<IPython.core.display.HTML object>"
      ]
     },
     "metadata": {},
     "output_type": "display_data"
    },
    {
     "data": {
      "text/html": [
       " View run <strong style=\"color:#cdcd00\">summer-sweep-4</strong> at: <a href='https://wandb.ai/lana-caldarevic1/biosignal_deeplearning/runs/3mk12xvp' target=\"_blank\">https://wandb.ai/lana-caldarevic1/biosignal_deeplearning/runs/3mk12xvp</a><br/>Synced 6 W&B file(s), 1 media file(s), 50 artifact file(s) and 1 other file(s)"
      ],
      "text/plain": [
       "<IPython.core.display.HTML object>"
      ]
     },
     "metadata": {},
     "output_type": "display_data"
    },
    {
     "data": {
      "text/html": [
       "Find logs at: <code>./wandb/run-20240410_140319-3mk12xvp/logs</code>"
      ],
      "text/plain": [
       "<IPython.core.display.HTML object>"
      ]
     },
     "metadata": {},
     "output_type": "display_data"
    },
    {
     "name": "stderr",
     "output_type": "stream",
     "text": [
      "\u001b[34m\u001b[1mwandb\u001b[0m: Agent Starting Run: rybno8oh with config:\n",
      "\u001b[34m\u001b[1mwandb\u001b[0m: \tbatch_size: 64\n",
      "\u001b[34m\u001b[1mwandb\u001b[0m: \tdropout: 0.18874082751457452\n",
      "\u001b[34m\u001b[1mwandb\u001b[0m: \tkernel_size: 3\n",
      "\u001b[34m\u001b[1mwandb\u001b[0m: \tlearning_rate: 0.009052735420238003\n",
      "\u001b[34m\u001b[1mwandb\u001b[0m: \treg: 0.004468882153505717\n",
      "\u001b[34m\u001b[1mwandb\u001b[0m: \tstart_filters: 8\n"
     ]
    },
    {
     "data": {
      "text/html": [
       "wandb version 0.16.6 is available!  To upgrade, please run:\n",
       " $ pip install wandb --upgrade"
      ],
      "text/plain": [
       "<IPython.core.display.HTML object>"
      ]
     },
     "metadata": {},
     "output_type": "display_data"
    },
    {
     "data": {
      "text/html": [
       "Tracking run with wandb version 0.15.9"
      ],
      "text/plain": [
       "<IPython.core.display.HTML object>"
      ]
     },
     "metadata": {},
     "output_type": "display_data"
    },
    {
     "data": {
      "text/html": [
       "Run data is saved locally in <code>/Users/lanacaldarevic/workspace/phd/ecg_derived_resp_dl/notebooks/wandb/run-20240410_143003-rybno8oh</code>"
      ],
      "text/plain": [
       "<IPython.core.display.HTML object>"
      ]
     },
     "metadata": {},
     "output_type": "display_data"
    },
    {
     "data": {
      "text/html": [
       "Syncing run <strong><a href='https://wandb.ai/lana-caldarevic1/biosignal_deeplearning/runs/rybno8oh' target=\"_blank\">rosy-sweep-5</a></strong> to <a href='https://wandb.ai/lana-caldarevic1/biosignal_deeplearning' target=\"_blank\">Weights & Biases</a> (<a href='https://wandb.me/run' target=\"_blank\">docs</a>)<br/>Sweep page: <a href='https://wandb.ai/lana-caldarevic1/biosignal_deeplearning/sweeps/6i1t9675' target=\"_blank\">https://wandb.ai/lana-caldarevic1/biosignal_deeplearning/sweeps/6i1t9675</a>"
      ],
      "text/plain": [
       "<IPython.core.display.HTML object>"
      ]
     },
     "metadata": {},
     "output_type": "display_data"
    },
    {
     "data": {
      "text/html": [
       " View project at <a href='https://wandb.ai/lana-caldarevic1/biosignal_deeplearning' target=\"_blank\">https://wandb.ai/lana-caldarevic1/biosignal_deeplearning</a>"
      ],
      "text/plain": [
       "<IPython.core.display.HTML object>"
      ]
     },
     "metadata": {},
     "output_type": "display_data"
    },
    {
     "data": {
      "text/html": [
       " View sweep at <a href='https://wandb.ai/lana-caldarevic1/biosignal_deeplearning/sweeps/6i1t9675' target=\"_blank\">https://wandb.ai/lana-caldarevic1/biosignal_deeplearning/sweeps/6i1t9675</a>"
      ],
      "text/plain": [
       "<IPython.core.display.HTML object>"
      ]
     },
     "metadata": {},
     "output_type": "display_data"
    },
    {
     "data": {
      "text/html": [
       " View run at <a href='https://wandb.ai/lana-caldarevic1/biosignal_deeplearning/runs/rybno8oh' target=\"_blank\">https://wandb.ai/lana-caldarevic1/biosignal_deeplearning/runs/rybno8oh</a>"
      ],
      "text/plain": [
       "<IPython.core.display.HTML object>"
      ]
     },
     "metadata": {},
     "output_type": "display_data"
    },
    {
     "name": "stdout",
     "output_type": "stream",
     "text": [
      "GPU enabled\n",
      "Model: \"model\"\n",
      "__________________________________________________________________________________________________\n",
      " Layer (type)                Output Shape                 Param #   Connected to                  \n",
      "==================================================================================================\n",
      " input_1 (InputLayer)        [(None, 1024, 1)]            0         []                            \n",
      "                                                                                                  \n",
      " conv1d (Conv1D)             (None, 1024, 8)              32        ['input_1[0][0]']             \n",
      "                                                                                                  \n",
      " batch_normalization (Batch  (None, 1024, 8)              32        ['conv1d[0][0]']              \n",
      " Normalization)                                                                                   \n",
      "                                                                                                  \n",
      " conv1d_1 (Conv1D)           (None, 1024, 8)              200       ['batch_normalization[0][0]'] \n",
      "                                                                                                  \n",
      " batch_normalization_1 (Bat  (None, 1024, 8)              32        ['conv1d_1[0][0]']            \n",
      " chNormalization)                                                                                 \n",
      "                                                                                                  \n",
      " max_pooling1d (MaxPooling1  (None, 512, 8)               0         ['batch_normalization_1[0][0]'\n",
      " D)                                                                 ]                             \n",
      "                                                                                                  \n",
      " conv1d_2 (Conv1D)           (None, 512, 16)              400       ['max_pooling1d[0][0]']       \n",
      "                                                                                                  \n",
      " batch_normalization_2 (Bat  (None, 512, 16)              64        ['conv1d_2[0][0]']            \n",
      " chNormalization)                                                                                 \n",
      "                                                                                                  \n",
      " conv1d_3 (Conv1D)           (None, 512, 16)              784       ['batch_normalization_2[0][0]'\n",
      "                                                                    ]                             \n",
      "                                                                                                  \n",
      " batch_normalization_3 (Bat  (None, 512, 16)              64        ['conv1d_3[0][0]']            \n",
      " chNormalization)                                                                                 \n",
      "                                                                                                  \n",
      " dropout (Dropout)           (None, 512, 16)              0         ['batch_normalization_3[0][0]'\n",
      "                                                                    ]                             \n",
      "                                                                                                  \n",
      " max_pooling1d_1 (MaxPoolin  (None, 256, 16)              0         ['dropout[0][0]']             \n",
      " g1D)                                                                                             \n",
      "                                                                                                  \n",
      " conv1d_4 (Conv1D)           (None, 256, 32)              1568      ['max_pooling1d_1[0][0]']     \n",
      "                                                                                                  \n",
      " batch_normalization_4 (Bat  (None, 256, 32)              128       ['conv1d_4[0][0]']            \n",
      " chNormalization)                                                                                 \n",
      "                                                                                                  \n",
      " conv1d_5 (Conv1D)           (None, 256, 32)              3104      ['batch_normalization_4[0][0]'\n",
      "                                                                    ]                             \n",
      "                                                                                                  \n",
      " batch_normalization_5 (Bat  (None, 256, 32)              128       ['conv1d_5[0][0]']            \n",
      " chNormalization)                                                                                 \n",
      "                                                                                                  \n",
      " up_sampling1d (UpSampling1  (None, 512, 32)              0         ['batch_normalization_5[0][0]'\n",
      " D)                                                                 ]                             \n",
      "                                                                                                  \n",
      " conv1d_6 (Conv1D)           (None, 512, 32)              3104      ['up_sampling1d[0][0]']       \n",
      "                                                                                                  \n",
      " batch_normalization_6 (Bat  (None, 512, 32)              128       ['conv1d_6[0][0]']            \n",
      " chNormalization)                                                                                 \n",
      "                                                                                                  \n",
      " concatenate (Concatenate)   (None, 512, 48)              0         ['dropout[0][0]',             \n",
      "                                                                     'batch_normalization_6[0][0]'\n",
      "                                                                    ]                             \n",
      "                                                                                                  \n",
      " conv1d_7 (Conv1D)           (None, 512, 16)              2320      ['concatenate[0][0]']         \n",
      "                                                                                                  \n",
      " batch_normalization_7 (Bat  (None, 512, 16)              64        ['conv1d_7[0][0]']            \n",
      " chNormalization)                                                                                 \n",
      "                                                                                                  \n",
      " conv1d_8 (Conv1D)           (None, 512, 16)              784       ['batch_normalization_7[0][0]'\n",
      "                                                                    ]                             \n",
      "                                                                                                  \n",
      " batch_normalization_8 (Bat  (None, 512, 16)              64        ['conv1d_8[0][0]']            \n",
      " chNormalization)                                                                                 \n",
      "                                                                                                  \n",
      " dropout_1 (Dropout)         (None, 512, 16)              0         ['batch_normalization_8[0][0]'\n",
      "                                                                    ]                             \n",
      "                                                                                                  \n",
      " up_sampling1d_1 (UpSamplin  (None, 1024, 16)             0         ['dropout_1[0][0]']           \n",
      " g1D)                                                                                             \n",
      "                                                                                                  \n",
      " conv1d_9 (Conv1D)           (None, 1024, 16)             784       ['up_sampling1d_1[0][0]']     \n",
      "                                                                                                  \n",
      " batch_normalization_9 (Bat  (None, 1024, 16)             64        ['conv1d_9[0][0]']            \n",
      " chNormalization)                                                                                 \n",
      "                                                                                                  \n",
      " concatenate_1 (Concatenate  (None, 1024, 24)             0         ['batch_normalization_1[0][0]'\n",
      " )                                                                  , 'batch_normalization_9[0][0]\n",
      "                                                                    ']                            \n",
      "                                                                                                  \n",
      " conv1d_10 (Conv1D)          (None, 1024, 8)              584       ['concatenate_1[0][0]']       \n",
      "                                                                                                  \n",
      " batch_normalization_10 (Ba  (None, 1024, 8)              32        ['conv1d_10[0][0]']           \n",
      " tchNormalization)                                                                                \n",
      "                                                                                                  \n",
      " conv1d_11 (Conv1D)          (None, 1024, 8)              200       ['batch_normalization_10[0][0]\n",
      "                                                                    ']                            \n",
      "                                                                                                  \n",
      " batch_normalization_11 (Ba  (None, 1024, 8)              32        ['conv1d_11[0][0]']           \n",
      " tchNormalization)                                                                                \n",
      "                                                                                                  \n",
      " conv1d_12 (Conv1D)          (None, 1024, 1)              25        ['batch_normalization_11[0][0]\n",
      "                                                                    ']                            \n",
      "                                                                                                  \n",
      "==================================================================================================\n",
      "Total params: 14721 (57.50 KB)\n",
      "Trainable params: 14305 (55.88 KB)\n",
      "Non-trainable params: 416 (1.62 KB)\n",
      "__________________________________________________________________________________________________\n",
      "Model training starting\n",
      "Epoch 1/200\n"
     ]
    },
    {
     "name": "stderr",
     "output_type": "stream",
     "text": [
      "2024-04-10 14:30:11.594609: I tensorflow/core/grappler/optimizers/custom_graph_optimizer_registry.cc:114] Plugin optimizer for device_type GPU is enabled.\n"
     ]
    },
    {
     "name": "stdout",
     "output_type": "stream",
     "text": [
      "68/68 [==============================] - ETA: 0s - loss: 0.3424 - correlation: 0.9460 - mse: 0.1226"
     ]
    },
    {
     "name": "stderr",
     "output_type": "stream",
     "text": [
      "2024-04-10 14:30:52.290945: I tensorflow/core/grappler/optimizers/custom_graph_optimizer_registry.cc:114] Plugin optimizer for device_type GPU is enabled.\n",
      "/Users/lanacaldarevic/miniforge3/envs/tf_m1/lib/python3.9/site-packages/keras/src/engine/training.py:3000: UserWarning: You are saving your model as an HDF5 file via `model.save()`. This file format is considered legacy. We recommend using instead the native Keras format, e.g. `model.save('my_model.keras')`.\n",
      "  saving_api.save_model(\n"
     ]
    },
    {
     "name": "stdout",
     "output_type": "stream",
     "text": [
      "INFO:tensorflow:Assets written to: /Users/lanacaldarevic/workspace/phd/ecg_derived_resp_dl/notebooks/wandb/run-20240410_143003-rybno8oh/files/model-best/assets\n"
     ]
    },
    {
     "name": "stderr",
     "output_type": "stream",
     "text": [
      "INFO:tensorflow:Assets written to: /Users/lanacaldarevic/workspace/phd/ecg_derived_resp_dl/notebooks/wandb/run-20240410_143003-rybno8oh/files/model-best/assets\n",
      "\u001b[34m\u001b[1mwandb\u001b[0m: Adding directory to artifact (/Users/lanacaldarevic/workspace/phd/ecg_derived_resp_dl/notebooks/wandb/run-20240410_143003-rybno8oh/files/model-best)... Done. 0.0s\n"
     ]
    },
    {
     "name": "stdout",
     "output_type": "stream",
     "text": [
      "68/68 [==============================] - 51s 560ms/step - loss: 0.3424 - correlation: 0.9460 - mse: 0.1226 - val_loss: 0.0838 - val_correlation: 1.0001 - val_mse: 0.1227\n",
      "Epoch 2/200\n",
      "68/68 [==============================] - ETA: 0s - loss: 0.0701 - correlation: 0.9346 - mse: 0.1171"
     ]
    },
    {
     "name": "stderr",
     "output_type": "stream",
     "text": [
      "/Users/lanacaldarevic/miniforge3/envs/tf_m1/lib/python3.9/site-packages/keras/src/engine/training.py:3000: UserWarning: You are saving your model as an HDF5 file via `model.save()`. This file format is considered legacy. We recommend using instead the native Keras format, e.g. `model.save('my_model.keras')`.\n",
      "  saving_api.save_model(\n"
     ]
    },
    {
     "name": "stdout",
     "output_type": "stream",
     "text": [
      "INFO:tensorflow:Assets written to: /Users/lanacaldarevic/workspace/phd/ecg_derived_resp_dl/notebooks/wandb/run-20240410_143003-rybno8oh/files/model-best/assets\n"
     ]
    },
    {
     "name": "stderr",
     "output_type": "stream",
     "text": [
      "INFO:tensorflow:Assets written to: /Users/lanacaldarevic/workspace/phd/ecg_derived_resp_dl/notebooks/wandb/run-20240410_143003-rybno8oh/files/model-best/assets\n",
      "\u001b[34m\u001b[1mwandb\u001b[0m: Adding directory to artifact (/Users/lanacaldarevic/workspace/phd/ecg_derived_resp_dl/notebooks/wandb/run-20240410_143003-rybno8oh/files/model-best)... Done. 0.0s\n"
     ]
    },
    {
     "name": "stdout",
     "output_type": "stream",
     "text": [
      "68/68 [==============================] - 21s 301ms/step - loss: 0.0701 - correlation: 0.9346 - mse: 0.1171 - val_loss: 0.0676 - val_correlation: 1.0036 - val_mse: 0.1234\n",
      "Epoch 3/200\n",
      "68/68 [==============================] - ETA: 0s - loss: 0.0651 - correlation: 0.9493 - mse: 0.1173"
     ]
    },
    {
     "name": "stderr",
     "output_type": "stream",
     "text": [
      "/Users/lanacaldarevic/miniforge3/envs/tf_m1/lib/python3.9/site-packages/keras/src/engine/training.py:3000: UserWarning: You are saving your model as an HDF5 file via `model.save()`. This file format is considered legacy. We recommend using instead the native Keras format, e.g. `model.save('my_model.keras')`.\n",
      "  saving_api.save_model(\n"
     ]
    },
    {
     "name": "stdout",
     "output_type": "stream",
     "text": [
      "INFO:tensorflow:Assets written to: /Users/lanacaldarevic/workspace/phd/ecg_derived_resp_dl/notebooks/wandb/run-20240410_143003-rybno8oh/files/model-best/assets\n"
     ]
    },
    {
     "name": "stderr",
     "output_type": "stream",
     "text": [
      "INFO:tensorflow:Assets written to: /Users/lanacaldarevic/workspace/phd/ecg_derived_resp_dl/notebooks/wandb/run-20240410_143003-rybno8oh/files/model-best/assets\n",
      "\u001b[34m\u001b[1mwandb\u001b[0m: Adding directory to artifact (/Users/lanacaldarevic/workspace/phd/ecg_derived_resp_dl/notebooks/wandb/run-20240410_143003-rybno8oh/files/model-best)... Done. 0.0s\n"
     ]
    },
    {
     "name": "stdout",
     "output_type": "stream",
     "text": [
      "68/68 [==============================] - 23s 338ms/step - loss: 0.0651 - correlation: 0.9493 - mse: 0.1173 - val_loss: 0.0638 - val_correlation: 0.9998 - val_mse: 0.1231\n",
      "Epoch 4/200\n",
      "68/68 [==============================] - ETA: 0s - loss: 0.0608 - correlation: 0.9526 - mse: 0.1174"
     ]
    },
    {
     "name": "stderr",
     "output_type": "stream",
     "text": [
      "/Users/lanacaldarevic/miniforge3/envs/tf_m1/lib/python3.9/site-packages/keras/src/engine/training.py:3000: UserWarning: You are saving your model as an HDF5 file via `model.save()`. This file format is considered legacy. We recommend using instead the native Keras format, e.g. `model.save('my_model.keras')`.\n",
      "  saving_api.save_model(\n"
     ]
    },
    {
     "name": "stdout",
     "output_type": "stream",
     "text": [
      "INFO:tensorflow:Assets written to: /Users/lanacaldarevic/workspace/phd/ecg_derived_resp_dl/notebooks/wandb/run-20240410_143003-rybno8oh/files/model-best/assets\n"
     ]
    },
    {
     "name": "stderr",
     "output_type": "stream",
     "text": [
      "INFO:tensorflow:Assets written to: /Users/lanacaldarevic/workspace/phd/ecg_derived_resp_dl/notebooks/wandb/run-20240410_143003-rybno8oh/files/model-best/assets\n",
      "\u001b[34m\u001b[1mwandb\u001b[0m: Adding directory to artifact (/Users/lanacaldarevic/workspace/phd/ecg_derived_resp_dl/notebooks/wandb/run-20240410_143003-rybno8oh/files/model-best)... Done. 0.0s\n"
     ]
    },
    {
     "name": "stdout",
     "output_type": "stream",
     "text": [
      "68/68 [==============================] - 21s 310ms/step - loss: 0.0608 - correlation: 0.9526 - mse: 0.1174 - val_loss: 0.0638 - val_correlation: 0.9995 - val_mse: 0.1237\n",
      "Epoch 5/200\n",
      "68/68 [==============================] - 24s 340ms/step - loss: 0.0618 - correlation: 0.9477 - mse: 0.1173 - val_loss: 0.0679 - val_correlation: 1.0219 - val_mse: 0.1251\n",
      "Epoch 6/200\n",
      "68/68 [==============================] - 17s 245ms/step - loss: 0.0619 - correlation: 0.9553 - mse: 0.1174 - val_loss: 0.0639 - val_correlation: 0.9934 - val_mse: 0.1232\n",
      "Epoch 7/200\n",
      "68/68 [==============================] - 20s 287ms/step - loss: 0.0606 - correlation: 0.9472 - mse: 0.1173 - val_loss: 0.0644 - val_correlation: 1.0004 - val_mse: 0.1235\n",
      "Epoch 8/200\n",
      "68/68 [==============================] - ETA: 0s - loss: 0.0603 - correlation: 0.9446 - mse: 0.1172"
     ]
    },
    {
     "name": "stderr",
     "output_type": "stream",
     "text": [
      "/Users/lanacaldarevic/miniforge3/envs/tf_m1/lib/python3.9/site-packages/keras/src/engine/training.py:3000: UserWarning: You are saving your model as an HDF5 file via `model.save()`. This file format is considered legacy. We recommend using instead the native Keras format, e.g. `model.save('my_model.keras')`.\n",
      "  saving_api.save_model(\n"
     ]
    },
    {
     "name": "stdout",
     "output_type": "stream",
     "text": [
      "INFO:tensorflow:Assets written to: /Users/lanacaldarevic/workspace/phd/ecg_derived_resp_dl/notebooks/wandb/run-20240410_143003-rybno8oh/files/model-best/assets\n"
     ]
    },
    {
     "name": "stderr",
     "output_type": "stream",
     "text": [
      "INFO:tensorflow:Assets written to: /Users/lanacaldarevic/workspace/phd/ecg_derived_resp_dl/notebooks/wandb/run-20240410_143003-rybno8oh/files/model-best/assets\n",
      "\u001b[34m\u001b[1mwandb\u001b[0m: Adding directory to artifact (/Users/lanacaldarevic/workspace/phd/ecg_derived_resp_dl/notebooks/wandb/run-20240410_143003-rybno8oh/files/model-best)... Done. 0.0s\n"
     ]
    },
    {
     "name": "stdout",
     "output_type": "stream",
     "text": [
      "68/68 [==============================] - 22s 322ms/step - loss: 0.0603 - correlation: 0.9446 - mse: 0.1172 - val_loss: 0.0625 - val_correlation: 1.0073 - val_mse: 0.1233\n",
      "Epoch 9/200\n",
      "68/68 [==============================] - 18s 264ms/step - loss: 0.0601 - correlation: 0.9375 - mse: 0.1171 - val_loss: 0.0642 - val_correlation: 1.0003 - val_mse: 0.1254\n",
      "Epoch 10/200\n",
      "68/68 [==============================] - 16s 234ms/step - loss: 0.0605 - correlation: 0.9362 - mse: 0.1171 - val_loss: 0.0654 - val_correlation: 1.0957 - val_mse: 0.1236\n",
      "Epoch 11/200\n",
      "68/68 [==============================] - 16s 239ms/step - loss: 0.0605 - correlation: 0.9339 - mse: 0.1170 - val_loss: 0.0634 - val_correlation: 1.1073 - val_mse: 0.1245\n",
      "Epoch 12/200\n",
      "68/68 [==============================] - 17s 254ms/step - loss: 0.0600 - correlation: 0.9338 - mse: 0.1171 - val_loss: 0.0626 - val_correlation: 1.0982 - val_mse: 0.1232\n",
      "Epoch 13/200\n",
      "68/68 [==============================] - 18s 268ms/step - loss: 0.0602 - correlation: 0.9438 - mse: 0.1171 - val_loss: 0.0636 - val_correlation: 0.8939 - val_mse: 0.1232\n",
      "Epoch 14/200\n",
      "68/68 [==============================] - 18s 266ms/step - loss: 0.0596 - correlation: 0.9385 - mse: 0.1171 - val_loss: 0.0628 - val_correlation: 0.9252 - val_mse: 0.1230\n",
      "Epoch 15/200\n",
      "68/68 [==============================] - 17s 246ms/step - loss: 0.0605 - correlation: 0.9285 - mse: 0.1170 - val_loss: 0.0634 - val_correlation: 0.9960 - val_mse: 0.1249\n",
      "Epoch 16/200\n",
      "68/68 [==============================] - ETA: 0s - loss: 0.0593 - correlation: 0.9547 - mse: 0.1173"
     ]
    },
    {
     "name": "stderr",
     "output_type": "stream",
     "text": [
      "/Users/lanacaldarevic/miniforge3/envs/tf_m1/lib/python3.9/site-packages/keras/src/engine/training.py:3000: UserWarning: You are saving your model as an HDF5 file via `model.save()`. This file format is considered legacy. We recommend using instead the native Keras format, e.g. `model.save('my_model.keras')`.\n",
      "  saving_api.save_model(\n"
     ]
    },
    {
     "name": "stdout",
     "output_type": "stream",
     "text": [
      "INFO:tensorflow:Assets written to: /Users/lanacaldarevic/workspace/phd/ecg_derived_resp_dl/notebooks/wandb/run-20240410_143003-rybno8oh/files/model-best/assets\n"
     ]
    },
    {
     "name": "stderr",
     "output_type": "stream",
     "text": [
      "INFO:tensorflow:Assets written to: /Users/lanacaldarevic/workspace/phd/ecg_derived_resp_dl/notebooks/wandb/run-20240410_143003-rybno8oh/files/model-best/assets\n",
      "\u001b[34m\u001b[1mwandb\u001b[0m: Adding directory to artifact (/Users/lanacaldarevic/workspace/phd/ecg_derived_resp_dl/notebooks/wandb/run-20240410_143003-rybno8oh/files/model-best)... Done. 0.0s\n"
     ]
    },
    {
     "name": "stdout",
     "output_type": "stream",
     "text": [
      "68/68 [==============================] - 20s 298ms/step - loss: 0.0593 - correlation: 0.9547 - mse: 0.1173 - val_loss: 0.0621 - val_correlation: 0.9017 - val_mse: 0.1233\n",
      "Epoch 17/200\n",
      "68/68 [==============================] - 17s 242ms/step - loss: 0.0595 - correlation: 0.9302 - mse: 0.1170 - val_loss: 0.0647 - val_correlation: 1.1230 - val_mse: 0.1270\n",
      "Epoch 18/200\n",
      "68/68 [==============================] - 18s 262ms/step - loss: 0.0592 - correlation: 0.9195 - mse: 0.1168 - val_loss: 0.0637 - val_correlation: 1.0025 - val_mse: 0.1261\n",
      "Epoch 19/200\n",
      "68/68 [==============================] - 17s 248ms/step - loss: 0.0594 - correlation: 0.9307 - mse: 0.1170 - val_loss: 0.0633 - val_correlation: 1.0179 - val_mse: 0.1257\n",
      "Epoch 20/200\n",
      "68/68 [==============================] - 17s 248ms/step - loss: 0.0600 - correlation: 0.9448 - mse: 0.1172 - val_loss: 0.0645 - val_correlation: 0.9478 - val_mse: 0.1228\n",
      "Epoch 21/200\n",
      "68/68 [==============================] - 17s 246ms/step - loss: 0.0603 - correlation: 0.9486 - mse: 0.1172 - val_loss: 0.0647 - val_correlation: 0.9904 - val_mse: 0.1235\n",
      "Epoch 22/200\n",
      "68/68 [==============================] - 17s 253ms/step - loss: 0.0598 - correlation: 0.9251 - mse: 0.1169 - val_loss: 0.0634 - val_correlation: 1.0186 - val_mse: 0.1256\n",
      "Epoch 23/200\n",
      "68/68 [==============================] - 16s 233ms/step - loss: 0.0591 - correlation: 0.9462 - mse: 0.1173 - val_loss: 0.0633 - val_correlation: 1.0016 - val_mse: 0.1258\n",
      "Epoch 24/200\n",
      "68/68 [==============================] - ETA: 0s - loss: 0.0592 - correlation: 0.9321 - mse: 0.1170"
     ]
    },
    {
     "name": "stderr",
     "output_type": "stream",
     "text": [
      "/Users/lanacaldarevic/miniforge3/envs/tf_m1/lib/python3.9/site-packages/keras/src/engine/training.py:3000: UserWarning: You are saving your model as an HDF5 file via `model.save()`. This file format is considered legacy. We recommend using instead the native Keras format, e.g. `model.save('my_model.keras')`.\n",
      "  saving_api.save_model(\n"
     ]
    },
    {
     "name": "stdout",
     "output_type": "stream",
     "text": [
      "INFO:tensorflow:Assets written to: /Users/lanacaldarevic/workspace/phd/ecg_derived_resp_dl/notebooks/wandb/run-20240410_143003-rybno8oh/files/model-best/assets\n"
     ]
    },
    {
     "name": "stderr",
     "output_type": "stream",
     "text": [
      "INFO:tensorflow:Assets written to: /Users/lanacaldarevic/workspace/phd/ecg_derived_resp_dl/notebooks/wandb/run-20240410_143003-rybno8oh/files/model-best/assets\n",
      "\u001b[34m\u001b[1mwandb\u001b[0m: Adding directory to artifact (/Users/lanacaldarevic/workspace/phd/ecg_derived_resp_dl/notebooks/wandb/run-20240410_143003-rybno8oh/files/model-best)... Done. 0.0s\n"
     ]
    },
    {
     "name": "stdout",
     "output_type": "stream",
     "text": [
      "68/68 [==============================] - 20s 297ms/step - loss: 0.0592 - correlation: 0.9321 - mse: 0.1170 - val_loss: 0.0620 - val_correlation: 1.1096 - val_mse: 0.1231\n",
      "Epoch 25/200\n",
      "68/68 [==============================] - ETA: 0s - loss: 0.0594 - correlation: 0.9707 - mse: 0.1174"
     ]
    },
    {
     "name": "stderr",
     "output_type": "stream",
     "text": [
      "/Users/lanacaldarevic/miniforge3/envs/tf_m1/lib/python3.9/site-packages/keras/src/engine/training.py:3000: UserWarning: You are saving your model as an HDF5 file via `model.save()`. This file format is considered legacy. We recommend using instead the native Keras format, e.g. `model.save('my_model.keras')`.\n",
      "  saving_api.save_model(\n"
     ]
    },
    {
     "name": "stdout",
     "output_type": "stream",
     "text": [
      "INFO:tensorflow:Assets written to: /Users/lanacaldarevic/workspace/phd/ecg_derived_resp_dl/notebooks/wandb/run-20240410_143003-rybno8oh/files/model-best/assets\n"
     ]
    },
    {
     "name": "stderr",
     "output_type": "stream",
     "text": [
      "INFO:tensorflow:Assets written to: /Users/lanacaldarevic/workspace/phd/ecg_derived_resp_dl/notebooks/wandb/run-20240410_143003-rybno8oh/files/model-best/assets\n",
      "\u001b[34m\u001b[1mwandb\u001b[0m: Adding directory to artifact (/Users/lanacaldarevic/workspace/phd/ecg_derived_resp_dl/notebooks/wandb/run-20240410_143003-rybno8oh/files/model-best)... Done. 0.0s\n"
     ]
    },
    {
     "name": "stdout",
     "output_type": "stream",
     "text": [
      "68/68 [==============================] - 29s 430ms/step - loss: 0.0594 - correlation: 0.9707 - mse: 0.1174 - val_loss: 0.0619 - val_correlation: 0.9665 - val_mse: 0.1234\n",
      "Epoch 26/200\n",
      "68/68 [==============================] - ETA: 0s - loss: 0.0594 - correlation: 0.9525 - mse: 0.1173"
     ]
    },
    {
     "name": "stderr",
     "output_type": "stream",
     "text": [
      "/Users/lanacaldarevic/miniforge3/envs/tf_m1/lib/python3.9/site-packages/keras/src/engine/training.py:3000: UserWarning: You are saving your model as an HDF5 file via `model.save()`. This file format is considered legacy. We recommend using instead the native Keras format, e.g. `model.save('my_model.keras')`.\n",
      "  saving_api.save_model(\n"
     ]
    },
    {
     "name": "stdout",
     "output_type": "stream",
     "text": [
      "INFO:tensorflow:Assets written to: /Users/lanacaldarevic/workspace/phd/ecg_derived_resp_dl/notebooks/wandb/run-20240410_143003-rybno8oh/files/model-best/assets\n"
     ]
    },
    {
     "name": "stderr",
     "output_type": "stream",
     "text": [
      "INFO:tensorflow:Assets written to: /Users/lanacaldarevic/workspace/phd/ecg_derived_resp_dl/notebooks/wandb/run-20240410_143003-rybno8oh/files/model-best/assets\n",
      "\u001b[34m\u001b[1mwandb\u001b[0m: Adding directory to artifact (/Users/lanacaldarevic/workspace/phd/ecg_derived_resp_dl/notebooks/wandb/run-20240410_143003-rybno8oh/files/model-best)... Done. 0.0s\n"
     ]
    },
    {
     "name": "stdout",
     "output_type": "stream",
     "text": [
      "68/68 [==============================] - 20s 297ms/step - loss: 0.0594 - correlation: 0.9525 - mse: 0.1173 - val_loss: 0.0618 - val_correlation: 0.9293 - val_mse: 0.1226\n",
      "Epoch 27/200\n",
      "68/68 [==============================] - 18s 260ms/step - loss: 0.0594 - correlation: 0.9319 - mse: 0.1170 - val_loss: 0.0623 - val_correlation: 0.9999 - val_mse: 0.1232\n",
      "Epoch 28/200\n",
      "68/68 [==============================] - 17s 242ms/step - loss: 0.0595 - correlation: 0.9335 - mse: 0.1170 - val_loss: 0.0642 - val_correlation: 1.0478 - val_mse: 0.1264\n",
      "Epoch 29/200\n",
      "68/68 [==============================] - 16s 233ms/step - loss: 0.0595 - correlation: 0.9307 - mse: 0.1170 - val_loss: 0.0638 - val_correlation: 1.0018 - val_mse: 0.1259\n",
      "Epoch 30/200\n",
      "68/68 [==============================] - 16s 235ms/step - loss: 0.0616 - correlation: 0.9283 - mse: 0.1170 - val_loss: 0.0642 - val_correlation: 1.0696 - val_mse: 0.1249\n",
      "Epoch 31/200\n",
      "68/68 [==============================] - 16s 237ms/step - loss: 0.0593 - correlation: 0.9222 - mse: 0.1168 - val_loss: 0.0625 - val_correlation: 0.9323 - val_mse: 0.1232\n",
      "Epoch 32/200\n",
      "68/68 [==============================] - 17s 252ms/step - loss: 0.0590 - correlation: 0.9222 - mse: 0.1169 - val_loss: 0.0620 - val_correlation: 1.0740 - val_mse: 0.1229\n",
      "Epoch 33/200\n",
      "68/68 [==============================] - 14s 201ms/step - loss: 0.0591 - correlation: 0.9228 - mse: 0.1169 - val_loss: 0.0622 - val_correlation: 1.0015 - val_mse: 0.1231\n",
      "Epoch 34/200\n",
      "68/68 [==============================] - 15s 224ms/step - loss: 0.0590 - correlation: 0.9274 - mse: 0.1169 - val_loss: 0.0631 - val_correlation: 1.0109 - val_mse: 0.1255\n",
      "Epoch 35/200\n",
      "68/68 [==============================] - 20s 292ms/step - loss: 0.0588 - correlation: 0.9167 - mse: 0.1168 - val_loss: 0.0638 - val_correlation: 1.0015 - val_mse: 0.1268\n",
      "Epoch 36/200\n",
      "68/68 [==============================] - 17s 254ms/step - loss: 0.0590 - correlation: 0.9304 - mse: 0.1170 - val_loss: 0.0633 - val_correlation: 1.0564 - val_mse: 0.1253\n"
     ]
    },
    {
     "name": "stderr",
     "output_type": "stream",
     "text": [
      "/Users/lanacaldarevic/miniforge3/envs/tf_m1/lib/python3.9/site-packages/keras/src/engine/training.py:3000: UserWarning: You are saving your model as an HDF5 file via `model.save()`. This file format is considered legacy. We recommend using instead the native Keras format, e.g. `model.save('my_model.keras')`.\n",
      "  saving_api.save_model(\n"
     ]
    },
    {
     "data": {
      "text/html": [
       "Waiting for W&B process to finish... <strong style=\"color:green\">(success).</strong>"
      ],
      "text/plain": [
       "<IPython.core.display.HTML object>"
      ]
     },
     "metadata": {},
     "output_type": "display_data"
    },
    {
     "data": {
      "text/html": [
       "<style>\n",
       "    table.wandb td:nth-child(1) { padding: 0 10px; text-align: left ; width: auto;} td:nth-child(2) {text-align: left ; width: 100%}\n",
       "    .wandb-row { display: flex; flex-direction: row; flex-wrap: wrap; justify-content: flex-start; width: 100% }\n",
       "    .wandb-col { display: flex; flex-direction: column; flex-basis: 100%; flex: 1; padding: 10px; }\n",
       "    </style>\n",
       "<div class=\"wandb-row\"><div class=\"wandb-col\"><h3>Run history:</h3><br/><table class=\"wandb\"><tr><td>correlation</td><td>▅▃▅▆▅▆▅▅▄▄▃▃▅▄▃▆▃▁▃▅▅▂▅▃█▆▃▃▃▂▂▂▂▂▁▃</td></tr><tr><td>epoch</td><td>▁▁▁▂▂▂▂▂▃▃▃▃▃▄▄▄▄▄▅▅▅▅▅▆▆▆▆▆▇▇▇▇▇███</td></tr><tr><td>loss</td><td>█▁▁▁▁▁▁▁▁▁▁▁▁▁▁▁▁▁▁▁▁▁▁▁▁▁▁▁▁▁▁▁▁▁▁▁</td></tr><tr><td>mse</td><td>█▁▂▂▂▂▂▂▁▁▁▁▁▁▁▂▁▁▁▂▂▁▂▁▂▂▁▁▁▁▁▁▁▁▁▁</td></tr><tr><td>val_correlation</td><td>▄▄▄▄▅▄▄▄▄▇█▇▁▂▄▁█▄▅▃▄▅▄█▃▂▄▆▄▆▂▇▄▅▄▆</td></tr><tr><td>val_loss</td><td>█▃▂▂▃▂▂▁▂▂▂▁▂▁▂▁▂▂▁▂▂▂▁▁▁▁▁▂▂▂▁▁▁▁▂▁</td></tr><tr><td>val_mse</td><td>▁▂▂▃▅▂▂▂▅▃▄▂▂▂▅▂█▇▆▁▂▆▆▂▂▁▂▇▆▅▂▂▂▆█▅</td></tr></table><br/></div><div class=\"wandb-col\"><h3>Run summary:</h3><br/><table class=\"wandb\"><tr><td>best_epoch</td><td>25</td></tr><tr><td>best_val_loss</td><td>0.06178</td></tr><tr><td>correlation</td><td>0.93036</td></tr><tr><td>epoch</td><td>35</td></tr><tr><td>loss</td><td>0.05898</td></tr><tr><td>mse</td><td>0.11702</td></tr><tr><td>val_correlation</td><td>1.05644</td></tr><tr><td>val_loss</td><td>0.06334</td></tr><tr><td>val_mse</td><td>0.12531</td></tr></table><br/></div></div>"
      ],
      "text/plain": [
       "<IPython.core.display.HTML object>"
      ]
     },
     "metadata": {},
     "output_type": "display_data"
    },
    {
     "data": {
      "text/html": [
       " View run <strong style=\"color:#cdcd00\">rosy-sweep-5</strong> at: <a href='https://wandb.ai/lana-caldarevic1/biosignal_deeplearning/runs/rybno8oh' target=\"_blank\">https://wandb.ai/lana-caldarevic1/biosignal_deeplearning/runs/rybno8oh</a><br/>Synced 6 W&B file(s), 1 media file(s), 45 artifact file(s) and 1 other file(s)"
      ],
      "text/plain": [
       "<IPython.core.display.HTML object>"
      ]
     },
     "metadata": {},
     "output_type": "display_data"
    },
    {
     "data": {
      "text/html": [
       "Find logs at: <code>./wandb/run-20240410_143003-rybno8oh/logs</code>"
      ],
      "text/plain": [
       "<IPython.core.display.HTML object>"
      ]
     },
     "metadata": {},
     "output_type": "display_data"
    },
    {
     "name": "stderr",
     "output_type": "stream",
     "text": [
      "\u001b[34m\u001b[1mwandb\u001b[0m: Agent Starting Run: syvq53cp with config:\n",
      "\u001b[34m\u001b[1mwandb\u001b[0m: \tbatch_size: 64\n",
      "\u001b[34m\u001b[1mwandb\u001b[0m: \tdropout: 0.22592291493595804\n",
      "\u001b[34m\u001b[1mwandb\u001b[0m: \tkernel_size: 5\n",
      "\u001b[34m\u001b[1mwandb\u001b[0m: \tlearning_rate: 0.008773184560090458\n",
      "\u001b[34m\u001b[1mwandb\u001b[0m: \treg: 0.0018667449286172595\n",
      "\u001b[34m\u001b[1mwandb\u001b[0m: \tstart_filters: 16\n"
     ]
    },
    {
     "data": {
      "text/html": [
       "wandb version 0.16.6 is available!  To upgrade, please run:\n",
       " $ pip install wandb --upgrade"
      ],
      "text/plain": [
       "<IPython.core.display.HTML object>"
      ]
     },
     "metadata": {},
     "output_type": "display_data"
    },
    {
     "data": {
      "text/html": [
       "Tracking run with wandb version 0.15.9"
      ],
      "text/plain": [
       "<IPython.core.display.HTML object>"
      ]
     },
     "metadata": {},
     "output_type": "display_data"
    },
    {
     "data": {
      "text/html": [
       "Run data is saved locally in <code>/Users/lanacaldarevic/workspace/phd/ecg_derived_resp_dl/notebooks/wandb/run-20240410_144158-syvq53cp</code>"
      ],
      "text/plain": [
       "<IPython.core.display.HTML object>"
      ]
     },
     "metadata": {},
     "output_type": "display_data"
    },
    {
     "data": {
      "text/html": [
       "Syncing run <strong><a href='https://wandb.ai/lana-caldarevic1/biosignal_deeplearning/runs/syvq53cp' target=\"_blank\">olive-sweep-6</a></strong> to <a href='https://wandb.ai/lana-caldarevic1/biosignal_deeplearning' target=\"_blank\">Weights & Biases</a> (<a href='https://wandb.me/run' target=\"_blank\">docs</a>)<br/>Sweep page: <a href='https://wandb.ai/lana-caldarevic1/biosignal_deeplearning/sweeps/6i1t9675' target=\"_blank\">https://wandb.ai/lana-caldarevic1/biosignal_deeplearning/sweeps/6i1t9675</a>"
      ],
      "text/plain": [
       "<IPython.core.display.HTML object>"
      ]
     },
     "metadata": {},
     "output_type": "display_data"
    },
    {
     "data": {
      "text/html": [
       " View project at <a href='https://wandb.ai/lana-caldarevic1/biosignal_deeplearning' target=\"_blank\">https://wandb.ai/lana-caldarevic1/biosignal_deeplearning</a>"
      ],
      "text/plain": [
       "<IPython.core.display.HTML object>"
      ]
     },
     "metadata": {},
     "output_type": "display_data"
    },
    {
     "data": {
      "text/html": [
       " View sweep at <a href='https://wandb.ai/lana-caldarevic1/biosignal_deeplearning/sweeps/6i1t9675' target=\"_blank\">https://wandb.ai/lana-caldarevic1/biosignal_deeplearning/sweeps/6i1t9675</a>"
      ],
      "text/plain": [
       "<IPython.core.display.HTML object>"
      ]
     },
     "metadata": {},
     "output_type": "display_data"
    },
    {
     "data": {
      "text/html": [
       " View run at <a href='https://wandb.ai/lana-caldarevic1/biosignal_deeplearning/runs/syvq53cp' target=\"_blank\">https://wandb.ai/lana-caldarevic1/biosignal_deeplearning/runs/syvq53cp</a>"
      ],
      "text/plain": [
       "<IPython.core.display.HTML object>"
      ]
     },
     "metadata": {},
     "output_type": "display_data"
    },
    {
     "name": "stdout",
     "output_type": "stream",
     "text": [
      "GPU enabled\n",
      "Model: \"model\"\n",
      "__________________________________________________________________________________________________\n",
      " Layer (type)                Output Shape                 Param #   Connected to                  \n",
      "==================================================================================================\n",
      " input_1 (InputLayer)        [(None, 1024, 1)]            0         []                            \n",
      "                                                                                                  \n",
      " conv1d (Conv1D)             (None, 1024, 16)             96        ['input_1[0][0]']             \n",
      "                                                                                                  \n",
      " batch_normalization (Batch  (None, 1024, 16)             64        ['conv1d[0][0]']              \n",
      " Normalization)                                                                                   \n",
      "                                                                                                  \n",
      " conv1d_1 (Conv1D)           (None, 1024, 16)             1296      ['batch_normalization[0][0]'] \n",
      "                                                                                                  \n",
      " batch_normalization_1 (Bat  (None, 1024, 16)             64        ['conv1d_1[0][0]']            \n",
      " chNormalization)                                                                                 \n",
      "                                                                                                  \n",
      " max_pooling1d (MaxPooling1  (None, 512, 16)              0         ['batch_normalization_1[0][0]'\n",
      " D)                                                                 ]                             \n",
      "                                                                                                  \n",
      " conv1d_2 (Conv1D)           (None, 512, 32)              2592      ['max_pooling1d[0][0]']       \n",
      "                                                                                                  \n",
      " batch_normalization_2 (Bat  (None, 512, 32)              128       ['conv1d_2[0][0]']            \n",
      " chNormalization)                                                                                 \n",
      "                                                                                                  \n",
      " conv1d_3 (Conv1D)           (None, 512, 32)              5152      ['batch_normalization_2[0][0]'\n",
      "                                                                    ]                             \n",
      "                                                                                                  \n",
      " batch_normalization_3 (Bat  (None, 512, 32)              128       ['conv1d_3[0][0]']            \n",
      " chNormalization)                                                                                 \n",
      "                                                                                                  \n",
      " dropout (Dropout)           (None, 512, 32)              0         ['batch_normalization_3[0][0]'\n",
      "                                                                    ]                             \n",
      "                                                                                                  \n",
      " max_pooling1d_1 (MaxPoolin  (None, 256, 32)              0         ['dropout[0][0]']             \n",
      " g1D)                                                                                             \n",
      "                                                                                                  \n",
      " conv1d_4 (Conv1D)           (None, 256, 64)              10304     ['max_pooling1d_1[0][0]']     \n",
      "                                                                                                  \n",
      " batch_normalization_4 (Bat  (None, 256, 64)              256       ['conv1d_4[0][0]']            \n",
      " chNormalization)                                                                                 \n",
      "                                                                                                  \n",
      " conv1d_5 (Conv1D)           (None, 256, 64)              20544     ['batch_normalization_4[0][0]'\n",
      "                                                                    ]                             \n",
      "                                                                                                  \n",
      " batch_normalization_5 (Bat  (None, 256, 64)              256       ['conv1d_5[0][0]']            \n",
      " chNormalization)                                                                                 \n",
      "                                                                                                  \n",
      " up_sampling1d (UpSampling1  (None, 512, 64)              0         ['batch_normalization_5[0][0]'\n",
      " D)                                                                 ]                             \n",
      "                                                                                                  \n",
      " conv1d_6 (Conv1D)           (None, 512, 64)              20544     ['up_sampling1d[0][0]']       \n",
      "                                                                                                  \n",
      " batch_normalization_6 (Bat  (None, 512, 64)              256       ['conv1d_6[0][0]']            \n",
      " chNormalization)                                                                                 \n",
      "                                                                                                  \n",
      " concatenate (Concatenate)   (None, 512, 96)              0         ['dropout[0][0]',             \n",
      "                                                                     'batch_normalization_6[0][0]'\n",
      "                                                                    ]                             \n",
      "                                                                                                  \n",
      " conv1d_7 (Conv1D)           (None, 512, 32)              15392     ['concatenate[0][0]']         \n",
      "                                                                                                  \n",
      " batch_normalization_7 (Bat  (None, 512, 32)              128       ['conv1d_7[0][0]']            \n",
      " chNormalization)                                                                                 \n",
      "                                                                                                  \n",
      " conv1d_8 (Conv1D)           (None, 512, 32)              5152      ['batch_normalization_7[0][0]'\n",
      "                                                                    ]                             \n",
      "                                                                                                  \n",
      " batch_normalization_8 (Bat  (None, 512, 32)              128       ['conv1d_8[0][0]']            \n",
      " chNormalization)                                                                                 \n",
      "                                                                                                  \n",
      " dropout_1 (Dropout)         (None, 512, 32)              0         ['batch_normalization_8[0][0]'\n",
      "                                                                    ]                             \n",
      "                                                                                                  \n",
      " up_sampling1d_1 (UpSamplin  (None, 1024, 32)             0         ['dropout_1[0][0]']           \n",
      " g1D)                                                                                             \n",
      "                                                                                                  \n",
      " conv1d_9 (Conv1D)           (None, 1024, 32)             5152      ['up_sampling1d_1[0][0]']     \n",
      "                                                                                                  \n",
      " batch_normalization_9 (Bat  (None, 1024, 32)             128       ['conv1d_9[0][0]']            \n",
      " chNormalization)                                                                                 \n",
      "                                                                                                  \n",
      " concatenate_1 (Concatenate  (None, 1024, 48)             0         ['batch_normalization_1[0][0]'\n",
      " )                                                                  , 'batch_normalization_9[0][0]\n",
      "                                                                    ']                            \n",
      "                                                                                                  \n",
      " conv1d_10 (Conv1D)          (None, 1024, 16)             3856      ['concatenate_1[0][0]']       \n",
      "                                                                                                  \n",
      " batch_normalization_10 (Ba  (None, 1024, 16)             64        ['conv1d_10[0][0]']           \n",
      " tchNormalization)                                                                                \n",
      "                                                                                                  \n",
      " conv1d_11 (Conv1D)          (None, 1024, 16)             1296      ['batch_normalization_10[0][0]\n",
      "                                                                    ']                            \n",
      "                                                                                                  \n",
      " batch_normalization_11 (Ba  (None, 1024, 16)             64        ['conv1d_11[0][0]']           \n",
      " tchNormalization)                                                                                \n",
      "                                                                                                  \n",
      " conv1d_12 (Conv1D)          (None, 1024, 1)              81        ['batch_normalization_11[0][0]\n",
      "                                                                    ']                            \n",
      "                                                                                                  \n",
      "==================================================================================================\n",
      "Total params: 93121 (363.75 KB)\n",
      "Trainable params: 92289 (360.50 KB)\n",
      "Non-trainable params: 832 (3.25 KB)\n",
      "__________________________________________________________________________________________________\n",
      "Model training starting\n",
      "Epoch 1/200\n"
     ]
    },
    {
     "name": "stderr",
     "output_type": "stream",
     "text": [
      "2024-04-10 14:42:08.555099: I tensorflow/core/grappler/optimizers/custom_graph_optimizer_registry.cc:114] Plugin optimizer for device_type GPU is enabled.\n"
     ]
    },
    {
     "name": "stdout",
     "output_type": "stream",
     "text": [
      "68/68 [==============================] - ETA: 0s - loss: 0.2231 - correlation: 0.9202 - mse: 0.1198"
     ]
    },
    {
     "name": "stderr",
     "output_type": "stream",
     "text": [
      "2024-04-10 14:43:53.717268: I tensorflow/core/grappler/optimizers/custom_graph_optimizer_registry.cc:114] Plugin optimizer for device_type GPU is enabled.\n",
      "/Users/lanacaldarevic/miniforge3/envs/tf_m1/lib/python3.9/site-packages/keras/src/engine/training.py:3000: UserWarning: You are saving your model as an HDF5 file via `model.save()`. This file format is considered legacy. We recommend using instead the native Keras format, e.g. `model.save('my_model.keras')`.\n",
      "  saving_api.save_model(\n"
     ]
    },
    {
     "name": "stdout",
     "output_type": "stream",
     "text": [
      "INFO:tensorflow:Assets written to: /Users/lanacaldarevic/workspace/phd/ecg_derived_resp_dl/notebooks/wandb/run-20240410_144158-syvq53cp/files/model-best/assets\n"
     ]
    },
    {
     "name": "stderr",
     "output_type": "stream",
     "text": [
      "INFO:tensorflow:Assets written to: /Users/lanacaldarevic/workspace/phd/ecg_derived_resp_dl/notebooks/wandb/run-20240410_144158-syvq53cp/files/model-best/assets\n",
      "\u001b[34m\u001b[1mwandb\u001b[0m: Adding directory to artifact (/Users/lanacaldarevic/workspace/phd/ecg_derived_resp_dl/notebooks/wandb/run-20240410_144158-syvq53cp/files/model-best)... Done. 0.0s\n"
     ]
    },
    {
     "name": "stdout",
     "output_type": "stream",
     "text": [
      "68/68 [==============================] - 119s 1s/step - loss: 0.2231 - correlation: 0.9202 - mse: 0.1198 - val_loss: 0.0850 - val_correlation: 1.0192 - val_mse: 0.1250\n",
      "Epoch 2/200\n",
      "68/68 [==============================] - ETA: 0s - loss: 0.0720 - correlation: 0.9217 - mse: 0.1171"
     ]
    },
    {
     "name": "stderr",
     "output_type": "stream",
     "text": [
      "/Users/lanacaldarevic/miniforge3/envs/tf_m1/lib/python3.9/site-packages/keras/src/engine/training.py:3000: UserWarning: You are saving your model as an HDF5 file via `model.save()`. This file format is considered legacy. We recommend using instead the native Keras format, e.g. `model.save('my_model.keras')`.\n",
      "  saving_api.save_model(\n"
     ]
    },
    {
     "name": "stdout",
     "output_type": "stream",
     "text": [
      "INFO:tensorflow:Assets written to: /Users/lanacaldarevic/workspace/phd/ecg_derived_resp_dl/notebooks/wandb/run-20240410_144158-syvq53cp/files/model-best/assets\n"
     ]
    },
    {
     "name": "stderr",
     "output_type": "stream",
     "text": [
      "INFO:tensorflow:Assets written to: /Users/lanacaldarevic/workspace/phd/ecg_derived_resp_dl/notebooks/wandb/run-20240410_144158-syvq53cp/files/model-best/assets\n",
      "\u001b[34m\u001b[1mwandb\u001b[0m: Adding directory to artifact (/Users/lanacaldarevic/workspace/phd/ecg_derived_resp_dl/notebooks/wandb/run-20240410_144158-syvq53cp/files/model-best)... Done. 0.0s\n"
     ]
    },
    {
     "name": "stdout",
     "output_type": "stream",
     "text": [
      "68/68 [==============================] - 31s 458ms/step - loss: 0.0720 - correlation: 0.9217 - mse: 0.1171 - val_loss: 0.0738 - val_correlation: 1.0041 - val_mse: 0.1242\n",
      "Epoch 3/200\n",
      "68/68 [==============================] - ETA: 0s - loss: 0.0668 - correlation: 0.9230 - mse: 0.1170"
     ]
    },
    {
     "name": "stderr",
     "output_type": "stream",
     "text": [
      "/Users/lanacaldarevic/miniforge3/envs/tf_m1/lib/python3.9/site-packages/keras/src/engine/training.py:3000: UserWarning: You are saving your model as an HDF5 file via `model.save()`. This file format is considered legacy. We recommend using instead the native Keras format, e.g. `model.save('my_model.keras')`.\n",
      "  saving_api.save_model(\n"
     ]
    },
    {
     "name": "stdout",
     "output_type": "stream",
     "text": [
      "INFO:tensorflow:Assets written to: /Users/lanacaldarevic/workspace/phd/ecg_derived_resp_dl/notebooks/wandb/run-20240410_144158-syvq53cp/files/model-best/assets\n"
     ]
    },
    {
     "name": "stderr",
     "output_type": "stream",
     "text": [
      "INFO:tensorflow:Assets written to: /Users/lanacaldarevic/workspace/phd/ecg_derived_resp_dl/notebooks/wandb/run-20240410_144158-syvq53cp/files/model-best/assets\n",
      "\u001b[34m\u001b[1mwandb\u001b[0m: Adding directory to artifact (/Users/lanacaldarevic/workspace/phd/ecg_derived_resp_dl/notebooks/wandb/run-20240410_144158-syvq53cp/files/model-best)... Done. 0.0s\n"
     ]
    },
    {
     "name": "stdout",
     "output_type": "stream",
     "text": [
      "68/68 [==============================] - 34s 494ms/step - loss: 0.0668 - correlation: 0.9230 - mse: 0.1170 - val_loss: 0.0706 - val_correlation: 1.0071 - val_mse: 0.1258\n",
      "Epoch 4/200\n",
      "68/68 [==============================] - ETA: 0s - loss: 0.0670 - correlation: 0.9292 - mse: 0.1171 "
     ]
    },
    {
     "name": "stderr",
     "output_type": "stream",
     "text": [
      "/Users/lanacaldarevic/miniforge3/envs/tf_m1/lib/python3.9/site-packages/keras/src/engine/training.py:3000: UserWarning: You are saving your model as an HDF5 file via `model.save()`. This file format is considered legacy. We recommend using instead the native Keras format, e.g. `model.save('my_model.keras')`.\n",
      "  saving_api.save_model(\n"
     ]
    },
    {
     "name": "stdout",
     "output_type": "stream",
     "text": [
      "INFO:tensorflow:Assets written to: /Users/lanacaldarevic/workspace/phd/ecg_derived_resp_dl/notebooks/wandb/run-20240410_144158-syvq53cp/files/model-best/assets\n"
     ]
    },
    {
     "name": "stderr",
     "output_type": "stream",
     "text": [
      "INFO:tensorflow:Assets written to: /Users/lanacaldarevic/workspace/phd/ecg_derived_resp_dl/notebooks/wandb/run-20240410_144158-syvq53cp/files/model-best/assets\n",
      "\u001b[34m\u001b[1mwandb\u001b[0m: Adding directory to artifact (/Users/lanacaldarevic/workspace/phd/ecg_derived_resp_dl/notebooks/wandb/run-20240410_144158-syvq53cp/files/model-best)... Done. 0.0s\n"
     ]
    },
    {
     "name": "stdout",
     "output_type": "stream",
     "text": [
      "68/68 [==============================] - 926s 14s/step - loss: 0.0670 - correlation: 0.9292 - mse: 0.1171 - val_loss: 0.0689 - val_correlation: 1.0178 - val_mse: 0.1234\n",
      "Epoch 5/200\n",
      "68/68 [==============================] - 22s 312ms/step - loss: 0.0671 - correlation: 0.9145 - mse: 0.1168 - val_loss: 0.0707 - val_correlation: 1.0095 - val_mse: 0.1270\n",
      "Epoch 6/200\n",
      "68/68 [==============================] - 25s 366ms/step - loss: 0.0664 - correlation: 0.9482 - mse: 0.1174 - val_loss: 0.0694 - val_correlation: 1.0707 - val_mse: 0.1252\n",
      "Epoch 7/200\n",
      "68/68 [==============================] - 22s 326ms/step - loss: 0.0669 - correlation: 0.9448 - mse: 0.1173 - val_loss: 0.0712 - val_correlation: 0.9541 - val_mse: 0.1227\n",
      "Epoch 8/200\n",
      "68/68 [==============================] - ETA: 0s - loss: 0.0670 - correlation: 0.9359 - mse: 0.1172"
     ]
    },
    {
     "name": "stderr",
     "output_type": "stream",
     "text": [
      "/Users/lanacaldarevic/miniforge3/envs/tf_m1/lib/python3.9/site-packages/keras/src/engine/training.py:3000: UserWarning: You are saving your model as an HDF5 file via `model.save()`. This file format is considered legacy. We recommend using instead the native Keras format, e.g. `model.save('my_model.keras')`.\n",
      "  saving_api.save_model(\n"
     ]
    },
    {
     "name": "stdout",
     "output_type": "stream",
     "text": [
      "INFO:tensorflow:Assets written to: /Users/lanacaldarevic/workspace/phd/ecg_derived_resp_dl/notebooks/wandb/run-20240410_144158-syvq53cp/files/model-best/assets\n"
     ]
    },
    {
     "name": "stderr",
     "output_type": "stream",
     "text": [
      "INFO:tensorflow:Assets written to: /Users/lanacaldarevic/workspace/phd/ecg_derived_resp_dl/notebooks/wandb/run-20240410_144158-syvq53cp/files/model-best/assets\n",
      "\u001b[34m\u001b[1mwandb\u001b[0m: Adding directory to artifact (/Users/lanacaldarevic/workspace/phd/ecg_derived_resp_dl/notebooks/wandb/run-20240410_144158-syvq53cp/files/model-best)... Done. 0.0s\n"
     ]
    },
    {
     "name": "stdout",
     "output_type": "stream",
     "text": [
      "68/68 [==============================] - 25s 369ms/step - loss: 0.0670 - correlation: 0.9359 - mse: 0.1172 - val_loss: 0.0677 - val_correlation: 0.8857 - val_mse: 0.1238\n",
      "Epoch 9/200\n",
      "68/68 [==============================] - ETA: 0s - loss: 0.0646 - correlation: 0.9252 - mse: 0.1170"
     ]
    },
    {
     "name": "stderr",
     "output_type": "stream",
     "text": [
      "/Users/lanacaldarevic/miniforge3/envs/tf_m1/lib/python3.9/site-packages/keras/src/engine/training.py:3000: UserWarning: You are saving your model as an HDF5 file via `model.save()`. This file format is considered legacy. We recommend using instead the native Keras format, e.g. `model.save('my_model.keras')`.\n",
      "  saving_api.save_model(\n"
     ]
    },
    {
     "name": "stdout",
     "output_type": "stream",
     "text": [
      "INFO:tensorflow:Assets written to: /Users/lanacaldarevic/workspace/phd/ecg_derived_resp_dl/notebooks/wandb/run-20240410_144158-syvq53cp/files/model-best/assets\n"
     ]
    },
    {
     "name": "stderr",
     "output_type": "stream",
     "text": [
      "INFO:tensorflow:Assets written to: /Users/lanacaldarevic/workspace/phd/ecg_derived_resp_dl/notebooks/wandb/run-20240410_144158-syvq53cp/files/model-best/assets\n",
      "\u001b[34m\u001b[1mwandb\u001b[0m: Adding directory to artifact (/Users/lanacaldarevic/workspace/phd/ecg_derived_resp_dl/notebooks/wandb/run-20240410_144158-syvq53cp/files/model-best)... Done. 0.0s\n"
     ]
    },
    {
     "name": "stdout",
     "output_type": "stream",
     "text": [
      "68/68 [==============================] - 24s 356ms/step - loss: 0.0646 - correlation: 0.9252 - mse: 0.1170 - val_loss: 0.0668 - val_correlation: 0.8479 - val_mse: 0.1187\n",
      "Epoch 10/200\n",
      "68/68 [==============================] - 934s 14s/step - loss: 0.0650 - correlation: 0.9320 - mse: 0.1171 - val_loss: 0.0769 - val_correlation: 1.1563 - val_mse: 0.1370\n",
      "Epoch 11/200\n",
      "68/68 [==============================] - 23s 339ms/step - loss: 0.0637 - correlation: 0.9284 - mse: 0.1170 - val_loss: 0.0673 - val_correlation: 0.9819 - val_mse: 0.1256\n",
      "Epoch 12/200\n",
      "68/68 [==============================] - 923s 14s/step - loss: 0.0636 - correlation: 0.9213 - mse: 0.1168 - val_loss: 0.0714 - val_correlation: 1.0132 - val_mse: 0.1355\n",
      "Epoch 13/200\n",
      "68/68 [==============================] - ETA: 0s - loss: 0.0633 - correlation: 0.9165 - mse: 0.1168"
     ]
    },
    {
     "name": "stderr",
     "output_type": "stream",
     "text": [
      "/Users/lanacaldarevic/miniforge3/envs/tf_m1/lib/python3.9/site-packages/keras/src/engine/training.py:3000: UserWarning: You are saving your model as an HDF5 file via `model.save()`. This file format is considered legacy. We recommend using instead the native Keras format, e.g. `model.save('my_model.keras')`.\n",
      "  saving_api.save_model(\n"
     ]
    },
    {
     "name": "stdout",
     "output_type": "stream",
     "text": [
      "INFO:tensorflow:Assets written to: /Users/lanacaldarevic/workspace/phd/ecg_derived_resp_dl/notebooks/wandb/run-20240410_144158-syvq53cp/files/model-best/assets\n"
     ]
    },
    {
     "name": "stderr",
     "output_type": "stream",
     "text": [
      "INFO:tensorflow:Assets written to: /Users/lanacaldarevic/workspace/phd/ecg_derived_resp_dl/notebooks/wandb/run-20240410_144158-syvq53cp/files/model-best/assets\n",
      "\u001b[34m\u001b[1mwandb\u001b[0m: Adding directory to artifact (/Users/lanacaldarevic/workspace/phd/ecg_derived_resp_dl/notebooks/wandb/run-20240410_144158-syvq53cp/files/model-best)... Done. 0.0s\n"
     ]
    },
    {
     "name": "stdout",
     "output_type": "stream",
     "text": [
      "68/68 [==============================] - 24s 351ms/step - loss: 0.0633 - correlation: 0.9165 - mse: 0.1168 - val_loss: 0.0652 - val_correlation: 1.0013 - val_mse: 0.1249\n",
      "Epoch 14/200\n",
      "68/68 [==============================] - ETA: 0s - loss: 0.0622 - correlation: 0.9311 - mse: 0.1171"
     ]
    },
    {
     "name": "stderr",
     "output_type": "stream",
     "text": [
      "/Users/lanacaldarevic/miniforge3/envs/tf_m1/lib/python3.9/site-packages/keras/src/engine/training.py:3000: UserWarning: You are saving your model as an HDF5 file via `model.save()`. This file format is considered legacy. We recommend using instead the native Keras format, e.g. `model.save('my_model.keras')`.\n",
      "  saving_api.save_model(\n"
     ]
    },
    {
     "name": "stdout",
     "output_type": "stream",
     "text": [
      "INFO:tensorflow:Assets written to: /Users/lanacaldarevic/workspace/phd/ecg_derived_resp_dl/notebooks/wandb/run-20240410_144158-syvq53cp/files/model-best/assets\n"
     ]
    },
    {
     "name": "stderr",
     "output_type": "stream",
     "text": [
      "INFO:tensorflow:Assets written to: /Users/lanacaldarevic/workspace/phd/ecg_derived_resp_dl/notebooks/wandb/run-20240410_144158-syvq53cp/files/model-best/assets\n",
      "\u001b[34m\u001b[1mwandb\u001b[0m: Adding directory to artifact (/Users/lanacaldarevic/workspace/phd/ecg_derived_resp_dl/notebooks/wandb/run-20240410_144158-syvq53cp/files/model-best)... Done. 0.0s\n"
     ]
    },
    {
     "name": "stdout",
     "output_type": "stream",
     "text": [
      "68/68 [==============================] - 27s 390ms/step - loss: 0.0622 - correlation: 0.9311 - mse: 0.1171 - val_loss: 0.0646 - val_correlation: 0.9811 - val_mse: 0.1247\n",
      "Epoch 15/200\n",
      "68/68 [==============================] - 24s 350ms/step - loss: 0.0637 - correlation: 0.9145 - mse: 0.1168 - val_loss: 0.0672 - val_correlation: 0.8156 - val_mse: 0.1250\n",
      "Epoch 16/200\n",
      "68/68 [==============================] - 23s 338ms/step - loss: 0.0623 - correlation: 0.9200 - mse: 0.1168 - val_loss: 0.0670 - val_correlation: 0.9823 - val_mse: 0.1272\n",
      "Epoch 17/200\n",
      "68/68 [==============================] - 48s 700ms/step - loss: 0.0639 - correlation: 0.9198 - mse: 0.1168 - val_loss: 0.0654 - val_correlation: 0.7710 - val_mse: 0.1237\n",
      "Epoch 18/200\n",
      "68/68 [==============================] - 41s 579ms/step - loss: 0.0611 - correlation: 0.9120 - mse: 0.1167 - val_loss: 0.0660 - val_correlation: 0.9337 - val_mse: 0.1239\n",
      "Epoch 19/200\n",
      "68/68 [==============================] - 25s 358ms/step - loss: 0.0643 - correlation: 0.9142 - mse: 0.1167 - val_loss: 0.0707 - val_correlation: 0.9182 - val_mse: 0.1272\n",
      "Epoch 20/200\n",
      "68/68 [==============================] - 25s 363ms/step - loss: 0.0635 - correlation: 0.9139 - mse: 0.1167 - val_loss: 0.0682 - val_correlation: 1.0361 - val_mse: 0.1273\n",
      "Epoch 21/200\n",
      "68/68 [==============================] - 24s 350ms/step - loss: 0.0624 - correlation: 0.9096 - mse: 0.1166 - val_loss: 0.0649 - val_correlation: 1.0679 - val_mse: 0.1244\n",
      "Epoch 22/200\n",
      "68/68 [==============================] - 44s 650ms/step - loss: 0.0615 - correlation: 0.9065 - mse: 0.1166 - val_loss: 0.0673 - val_correlation: 1.0262 - val_mse: 0.1286\n",
      "Epoch 23/200\n",
      "68/68 [==============================] - ETA: 0s - loss: 0.0625 - correlation: 0.8995 - mse: 0.1164"
     ]
    },
    {
     "name": "stderr",
     "output_type": "stream",
     "text": [
      "/Users/lanacaldarevic/miniforge3/envs/tf_m1/lib/python3.9/site-packages/keras/src/engine/training.py:3000: UserWarning: You are saving your model as an HDF5 file via `model.save()`. This file format is considered legacy. We recommend using instead the native Keras format, e.g. `model.save('my_model.keras')`.\n",
      "  saving_api.save_model(\n"
     ]
    },
    {
     "name": "stdout",
     "output_type": "stream",
     "text": [
      "INFO:tensorflow:Assets written to: /Users/lanacaldarevic/workspace/phd/ecg_derived_resp_dl/notebooks/wandb/run-20240410_144158-syvq53cp/files/model-best/assets\n"
     ]
    },
    {
     "name": "stderr",
     "output_type": "stream",
     "text": [
      "INFO:tensorflow:Assets written to: /Users/lanacaldarevic/workspace/phd/ecg_derived_resp_dl/notebooks/wandb/run-20240410_144158-syvq53cp/files/model-best/assets\n",
      "\u001b[34m\u001b[1mwandb\u001b[0m: Adding directory to artifact (/Users/lanacaldarevic/workspace/phd/ecg_derived_resp_dl/notebooks/wandb/run-20240410_144158-syvq53cp/files/model-best)... Done. 0.0s\n"
     ]
    },
    {
     "name": "stdout",
     "output_type": "stream",
     "text": [
      "68/68 [==============================] - 29s 417ms/step - loss: 0.0625 - correlation: 0.8995 - mse: 0.1164 - val_loss: 0.0644 - val_correlation: 0.9348 - val_mse: 0.1225\n",
      "Epoch 24/200\n",
      "68/68 [==============================] - ETA: 0s - loss: 0.0612 - correlation: 0.9143 - mse: 0.1168"
     ]
    },
    {
     "name": "stderr",
     "output_type": "stream",
     "text": [
      "/Users/lanacaldarevic/miniforge3/envs/tf_m1/lib/python3.9/site-packages/keras/src/engine/training.py:3000: UserWarning: You are saving your model as an HDF5 file via `model.save()`. This file format is considered legacy. We recommend using instead the native Keras format, e.g. `model.save('my_model.keras')`.\n",
      "  saving_api.save_model(\n"
     ]
    },
    {
     "name": "stdout",
     "output_type": "stream",
     "text": [
      "INFO:tensorflow:Assets written to: /Users/lanacaldarevic/workspace/phd/ecg_derived_resp_dl/notebooks/wandb/run-20240410_144158-syvq53cp/files/model-best/assets\n"
     ]
    },
    {
     "name": "stderr",
     "output_type": "stream",
     "text": [
      "INFO:tensorflow:Assets written to: /Users/lanacaldarevic/workspace/phd/ecg_derived_resp_dl/notebooks/wandb/run-20240410_144158-syvq53cp/files/model-best/assets\n",
      "\u001b[34m\u001b[1mwandb\u001b[0m: Adding directory to artifact (/Users/lanacaldarevic/workspace/phd/ecg_derived_resp_dl/notebooks/wandb/run-20240410_144158-syvq53cp/files/model-best)... Done. 0.0s\n"
     ]
    },
    {
     "name": "stdout",
     "output_type": "stream",
     "text": [
      "68/68 [==============================] - 36s 517ms/step - loss: 0.0612 - correlation: 0.9143 - mse: 0.1168 - val_loss: 0.0637 - val_correlation: 0.9086 - val_mse: 0.1228\n",
      "Epoch 25/200\n",
      "68/68 [==============================] - 36s 525ms/step - loss: 0.0611 - correlation: 0.9035 - mse: 0.1165 - val_loss: 0.0654 - val_correlation: 0.8613 - val_mse: 0.1257\n",
      "Epoch 26/200\n",
      "68/68 [==============================] - 30s 433ms/step - loss: 0.0610 - correlation: 0.9192 - mse: 0.1169 - val_loss: 0.0706 - val_correlation: 1.0072 - val_mse: 0.1370\n",
      "Epoch 27/200\n",
      "68/68 [==============================] - ETA: 0s - loss: 0.0611 - correlation: 0.8999 - mse: 0.1164"
     ]
    },
    {
     "name": "stderr",
     "output_type": "stream",
     "text": [
      "/Users/lanacaldarevic/miniforge3/envs/tf_m1/lib/python3.9/site-packages/keras/src/engine/training.py:3000: UserWarning: You are saving your model as an HDF5 file via `model.save()`. This file format is considered legacy. We recommend using instead the native Keras format, e.g. `model.save('my_model.keras')`.\n",
      "  saving_api.save_model(\n"
     ]
    },
    {
     "name": "stdout",
     "output_type": "stream",
     "text": [
      "INFO:tensorflow:Assets written to: /Users/lanacaldarevic/workspace/phd/ecg_derived_resp_dl/notebooks/wandb/run-20240410_144158-syvq53cp/files/model-best/assets\n"
     ]
    },
    {
     "name": "stderr",
     "output_type": "stream",
     "text": [
      "INFO:tensorflow:Assets written to: /Users/lanacaldarevic/workspace/phd/ecg_derived_resp_dl/notebooks/wandb/run-20240410_144158-syvq53cp/files/model-best/assets\n",
      "\u001b[34m\u001b[1mwandb\u001b[0m: Adding directory to artifact (/Users/lanacaldarevic/workspace/phd/ecg_derived_resp_dl/notebooks/wandb/run-20240410_144158-syvq53cp/files/model-best)... Done. 0.0s\n"
     ]
    },
    {
     "name": "stdout",
     "output_type": "stream",
     "text": [
      "68/68 [==============================] - 28s 409ms/step - loss: 0.0611 - correlation: 0.8999 - mse: 0.1164 - val_loss: 0.0631 - val_correlation: 0.9111 - val_mse: 0.1223\n",
      "Epoch 28/200\n",
      "68/68 [==============================] - 71s 1s/step - loss: 0.0607 - correlation: 0.8941 - mse: 0.1163 - val_loss: 0.0651 - val_correlation: 1.0319 - val_mse: 0.1270\n",
      "Epoch 29/200\n",
      "68/68 [==============================] - 105s 2s/step - loss: 0.0606 - correlation: 0.8942 - mse: 0.1163 - val_loss: 0.0659 - val_correlation: 1.0064 - val_mse: 0.1281\n",
      "Epoch 30/200\n",
      "68/68 [==============================] - ETA: 0s - loss: 0.0604 - correlation: 0.8926 - mse: 0.1162"
     ]
    },
    {
     "name": "stderr",
     "output_type": "stream",
     "text": [
      "/Users/lanacaldarevic/miniforge3/envs/tf_m1/lib/python3.9/site-packages/keras/src/engine/training.py:3000: UserWarning: You are saving your model as an HDF5 file via `model.save()`. This file format is considered legacy. We recommend using instead the native Keras format, e.g. `model.save('my_model.keras')`.\n",
      "  saving_api.save_model(\n"
     ]
    },
    {
     "name": "stdout",
     "output_type": "stream",
     "text": [
      "INFO:tensorflow:Assets written to: /Users/lanacaldarevic/workspace/phd/ecg_derived_resp_dl/notebooks/wandb/run-20240410_144158-syvq53cp/files/model-best/assets\n"
     ]
    },
    {
     "name": "stderr",
     "output_type": "stream",
     "text": [
      "INFO:tensorflow:Assets written to: /Users/lanacaldarevic/workspace/phd/ecg_derived_resp_dl/notebooks/wandb/run-20240410_144158-syvq53cp/files/model-best/assets\n",
      "\u001b[34m\u001b[1mwandb\u001b[0m: Adding directory to artifact (/Users/lanacaldarevic/workspace/phd/ecg_derived_resp_dl/notebooks/wandb/run-20240410_144158-syvq53cp/files/model-best)... Done. 0.1s\n"
     ]
    },
    {
     "name": "stdout",
     "output_type": "stream",
     "text": [
      "68/68 [==============================] - 70s 1s/step - loss: 0.0604 - correlation: 0.8926 - mse: 0.1162 - val_loss: 0.0628 - val_correlation: 0.9794 - val_mse: 0.1233\n",
      "Epoch 31/200\n",
      "48/68 [====================>.........] - ETA: 12:50 - loss: 0.0596 - correlation: 0.8952 - mse: 0.1158"
     ]
    },
    {
     "name": "stderr",
     "output_type": "stream",
     "text": [
      "\u001b[34m\u001b[1mwandb\u001b[0m: Ctrl + C detected. Stopping sweep.\n"
     ]
    },
    {
     "name": "stdout",
     "output_type": "stream",
     "text": [
      "Error in callback <bound method _WandbInit._pause_backend of <wandb.sdk.wandb_init._WandbInit object at 0x313176310>> (for post_run_cell), with arguments args (<ExecutionResult object at 1074f7ca0, execution_count=2 error_before_exec=None error_in_exec=None info=<ExecutionInfo object at 1074f7ac0, raw_cell=\"sweep_config = create_sweep_config()\n",
      "sweep_id = wa..\" store_history=True silent=False shell_futures=True cell_id=684f5a87-d8aa-4306-b87c-024af70b337c> result=None>,),kwargs {}:\n"
     ]
    },
    {
     "ename": "TypeError",
     "evalue": "_pause_backend() takes 1 positional argument but 2 were given",
     "output_type": "error",
     "traceback": [
      "\u001b[0;31m---------------------------------------------------------------------------\u001b[0m",
      "\u001b[0;31mTypeError\u001b[0m                                 Traceback (most recent call last)",
      "\u001b[0;31mTypeError\u001b[0m: _pause_backend() takes 1 positional argument but 2 were given"
     ]
    }
   ],
   "source": [
    "sweep_config = create_sweep_config()\n",
    "sweep_id = wandb.sweep(sweep_config, project=\"biosignal_deeplearning\")\n",
    "\n",
    "# Run sweep\n",
    "wandb.agent(sweep_id, train)"
   ]
  },
  {
   "cell_type": "code",
   "execution_count": null,
   "id": "4558c09f-2acd-4379-a69c-67a62d24ca87",
   "metadata": {},
   "outputs": [],
   "source": []
  }
 ],
 "metadata": {
  "kernelspec": {
   "display_name": "Python (tf_m1)",
   "language": "python",
   "name": "tf_m1"
  },
  "language_info": {
   "codemirror_mode": {
    "name": "ipython",
    "version": 3
   },
   "file_extension": ".py",
   "mimetype": "text/x-python",
   "name": "python",
   "nbconvert_exporter": "python",
   "pygments_lexer": "ipython3",
   "version": "3.9.19"
  }
 },
 "nbformat": 4,
 "nbformat_minor": 5
}
